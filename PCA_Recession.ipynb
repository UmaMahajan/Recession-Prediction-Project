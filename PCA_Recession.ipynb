{
 "cells": [
  {
   "cell_type": "markdown",
   "id": "8c1387f9",
   "metadata": {},
   "source": [
    "# Objective\n",
    "Predict whether there will be Recession ( Bad ) or Not ( Good )\n",
    "\n",
    "Yes = Recession , No = not recession"
   ]
  },
  {
   "cell_type": "code",
   "execution_count": 1,
   "id": "6cae125b",
   "metadata": {},
   "outputs": [],
   "source": [
    "# importing required libraries \n",
    "import numpy as np \n",
    "import matplotlib.pyplot as plt \n",
    "import pandas as pd"
   ]
  },
  {
   "cell_type": "code",
   "execution_count": 2,
   "id": "838555b5",
   "metadata": {},
   "outputs": [
    {
     "data": {
      "text/html": [
       "<div>\n",
       "<style scoped>\n",
       "    .dataframe tbody tr th:only-of-type {\n",
       "        vertical-align: middle;\n",
       "    }\n",
       "\n",
       "    .dataframe tbody tr th {\n",
       "        vertical-align: top;\n",
       "    }\n",
       "\n",
       "    .dataframe thead th {\n",
       "        text-align: right;\n",
       "    }\n",
       "</style>\n",
       "<table border=\"1\" class=\"dataframe\">\n",
       "  <thead>\n",
       "    <tr style=\"text-align: right;\">\n",
       "      <th></th>\n",
       "      <th>Unnamed: 0</th>\n",
       "      <th>RPI</th>\n",
       "      <th>INDPRO</th>\n",
       "      <th>CE16OV</th>\n",
       "      <th>UNRATE</th>\n",
       "      <th>PAYEMS</th>\n",
       "      <th>USGOOD</th>\n",
       "      <th>USTPU</th>\n",
       "      <th>HOUST</th>\n",
       "      <th>PERMIT</th>\n",
       "      <th>...</th>\n",
       "      <th>EXUSUK</th>\n",
       "      <th>WPSFD49207</th>\n",
       "      <th>WPSID61</th>\n",
       "      <th>CPIAUCSL</th>\n",
       "      <th>SP500</th>\n",
       "      <th>NASDAQ</th>\n",
       "      <th>GOLDBAR</th>\n",
       "      <th>Regime</th>\n",
       "      <th>P/E</th>\n",
       "      <th>Dividend Yield</th>\n",
       "    </tr>\n",
       "  </thead>\n",
       "  <tbody>\n",
       "    <tr>\n",
       "      <th>0</th>\n",
       "      <td>1996-01</td>\n",
       "      <td>8909.327</td>\n",
       "      <td>74.6841</td>\n",
       "      <td>125125</td>\n",
       "      <td>5.6</td>\n",
       "      <td>118316</td>\n",
       "      <td>23196</td>\n",
       "      <td>23947</td>\n",
       "      <td>1467</td>\n",
       "      <td>1387</td>\n",
       "      <td>...</td>\n",
       "      <td>1.5288</td>\n",
       "      <td>129.7</td>\n",
       "      <td>125.5</td>\n",
       "      <td>154.700</td>\n",
       "      <td>636.020020</td>\n",
       "      <td>1059.790039</td>\n",
       "      <td>20.754421</td>\n",
       "      <td>Normal</td>\n",
       "      <td>18.6845</td>\n",
       "      <td>2.26</td>\n",
       "    </tr>\n",
       "    <tr>\n",
       "      <th>1</th>\n",
       "      <td>1996-02</td>\n",
       "      <td>8983.863</td>\n",
       "      <td>75.8344</td>\n",
       "      <td>125639</td>\n",
       "      <td>5.5</td>\n",
       "      <td>118739</td>\n",
       "      <td>23280</td>\n",
       "      <td>23988</td>\n",
       "      <td>1491</td>\n",
       "      <td>1420</td>\n",
       "      <td>...</td>\n",
       "      <td>1.5360</td>\n",
       "      <td>129.7</td>\n",
       "      <td>125.0</td>\n",
       "      <td>155.000</td>\n",
       "      <td>640.429993</td>\n",
       "      <td>1100.050049</td>\n",
       "      <td>21.372637</td>\n",
       "      <td>Normal</td>\n",
       "      <td>18.8140</td>\n",
       "      <td>2.16</td>\n",
       "    </tr>\n",
       "    <tr>\n",
       "      <th>2</th>\n",
       "      <td>1996-03</td>\n",
       "      <td>9015.588</td>\n",
       "      <td>75.7631</td>\n",
       "      <td>125862</td>\n",
       "      <td>5.5</td>\n",
       "      <td>118993</td>\n",
       "      <td>23276</td>\n",
       "      <td>24030</td>\n",
       "      <td>1424</td>\n",
       "      <td>1437</td>\n",
       "      <td>...</td>\n",
       "      <td>1.5271</td>\n",
       "      <td>130.5</td>\n",
       "      <td>125.3</td>\n",
       "      <td>155.500</td>\n",
       "      <td>645.500000</td>\n",
       "      <td>1101.400024</td>\n",
       "      <td>21.460953</td>\n",
       "      <td>Normal</td>\n",
       "      <td>18.9630</td>\n",
       "      <td>2.18</td>\n",
       "    </tr>\n",
       "    <tr>\n",
       "      <th>3</th>\n",
       "      <td>1996-04</td>\n",
       "      <td>9039.466</td>\n",
       "      <td>76.4562</td>\n",
       "      <td>125994</td>\n",
       "      <td>5.6</td>\n",
       "      <td>119158</td>\n",
       "      <td>23316</td>\n",
       "      <td>24043</td>\n",
       "      <td>1516</td>\n",
       "      <td>1463</td>\n",
       "      <td>...</td>\n",
       "      <td>1.5160</td>\n",
       "      <td>130.9</td>\n",
       "      <td>125.7</td>\n",
       "      <td>156.100</td>\n",
       "      <td>654.169983</td>\n",
       "      <td>1190.520020</td>\n",
       "      <td>21.637589</td>\n",
       "      <td>Normal</td>\n",
       "      <td>18.7388</td>\n",
       "      <td>2.19</td>\n",
       "    </tr>\n",
       "    <tr>\n",
       "      <th>4</th>\n",
       "      <td>1996-05</td>\n",
       "      <td>9078.928</td>\n",
       "      <td>77.0161</td>\n",
       "      <td>126244</td>\n",
       "      <td>5.6</td>\n",
       "      <td>119486</td>\n",
       "      <td>23358</td>\n",
       "      <td>24137</td>\n",
       "      <td>1504</td>\n",
       "      <td>1457</td>\n",
       "      <td>...</td>\n",
       "      <td>1.5152</td>\n",
       "      <td>130.9</td>\n",
       "      <td>126.2</td>\n",
       "      <td>156.400</td>\n",
       "      <td>669.119995</td>\n",
       "      <td>1243.430054</td>\n",
       "      <td>22.255806</td>\n",
       "      <td>Normal</td>\n",
       "      <td>19.1670</td>\n",
       "      <td>2.15</td>\n",
       "    </tr>\n",
       "    <tr>\n",
       "      <th>...</th>\n",
       "      <td>...</td>\n",
       "      <td>...</td>\n",
       "      <td>...</td>\n",
       "      <td>...</td>\n",
       "      <td>...</td>\n",
       "      <td>...</td>\n",
       "      <td>...</td>\n",
       "      <td>...</td>\n",
       "      <td>...</td>\n",
       "      <td>...</td>\n",
       "      <td>...</td>\n",
       "      <td>...</td>\n",
       "      <td>...</td>\n",
       "      <td>...</td>\n",
       "      <td>...</td>\n",
       "      <td>...</td>\n",
       "      <td>...</td>\n",
       "      <td>...</td>\n",
       "      <td>...</td>\n",
       "      <td>...</td>\n",
       "      <td>...</td>\n",
       "    </tr>\n",
       "    <tr>\n",
       "      <th>288</th>\n",
       "      <td>2020-02</td>\n",
       "      <td>17219.643</td>\n",
       "      <td>109.2966</td>\n",
       "      <td>158759</td>\n",
       "      <td>3.5</td>\n",
       "      <td>152463</td>\n",
       "      <td>21205</td>\n",
       "      <td>27830</td>\n",
       "      <td>1567</td>\n",
       "      <td>1438</td>\n",
       "      <td>...</td>\n",
       "      <td>1.2953</td>\n",
       "      <td>206.0</td>\n",
       "      <td>195.2</td>\n",
       "      <td>259.050</td>\n",
       "      <td>2954.219971</td>\n",
       "      <td>8567.370117</td>\n",
       "      <td>18.868309</td>\n",
       "      <td>Normal</td>\n",
       "      <td>25.3952</td>\n",
       "      <td>1.97</td>\n",
       "    </tr>\n",
       "    <tr>\n",
       "      <th>289</th>\n",
       "      <td>2020-03</td>\n",
       "      <td>16947.234</td>\n",
       "      <td>104.5221</td>\n",
       "      <td>155772</td>\n",
       "      <td>4.4</td>\n",
       "      <td>151090</td>\n",
       "      <td>21086</td>\n",
       "      <td>27723</td>\n",
       "      <td>1269</td>\n",
       "      <td>1356</td>\n",
       "      <td>...</td>\n",
       "      <td>1.2369</td>\n",
       "      <td>202.4</td>\n",
       "      <td>192.2</td>\n",
       "      <td>257.953</td>\n",
       "      <td>2584.590088</td>\n",
       "      <td>7700.100098</td>\n",
       "      <td>18.215258</td>\n",
       "      <td>Recession</td>\n",
       "      <td>22.2177</td>\n",
       "      <td>2.25</td>\n",
       "    </tr>\n",
       "    <tr>\n",
       "      <th>290</th>\n",
       "      <td>2020-04</td>\n",
       "      <td>19124.430</td>\n",
       "      <td>91.2658</td>\n",
       "      <td>133403</td>\n",
       "      <td>14.7</td>\n",
       "      <td>130303</td>\n",
       "      <td>18698</td>\n",
       "      <td>24475</td>\n",
       "      <td>934</td>\n",
       "      <td>1066</td>\n",
       "      <td>...</td>\n",
       "      <td>1.2420</td>\n",
       "      <td>196.3</td>\n",
       "      <td>185.3</td>\n",
       "      <td>255.902</td>\n",
       "      <td>2912.429932</td>\n",
       "      <td>8889.549805</td>\n",
       "      <td>25.572948</td>\n",
       "      <td>Recession</td>\n",
       "      <td>25.0359</td>\n",
       "      <td>2.41</td>\n",
       "    </tr>\n",
       "    <tr>\n",
       "      <th>291</th>\n",
       "      <td>2020-05</td>\n",
       "      <td>18296.406</td>\n",
       "      <td>92.0613</td>\n",
       "      <td>137242</td>\n",
       "      <td>13.3</td>\n",
       "      <td>133028</td>\n",
       "      <td>19374</td>\n",
       "      <td>24858</td>\n",
       "      <td>1038</td>\n",
       "      <td>1216</td>\n",
       "      <td>...</td>\n",
       "      <td>1.2302</td>\n",
       "      <td>200.4</td>\n",
       "      <td>185.3</td>\n",
       "      <td>255.768</td>\n",
       "      <td>3044.310059</td>\n",
       "      <td>9489.870117</td>\n",
       "      <td>23.862782</td>\n",
       "      <td>Recession</td>\n",
       "      <td>26.1696</td>\n",
       "      <td>2.10</td>\n",
       "    </tr>\n",
       "    <tr>\n",
       "      <th>292</th>\n",
       "      <td>2020-06</td>\n",
       "      <td>17990.747</td>\n",
       "      <td>97.6032</td>\n",
       "      <td>142182</td>\n",
       "      <td>11.1</td>\n",
       "      <td>137809</td>\n",
       "      <td>19859</td>\n",
       "      <td>25852</td>\n",
       "      <td>1265</td>\n",
       "      <td>1258</td>\n",
       "      <td>...</td>\n",
       "      <td>1.2523</td>\n",
       "      <td>201.1</td>\n",
       "      <td>187.7</td>\n",
       "      <td>257.214</td>\n",
       "      <td>3100.290039</td>\n",
       "      <td>10058.769530</td>\n",
       "      <td>26.864592</td>\n",
       "      <td>Recession</td>\n",
       "      <td>26.6508</td>\n",
       "      <td>1.95</td>\n",
       "    </tr>\n",
       "  </tbody>\n",
       "</table>\n",
       "<p>293 rows × 45 columns</p>\n",
       "</div>"
      ],
      "text/plain": [
       "    Unnamed: 0        RPI    INDPRO  CE16OV  UNRATE  PAYEMS  USGOOD  USTPU  \\\n",
       "0      1996-01   8909.327   74.6841  125125     5.6  118316   23196  23947   \n",
       "1      1996-02   8983.863   75.8344  125639     5.5  118739   23280  23988   \n",
       "2      1996-03   9015.588   75.7631  125862     5.5  118993   23276  24030   \n",
       "3      1996-04   9039.466   76.4562  125994     5.6  119158   23316  24043   \n",
       "4      1996-05   9078.928   77.0161  126244     5.6  119486   23358  24137   \n",
       "..         ...        ...       ...     ...     ...     ...     ...    ...   \n",
       "288    2020-02  17219.643  109.2966  158759     3.5  152463   21205  27830   \n",
       "289    2020-03  16947.234  104.5221  155772     4.4  151090   21086  27723   \n",
       "290    2020-04  19124.430   91.2658  133403    14.7  130303   18698  24475   \n",
       "291    2020-05  18296.406   92.0613  137242    13.3  133028   19374  24858   \n",
       "292    2020-06  17990.747   97.6032  142182    11.1  137809   19859  25852   \n",
       "\n",
       "     HOUST  PERMIT  ...  EXUSUK  WPSFD49207  WPSID61  CPIAUCSL        SP500  \\\n",
       "0     1467    1387  ...  1.5288       129.7    125.5   154.700   636.020020   \n",
       "1     1491    1420  ...  1.5360       129.7    125.0   155.000   640.429993   \n",
       "2     1424    1437  ...  1.5271       130.5    125.3   155.500   645.500000   \n",
       "3     1516    1463  ...  1.5160       130.9    125.7   156.100   654.169983   \n",
       "4     1504    1457  ...  1.5152       130.9    126.2   156.400   669.119995   \n",
       "..     ...     ...  ...     ...         ...      ...       ...          ...   \n",
       "288   1567    1438  ...  1.2953       206.0    195.2   259.050  2954.219971   \n",
       "289   1269    1356  ...  1.2369       202.4    192.2   257.953  2584.590088   \n",
       "290    934    1066  ...  1.2420       196.3    185.3   255.902  2912.429932   \n",
       "291   1038    1216  ...  1.2302       200.4    185.3   255.768  3044.310059   \n",
       "292   1265    1258  ...  1.2523       201.1    187.7   257.214  3100.290039   \n",
       "\n",
       "           NASDAQ    GOLDBAR     Regime      P/E  Dividend Yield  \n",
       "0     1059.790039  20.754421     Normal  18.6845            2.26  \n",
       "1     1100.050049  21.372637     Normal  18.8140            2.16  \n",
       "2     1101.400024  21.460953     Normal  18.9630            2.18  \n",
       "3     1190.520020  21.637589     Normal  18.7388            2.19  \n",
       "4     1243.430054  22.255806     Normal  19.1670            2.15  \n",
       "..            ...        ...        ...      ...             ...  \n",
       "288   8567.370117  18.868309     Normal  25.3952            1.97  \n",
       "289   7700.100098  18.215258  Recession  22.2177            2.25  \n",
       "290   8889.549805  25.572948  Recession  25.0359            2.41  \n",
       "291   9489.870117  23.862782  Recession  26.1696            2.10  \n",
       "292  10058.769530  26.864592  Recession  26.6508            1.95  \n",
       "\n",
       "[293 rows x 45 columns]"
      ]
     },
     "execution_count": 2,
     "metadata": {},
     "output_type": "execute_result"
    }
   ],
   "source": [
    "# importing or loading the dataset \n",
    "Data = pd.read_csv(r\"C:\\Users\\admin\\Downloads\\US-macroeconomic data 1996-2020\\macrodata.csv\")\n",
    "\n",
    "Data"
   ]
  },
  {
   "cell_type": "code",
   "execution_count": 3,
   "id": "a3f84229",
   "metadata": {},
   "outputs": [
    {
     "data": {
      "text/plain": [
       "Index(['Unnamed: 0', 'RPI', 'INDPRO', 'CE16OV', 'UNRATE', 'PAYEMS', 'USGOOD',\n",
       "       'USTPU', 'HOUST', 'PERMIT', 'DPCERA3M086SBEA', 'AMTMTI', 'AMTMNO',\n",
       "       'ACOGNO', 'AMDMUO', 'BUSINV', 'ISRATIO', 'M1SL', 'M2SL', 'TOTRESNS',\n",
       "       'BUSLOANS', 'REALLN', 'DTCTHFNM', 'FEDFUNDS', 'TB3MS', 'TB6MS', 'GS1',\n",
       "       'GS5', 'GS10', 'AAA', 'TB3SMFFM', 'T1YFFM', 'AAAFFM', 'EXSZUS',\n",
       "       'EXCAUS', 'EXUSUK', 'WPSFD49207', 'WPSID61', 'CPIAUCSL', 'SP500',\n",
       "       'NASDAQ', 'GOLDBAR', 'Regime', 'P/E', 'Dividend Yield'],\n",
       "      dtype='object')"
      ]
     },
     "execution_count": 3,
     "metadata": {},
     "output_type": "execute_result"
    }
   ],
   "source": [
    "Data.columns"
   ]
  },
  {
   "cell_type": "code",
   "execution_count": 4,
   "id": "fbbb44ad",
   "metadata": {},
   "outputs": [
    {
     "name": "stdout",
     "output_type": "stream",
     "text": [
      "<class 'pandas.core.frame.DataFrame'>\n",
      "RangeIndex: 293 entries, 0 to 292\n",
      "Data columns (total 45 columns):\n",
      " #   Column           Non-Null Count  Dtype  \n",
      "---  ------           --------------  -----  \n",
      " 0   Unnamed: 0       293 non-null    object \n",
      " 1   RPI              293 non-null    float64\n",
      " 2   INDPRO           293 non-null    float64\n",
      " 3   CE16OV           293 non-null    int64  \n",
      " 4   UNRATE           293 non-null    float64\n",
      " 5   PAYEMS           293 non-null    int64  \n",
      " 6   USGOOD           293 non-null    int64  \n",
      " 7   USTPU            293 non-null    int64  \n",
      " 8   HOUST            293 non-null    int64  \n",
      " 9   PERMIT           293 non-null    int64  \n",
      " 10  DPCERA3M086SBEA  293 non-null    float64\n",
      " 11  AMTMTI           293 non-null    int64  \n",
      " 12  AMTMNO           293 non-null    int64  \n",
      " 13  ACOGNO           293 non-null    int64  \n",
      " 14  AMDMUO           293 non-null    int64  \n",
      " 15  BUSINV           293 non-null    int64  \n",
      " 16  ISRATIO          293 non-null    float64\n",
      " 17  M1SL             293 non-null    float64\n",
      " 18  M2SL             293 non-null    float64\n",
      " 19  TOTRESNS         293 non-null    float64\n",
      " 20  BUSLOANS         293 non-null    float64\n",
      " 21  REALLN           293 non-null    float64\n",
      " 22  DTCTHFNM         293 non-null    float64\n",
      " 23  FEDFUNDS         293 non-null    float64\n",
      " 24  TB3MS            293 non-null    float64\n",
      " 25  TB6MS            293 non-null    float64\n",
      " 26  GS1              293 non-null    float64\n",
      " 27  GS5              293 non-null    float64\n",
      " 28  GS10             293 non-null    float64\n",
      " 29  AAA              293 non-null    float64\n",
      " 30  TB3SMFFM         293 non-null    float64\n",
      " 31  T1YFFM           293 non-null    float64\n",
      " 32  AAAFFM           293 non-null    float64\n",
      " 33  EXSZUS           293 non-null    float64\n",
      " 34  EXCAUS           293 non-null    float64\n",
      " 35  EXUSUK           293 non-null    float64\n",
      " 36  WPSFD49207       293 non-null    float64\n",
      " 37  WPSID61          293 non-null    float64\n",
      " 38  CPIAUCSL         293 non-null    float64\n",
      " 39  SP500            293 non-null    float64\n",
      " 40  NASDAQ           293 non-null    float64\n",
      " 41  GOLDBAR          293 non-null    float64\n",
      " 42  Regime           293 non-null    object \n",
      " 43  P/E              293 non-null    float64\n",
      " 44  Dividend Yield   293 non-null    float64\n",
      "dtypes: float64(32), int64(11), object(2)\n",
      "memory usage: 103.1+ KB\n"
     ]
    }
   ],
   "source": [
    "Data.info()"
   ]
  },
  {
   "cell_type": "markdown",
   "id": "771cbf1c",
   "metadata": {},
   "source": [
    "# Taking specific column for Analysis"
   ]
  },
  {
   "cell_type": "code",
   "execution_count": 5,
   "id": "08aa6a06",
   "metadata": {},
   "outputs": [],
   "source": [
    "numeric_predictors=['PAYEMS', 'DPCERA3M086SBEA','M2SL', 'BUSLOANS','P/E' ]\n",
    "X_train = Data[numeric_predictors]\n",
    "y_train = Data['Regime']"
   ]
  },
  {
   "cell_type": "markdown",
   "id": "c568e4e3",
   "metadata": {},
   "source": [
    "# Columns Description-\n",
    "\n",
    "- Commercial and Industrial Loans, All Commercial Banks - (BUSLOANS)\n",
    "- M2SL M2 Money Stock\n",
    "- Real personal consumption expenditures (chain-type quantity index)- (DPCERA3M086SBEA)\n",
    "- PAYEMS All Employees: Total nonfarm\n",
    "- S&P P/E ratio\n",
    "\n"
   ]
  },
  {
   "cell_type": "code",
   "execution_count": 6,
   "id": "ca273e6e",
   "metadata": {},
   "outputs": [
    {
     "data": {
      "text/html": [
       "<div>\n",
       "<style scoped>\n",
       "    .dataframe tbody tr th:only-of-type {\n",
       "        vertical-align: middle;\n",
       "    }\n",
       "\n",
       "    .dataframe tbody tr th {\n",
       "        vertical-align: top;\n",
       "    }\n",
       "\n",
       "    .dataframe thead th {\n",
       "        text-align: right;\n",
       "    }\n",
       "</style>\n",
       "<table border=\"1\" class=\"dataframe\">\n",
       "  <thead>\n",
       "    <tr style=\"text-align: right;\">\n",
       "      <th></th>\n",
       "      <th>PAYEMS</th>\n",
       "      <th>DPCERA3M086SBEA</th>\n",
       "      <th>M2SL</th>\n",
       "      <th>BUSLOANS</th>\n",
       "      <th>P/E</th>\n",
       "    </tr>\n",
       "  </thead>\n",
       "  <tbody>\n",
       "    <tr>\n",
       "      <th>0</th>\n",
       "      <td>118316</td>\n",
       "      <td>63.691</td>\n",
       "      <td>3647.9</td>\n",
       "      <td>721.8115</td>\n",
       "      <td>18.6845</td>\n",
       "    </tr>\n",
       "    <tr>\n",
       "      <th>1</th>\n",
       "      <td>118739</td>\n",
       "      <td>64.180</td>\n",
       "      <td>3661.8</td>\n",
       "      <td>724.1690</td>\n",
       "      <td>18.8140</td>\n",
       "    </tr>\n",
       "    <tr>\n",
       "      <th>2</th>\n",
       "      <td>118993</td>\n",
       "      <td>64.491</td>\n",
       "      <td>3687.0</td>\n",
       "      <td>727.3465</td>\n",
       "      <td>18.9630</td>\n",
       "    </tr>\n",
       "    <tr>\n",
       "      <th>3</th>\n",
       "      <td>119158</td>\n",
       "      <td>64.729</td>\n",
       "      <td>3697.8</td>\n",
       "      <td>732.0780</td>\n",
       "      <td>18.7388</td>\n",
       "    </tr>\n",
       "    <tr>\n",
       "      <th>4</th>\n",
       "      <td>119486</td>\n",
       "      <td>64.813</td>\n",
       "      <td>3709.6</td>\n",
       "      <td>736.4489</td>\n",
       "      <td>19.1670</td>\n",
       "    </tr>\n",
       "  </tbody>\n",
       "</table>\n",
       "</div>"
      ],
      "text/plain": [
       "   PAYEMS  DPCERA3M086SBEA    M2SL  BUSLOANS      P/E\n",
       "0  118316           63.691  3647.9  721.8115  18.6845\n",
       "1  118739           64.180  3661.8  724.1690  18.8140\n",
       "2  118993           64.491  3687.0  727.3465  18.9630\n",
       "3  119158           64.729  3697.8  732.0780  18.7388\n",
       "4  119486           64.813  3709.6  736.4489  19.1670"
      ]
     },
     "execution_count": 6,
     "metadata": {},
     "output_type": "execute_result"
    }
   ],
   "source": [
    "X_train.head()"
   ]
  },
  {
   "cell_type": "code",
   "execution_count": 7,
   "id": "01a63bdb",
   "metadata": {},
   "outputs": [
    {
     "ename": "AttributeError",
     "evalue": "'str' object has no attribute 'style'",
     "output_type": "error",
     "traceback": [
      "\u001b[1;31m---------------------------------------------------------------------------\u001b[0m",
      "\u001b[1;31mAttributeError\u001b[0m                            Traceback (most recent call last)",
      "\u001b[1;32m~\\AppData\\Local\\Temp\\ipykernel_19684\\4004716855.py\u001b[0m in \u001b[0;36m<module>\u001b[1;34m\u001b[0m\n\u001b[0;32m      1\u001b[0m \u001b[0mCorrelation\u001b[0m\u001b[1;33m=\u001b[0m\u001b[1;34m'X_train.corr()'\u001b[0m\u001b[1;33m\u001b[0m\u001b[1;33m\u001b[0m\u001b[0m\n\u001b[1;32m----> 2\u001b[1;33m \u001b[0mCorrelation\u001b[0m\u001b[1;33m.\u001b[0m\u001b[0mstyle\u001b[0m\u001b[1;33m.\u001b[0m\u001b[0mapplymap\u001b[0m\u001b[1;33m(\u001b[0m\u001b[1;32mlambda\u001b[0m \u001b[0mx\u001b[0m\u001b[1;33m:\u001b[0m \u001b[1;34m'background-color : yellow'\u001b[0m \u001b[1;32mif\u001b[0m \u001b[0mx\u001b[0m \u001b[1;33m>\u001b[0m \u001b[1;36m0.5\u001b[0m \u001b[1;32melse\u001b[0m \u001b[1;34m''\u001b[0m\u001b[1;33m)\u001b[0m\u001b[1;33m\u001b[0m\u001b[1;33m\u001b[0m\u001b[0m\n\u001b[0m",
      "\u001b[1;31mAttributeError\u001b[0m: 'str' object has no attribute 'style'"
     ]
    }
   ],
   "source": [
    "Correlation='X_train.corr()'\n",
    "Correlation.style.applymap(lambda x: 'background-color : yellow' if x > 0.5 else '')"
   ]
  },
  {
   "cell_type": "markdown",
   "id": "da273d7f",
   "metadata": {},
   "source": [
    "# PCA is effected by scale so you need to scale the features in the data before applying PCA.\n",
    "You can transform the data onto unit scale (mean = 0 and variance = 1)"
   ]
  },
  {
   "cell_type": "code",
   "execution_count": 8,
   "id": "903ae555",
   "metadata": {},
   "outputs": [],
   "source": [
    "# performing preprocessing part \n",
    "from sklearn.preprocessing import StandardScaler \n",
    "\n",
    "sc = StandardScaler() # mean 0 & std=1\n",
    "  \n",
    "X_train_1 = sc.fit_transform(X_train)  # Fit to data, then transform it."
   ]
  },
  {
   "cell_type": "markdown",
   "id": "350836c1",
   "metadata": {},
   "source": [
    "# Mean"
   ]
  },
  {
   "cell_type": "code",
   "execution_count": 9,
   "id": "1d81f14a",
   "metadata": {},
   "outputs": [
    {
     "data": {
      "text/plain": [
       "array([ 1.21253027e-15, -6.30515738e-16, -2.91007264e-16, -2.42506053e-16,\n",
       "       -1.54597609e-16])"
      ]
     },
     "execution_count": 9,
     "metadata": {},
     "output_type": "execute_result"
    }
   ],
   "source": [
    "X_train_1.mean(axis=0)"
   ]
  },
  {
   "cell_type": "markdown",
   "id": "6d34e5e4",
   "metadata": {},
   "source": [
    "# Standard Deviation"
   ]
  },
  {
   "cell_type": "code",
   "execution_count": 10,
   "id": "d6c43be2",
   "metadata": {},
   "outputs": [
    {
     "data": {
      "text/plain": [
       "array([1., 1., 1., 1., 1.])"
      ]
     },
     "execution_count": 10,
     "metadata": {},
     "output_type": "execute_result"
    }
   ],
   "source": [
    "X_train_1.std(axis=0)"
   ]
  },
  {
   "cell_type": "code",
   "execution_count": 11,
   "id": "f04b541a",
   "metadata": {},
   "outputs": [
    {
     "data": {
      "text/html": [
       "<div>\n",
       "<style scoped>\n",
       "    .dataframe tbody tr th:only-of-type {\n",
       "        vertical-align: middle;\n",
       "    }\n",
       "\n",
       "    .dataframe tbody tr th {\n",
       "        vertical-align: top;\n",
       "    }\n",
       "\n",
       "    .dataframe thead th {\n",
       "        text-align: right;\n",
       "    }\n",
       "</style>\n",
       "<table border=\"1\" class=\"dataframe\">\n",
       "  <thead>\n",
       "    <tr style=\"text-align: right;\">\n",
       "      <th></th>\n",
       "      <th>PAYEMS</th>\n",
       "      <th>DPCERA3M086SBEA</th>\n",
       "      <th>M2SL</th>\n",
       "      <th>BUSLOANS</th>\n",
       "      <th>P/E</th>\n",
       "    </tr>\n",
       "  </thead>\n",
       "  <tbody>\n",
       "    <tr>\n",
       "      <th>0</th>\n",
       "      <td>118316</td>\n",
       "      <td>63.691</td>\n",
       "      <td>3647.9</td>\n",
       "      <td>721.8115</td>\n",
       "      <td>18.6845</td>\n",
       "    </tr>\n",
       "    <tr>\n",
       "      <th>1</th>\n",
       "      <td>118739</td>\n",
       "      <td>64.180</td>\n",
       "      <td>3661.8</td>\n",
       "      <td>724.1690</td>\n",
       "      <td>18.8140</td>\n",
       "    </tr>\n",
       "    <tr>\n",
       "      <th>2</th>\n",
       "      <td>118993</td>\n",
       "      <td>64.491</td>\n",
       "      <td>3687.0</td>\n",
       "      <td>727.3465</td>\n",
       "      <td>18.9630</td>\n",
       "    </tr>\n",
       "  </tbody>\n",
       "</table>\n",
       "</div>"
      ],
      "text/plain": [
       "   PAYEMS  DPCERA3M086SBEA    M2SL  BUSLOANS      P/E\n",
       "0  118316           63.691  3647.9  721.8115  18.6845\n",
       "1  118739           64.180  3661.8  724.1690  18.8140\n",
       "2  118993           64.491  3687.0  727.3465  18.9630"
      ]
     },
     "execution_count": 11,
     "metadata": {},
     "output_type": "execute_result"
    }
   ],
   "source": [
    "X_train.head(3)"
   ]
  },
  {
   "cell_type": "code",
   "execution_count": 12,
   "id": "c7eadf10",
   "metadata": {},
   "outputs": [
    {
     "data": {
      "text/plain": [
       "array([[-2.17565967, -1.9577598 , -1.34484629, -1.30272928, -0.43354514],\n",
       "       [-2.12053195, -1.92591948, -1.34094797, -1.29801005, -0.42558389],\n",
       "       [-2.08742925, -1.9056693 , -1.33388053, -1.29164935, -0.41642383],\n",
       "       ...,\n",
       "       [-0.61344695,  0.40200486,  2.40544459,  3.12300945, -0.04308078],\n",
       "       [-0.25830975,  0.95657332,  2.64341006,  3.3401358 ,  0.02661557],\n",
       "       [ 0.36477685,  1.37531581,  2.7262843 ,  3.12402436,  0.05619826]])"
      ]
     },
     "execution_count": 12,
     "metadata": {},
     "output_type": "execute_result"
    }
   ],
   "source": [
    "X_train_1"
   ]
  },
  {
   "cell_type": "markdown",
   "id": "6dfee135",
   "metadata": {},
   "source": [
    "# No. of variable in original dataset"
   ]
  },
  {
   "cell_type": "code",
   "execution_count": 13,
   "id": "1485bdea",
   "metadata": {},
   "outputs": [],
   "source": [
    "# Applying PCA function on training \n",
    "# and testing set of X component \n",
    "from sklearn.decomposition import PCA \n",
    "  \n",
    "model = PCA(n_components = 3) # we are specifying we want 3 PCA\n",
    "  \n",
    "principalComponents= model.fit(X_train_1) # Fit the model with X and apply the dimensionality reduction on X."
   ]
  },
  {
   "cell_type": "markdown",
   "id": "b710a673",
   "metadata": {},
   "source": [
    "# Explained Variance"
   ]
  },
  {
   "cell_type": "markdown",
   "id": "569e9971",
   "metadata": {},
   "source": [
    "# The explained variance tells you how much information (variance) can be attributed to each of the principal components.\n",
    "\n",
    "This is important as while you can convert high dimensional space to 2 dimensional space, you lose some of the variance (information) when you do this. By using the attribute explained_variance_ratio_,"
   ]
  },
  {
   "cell_type": "markdown",
   "id": "0c68d530",
   "metadata": {},
   "source": [
    "# "
   ]
  },
  {
   "cell_type": "code",
   "execution_count": 14,
   "id": "5dc4480c",
   "metadata": {},
   "outputs": [
    {
     "data": {
      "text/plain": [
       "[3.76, 1.0, 0.17]"
      ]
     },
     "execution_count": 14,
     "metadata": {},
     "output_type": "execute_result"
    }
   ],
   "source": [
    "import numpy as np\n",
    "list(np.round(principalComponents.explained_variance_,2))   # eigen values  >= 1"
   ]
  },
  {
   "cell_type": "code",
   "execution_count": 15,
   "id": "68b473a4",
   "metadata": {},
   "outputs": [
    {
     "data": {
      "text/plain": [
       "0.25066666666666665"
      ]
     },
     "execution_count": 15,
     "metadata": {},
     "output_type": "execute_result"
    }
   ],
   "source": [
    "3.76/15"
   ]
  },
  {
   "cell_type": "code",
   "execution_count": 16,
   "id": "9308fba5",
   "metadata": {},
   "outputs": [
    {
     "data": {
      "text/plain": [
       "[0.75, 0.2, 0.03]"
      ]
     },
     "execution_count": 16,
     "metadata": {},
     "output_type": "execute_result"
    }
   ],
   "source": [
    "list(np.round(principalComponents.explained_variance_ratio_,2))    # >= 50%"
   ]
  },
  {
   "cell_type": "code",
   "execution_count": 17,
   "id": "5ae7a4f8",
   "metadata": {},
   "outputs": [
    {
     "data": {
      "text/plain": [
       "0.98"
      ]
     },
     "execution_count": 17,
     "metadata": {},
     "output_type": "execute_result"
    }
   ],
   "source": [
    "0.75 + 0.2 + 0.03"
   ]
  },
  {
   "cell_type": "markdown",
   "id": "f6c6257e",
   "metadata": {},
   "source": [
    "You can see that the first principal component contains 75% of the variance\n",
    "\n",
    "The second principal component contains 20% of the variance & third PC contain 3%.\n",
    "\n",
    "Together, the three components contain 98% of the information.\n",
    "\n",
    "principalComponents.mean_\n",
    "\n",
    "principalComponents.get_covariance()"
   ]
  },
  {
   "cell_type": "code",
   "execution_count": 18,
   "id": "95edee9d",
   "metadata": {},
   "outputs": [
    {
     "data": {
      "text/plain": [
       "array([[-2.17565967, -1.9577598 , -1.34484629, -1.30272928, -0.43354514],\n",
       "       [-2.12053195, -1.92591948, -1.34094797, -1.29801005, -0.42558389],\n",
       "       [-2.08742925, -1.9056693 , -1.33388053, -1.29164935, -0.41642383],\n",
       "       ...,\n",
       "       [-0.61344695,  0.40200486,  2.40544459,  3.12300945, -0.04308078],\n",
       "       [-0.25830975,  0.95657332,  2.64341006,  3.3401358 ,  0.02661557],\n",
       "       [ 0.36477685,  1.37531581,  2.7262843 ,  3.12402436,  0.05619826]])"
      ]
     },
     "execution_count": 18,
     "metadata": {},
     "output_type": "execute_result"
    }
   ],
   "source": [
    "X_train_1 ### scaled dataset"
   ]
  },
  {
   "cell_type": "markdown",
   "id": "3b2ba856",
   "metadata": {},
   "source": [
    "# Beta Values or Eigen Vector\n",
    "\n",
    "Z1 = Beta1x1+Beta2X2 + beta3X3 + ..... + beta13X13"
   ]
  },
  {
   "cell_type": "code",
   "execution_count": 19,
   "id": "1d57f499",
   "metadata": {},
   "outputs": [
    {
     "data": {
      "text/plain": [
       "array([[ 0.48941354,  0.504066  ,  0.50533967,  0.497258  , -0.06130384],\n",
       "       [ 0.00498751,  0.00304359,  0.00365569,  0.11081236,  0.99381745],\n",
       "       [-0.73958039, -0.19236846,  0.46259475,  0.44697844, -0.04723974]])"
      ]
     },
     "execution_count": 19,
     "metadata": {},
     "output_type": "execute_result"
    }
   ],
   "source": [
    "principalComponents.components_   ##  BETA VALUES  Z1 , Z2 & Z3 Z4"
   ]
  },
  {
   "cell_type": "markdown",
   "id": "292112af",
   "metadata": {},
   "source": [
    "z1=(0.48941354) + (0.504066) + (0.50533967)+(0.497258)+(-0.06130384) z1"
   ]
  },
  {
   "cell_type": "markdown",
   "id": "e1c0ccb5",
   "metadata": {},
   "source": [
    "# Renaming the Columns\n",
    "Prediction for data to get data reduction"
   ]
  },
  {
   "cell_type": "code",
   "execution_count": 20,
   "id": "c8021721",
   "metadata": {},
   "outputs": [
    {
     "data": {
      "text/plain": [
       "array([[-2.17565967, -1.9577598 , -1.34484629, -1.30272928, -0.43354514],\n",
       "       [-2.12053195, -1.92591948, -1.34094797, -1.29801005, -0.42558389],\n",
       "       [-2.08742925, -1.9056693 , -1.33388053, -1.29164935, -0.41642383],\n",
       "       ...,\n",
       "       [-0.61344695,  0.40200486,  2.40544459,  3.12300945, -0.04308078],\n",
       "       [-0.25830975,  0.95657332,  2.64341006,  3.3401358 ,  0.02661557],\n",
       "       [ 0.36477685,  1.37531581,  2.7262843 ,  3.12402436,  0.05619826]])"
      ]
     },
     "execution_count": 20,
     "metadata": {},
     "output_type": "execute_result"
    }
   ],
   "source": [
    "X_train_1  # scaled data"
   ]
  },
  {
   "cell_type": "code",
   "execution_count": 21,
   "id": "77222fc5",
   "metadata": {},
   "outputs": [
    {
     "data": {
      "text/plain": [
       "array([[-3.35245620e+00, -5.96949318e-01,  8.01756296e-01],\n",
       "       [-3.30559773e+00, -5.88128222e-01,  7.58396488e-01],\n",
       "       [-3.27301657e+00, -5.78067383e-01,  7.35698627e-01],\n",
       "       [-3.24759553e+00, -5.90550241e-01,  7.23099595e-01],\n",
       "       [-3.21950829e+00, -5.63177073e-01,  6.94630983e-01],\n",
       "       [-3.19235032e+00, -5.59216726e-01,  6.72397152e-01],\n",
       "       [-3.16107030e+00, -6.45817856e-01,  6.56282412e-01],\n",
       "       [-3.13948782e+00, -6.24597217e-01,  6.38161637e-01],\n",
       "       [-3.11499736e+00, -5.62076206e-01,  6.24749221e-01],\n",
       "       [-3.07918419e+00, -6.14131643e-01,  6.09203068e-01],\n",
       "       [-3.05122914e+00, -5.30900622e-01,  5.82670592e-01],\n",
       "       [-3.02006609e+00, -5.54936358e-01,  5.71622719e-01],\n",
       "       [-2.99160500e+00, -5.28769872e-01,  5.50506811e-01],\n",
       "       [-2.95912453e+00, -5.19945119e-01,  5.25941849e-01],\n",
       "       [-2.92148960e+00, -5.69424819e-01,  5.03498467e-01],\n",
       "       [-2.89577544e+00, -5.09541533e-01,  4.81732780e-01],\n",
       "       [-2.87512566e+00, -4.37423899e-01,  4.59191845e-01],\n",
       "       [-2.84426298e+00, -3.80732389e-01,  4.32388263e-01],\n",
       "       [-2.80534527e+00, -2.78667193e-01,  3.96290059e-01],\n",
       "       [-2.77721901e+00, -3.59680874e-01,  4.06491659e-01],\n",
       "       [-2.74017748e+00, -2.85810593e-01,  3.64174802e-01],\n",
       "       [-2.69912956e+00, -3.01872964e-01,  3.33516886e-01],\n",
       "       [-2.66511441e+00, -2.37540085e-01,  3.05793515e-01],\n",
       "       [-2.62591641e+00, -2.12965636e-01,  2.76552503e-01],\n",
       "       [-2.59873881e+00, -1.88438629e-01,  2.63346237e-01],\n",
       "       [-2.56633912e+00, -7.99869616e-02,  2.43245483e-01],\n",
       "       [-2.54434337e+00,  2.02627897e-03,  2.27980509e-01],\n",
       "       [-2.51498196e+00,  4.25014386e-02,  1.96385973e-01],\n",
       "       [-2.45572856e+00,  1.26489006e-02,  1.66340511e-01],\n",
       "       [-2.41185166e+00,  8.37093810e-02,  1.50986681e-01],\n",
       "       [-2.39405416e+00,  1.05219685e-01,  1.45467428e-01],\n",
       "       [-2.33578424e+00, -1.55147169e-01,  1.30059573e-01],\n",
       "       [-2.29710253e+00, -5.71927235e-02,  1.11388584e-01],\n",
       "       [-2.26085229e+00,  9.59759160e-02,  1.03980220e-01],\n",
       "       [-2.22693122e+00,  2.03895787e-01,  8.45767758e-02],\n",
       "       [-2.18977308e+00,  3.09881942e-01,  3.79400298e-02],\n",
       "       [-2.18673249e+00,  3.55137311e-01,  2.92159605e-02],\n",
       "       [-2.14267850e+00,  2.89321319e-01, -1.12888789e-02],\n",
       "       [-2.12073404e+00,  3.67829939e-01, -2.06711167e-02],\n",
       "       [-2.07292727e+00,  3.09711334e-01, -5.25432053e-02],\n",
       "       [-2.04745377e+00,  2.59199848e-01, -7.56553789e-02],\n",
       "       [-2.01506055e+00,  3.66657624e-01, -1.02379519e-01],\n",
       "       [-1.96524567e+00,  1.70992804e-01, -1.14568661e-01],\n",
       "       [-1.92842841e+00,  1.61986416e-01, -1.22289067e-01],\n",
       "       [-1.89221694e+00,  1.11156360e-01, -1.36325554e-01],\n",
       "       [-1.85150114e+00,  5.81005132e-02, -1.68912025e-01],\n",
       "       [-1.79875474e+00,  9.62163828e-02, -1.80622924e-01],\n",
       "       [-1.74793464e+00,  1.98704171e-01, -2.23305341e-01],\n",
       "       [-1.72315895e+00,  8.04426336e-03, -2.27456476e-01],\n",
       "       [-1.67439548e+00, -2.24723292e-02, -2.33294329e-01],\n",
       "       [-1.62552809e+00,  1.38592769e-01, -2.79174018e-01],\n",
       "       [-1.58784938e+00,  5.29170095e-02, -2.86721488e-01],\n",
       "       [-1.54454590e+00,  1.93993924e-02, -2.97030043e-01],\n",
       "       [-1.53116976e+00,  6.18141857e-02, -2.84861067e-01],\n",
       "       [-1.50508314e+00, -2.05420192e-02, -2.90868560e-01],\n",
       "       [-1.49082033e+00,  7.90660046e-02, -2.93761293e-01],\n",
       "       [-1.45029550e+00, -1.27596975e-02, -3.03366982e-01],\n",
       "       [-1.45178016e+00,  1.00606814e-01, -3.01324750e-01],\n",
       "       [-1.42405982e+00, -3.85264071e-02, -3.11523150e-01],\n",
       "       [-1.39065970e+00, -3.07257282e-02, -3.21422319e-01],\n",
       "       [-1.38927239e+00,  1.94653502e-01, -3.16513856e-01],\n",
       "       [-1.36396911e+00,  2.53104312e-02, -3.13380383e-01],\n",
       "       [-1.35720595e+00, -8.22160004e-02, -2.97563917e-01],\n",
       "       [-1.40058484e+00,  4.31866027e-01, -2.89011870e-01],\n",
       "       [-1.39990162e+00,  4.41340911e-01, -2.93203485e-01],\n",
       "       [-1.40983287e+00,  3.86409813e-01, -2.85764961e-01],\n",
       "       [-1.45203702e+00,  9.65283192e-01, -3.06922330e-01],\n",
       "       [-1.44056165e+00,  7.95928491e-01, -2.92769870e-01],\n",
       "       [-1.45259433e+00,  5.96534218e-01, -2.30686541e-01],\n",
       "       [-1.44880433e+00,  9.69442440e-01, -2.56842187e-01],\n",
       "       [-1.49863576e+00,  1.16401206e+00, -2.34780299e-01],\n",
       "       [-1.51956698e+00,  1.18257389e+00, -2.22612405e-01],\n",
       "       [-1.52383319e+00,  1.13503357e+00, -2.16987868e-01],\n",
       "       [-1.50678844e+00,  1.07805029e+00, -1.99608029e-01],\n",
       "       [-1.51783388e+00,  1.17751921e+00, -2.05287533e-01],\n",
       "       [-1.49843075e+00,  7.97436701e-01, -1.93826129e-01],\n",
       "       [-1.51221925e+00,  7.73000383e-01, -1.94872641e-01],\n",
       "       [-1.49159910e+00,  5.94931774e-01, -1.97971810e-01],\n",
       "       [-1.45632716e+00,  1.85879644e-01, -1.77343024e-01],\n",
       "       [-1.45250791e+00,  1.94054939e-01, -1.76765992e-01],\n",
       "       [-1.45670609e+00, -1.23879772e-02, -1.57789739e-01],\n",
       "       [-1.45493691e+00,  2.90347968e-01, -1.85405039e-01],\n",
       "       [-1.44994017e+00,  4.01872292e-01, -1.88040713e-01],\n",
       "       [-1.43391426e+00,  2.76209629e-01, -1.74490207e-01],\n",
       "       [-1.41612408e+00,  5.06250027e-02, -1.76671228e-01],\n",
       "       [-1.43632570e+00,  1.92587789e-02, -1.61547082e-01],\n",
       "       [-1.43548323e+00,  3.24987162e-02, -1.49012447e-01],\n",
       "       [-1.41700460e+00, -5.56524754e-02, -1.42122452e-01],\n",
       "       [-1.41700748e+00,  2.45433337e-02, -1.52363242e-01],\n",
       "       [-1.40403216e+00,  4.24844503e-02, -1.60327404e-01],\n",
       "       [-1.37025127e+00, -1.11450768e-01, -1.48186034e-01],\n",
       "       [-1.35240699e+00, -8.58453554e-02, -1.58281854e-01],\n",
       "       [-1.36644091e+00, -1.07096870e-01, -1.76789030e-01],\n",
       "       [-1.34779988e+00, -3.69994604e-01, -1.98026974e-01],\n",
       "       [-1.33556368e+00, -3.61629549e-01, -2.10399661e-01],\n",
       "       [-1.32690017e+00, -2.93788683e-01, -2.24735183e-01],\n",
       "       [-1.30840922e+00, -3.60020790e-01, -2.47861983e-01],\n",
       "       [-1.29726057e+00, -3.44094512e-01, -2.52491606e-01],\n",
       "       [-1.26047454e+00, -3.66916190e-01, -2.87829911e-01],\n",
       "       [-1.23582114e+00, -4.86162433e-01, -3.06894168e-01],\n",
       "       [-1.19235821e+00, -4.71604046e-01, -3.32930815e-01],\n",
       "       [-1.19476887e+00, -4.48287701e-01, -3.32232954e-01],\n",
       "       [-1.15328859e+00, -5.22304747e-01, -3.32719719e-01],\n",
       "       [-1.12867406e+00, -5.18393763e-01, -3.37599956e-01],\n",
       "       [-1.09254102e+00, -5.06370458e-01, -3.52216884e-01],\n",
       "       [-1.03959012e+00, -4.57465710e-01, -3.81399745e-01],\n",
       "       [-1.00318325e+00, -4.15543762e-01, -3.92217076e-01],\n",
       "       [-9.81287342e-01, -4.80306475e-01, -3.86241357e-01],\n",
       "       [-9.42243100e-01, -4.55129739e-01, -4.06534839e-01],\n",
       "       [-9.12286681e-01, -4.75213955e-01, -4.05766771e-01],\n",
       "       [-8.51118549e-01, -5.52293239e-01, -4.30694606e-01],\n",
       "       [-8.31789120e-01, -5.16532092e-01, -4.36806778e-01],\n",
       "       [-7.78461456e-01, -5.14910145e-01, -4.61156748e-01],\n",
       "       [-7.12732590e-01, -5.27357340e-01, -4.86300068e-01],\n",
       "       [-6.99275922e-01, -5.38574414e-01, -4.91031918e-01],\n",
       "       [-6.96180555e-01, -5.29652681e-01, -4.84943837e-01],\n",
       "       [-6.58452955e-01, -5.99735339e-01, -4.77064020e-01],\n",
       "       [-6.18226103e-01, -5.60522663e-01, -5.05978778e-01],\n",
       "       [-5.80391524e-01, -5.58363397e-01, -5.09386656e-01],\n",
       "       [-5.27330882e-01, -5.69629285e-01, -5.24836691e-01],\n",
       "       [-4.85994945e-01, -5.66721039e-01, -5.46060837e-01],\n",
       "       [-4.49159938e-01, -5.52261450e-01, -5.67619874e-01],\n",
       "       [-4.12148885e-01, -5.62173790e-01, -5.64586363e-01],\n",
       "       [-3.82678218e-01, -5.91298127e-01, -5.51861275e-01],\n",
       "       [-3.55457381e-01, -5.87648066e-01, -5.41225415e-01],\n",
       "       [-3.06086389e-01, -6.33849346e-01, -5.48001214e-01],\n",
       "       [-2.80350102e-01, -6.07819281e-01, -5.38472493e-01],\n",
       "       [-2.50414177e-01, -5.82917780e-01, -5.58793555e-01],\n",
       "       [-2.18702359e-01, -5.86447353e-01, -5.49213622e-01],\n",
       "       [-1.91551290e-01, -5.67341404e-01, -5.58539756e-01],\n",
       "       [-1.43723191e-01, -5.51026165e-01, -5.67133275e-01],\n",
       "       [-1.09070980e-01, -5.54936917e-01, -5.76751910e-01],\n",
       "       [-8.75686305e-02, -5.75154808e-01, -5.70188848e-01],\n",
       "       [-5.63163384e-02, -5.62268882e-01, -5.79909245e-01],\n",
       "       [-3.03297385e-02, -5.37279658e-01, -5.68064055e-01],\n",
       "       [-1.26142499e-04, -4.98446397e-01, -5.67518064e-01],\n",
       "       [ 2.85390477e-02, -5.13691891e-01, -5.51704367e-01],\n",
       "       [ 5.42151376e-02, -4.60081010e-01, -5.34533158e-01],\n",
       "       [ 1.00926139e-01, -4.39623644e-01, -5.04560267e-01],\n",
       "       [ 1.50718561e-01, -3.89126563e-01, -4.74842817e-01],\n",
       "       [ 1.67746371e-01, -1.39951520e-01, -4.70267113e-01],\n",
       "       [ 2.07344931e-01, -1.98612235e-01, -4.60091173e-01],\n",
       "       [ 2.39124116e-01, -2.05017024e-01, -4.43064262e-01],\n",
       "       [ 2.63881511e-01, -1.60701857e-01, -4.20137080e-01],\n",
       "       [ 2.69896784e-01, -2.07426564e-01, -3.87389126e-01],\n",
       "       [ 3.03006886e-01, -2.10592820e-01, -3.56265747e-01],\n",
       "       [ 2.99038320e-01,  1.03381222e-01, -3.26987057e-01],\n",
       "       [ 2.93298979e-01,  1.21137475e-01, -3.09729842e-01],\n",
       "       [ 2.95149326e-01, -2.06053179e-02, -2.75769824e-01],\n",
       "       [ 2.78353912e-01,  1.45083181e-01, -2.40638226e-01],\n",
       "       [ 2.62684969e-01,  1.65832721e-01, -2.11202517e-01],\n",
       "       [ 2.50523940e-01,  1.44416394e-02, -1.27603878e-01],\n",
       "       [ 1.33951857e-01,  2.45336570e+00, -1.30163647e-01],\n",
       "       [ 9.40973080e-02,  2.15273919e+00, -4.60906980e-02],\n",
       "       [ 4.36832804e-02,  2.17745176e+00,  3.30164098e-02],\n",
       "       [-2.17844561e-01,  5.82079578e+00, -7.27139788e-02],\n",
       "       [-2.35312975e-01,  5.00897985e+00,  3.48490870e-02],\n",
       "       [-3.45393084e-01,  5.56282817e+00,  7.95522197e-02],\n",
       "       [-4.11430220e-01,  5.55262613e+00,  1.30690994e-01],\n",
       "       [-4.66573440e-01,  5.92446613e+00,  1.31812082e-01],\n",
       "       [-5.27942566e-01,  5.91829632e+00,  1.48343459e-01],\n",
       "       [-4.14297195e-01,  3.24118312e+00,  2.67747582e-01],\n",
       "       [-4.38947237e-01,  3.39564818e+00,  2.38265191e-01],\n",
       "       [-5.20819382e-01,  3.56722143e+00,  2.41199895e-01],\n",
       "       [-3.15001112e-01, -3.47672651e-01,  4.21684385e-01],\n",
       "       [-3.37017465e-01, -2.80342191e-01,  4.07114292e-01],\n",
       "       [-3.64144905e-01, -2.62598008e-01,  4.02566866e-01],\n",
       "       [-3.85085354e-01, -5.28397308e-01,  3.88100168e-01],\n",
       "       [-3.91347660e-01, -5.01001074e-01,  3.84784246e-01],\n",
       "       [-3.83285608e-01, -4.38682710e-01,  3.46265920e-01],\n",
       "       [-3.55007878e-01, -5.31149719e-01,  3.27657982e-01],\n",
       "       [-3.13082694e-01, -6.21680221e-01,  2.75373932e-01],\n",
       "       [-3.14393703e-01, -6.76617604e-01,  2.84761270e-01],\n",
       "       [-3.11785484e-01, -6.78768412e-01,  2.90233136e-01],\n",
       "       [-2.94016502e-01, -7.23351544e-01,  2.94804071e-01],\n",
       "       [-2.96920643e-01, -6.45645843e-01,  2.98379637e-01],\n",
       "       [-2.63818777e-01, -6.81243317e-01,  2.76683364e-01],\n",
       "       [-2.41147224e-01, -6.82742430e-01,  2.65774864e-01],\n",
       "       [-2.26128230e-01, -6.20553907e-01,  2.63216319e-01],\n",
       "       [-2.11634550e-01, -6.46663365e-01,  2.69581569e-01],\n",
       "       [-1.88557311e-01, -6.14769354e-01,  2.56364586e-01],\n",
       "       [-1.48506173e-01, -6.13970574e-01,  2.41417242e-01],\n",
       "       [-1.13746313e-01, -6.14844140e-01,  2.27291014e-01],\n",
       "       [-8.76248102e-02, -6.25029122e-01,  2.38369677e-01],\n",
       "       [-4.67428363e-02, -6.41585425e-01,  2.28514645e-01],\n",
       "       [ 4.08443377e-03, -6.93272901e-01,  2.56794293e-01],\n",
       "       [ 6.37414116e-02, -7.40295818e-01,  2.92193710e-01],\n",
       "       [ 9.88032774e-02, -8.00107390e-01,  2.79059235e-01],\n",
       "       [ 1.25687003e-01, -7.11693045e-01,  2.67072003e-01],\n",
       "       [ 1.48188193e-01, -7.13205391e-01,  2.73161869e-01],\n",
       "       [ 1.78948834e-01, -7.03121924e-01,  2.67389115e-01],\n",
       "       [ 2.44350094e-01, -6.76859883e-01,  2.52366462e-01],\n",
       "       [ 3.07353871e-01, -6.34668410e-01,  2.44025288e-01],\n",
       "       [ 3.27193851e-01, -6.03532553e-01,  2.33584355e-01],\n",
       "       [ 3.61500318e-01, -6.00002196e-01,  2.46896896e-01],\n",
       "       [ 3.87022763e-01, -6.58448636e-01,  2.53386814e-01],\n",
       "       [ 4.13407760e-01, -6.18112850e-01,  2.72635160e-01],\n",
       "       [ 4.55449796e-01, -5.86747119e-01,  2.77154145e-01],\n",
       "       [ 4.84536708e-01, -5.64628377e-01,  2.80877529e-01],\n",
       "       [ 5.22122495e-01, -5.38410295e-01,  2.77348540e-01],\n",
       "       [ 5.58793506e-01, -5.55172077e-01,  2.83583469e-01],\n",
       "       [ 5.98034707e-01, -5.50313573e-01,  2.78182859e-01],\n",
       "       [ 6.49162411e-01, -5.39145754e-01,  2.85945164e-01],\n",
       "       [ 6.85699064e-01, -5.00110160e-01,  2.73972400e-01],\n",
       "       [ 7.07390191e-01, -4.86986122e-01,  2.52375508e-01],\n",
       "       [ 7.32968238e-01, -4.47012177e-01,  2.53585587e-01],\n",
       "       [ 7.54899717e-01, -4.65215214e-01,  2.48907028e-01],\n",
       "       [ 7.85301473e-01, -4.42018732e-01,  2.30265888e-01],\n",
       "       [ 8.16908087e-01, -4.55738421e-01,  2.30977223e-01],\n",
       "       [ 8.45340816e-01, -4.41024254e-01,  2.34251601e-01],\n",
       "       [ 8.77329951e-01, -4.74583563e-01,  2.19830694e-01],\n",
       "       [ 9.10901838e-01, -4.41447932e-01,  2.09235200e-01],\n",
       "       [ 9.61644823e-01, -4.56679810e-01,  2.07481965e-01],\n",
       "       [ 1.00187624e+00, -4.24289530e-01,  1.84322621e-01],\n",
       "       [ 1.03137348e+00, -3.94739334e-01,  1.97681188e-01],\n",
       "       [ 1.05467086e+00, -4.38964896e-01,  2.04790580e-01],\n",
       "       [ 1.12597168e+00, -3.84763525e-01,  2.19719226e-01],\n",
       "       [ 1.17549531e+00, -3.73509836e-01,  2.07739821e-01],\n",
       "       [ 1.23404746e+00, -3.87516924e-01,  1.95102690e-01],\n",
       "       [ 1.27590342e+00, -3.60981557e-01,  1.90441088e-01],\n",
       "       [ 1.33019605e+00, -3.35972435e-01,  1.71185373e-01],\n",
       "       [ 1.38267683e+00, -3.79891962e-01,  1.72077904e-01],\n",
       "       [ 1.43748695e+00, -3.33827922e-01,  1.62082065e-01],\n",
       "       [ 1.47855030e+00, -3.48532908e-01,  1.48826818e-01],\n",
       "       [ 1.52428044e+00, -2.79314448e-01,  1.24847894e-01],\n",
       "       [ 1.57991246e+00, -2.44688137e-01,  1.15107701e-01],\n",
       "       [ 1.64014138e+00, -2.44690108e-01,  1.15329356e-01],\n",
       "       [ 1.69045831e+00, -2.41817047e-01,  1.17509542e-01],\n",
       "       [ 1.74636471e+00, -1.70428094e-01,  1.14816266e-01],\n",
       "       [ 1.79009031e+00, -1.86962570e-01,  1.31509956e-01],\n",
       "       [ 1.83362452e+00, -1.14167414e-01,  1.15122358e-01],\n",
       "       [ 1.88548149e+00, -9.62431466e-02,  9.67529720e-02],\n",
       "       [ 1.92652607e+00, -1.20807907e-01,  1.00476342e-01],\n",
       "       [ 1.97122958e+00, -2.86920960e-02,  7.67437040e-02],\n",
       "       [ 2.01595853e+00, -1.14043299e-01,  8.46277601e-02],\n",
       "       [ 2.05178202e+00, -1.46566094e-01,  8.64659563e-02],\n",
       "       [ 2.08110542e+00,  3.09021580e-02,  6.37515264e-02],\n",
       "       [ 2.13428635e+00,  3.57834279e-02,  6.48311924e-02],\n",
       "       [ 2.18121274e+00,  1.18903433e-02,  4.82049886e-02],\n",
       "       [ 2.22254908e+00, -5.73183102e-02,  6.95005182e-02],\n",
       "       [ 2.29706140e+00, -5.74488670e-02,  6.60918710e-02],\n",
       "       [ 2.33811628e+00,  3.99051938e-02,  7.97934641e-02],\n",
       "       [ 2.38850123e+00,  3.93267042e-02,  8.26452442e-02],\n",
       "       [ 2.42227633e+00,  6.51081921e-02,  9.72197726e-02],\n",
       "       [ 2.46794261e+00,  6.75178636e-02,  7.71365516e-02],\n",
       "       [ 2.50767108e+00,  8.47118621e-02,  5.51594286e-02],\n",
       "       [ 2.52832365e+00,  8.17417863e-02,  4.58910011e-02],\n",
       "       [ 2.58295263e+00,  8.40308223e-02,  3.89801472e-02],\n",
       "       [ 2.62251306e+00, -2.59464456e-02,  5.10123768e-02],\n",
       "       [ 2.65238040e+00,  2.23110476e-02,  4.45510978e-02],\n",
       "       [ 2.68524034e+00,  4.72925127e-02,  1.21498206e-02],\n",
       "       [ 2.71445344e+00, -1.12378729e-02,  3.88788319e-03],\n",
       "       [ 2.73420722e+00,  4.06342870e-02, -8.62574310e-03],\n",
       "       [ 2.75674881e+00,  3.68206579e-02, -3.38384889e-02],\n",
       "       [ 2.78196668e+00, -1.47259186e-03, -3.98856215e-02],\n",
       "       [ 2.80491686e+00,  1.60455999e-02, -4.45096854e-02],\n",
       "       [ 2.83414186e+00,  2.36234488e-02, -6.35546567e-02],\n",
       "       [ 2.86703978e+00,  1.08860730e-02, -7.41473943e-02],\n",
       "       [ 2.89846539e+00,  1.37988008e-02, -7.80401947e-02],\n",
       "       [ 2.94054527e+00,  4.47684676e-02, -6.89766619e-02],\n",
       "       [ 2.97480145e+00,  4.06133650e-02, -8.46961717e-02],\n",
       "       [ 3.00308385e+00,  7.98789304e-02, -1.17019313e-01],\n",
       "       [ 3.03698451e+00,  9.43865329e-02, -1.33972496e-01],\n",
       "       [ 3.04622234e+00,  1.03251037e-01, -1.37428681e-01],\n",
       "       [ 3.08066341e+00,  4.58732924e-02, -1.66234447e-01],\n",
       "       [ 3.13269422e+00,  1.05343696e-02, -1.67782903e-01],\n",
       "       [ 3.20463829e+00, -5.63027384e-02, -1.37009284e-01],\n",
       "       [ 3.24966891e+00, -2.59334952e-02, -1.55529508e-01],\n",
       "       [ 3.29551860e+00, -1.49238638e-02, -1.52945791e-01],\n",
       "       [ 3.33962693e+00, -4.74788922e-02, -1.50090512e-01],\n",
       "       [ 3.37622353e+00, -6.04327560e-03, -1.69329048e-01],\n",
       "       [ 3.39138021e+00,  2.36771221e-03, -1.61031888e-01],\n",
       "       [ 3.44625138e+00, -1.07751191e-01, -1.66439879e-01],\n",
       "       [ 3.49189285e+00, -7.97722425e-02, -1.61908415e-01],\n",
       "       [ 3.52254038e+00, -1.89611006e-01, -1.18336957e-01],\n",
       "       [ 3.59787308e+00, -1.11725012e-01, -1.27685043e-01],\n",
       "       [ 3.60600591e+00, -7.35199561e-02, -1.18614402e-01],\n",
       "       [ 3.65923744e+00, -4.80912018e-02, -1.28459159e-01],\n",
       "       [ 3.67974601e+00, -6.82713281e-03, -1.50983830e-01],\n",
       "       [ 3.71701534e+00, -9.33981571e-02, -1.43290165e-01],\n",
       "       [ 3.76125826e+00, -5.75777274e-03, -1.46405924e-01],\n",
       "       [ 3.80145661e+00,  3.83641984e-02, -1.50170750e-01],\n",
       "       [ 3.85039736e+00,  1.74444156e-02, -1.48156847e-01],\n",
       "       [ 3.87581740e+00,  4.00697440e-02, -1.62267715e-01],\n",
       "       [ 3.90645793e+00, -7.22037990e-06, -1.72584289e-01],\n",
       "       [ 3.93882159e+00,  4.57010826e-02, -1.87599373e-01],\n",
       "       [ 3.94964638e+00,  8.34872339e-02, -2.07392587e-01],\n",
       "       [ 3.97077745e+00,  3.61980186e-01, -2.40253097e-01],\n",
       "       [ 3.99761602e+00,  2.19663012e-01, -2.50313073e-01],\n",
       "       [ 3.95919707e+00,  7.23376978e-02,  2.56750699e-01],\n",
       "       [ 2.67355675e+00,  3.10211114e-01,  2.88705933e+00],\n",
       "       [ 3.35085336e+00,  4.07865910e-01,  2.72156527e+00],\n",
       "       [ 3.79947720e+00,  4.18002975e-01,  2.12053236e+00]])"
      ]
     },
     "execution_count": 21,
     "metadata": {},
     "output_type": "execute_result"
    }
   ],
   "source": [
    "transformed_data=principalComponents.fit_transform(X_train_1)  ### only give data which is transformed ( principal component)\n",
    "transformed_data"
   ]
  },
  {
   "cell_type": "code",
   "execution_count": 22,
   "id": "49e1d61a",
   "metadata": {},
   "outputs": [
    {
     "name": "stdout",
     "output_type": "stream",
     "text": [
      "original shape:    (293, 5)\n",
      "transformed shape: (293, 3)\n"
     ]
    }
   ],
   "source": [
    "print(\"original shape:   \", X_train_1.shape)\n",
    "print(\"transformed shape:\", transformed_data.shape)"
   ]
  },
  {
   "cell_type": "code",
   "execution_count": 23,
   "id": "afb34b4e",
   "metadata": {},
   "outputs": [
    {
     "data": {
      "text/html": [
       "<div>\n",
       "<style scoped>\n",
       "    .dataframe tbody tr th:only-of-type {\n",
       "        vertical-align: middle;\n",
       "    }\n",
       "\n",
       "    .dataframe tbody tr th {\n",
       "        vertical-align: top;\n",
       "    }\n",
       "\n",
       "    .dataframe thead th {\n",
       "        text-align: right;\n",
       "    }\n",
       "</style>\n",
       "<table border=\"1\" class=\"dataframe\">\n",
       "  <thead>\n",
       "    <tr style=\"text-align: right;\">\n",
       "      <th></th>\n",
       "      <th>Data PC1</th>\n",
       "      <th>Data PC2</th>\n",
       "      <th>Data PC3</th>\n",
       "    </tr>\n",
       "  </thead>\n",
       "  <tbody>\n",
       "    <tr>\n",
       "      <th>0</th>\n",
       "      <td>-3.352456</td>\n",
       "      <td>-0.596949</td>\n",
       "      <td>0.801756</td>\n",
       "    </tr>\n",
       "    <tr>\n",
       "      <th>1</th>\n",
       "      <td>-3.305598</td>\n",
       "      <td>-0.588128</td>\n",
       "      <td>0.758396</td>\n",
       "    </tr>\n",
       "    <tr>\n",
       "      <th>2</th>\n",
       "      <td>-3.273017</td>\n",
       "      <td>-0.578067</td>\n",
       "      <td>0.735699</td>\n",
       "    </tr>\n",
       "    <tr>\n",
       "      <th>3</th>\n",
       "      <td>-3.247596</td>\n",
       "      <td>-0.590550</td>\n",
       "      <td>0.723100</td>\n",
       "    </tr>\n",
       "    <tr>\n",
       "      <th>4</th>\n",
       "      <td>-3.219508</td>\n",
       "      <td>-0.563177</td>\n",
       "      <td>0.694631</td>\n",
       "    </tr>\n",
       "  </tbody>\n",
       "</table>\n",
       "</div>"
      ],
      "text/plain": [
       "   Data PC1  Data PC2  Data PC3\n",
       "0 -3.352456 -0.596949  0.801756\n",
       "1 -3.305598 -0.588128  0.758396\n",
       "2 -3.273017 -0.578067  0.735699\n",
       "3 -3.247596 -0.590550  0.723100\n",
       "4 -3.219508 -0.563177  0.694631"
      ]
     },
     "execution_count": 23,
     "metadata": {},
     "output_type": "execute_result"
    }
   ],
   "source": [
    "principalDf = pd.DataFrame(data = transformed_data\n",
    "             , columns = ['Data PC1', 'Data PC2', 'Data PC3'])\n",
    "principalDf.head()"
   ]
  },
  {
   "cell_type": "markdown",
   "id": "612551b0",
   "metadata": {},
   "source": [
    "# To check the Principal Component is uncorrelated / independent"
   ]
  },
  {
   "cell_type": "code",
   "execution_count": 24,
   "id": "6e257391",
   "metadata": {},
   "outputs": [
    {
     "data": {
      "text/html": [
       "<style type=\"text/css\">\n",
       "#T_c9776_row0_col0, #T_c9776_row1_col1, #T_c9776_row2_col2 {\n",
       "  background-color: yellow;\n",
       "}\n",
       "</style>\n",
       "<table id=\"T_c9776\">\n",
       "  <thead>\n",
       "    <tr>\n",
       "      <th class=\"blank level0\" >&nbsp;</th>\n",
       "      <th id=\"T_c9776_level0_col0\" class=\"col_heading level0 col0\" >Data PC1</th>\n",
       "      <th id=\"T_c9776_level0_col1\" class=\"col_heading level0 col1\" >Data PC2</th>\n",
       "      <th id=\"T_c9776_level0_col2\" class=\"col_heading level0 col2\" >Data PC3</th>\n",
       "    </tr>\n",
       "  </thead>\n",
       "  <tbody>\n",
       "    <tr>\n",
       "      <th id=\"T_c9776_level0_row0\" class=\"row_heading level0 row0\" >Data PC1</th>\n",
       "      <td id=\"T_c9776_row0_col0\" class=\"data row0 col0\" >1.000000</td>\n",
       "      <td id=\"T_c9776_row0_col1\" class=\"data row0 col1\" >0.000000</td>\n",
       "      <td id=\"T_c9776_row0_col2\" class=\"data row0 col2\" >-0.000000</td>\n",
       "    </tr>\n",
       "    <tr>\n",
       "      <th id=\"T_c9776_level0_row1\" class=\"row_heading level0 row1\" >Data PC2</th>\n",
       "      <td id=\"T_c9776_row1_col0\" class=\"data row1 col0\" >0.000000</td>\n",
       "      <td id=\"T_c9776_row1_col1\" class=\"data row1 col1\" >1.000000</td>\n",
       "      <td id=\"T_c9776_row1_col2\" class=\"data row1 col2\" >-0.000000</td>\n",
       "    </tr>\n",
       "    <tr>\n",
       "      <th id=\"T_c9776_level0_row2\" class=\"row_heading level0 row2\" >Data PC3</th>\n",
       "      <td id=\"T_c9776_row2_col0\" class=\"data row2 col0\" >-0.000000</td>\n",
       "      <td id=\"T_c9776_row2_col1\" class=\"data row2 col1\" >-0.000000</td>\n",
       "      <td id=\"T_c9776_row2_col2\" class=\"data row2 col2\" >1.000000</td>\n",
       "    </tr>\n",
       "  </tbody>\n",
       "</table>\n"
      ],
      "text/plain": [
       "<pandas.io.formats.style.Styler at 0x1db75ea8be0>"
      ]
     },
     "execution_count": 24,
     "metadata": {},
     "output_type": "execute_result"
    }
   ],
   "source": [
    "Correlation=round(principalDf.corr(),3)\n",
    "Correlation.style.applymap(lambda x: 'background-color : yellow' if x > 0.5 else '')"
   ]
  },
  {
   "cell_type": "markdown",
   "id": "07e862f0",
   "metadata": {},
   "source": [
    "# Identify variable is combining together in Which PCA"
   ]
  },
  {
   "cell_type": "code",
   "execution_count": 25,
   "id": "ef2bcbde",
   "metadata": {},
   "outputs": [
    {
     "data": {
      "text/html": [
       "<div>\n",
       "<style scoped>\n",
       "    .dataframe tbody tr th:only-of-type {\n",
       "        vertical-align: middle;\n",
       "    }\n",
       "\n",
       "    .dataframe tbody tr th {\n",
       "        vertical-align: top;\n",
       "    }\n",
       "\n",
       "    .dataframe thead th {\n",
       "        text-align: right;\n",
       "    }\n",
       "</style>\n",
       "<table border=\"1\" class=\"dataframe\">\n",
       "  <thead>\n",
       "    <tr style=\"text-align: right;\">\n",
       "      <th></th>\n",
       "      <th>PAYEMS</th>\n",
       "      <th>DPCERA3M086SBEA</th>\n",
       "      <th>M2SL</th>\n",
       "      <th>BUSLOANS</th>\n",
       "      <th>P/E</th>\n",
       "    </tr>\n",
       "  </thead>\n",
       "  <tbody>\n",
       "    <tr>\n",
       "      <th>0</th>\n",
       "      <td>-2.175660</td>\n",
       "      <td>-1.957760</td>\n",
       "      <td>-1.344846</td>\n",
       "      <td>-1.302729</td>\n",
       "      <td>-0.433545</td>\n",
       "    </tr>\n",
       "    <tr>\n",
       "      <th>1</th>\n",
       "      <td>-2.120532</td>\n",
       "      <td>-1.925919</td>\n",
       "      <td>-1.340948</td>\n",
       "      <td>-1.298010</td>\n",
       "      <td>-0.425584</td>\n",
       "    </tr>\n",
       "    <tr>\n",
       "      <th>2</th>\n",
       "      <td>-2.087429</td>\n",
       "      <td>-1.905669</td>\n",
       "      <td>-1.333881</td>\n",
       "      <td>-1.291649</td>\n",
       "      <td>-0.416424</td>\n",
       "    </tr>\n",
       "    <tr>\n",
       "      <th>3</th>\n",
       "      <td>-2.065926</td>\n",
       "      <td>-1.890172</td>\n",
       "      <td>-1.330852</td>\n",
       "      <td>-1.282178</td>\n",
       "      <td>-0.430207</td>\n",
       "    </tr>\n",
       "    <tr>\n",
       "      <th>4</th>\n",
       "      <td>-2.023179</td>\n",
       "      <td>-1.884703</td>\n",
       "      <td>-1.327542</td>\n",
       "      <td>-1.273428</td>\n",
       "      <td>-0.403883</td>\n",
       "    </tr>\n",
       "  </tbody>\n",
       "</table>\n",
       "</div>"
      ],
      "text/plain": [
       "     PAYEMS  DPCERA3M086SBEA      M2SL  BUSLOANS       P/E\n",
       "0 -2.175660        -1.957760 -1.344846 -1.302729 -0.433545\n",
       "1 -2.120532        -1.925919 -1.340948 -1.298010 -0.425584\n",
       "2 -2.087429        -1.905669 -1.333881 -1.291649 -0.416424\n",
       "3 -2.065926        -1.890172 -1.330852 -1.282178 -0.430207\n",
       "4 -2.023179        -1.884703 -1.327542 -1.273428 -0.403883"
      ]
     },
     "execution_count": 25,
     "metadata": {},
     "output_type": "execute_result"
    }
   ],
   "source": [
    "numeric_predictors_1=['PAYEMS','DPCERA3M086SBEA','M2SL','BUSLOANS','P/E']\n",
    "scaled_train=pd.DataFrame(X_train_1,columns=numeric_predictors_1)\n",
    "scaled_train.head()"
   ]
  },
  {
   "cell_type": "code",
   "execution_count": 26,
   "id": "c4c7f713",
   "metadata": {},
   "outputs": [
    {
     "data": {
      "text/html": [
       "<div>\n",
       "<style scoped>\n",
       "    .dataframe tbody tr th:only-of-type {\n",
       "        vertical-align: middle;\n",
       "    }\n",
       "\n",
       "    .dataframe tbody tr th {\n",
       "        vertical-align: top;\n",
       "    }\n",
       "\n",
       "    .dataframe thead th {\n",
       "        text-align: right;\n",
       "    }\n",
       "</style>\n",
       "<table border=\"1\" class=\"dataframe\">\n",
       "  <thead>\n",
       "    <tr style=\"text-align: right;\">\n",
       "      <th></th>\n",
       "      <th>PAYEMS</th>\n",
       "      <th>DPCERA3M086SBEA</th>\n",
       "      <th>M2SL</th>\n",
       "      <th>BUSLOANS</th>\n",
       "      <th>P/E</th>\n",
       "      <th>Data PC1</th>\n",
       "      <th>Data PC2</th>\n",
       "      <th>Data PC3</th>\n",
       "    </tr>\n",
       "  </thead>\n",
       "  <tbody>\n",
       "    <tr>\n",
       "      <th>0</th>\n",
       "      <td>-2.175660</td>\n",
       "      <td>-1.957760</td>\n",
       "      <td>-1.344846</td>\n",
       "      <td>-1.302729</td>\n",
       "      <td>-0.433545</td>\n",
       "      <td>-3.352456</td>\n",
       "      <td>-0.596949</td>\n",
       "      <td>0.801756</td>\n",
       "    </tr>\n",
       "    <tr>\n",
       "      <th>1</th>\n",
       "      <td>-2.120532</td>\n",
       "      <td>-1.925919</td>\n",
       "      <td>-1.340948</td>\n",
       "      <td>-1.298010</td>\n",
       "      <td>-0.425584</td>\n",
       "      <td>-3.305598</td>\n",
       "      <td>-0.588128</td>\n",
       "      <td>0.758396</td>\n",
       "    </tr>\n",
       "    <tr>\n",
       "      <th>2</th>\n",
       "      <td>-2.087429</td>\n",
       "      <td>-1.905669</td>\n",
       "      <td>-1.333881</td>\n",
       "      <td>-1.291649</td>\n",
       "      <td>-0.416424</td>\n",
       "      <td>-3.273017</td>\n",
       "      <td>-0.578067</td>\n",
       "      <td>0.735699</td>\n",
       "    </tr>\n",
       "    <tr>\n",
       "      <th>3</th>\n",
       "      <td>-2.065926</td>\n",
       "      <td>-1.890172</td>\n",
       "      <td>-1.330852</td>\n",
       "      <td>-1.282178</td>\n",
       "      <td>-0.430207</td>\n",
       "      <td>-3.247596</td>\n",
       "      <td>-0.590550</td>\n",
       "      <td>0.723100</td>\n",
       "    </tr>\n",
       "    <tr>\n",
       "      <th>4</th>\n",
       "      <td>-2.023179</td>\n",
       "      <td>-1.884703</td>\n",
       "      <td>-1.327542</td>\n",
       "      <td>-1.273428</td>\n",
       "      <td>-0.403883</td>\n",
       "      <td>-3.219508</td>\n",
       "      <td>-0.563177</td>\n",
       "      <td>0.694631</td>\n",
       "    </tr>\n",
       "  </tbody>\n",
       "</table>\n",
       "</div>"
      ],
      "text/plain": [
       "     PAYEMS  DPCERA3M086SBEA      M2SL  BUSLOANS       P/E  Data PC1  \\\n",
       "0 -2.175660        -1.957760 -1.344846 -1.302729 -0.433545 -3.352456   \n",
       "1 -2.120532        -1.925919 -1.340948 -1.298010 -0.425584 -3.305598   \n",
       "2 -2.087429        -1.905669 -1.333881 -1.291649 -0.416424 -3.273017   \n",
       "3 -2.065926        -1.890172 -1.330852 -1.282178 -0.430207 -3.247596   \n",
       "4 -2.023179        -1.884703 -1.327542 -1.273428 -0.403883 -3.219508   \n",
       "\n",
       "   Data PC2  Data PC3  \n",
       "0 -0.596949  0.801756  \n",
       "1 -0.588128  0.758396  \n",
       "2 -0.578067  0.735699  \n",
       "3 -0.590550  0.723100  \n",
       "4 -0.563177  0.694631  "
      ]
     },
     "execution_count": 26,
     "metadata": {},
     "output_type": "execute_result"
    }
   ],
   "source": [
    "final_data=pd.concat([scaled_train,principalDf],axis=1)\n",
    "final_data.head()"
   ]
  },
  {
   "cell_type": "code",
   "execution_count": 27,
   "id": "1dd730b5",
   "metadata": {},
   "outputs": [
    {
     "data": {
      "text/html": [
       "<style type=\"text/css\">\n",
       "#T_cbfa5_row4_col0 {\n",
       "  background-color: yellow;\n",
       "}\n",
       "</style>\n",
       "<table id=\"T_cbfa5\">\n",
       "  <thead>\n",
       "    <tr>\n",
       "      <th class=\"blank level0\" >&nbsp;</th>\n",
       "      <th id=\"T_cbfa5_level0_col0\" class=\"col_heading level0 col0\" >Data PC2</th>\n",
       "      <th id=\"T_cbfa5_level0_col1\" class=\"col_heading level0 col1\" >Data PC3</th>\n",
       "    </tr>\n",
       "  </thead>\n",
       "  <tbody>\n",
       "    <tr>\n",
       "      <th id=\"T_cbfa5_level0_row0\" class=\"row_heading level0 row0\" >PAYEMS</th>\n",
       "      <td id=\"T_cbfa5_row0_col0\" class=\"data row0 col0\" >0.500000</td>\n",
       "      <td id=\"T_cbfa5_row0_col1\" class=\"data row0 col1\" >30.000000</td>\n",
       "    </tr>\n",
       "    <tr>\n",
       "      <th id=\"T_cbfa5_level0_row1\" class=\"row_heading level0 row1\" >DPCERA3M086SBEA</th>\n",
       "      <td id=\"T_cbfa5_row1_col0\" class=\"data row1 col0\" >0.300000</td>\n",
       "      <td id=\"T_cbfa5_row1_col1\" class=\"data row1 col1\" >7.800000</td>\n",
       "    </tr>\n",
       "    <tr>\n",
       "      <th id=\"T_cbfa5_level0_row2\" class=\"row_heading level0 row2\" >M2SL</th>\n",
       "      <td id=\"T_cbfa5_row2_col0\" class=\"data row2 col0\" >0.400000</td>\n",
       "      <td id=\"T_cbfa5_row2_col1\" class=\"data row2 col1\" >18.800000</td>\n",
       "    </tr>\n",
       "    <tr>\n",
       "      <th id=\"T_cbfa5_level0_row3\" class=\"row_heading level0 row3\" >BUSLOANS</th>\n",
       "      <td id=\"T_cbfa5_row3_col0\" class=\"data row3 col0\" >11.100000</td>\n",
       "      <td id=\"T_cbfa5_row3_col1\" class=\"data row3 col1\" >18.100000</td>\n",
       "    </tr>\n",
       "    <tr>\n",
       "      <th id=\"T_cbfa5_level0_row4\" class=\"row_heading level0 row4\" >P/E</th>\n",
       "      <td id=\"T_cbfa5_row4_col0\" class=\"data row4 col0\" >99.300000</td>\n",
       "      <td id=\"T_cbfa5_row4_col1\" class=\"data row4 col1\" >1.900000</td>\n",
       "    </tr>\n",
       "    <tr>\n",
       "      <th id=\"T_cbfa5_level0_row5\" class=\"row_heading level0 row5\" >Data PC1</th>\n",
       "      <td id=\"T_cbfa5_row5_col0\" class=\"data row5 col0\" >0.000000</td>\n",
       "      <td id=\"T_cbfa5_row5_col1\" class=\"data row5 col1\" >0.000000</td>\n",
       "    </tr>\n",
       "  </tbody>\n",
       "</table>\n"
      ],
      "text/plain": [
       "<pandas.io.formats.style.Styler at 0x1db75ffc400>"
      ]
     },
     "execution_count": 27,
     "metadata": {},
     "output_type": "execute_result"
    }
   ],
   "source": [
    "Correlation_Matrix=pd.DataFrame(round(final_data.corr(),3))*100\n",
    "Correlation_Matrix=abs(Correlation_Matrix.iloc[0:6,6:9])\n",
    "Correlation_Matrix.style.applymap(lambda x: 'background-color : yellow' if x > 50 else '')"
   ]
  },
  {
   "cell_type": "markdown",
   "id": "2cda6c94",
   "metadata": {},
   "source": [
    "Data PC2 = P/E"
   ]
  },
  {
   "cell_type": "markdown",
   "id": "018f9c1d",
   "metadata": {},
   "source": [
    "# Submission to Business"
   ]
  },
  {
   "cell_type": "markdown",
   "id": "7af5fe68",
   "metadata": {},
   "source": [
    "# Coefficient Values"
   ]
  },
  {
   "cell_type": "code",
   "execution_count": 28,
   "id": "7211dad7",
   "metadata": {},
   "outputs": [
    {
     "data": {
      "text/plain": [
       "array([[ 0.48941354,  0.504066  ,  0.50533967,  0.497258  , -0.06130384],\n",
       "       [ 0.00498751,  0.00304359,  0.00365569,  0.11081236,  0.99381745],\n",
       "       [-0.73958039, -0.19236846,  0.46259475,  0.44697844, -0.04723974]])"
      ]
     },
     "execution_count": 28,
     "metadata": {},
     "output_type": "execute_result"
    }
   ],
   "source": [
    "principalComponents.components_"
   ]
  },
  {
   "cell_type": "code",
   "execution_count": 29,
   "id": "793b79e9",
   "metadata": {},
   "outputs": [
    {
     "data": {
      "text/html": [
       "<div>\n",
       "<style scoped>\n",
       "    .dataframe tbody tr th:only-of-type {\n",
       "        vertical-align: middle;\n",
       "    }\n",
       "\n",
       "    .dataframe tbody tr th {\n",
       "        vertical-align: top;\n",
       "    }\n",
       "\n",
       "    .dataframe thead th {\n",
       "        text-align: right;\n",
       "    }\n",
       "</style>\n",
       "<table border=\"1\" class=\"dataframe\">\n",
       "  <thead>\n",
       "    <tr style=\"text-align: right;\">\n",
       "      <th></th>\n",
       "      <th>Data PC1</th>\n",
       "      <th>Data PC2</th>\n",
       "      <th>Data PC3</th>\n",
       "    </tr>\n",
       "  </thead>\n",
       "  <tbody>\n",
       "    <tr>\n",
       "      <th>0</th>\n",
       "      <td>-3.352456</td>\n",
       "      <td>-0.596949</td>\n",
       "      <td>0.801756</td>\n",
       "    </tr>\n",
       "    <tr>\n",
       "      <th>1</th>\n",
       "      <td>-3.305598</td>\n",
       "      <td>-0.588128</td>\n",
       "      <td>0.758396</td>\n",
       "    </tr>\n",
       "    <tr>\n",
       "      <th>2</th>\n",
       "      <td>-3.273017</td>\n",
       "      <td>-0.578067</td>\n",
       "      <td>0.735699</td>\n",
       "    </tr>\n",
       "    <tr>\n",
       "      <th>3</th>\n",
       "      <td>-3.247596</td>\n",
       "      <td>-0.590550</td>\n",
       "      <td>0.723100</td>\n",
       "    </tr>\n",
       "    <tr>\n",
       "      <th>4</th>\n",
       "      <td>-3.219508</td>\n",
       "      <td>-0.563177</td>\n",
       "      <td>0.694631</td>\n",
       "    </tr>\n",
       "    <tr>\n",
       "      <th>...</th>\n",
       "      <td>...</td>\n",
       "      <td>...</td>\n",
       "      <td>...</td>\n",
       "    </tr>\n",
       "    <tr>\n",
       "      <th>288</th>\n",
       "      <td>3.997616</td>\n",
       "      <td>0.219663</td>\n",
       "      <td>-0.250313</td>\n",
       "    </tr>\n",
       "    <tr>\n",
       "      <th>289</th>\n",
       "      <td>3.959197</td>\n",
       "      <td>0.072338</td>\n",
       "      <td>0.256751</td>\n",
       "    </tr>\n",
       "    <tr>\n",
       "      <th>290</th>\n",
       "      <td>2.673557</td>\n",
       "      <td>0.310211</td>\n",
       "      <td>2.887059</td>\n",
       "    </tr>\n",
       "    <tr>\n",
       "      <th>291</th>\n",
       "      <td>3.350853</td>\n",
       "      <td>0.407866</td>\n",
       "      <td>2.721565</td>\n",
       "    </tr>\n",
       "    <tr>\n",
       "      <th>292</th>\n",
       "      <td>3.799477</td>\n",
       "      <td>0.418003</td>\n",
       "      <td>2.120532</td>\n",
       "    </tr>\n",
       "  </tbody>\n",
       "</table>\n",
       "<p>293 rows × 3 columns</p>\n",
       "</div>"
      ],
      "text/plain": [
       "     Data PC1  Data PC2  Data PC3\n",
       "0   -3.352456 -0.596949  0.801756\n",
       "1   -3.305598 -0.588128  0.758396\n",
       "2   -3.273017 -0.578067  0.735699\n",
       "3   -3.247596 -0.590550  0.723100\n",
       "4   -3.219508 -0.563177  0.694631\n",
       "..        ...       ...       ...\n",
       "288  3.997616  0.219663 -0.250313\n",
       "289  3.959197  0.072338  0.256751\n",
       "290  2.673557  0.310211  2.887059\n",
       "291  3.350853  0.407866  2.721565\n",
       "292  3.799477  0.418003  2.120532\n",
       "\n",
       "[293 rows x 3 columns]"
      ]
     },
     "execution_count": 29,
     "metadata": {},
     "output_type": "execute_result"
    }
   ],
   "source": [
    "principalDf"
   ]
  },
  {
   "cell_type": "markdown",
   "id": "f027b9ef",
   "metadata": {},
   "source": [
    "# Converting Unsupervised to Supervised -- Combining PC's & Y Variable"
   ]
  },
  {
   "cell_type": "code",
   "execution_count": 30,
   "id": "67c7ea73",
   "metadata": {},
   "outputs": [
    {
     "data": {
      "text/html": [
       "<div>\n",
       "<style scoped>\n",
       "    .dataframe tbody tr th:only-of-type {\n",
       "        vertical-align: middle;\n",
       "    }\n",
       "\n",
       "    .dataframe tbody tr th {\n",
       "        vertical-align: top;\n",
       "    }\n",
       "\n",
       "    .dataframe thead th {\n",
       "        text-align: right;\n",
       "    }\n",
       "</style>\n",
       "<table border=\"1\" class=\"dataframe\">\n",
       "  <thead>\n",
       "    <tr style=\"text-align: right;\">\n",
       "      <th></th>\n",
       "      <th>Data PC1</th>\n",
       "      <th>Data PC2</th>\n",
       "      <th>Data PC3</th>\n",
       "      <th>Regime</th>\n",
       "    </tr>\n",
       "  </thead>\n",
       "  <tbody>\n",
       "    <tr>\n",
       "      <th>0</th>\n",
       "      <td>-3.352456</td>\n",
       "      <td>-0.596949</td>\n",
       "      <td>0.801756</td>\n",
       "      <td>Normal</td>\n",
       "    </tr>\n",
       "    <tr>\n",
       "      <th>1</th>\n",
       "      <td>-3.305598</td>\n",
       "      <td>-0.588128</td>\n",
       "      <td>0.758396</td>\n",
       "      <td>Normal</td>\n",
       "    </tr>\n",
       "    <tr>\n",
       "      <th>2</th>\n",
       "      <td>-3.273017</td>\n",
       "      <td>-0.578067</td>\n",
       "      <td>0.735699</td>\n",
       "      <td>Normal</td>\n",
       "    </tr>\n",
       "    <tr>\n",
       "      <th>3</th>\n",
       "      <td>-3.247596</td>\n",
       "      <td>-0.590550</td>\n",
       "      <td>0.723100</td>\n",
       "      <td>Normal</td>\n",
       "    </tr>\n",
       "    <tr>\n",
       "      <th>4</th>\n",
       "      <td>-3.219508</td>\n",
       "      <td>-0.563177</td>\n",
       "      <td>0.694631</td>\n",
       "      <td>Normal</td>\n",
       "    </tr>\n",
       "    <tr>\n",
       "      <th>...</th>\n",
       "      <td>...</td>\n",
       "      <td>...</td>\n",
       "      <td>...</td>\n",
       "      <td>...</td>\n",
       "    </tr>\n",
       "    <tr>\n",
       "      <th>288</th>\n",
       "      <td>3.997616</td>\n",
       "      <td>0.219663</td>\n",
       "      <td>-0.250313</td>\n",
       "      <td>Normal</td>\n",
       "    </tr>\n",
       "    <tr>\n",
       "      <th>289</th>\n",
       "      <td>3.959197</td>\n",
       "      <td>0.072338</td>\n",
       "      <td>0.256751</td>\n",
       "      <td>Recession</td>\n",
       "    </tr>\n",
       "    <tr>\n",
       "      <th>290</th>\n",
       "      <td>2.673557</td>\n",
       "      <td>0.310211</td>\n",
       "      <td>2.887059</td>\n",
       "      <td>Recession</td>\n",
       "    </tr>\n",
       "    <tr>\n",
       "      <th>291</th>\n",
       "      <td>3.350853</td>\n",
       "      <td>0.407866</td>\n",
       "      <td>2.721565</td>\n",
       "      <td>Recession</td>\n",
       "    </tr>\n",
       "    <tr>\n",
       "      <th>292</th>\n",
       "      <td>3.799477</td>\n",
       "      <td>0.418003</td>\n",
       "      <td>2.120532</td>\n",
       "      <td>Recession</td>\n",
       "    </tr>\n",
       "  </tbody>\n",
       "</table>\n",
       "<p>293 rows × 4 columns</p>\n",
       "</div>"
      ],
      "text/plain": [
       "     Data PC1  Data PC2  Data PC3     Regime\n",
       "0   -3.352456 -0.596949  0.801756     Normal\n",
       "1   -3.305598 -0.588128  0.758396     Normal\n",
       "2   -3.273017 -0.578067  0.735699     Normal\n",
       "3   -3.247596 -0.590550  0.723100     Normal\n",
       "4   -3.219508 -0.563177  0.694631     Normal\n",
       "..        ...       ...       ...        ...\n",
       "288  3.997616  0.219663 -0.250313     Normal\n",
       "289  3.959197  0.072338  0.256751  Recession\n",
       "290  2.673557  0.310211  2.887059  Recession\n",
       "291  3.350853  0.407866  2.721565  Recession\n",
       "292  3.799477  0.418003  2.120532  Recession\n",
       "\n",
       "[293 rows x 4 columns]"
      ]
     },
     "execution_count": 30,
     "metadata": {},
     "output_type": "execute_result"
    }
   ],
   "source": [
    "data=pd.concat([principalDf,y_train],axis=1)\n",
    "data"
   ]
  },
  {
   "cell_type": "markdown",
   "id": "e430678a",
   "metadata": {},
   "source": [
    "# KNN"
   ]
  },
  {
   "cell_type": "code",
   "execution_count": 31,
   "id": "626b495b",
   "metadata": {},
   "outputs": [],
   "source": [
    "import numpy as np, pandas as pd\n",
    "import matplotlib.pyplot as plt\n",
    "from sklearn.neighbors import KNeighborsClassifier"
   ]
  },
  {
   "cell_type": "markdown",
   "id": "bdfe01d6",
   "metadata": {},
   "source": [
    "# Step 1 : Data Partition"
   ]
  },
  {
   "cell_type": "code",
   "execution_count": 32,
   "id": "163b21e5",
   "metadata": {},
   "outputs": [],
   "source": [
    "#Dividing data into train and test dataset\n",
    "from sklearn.model_selection import train_test_split\n",
    "#from random import seed\n",
    "\n",
    "#seed(20)\n",
    "train_x = data.drop(['Regime'],axis=1)\n",
    "train_y = data['Regime']\n",
    "\n",
    "# Train test split\n",
    "\n",
    "X_train, X_test, y_train, y_test = train_test_split(train_x, train_y, test_size=0.3,random_state=20)"
   ]
  },
  {
   "cell_type": "code",
   "execution_count": 33,
   "id": "b2305f3a",
   "metadata": {},
   "outputs": [
    {
     "data": {
      "text/html": [
       "<div>\n",
       "<style scoped>\n",
       "    .dataframe tbody tr th:only-of-type {\n",
       "        vertical-align: middle;\n",
       "    }\n",
       "\n",
       "    .dataframe tbody tr th {\n",
       "        vertical-align: top;\n",
       "    }\n",
       "\n",
       "    .dataframe thead th {\n",
       "        text-align: right;\n",
       "    }\n",
       "</style>\n",
       "<table border=\"1\" class=\"dataframe\">\n",
       "  <thead>\n",
       "    <tr style=\"text-align: right;\">\n",
       "      <th></th>\n",
       "      <th>Data PC1</th>\n",
       "      <th>Data PC2</th>\n",
       "      <th>Data PC3</th>\n",
       "    </tr>\n",
       "  </thead>\n",
       "  <tbody>\n",
       "    <tr>\n",
       "      <th>205</th>\n",
       "      <td>0.732968</td>\n",
       "      <td>-0.447012</td>\n",
       "      <td>0.253586</td>\n",
       "    </tr>\n",
       "    <tr>\n",
       "      <th>119</th>\n",
       "      <td>-0.527331</td>\n",
       "      <td>-0.569629</td>\n",
       "      <td>-0.524837</td>\n",
       "    </tr>\n",
       "    <tr>\n",
       "      <th>95</th>\n",
       "      <td>-1.326900</td>\n",
       "      <td>-0.293789</td>\n",
       "      <td>-0.224735</td>\n",
       "    </tr>\n",
       "    <tr>\n",
       "      <th>222</th>\n",
       "      <td>1.437487</td>\n",
       "      <td>-0.333828</td>\n",
       "      <td>0.162082</td>\n",
       "    </tr>\n",
       "    <tr>\n",
       "      <th>132</th>\n",
       "      <td>-0.087569</td>\n",
       "      <td>-0.575155</td>\n",
       "      <td>-0.570189</td>\n",
       "    </tr>\n",
       "  </tbody>\n",
       "</table>\n",
       "</div>"
      ],
      "text/plain": [
       "     Data PC1  Data PC2  Data PC3\n",
       "205  0.732968 -0.447012  0.253586\n",
       "119 -0.527331 -0.569629 -0.524837\n",
       "95  -1.326900 -0.293789 -0.224735\n",
       "222  1.437487 -0.333828  0.162082\n",
       "132 -0.087569 -0.575155 -0.570189"
      ]
     },
     "execution_count": 33,
     "metadata": {},
     "output_type": "execute_result"
    }
   ],
   "source": [
    "X_train.head()"
   ]
  },
  {
   "cell_type": "markdown",
   "id": "df6e1175",
   "metadata": {},
   "source": [
    "# Scaling Data"
   ]
  },
  {
   "cell_type": "code",
   "execution_count": 34,
   "id": "0b5e1460",
   "metadata": {},
   "outputs": [],
   "source": [
    "from sklearn.preprocessing import StandardScaler ,minmax_scale\n",
    "scaler = StandardScaler()   # converting data into Z-scale = X-mean / Standard Deviation\n",
    "#scaler.fit(X_train)         # Mean = 0 & standard Deviation =1\n",
    "\n",
    "X_train = scaler.fit_transform(X_train)\n",
    "X_test = scaler.transform(X_test)"
   ]
  },
  {
   "cell_type": "code",
   "execution_count": 35,
   "id": "1d93ccad",
   "metadata": {},
   "outputs": [
    {
     "data": {
      "text/plain": [
       "array([[ 0.35608906, -0.43035354,  0.72352353],\n",
       "       [-0.2903741 , -0.54421867, -1.39592795],\n",
       "       [-0.70050855, -0.28806659, -0.57882571],\n",
       "       [ 0.71746787, -0.32524797,  0.47438205],\n",
       "       [-0.06480059, -0.5493498 , -1.51941067]])"
      ]
     },
     "execution_count": 35,
     "metadata": {},
     "output_type": "execute_result"
    }
   ],
   "source": [
    "X_train[0:5]"
   ]
  },
  {
   "cell_type": "code",
   "execution_count": 36,
   "id": "8b0985e7",
   "metadata": {},
   "outputs": [
    {
     "data": {
      "text/plain": [
       "array([-4.33257766e-18, -2.59954659e-17,  2.16628883e-17])"
      ]
     },
     "execution_count": 36,
     "metadata": {},
     "output_type": "execute_result"
    }
   ],
   "source": [
    "X_train.mean(axis=0)"
   ]
  },
  {
   "cell_type": "code",
   "execution_count": 37,
   "id": "ca04442d",
   "metadata": {},
   "outputs": [
    {
     "data": {
      "text/plain": [
       "array([1., 1., 1.])"
      ]
     },
     "execution_count": 37,
     "metadata": {},
     "output_type": "execute_result"
    }
   ],
   "source": [
    "X_train.std(axis=0)"
   ]
  },
  {
   "cell_type": "markdown",
   "id": "c3fd570f",
   "metadata": {},
   "source": [
    "# Model Building"
   ]
  },
  {
   "cell_type": "code",
   "execution_count": 38,
   "id": "58dc9f9f",
   "metadata": {},
   "outputs": [
    {
     "data": {
      "text/plain": [
       "KNeighborsClassifier(n_neighbors=8)"
      ]
     },
     "execution_count": 38,
     "metadata": {},
     "output_type": "execute_result"
    }
   ],
   "source": [
    "# train the decision tree\n",
    "## Instantiate the model with 5 neighbors. \n",
    "model = KNeighborsClassifier(n_neighbors=8)\n",
    "## Fit the model on the training data.\n",
    "model.fit(X_train, y_train)"
   ]
  },
  {
   "cell_type": "markdown",
   "id": "694ab5e5",
   "metadata": {},
   "source": [
    "# Predictions on Train Dataset"
   ]
  },
  {
   "cell_type": "code",
   "execution_count": 39,
   "id": "93e29d40",
   "metadata": {},
   "outputs": [
    {
     "data": {
      "text/html": [
       "<div>\n",
       "<style scoped>\n",
       "    .dataframe tbody tr th:only-of-type {\n",
       "        vertical-align: middle;\n",
       "    }\n",
       "\n",
       "    .dataframe tbody tr th {\n",
       "        vertical-align: top;\n",
       "    }\n",
       "\n",
       "    .dataframe thead th {\n",
       "        text-align: right;\n",
       "    }\n",
       "</style>\n",
       "<table border=\"1\" class=\"dataframe\">\n",
       "  <thead>\n",
       "    <tr style=\"text-align: right;\">\n",
       "      <th></th>\n",
       "      <th>Data PC1</th>\n",
       "      <th>Data PC2</th>\n",
       "      <th>Data PC3</th>\n",
       "    </tr>\n",
       "  </thead>\n",
       "  <tbody>\n",
       "    <tr>\n",
       "      <th>0</th>\n",
       "      <td>0.356089</td>\n",
       "      <td>-0.430354</td>\n",
       "      <td>0.723524</td>\n",
       "    </tr>\n",
       "    <tr>\n",
       "      <th>1</th>\n",
       "      <td>-0.290374</td>\n",
       "      <td>-0.544219</td>\n",
       "      <td>-1.395928</td>\n",
       "    </tr>\n",
       "    <tr>\n",
       "      <th>2</th>\n",
       "      <td>-0.700509</td>\n",
       "      <td>-0.288067</td>\n",
       "      <td>-0.578826</td>\n",
       "    </tr>\n",
       "    <tr>\n",
       "      <th>3</th>\n",
       "      <td>0.717468</td>\n",
       "      <td>-0.325248</td>\n",
       "      <td>0.474382</td>\n",
       "    </tr>\n",
       "    <tr>\n",
       "      <th>4</th>\n",
       "      <td>-0.064801</td>\n",
       "      <td>-0.549350</td>\n",
       "      <td>-1.519411</td>\n",
       "    </tr>\n",
       "  </tbody>\n",
       "</table>\n",
       "</div>"
      ],
      "text/plain": [
       "   Data PC1  Data PC2  Data PC3\n",
       "0  0.356089 -0.430354  0.723524\n",
       "1 -0.290374 -0.544219 -1.395928\n",
       "2 -0.700509 -0.288067 -0.578826\n",
       "3  0.717468 -0.325248  0.474382\n",
       "4 -0.064801 -0.549350 -1.519411"
      ]
     },
     "execution_count": 39,
     "metadata": {},
     "output_type": "execute_result"
    }
   ],
   "source": [
    "X_train=pd.DataFrame(X_train,columns=['Data PC1','Data PC2','Data PC3'])\n",
    "X_train.head()"
   ]
  },
  {
   "cell_type": "code",
   "execution_count": 40,
   "id": "f663f314",
   "metadata": {},
   "outputs": [],
   "source": [
    "y_train.reset_index(drop=True, inplace=True)"
   ]
  },
  {
   "cell_type": "code",
   "execution_count": 41,
   "id": "b8157b5d",
   "metadata": {},
   "outputs": [
    {
     "data": {
      "text/html": [
       "<div>\n",
       "<style scoped>\n",
       "    .dataframe tbody tr th:only-of-type {\n",
       "        vertical-align: middle;\n",
       "    }\n",
       "\n",
       "    .dataframe tbody tr th {\n",
       "        vertical-align: top;\n",
       "    }\n",
       "\n",
       "    .dataframe thead th {\n",
       "        text-align: right;\n",
       "    }\n",
       "</style>\n",
       "<table border=\"1\" class=\"dataframe\">\n",
       "  <thead>\n",
       "    <tr style=\"text-align: right;\">\n",
       "      <th></th>\n",
       "      <th>Data PC1</th>\n",
       "      <th>Data PC2</th>\n",
       "      <th>Data PC3</th>\n",
       "      <th>Regime</th>\n",
       "    </tr>\n",
       "  </thead>\n",
       "  <tbody>\n",
       "    <tr>\n",
       "      <th>0</th>\n",
       "      <td>0.356089</td>\n",
       "      <td>-0.430354</td>\n",
       "      <td>0.723524</td>\n",
       "      <td>Normal</td>\n",
       "    </tr>\n",
       "    <tr>\n",
       "      <th>1</th>\n",
       "      <td>-0.290374</td>\n",
       "      <td>-0.544219</td>\n",
       "      <td>-1.395928</td>\n",
       "      <td>Normal</td>\n",
       "    </tr>\n",
       "    <tr>\n",
       "      <th>2</th>\n",
       "      <td>-0.700509</td>\n",
       "      <td>-0.288067</td>\n",
       "      <td>-0.578826</td>\n",
       "      <td>Normal</td>\n",
       "    </tr>\n",
       "    <tr>\n",
       "      <th>3</th>\n",
       "      <td>0.717468</td>\n",
       "      <td>-0.325248</td>\n",
       "      <td>0.474382</td>\n",
       "      <td>Normal</td>\n",
       "    </tr>\n",
       "    <tr>\n",
       "      <th>4</th>\n",
       "      <td>-0.064801</td>\n",
       "      <td>-0.549350</td>\n",
       "      <td>-1.519411</td>\n",
       "      <td>Normal</td>\n",
       "    </tr>\n",
       "  </tbody>\n",
       "</table>\n",
       "</div>"
      ],
      "text/plain": [
       "   Data PC1  Data PC2  Data PC3  Regime\n",
       "0  0.356089 -0.430354  0.723524  Normal\n",
       "1 -0.290374 -0.544219 -1.395928  Normal\n",
       "2 -0.700509 -0.288067 -0.578826  Normal\n",
       "3  0.717468 -0.325248  0.474382  Normal\n",
       "4 -0.064801 -0.549350 -1.519411  Normal"
      ]
     },
     "execution_count": 41,
     "metadata": {},
     "output_type": "execute_result"
    }
   ],
   "source": [
    "train=pd.concat([X_train,y_train],axis=1)\n",
    "train.head()"
   ]
  },
  {
   "cell_type": "code",
   "execution_count": 42,
   "id": "2d3bc85e",
   "metadata": {},
   "outputs": [
    {
     "name": "stderr",
     "output_type": "stream",
     "text": [
      "C:\\Users\\admin\\anaconda3\\lib\\site-packages\\sklearn\\base.py:443: UserWarning: X has feature names, but KNeighborsClassifier was fitted without feature names\n",
      "  warnings.warn(\n",
      "C:\\Users\\admin\\anaconda3\\lib\\site-packages\\sklearn\\neighbors\\_classification.py:228: FutureWarning: Unlike other reduction functions (e.g. `skew`, `kurtosis`), the default behavior of `mode` typically preserves the axis it acts along. In SciPy 1.11.0, this behavior will change: the default value of `keepdims` will become False, the `axis` over which the statistic is taken will be eliminated, and the value None will no longer be accepted. Set `keepdims` to True or False to avoid this warning.\n",
      "  mode, _ = stats.mode(_y[neigh_ind, k], axis=1)\n"
     ]
    },
    {
     "data": {
      "text/html": [
       "<div>\n",
       "<style scoped>\n",
       "    .dataframe tbody tr th:only-of-type {\n",
       "        vertical-align: middle;\n",
       "    }\n",
       "\n",
       "    .dataframe tbody tr th {\n",
       "        vertical-align: top;\n",
       "    }\n",
       "\n",
       "    .dataframe thead th {\n",
       "        text-align: right;\n",
       "    }\n",
       "</style>\n",
       "<table border=\"1\" class=\"dataframe\">\n",
       "  <thead>\n",
       "    <tr style=\"text-align: right;\">\n",
       "      <th></th>\n",
       "      <th>Data PC1</th>\n",
       "      <th>Data PC2</th>\n",
       "      <th>Data PC3</th>\n",
       "      <th>Regime</th>\n",
       "      <th>Predicted</th>\n",
       "    </tr>\n",
       "  </thead>\n",
       "  <tbody>\n",
       "    <tr>\n",
       "      <th>0</th>\n",
       "      <td>0.356089</td>\n",
       "      <td>-0.430354</td>\n",
       "      <td>0.723524</td>\n",
       "      <td>Normal</td>\n",
       "      <td>Normal</td>\n",
       "    </tr>\n",
       "    <tr>\n",
       "      <th>1</th>\n",
       "      <td>-0.290374</td>\n",
       "      <td>-0.544219</td>\n",
       "      <td>-1.395928</td>\n",
       "      <td>Normal</td>\n",
       "      <td>Normal</td>\n",
       "    </tr>\n",
       "    <tr>\n",
       "      <th>2</th>\n",
       "      <td>-0.700509</td>\n",
       "      <td>-0.288067</td>\n",
       "      <td>-0.578826</td>\n",
       "      <td>Normal</td>\n",
       "      <td>Normal</td>\n",
       "    </tr>\n",
       "    <tr>\n",
       "      <th>3</th>\n",
       "      <td>0.717468</td>\n",
       "      <td>-0.325248</td>\n",
       "      <td>0.474382</td>\n",
       "      <td>Normal</td>\n",
       "      <td>Normal</td>\n",
       "    </tr>\n",
       "    <tr>\n",
       "      <th>4</th>\n",
       "      <td>-0.064801</td>\n",
       "      <td>-0.549350</td>\n",
       "      <td>-1.519411</td>\n",
       "      <td>Normal</td>\n",
       "      <td>Normal</td>\n",
       "    </tr>\n",
       "  </tbody>\n",
       "</table>\n",
       "</div>"
      ],
      "text/plain": [
       "   Data PC1  Data PC2  Data PC3  Regime Predicted\n",
       "0  0.356089 -0.430354  0.723524  Normal    Normal\n",
       "1 -0.290374 -0.544219 -1.395928  Normal    Normal\n",
       "2 -0.700509 -0.288067 -0.578826  Normal    Normal\n",
       "3  0.717468 -0.325248  0.474382  Normal    Normal\n",
       "4 -0.064801 -0.549350 -1.519411  Normal    Normal"
      ]
     },
     "execution_count": 42,
     "metadata": {},
     "output_type": "execute_result"
    }
   ],
   "source": [
    "train['Predicted']=model.predict(X_train)\n",
    "train.head()"
   ]
  },
  {
   "cell_type": "markdown",
   "id": "b5b3fc14",
   "metadata": {},
   "source": [
    "# Model Performance Metrics"
   ]
  },
  {
   "cell_type": "code",
   "execution_count": 43,
   "id": "cad089cb",
   "metadata": {},
   "outputs": [
    {
     "name": "stdout",
     "output_type": "stream",
     "text": [
      "[[184   2]\n",
      " [  8  11]]\n"
     ]
    }
   ],
   "source": [
    "from sklearn.metrics import confusion_matrix\n",
    "confusion_matrix = confusion_matrix(train['Regime'],train['Predicted'])\n",
    "print(confusion_matrix)"
   ]
  },
  {
   "cell_type": "code",
   "execution_count": 44,
   "id": "d567786b",
   "metadata": {},
   "outputs": [
    {
     "name": "stdout",
     "output_type": "stream",
     "text": [
      "95.1219512195122\n"
     ]
    }
   ],
   "source": [
    "Accuracy_Train=((184+11)/(205)*100)\n",
    "print(Accuracy_Train)"
   ]
  },
  {
   "cell_type": "markdown",
   "id": "d05ee59b",
   "metadata": {},
   "source": [
    "# Accuracy of Train in KNN in Train is 95%"
   ]
  },
  {
   "cell_type": "code",
   "execution_count": 45,
   "id": "11e0872b",
   "metadata": {},
   "outputs": [
    {
     "name": "stdout",
     "output_type": "stream",
     "text": [
      "              precision    recall  f1-score   support\n",
      "\n",
      "      Normal       0.96      0.99      0.97       186\n",
      "   Recession       0.85      0.58      0.69        19\n",
      "\n",
      "    accuracy                           0.95       205\n",
      "   macro avg       0.90      0.78      0.83       205\n",
      "weighted avg       0.95      0.95      0.95       205\n",
      "\n"
     ]
    }
   ],
   "source": [
    "from sklearn.metrics import classification_report\n",
    "print(classification_report(train['Regime'], train['Predicted']))"
   ]
  },
  {
   "cell_type": "markdown",
   "id": "9141b404",
   "metadata": {},
   "source": [
    "# Step 8 : Predictions on Test Dataset"
   ]
  },
  {
   "cell_type": "code",
   "execution_count": 46,
   "id": "9b39f052",
   "metadata": {},
   "outputs": [
    {
     "data": {
      "text/html": [
       "<div>\n",
       "<style scoped>\n",
       "    .dataframe tbody tr th:only-of-type {\n",
       "        vertical-align: middle;\n",
       "    }\n",
       "\n",
       "    .dataframe tbody tr th {\n",
       "        vertical-align: top;\n",
       "    }\n",
       "\n",
       "    .dataframe thead th {\n",
       "        text-align: right;\n",
       "    }\n",
       "</style>\n",
       "<table border=\"1\" class=\"dataframe\">\n",
       "  <thead>\n",
       "    <tr style=\"text-align: right;\">\n",
       "      <th></th>\n",
       "      <th>Data PC1</th>\n",
       "      <th>Data PC2</th>\n",
       "      <th>Data PC3</th>\n",
       "    </tr>\n",
       "  </thead>\n",
       "  <tbody>\n",
       "    <tr>\n",
       "      <th>0</th>\n",
       "      <td>1.693160</td>\n",
       "      <td>-0.059338</td>\n",
       "      <td>-0.375587</td>\n",
       "    </tr>\n",
       "    <tr>\n",
       "      <th>1</th>\n",
       "      <td>-0.419190</td>\n",
       "      <td>-0.493405</td>\n",
       "      <td>-1.222543</td>\n",
       "    </tr>\n",
       "    <tr>\n",
       "      <th>2</th>\n",
       "      <td>-0.738305</td>\n",
       "      <td>0.385793</td>\n",
       "      <td>-0.753835</td>\n",
       "    </tr>\n",
       "    <tr>\n",
       "      <th>3</th>\n",
       "      <td>-0.231292</td>\n",
       "      <td>-0.537295</td>\n",
       "      <td>-1.504156</td>\n",
       "    </tr>\n",
       "    <tr>\n",
       "      <th>4</th>\n",
       "      <td>1.929037</td>\n",
       "      <td>0.372920</td>\n",
       "      <td>5.806758</td>\n",
       "    </tr>\n",
       "  </tbody>\n",
       "</table>\n",
       "</div>"
      ],
      "text/plain": [
       "   Data PC1  Data PC2  Data PC3\n",
       "0  1.693160 -0.059338 -0.375587\n",
       "1 -0.419190 -0.493405 -1.222543\n",
       "2 -0.738305  0.385793 -0.753835\n",
       "3 -0.231292 -0.537295 -1.504156\n",
       "4  1.929037  0.372920  5.806758"
      ]
     },
     "execution_count": 46,
     "metadata": {},
     "output_type": "execute_result"
    }
   ],
   "source": [
    "X_test=pd.DataFrame(X_test,columns=['Data PC1','Data PC2','Data PC3'])\n",
    "X_test.head()"
   ]
  },
  {
   "cell_type": "code",
   "execution_count": 47,
   "id": "7541f17c",
   "metadata": {},
   "outputs": [],
   "source": [
    "y_test.reset_index(drop=True, inplace=True)"
   ]
  },
  {
   "cell_type": "code",
   "execution_count": 48,
   "id": "5bc7b6dc",
   "metadata": {},
   "outputs": [
    {
     "data": {
      "text/html": [
       "<div>\n",
       "<style scoped>\n",
       "    .dataframe tbody tr th:only-of-type {\n",
       "        vertical-align: middle;\n",
       "    }\n",
       "\n",
       "    .dataframe tbody tr th {\n",
       "        vertical-align: top;\n",
       "    }\n",
       "\n",
       "    .dataframe thead th {\n",
       "        text-align: right;\n",
       "    }\n",
       "</style>\n",
       "<table border=\"1\" class=\"dataframe\">\n",
       "  <thead>\n",
       "    <tr style=\"text-align: right;\">\n",
       "      <th></th>\n",
       "      <th>Data PC1</th>\n",
       "      <th>Data PC2</th>\n",
       "      <th>Data PC3</th>\n",
       "      <th>Regime</th>\n",
       "    </tr>\n",
       "  </thead>\n",
       "  <tbody>\n",
       "    <tr>\n",
       "      <th>0</th>\n",
       "      <td>1.693160</td>\n",
       "      <td>-0.059338</td>\n",
       "      <td>-0.375587</td>\n",
       "      <td>Normal</td>\n",
       "    </tr>\n",
       "    <tr>\n",
       "      <th>1</th>\n",
       "      <td>-0.419190</td>\n",
       "      <td>-0.493405</td>\n",
       "      <td>-1.222543</td>\n",
       "      <td>Normal</td>\n",
       "    </tr>\n",
       "    <tr>\n",
       "      <th>2</th>\n",
       "      <td>-0.738305</td>\n",
       "      <td>0.385793</td>\n",
       "      <td>-0.753835</td>\n",
       "      <td>Recession</td>\n",
       "    </tr>\n",
       "    <tr>\n",
       "      <th>3</th>\n",
       "      <td>-0.231292</td>\n",
       "      <td>-0.537295</td>\n",
       "      <td>-1.504156</td>\n",
       "      <td>Normal</td>\n",
       "    </tr>\n",
       "    <tr>\n",
       "      <th>4</th>\n",
       "      <td>1.929037</td>\n",
       "      <td>0.372920</td>\n",
       "      <td>5.806758</td>\n",
       "      <td>Recession</td>\n",
       "    </tr>\n",
       "  </tbody>\n",
       "</table>\n",
       "</div>"
      ],
      "text/plain": [
       "   Data PC1  Data PC2  Data PC3     Regime\n",
       "0  1.693160 -0.059338 -0.375587     Normal\n",
       "1 -0.419190 -0.493405 -1.222543     Normal\n",
       "2 -0.738305  0.385793 -0.753835  Recession\n",
       "3 -0.231292 -0.537295 -1.504156     Normal\n",
       "4  1.929037  0.372920  5.806758  Recession"
      ]
     },
     "execution_count": 48,
     "metadata": {},
     "output_type": "execute_result"
    }
   ],
   "source": [
    "test=pd.concat([X_test,y_test],axis=1)\n",
    "test.head()"
   ]
  },
  {
   "cell_type": "code",
   "execution_count": 49,
   "id": "6adbdb3f",
   "metadata": {},
   "outputs": [
    {
     "name": "stderr",
     "output_type": "stream",
     "text": [
      "C:\\Users\\admin\\anaconda3\\lib\\site-packages\\sklearn\\base.py:443: UserWarning: X has feature names, but KNeighborsClassifier was fitted without feature names\n",
      "  warnings.warn(\n",
      "C:\\Users\\admin\\anaconda3\\lib\\site-packages\\sklearn\\neighbors\\_classification.py:228: FutureWarning: Unlike other reduction functions (e.g. `skew`, `kurtosis`), the default behavior of `mode` typically preserves the axis it acts along. In SciPy 1.11.0, this behavior will change: the default value of `keepdims` will become False, the `axis` over which the statistic is taken will be eliminated, and the value None will no longer be accepted. Set `keepdims` to True or False to avoid this warning.\n",
      "  mode, _ = stats.mode(_y[neigh_ind, k], axis=1)\n"
     ]
    },
    {
     "data": {
      "text/html": [
       "<div>\n",
       "<style scoped>\n",
       "    .dataframe tbody tr th:only-of-type {\n",
       "        vertical-align: middle;\n",
       "    }\n",
       "\n",
       "    .dataframe tbody tr th {\n",
       "        vertical-align: top;\n",
       "    }\n",
       "\n",
       "    .dataframe thead th {\n",
       "        text-align: right;\n",
       "    }\n",
       "</style>\n",
       "<table border=\"1\" class=\"dataframe\">\n",
       "  <thead>\n",
       "    <tr style=\"text-align: right;\">\n",
       "      <th></th>\n",
       "      <th>Data PC1</th>\n",
       "      <th>Data PC2</th>\n",
       "      <th>Data PC3</th>\n",
       "      <th>Regime</th>\n",
       "      <th>Predicted</th>\n",
       "    </tr>\n",
       "  </thead>\n",
       "  <tbody>\n",
       "    <tr>\n",
       "      <th>0</th>\n",
       "      <td>1.693160</td>\n",
       "      <td>-0.059338</td>\n",
       "      <td>-0.375587</td>\n",
       "      <td>Normal</td>\n",
       "      <td>Normal</td>\n",
       "    </tr>\n",
       "    <tr>\n",
       "      <th>1</th>\n",
       "      <td>-0.419190</td>\n",
       "      <td>-0.493405</td>\n",
       "      <td>-1.222543</td>\n",
       "      <td>Normal</td>\n",
       "      <td>Normal</td>\n",
       "    </tr>\n",
       "    <tr>\n",
       "      <th>2</th>\n",
       "      <td>-0.738305</td>\n",
       "      <td>0.385793</td>\n",
       "      <td>-0.753835</td>\n",
       "      <td>Recession</td>\n",
       "      <td>Normal</td>\n",
       "    </tr>\n",
       "    <tr>\n",
       "      <th>3</th>\n",
       "      <td>-0.231292</td>\n",
       "      <td>-0.537295</td>\n",
       "      <td>-1.504156</td>\n",
       "      <td>Normal</td>\n",
       "      <td>Normal</td>\n",
       "    </tr>\n",
       "    <tr>\n",
       "      <th>4</th>\n",
       "      <td>1.929037</td>\n",
       "      <td>0.372920</td>\n",
       "      <td>5.806758</td>\n",
       "      <td>Recession</td>\n",
       "      <td>Normal</td>\n",
       "    </tr>\n",
       "  </tbody>\n",
       "</table>\n",
       "</div>"
      ],
      "text/plain": [
       "   Data PC1  Data PC2  Data PC3     Regime Predicted\n",
       "0  1.693160 -0.059338 -0.375587     Normal    Normal\n",
       "1 -0.419190 -0.493405 -1.222543     Normal    Normal\n",
       "2 -0.738305  0.385793 -0.753835  Recession    Normal\n",
       "3 -0.231292 -0.537295 -1.504156     Normal    Normal\n",
       "4  1.929037  0.372920  5.806758  Recession    Normal"
      ]
     },
     "execution_count": 49,
     "metadata": {},
     "output_type": "execute_result"
    }
   ],
   "source": [
    "test['Predicted']=model.predict(X_test)\n",
    "test.head()"
   ]
  },
  {
   "cell_type": "markdown",
   "id": "6b2bc55e",
   "metadata": {},
   "source": [
    "# Step 9 : Model Performance Metrics on Test data"
   ]
  },
  {
   "cell_type": "code",
   "execution_count": 50,
   "id": "bece6974",
   "metadata": {},
   "outputs": [
    {
     "name": "stdout",
     "output_type": "stream",
     "text": [
      "[[76  1]\n",
      " [ 6  5]]\n"
     ]
    }
   ],
   "source": [
    "from sklearn.metrics import confusion_matrix\n",
    "confusion_matrix = confusion_matrix(test['Regime'],test['Predicted'])\n",
    "print(confusion_matrix)"
   ]
  },
  {
   "cell_type": "code",
   "execution_count": 51,
   "id": "3bd099f3",
   "metadata": {},
   "outputs": [
    {
     "data": {
      "text/plain": [
       "92.04545454545455"
      ]
     },
     "execution_count": 51,
     "metadata": {},
     "output_type": "execute_result"
    }
   ],
   "source": [
    "Accuracy_test=((76+5)/(88)*100)\n",
    "Accuracy_test"
   ]
  },
  {
   "cell_type": "markdown",
   "id": "bb92e7bd",
   "metadata": {},
   "source": [
    "# Accuracy of Train and Test data is 95% and 92% respectively."
   ]
  },
  {
   "cell_type": "code",
   "execution_count": 52,
   "id": "ba31612b",
   "metadata": {},
   "outputs": [
    {
     "name": "stdout",
     "output_type": "stream",
     "text": [
      "              precision    recall  f1-score   support\n",
      "\n",
      "      Normal       0.93      0.99      0.96        77\n",
      "   Recession       0.83      0.45      0.59        11\n",
      "\n",
      "    accuracy                           0.92        88\n",
      "   macro avg       0.88      0.72      0.77        88\n",
      "weighted avg       0.92      0.92      0.91        88\n",
      "\n"
     ]
    }
   ],
   "source": [
    "from sklearn.metrics import classification_report\n",
    "print(classification_report(test['Regime'], test['Predicted']))"
   ]
  },
  {
   "cell_type": "markdown",
   "id": "6ddc7463",
   "metadata": {},
   "source": [
    "# Cross Validation Method - Random concept"
   ]
  },
  {
   "cell_type": "markdown",
   "id": "185158a2",
   "metadata": {},
   "source": [
    "To identify the best value of K"
   ]
  },
  {
   "cell_type": "code",
   "execution_count": 53,
   "id": "69f22cf0",
   "metadata": {},
   "outputs": [
    {
     "name": "stdout",
     "output_type": "stream",
     "text": [
      "Train Accuracy is  100.0        Test Accuracy is  97.0 % for K-Value: 1\n",
      "Train Accuracy is  98.0        Test Accuracy is  95.0 % for K-Value: 2\n",
      "Train Accuracy is  98.0        Test Accuracy is  94.0 % for K-Value: 3\n",
      "Train Accuracy is  98.0        Test Accuracy is  94.0 % for K-Value: 4\n",
      "Train Accuracy is  96.0        Test Accuracy is  92.0 % for K-Value: 5\n"
     ]
    },
    {
     "name": "stderr",
     "output_type": "stream",
     "text": [
      "C:\\Users\\admin\\anaconda3\\lib\\site-packages\\sklearn\\neighbors\\_classification.py:228: FutureWarning: Unlike other reduction functions (e.g. `skew`, `kurtosis`), the default behavior of `mode` typically preserves the axis it acts along. In SciPy 1.11.0, this behavior will change: the default value of `keepdims` will become False, the `axis` over which the statistic is taken will be eliminated, and the value None will no longer be accepted. Set `keepdims` to True or False to avoid this warning.\n",
      "  mode, _ = stats.mode(_y[neigh_ind, k], axis=1)\n",
      "C:\\Users\\admin\\anaconda3\\lib\\site-packages\\sklearn\\neighbors\\_classification.py:228: FutureWarning: Unlike other reduction functions (e.g. `skew`, `kurtosis`), the default behavior of `mode` typically preserves the axis it acts along. In SciPy 1.11.0, this behavior will change: the default value of `keepdims` will become False, the `axis` over which the statistic is taken will be eliminated, and the value None will no longer be accepted. Set `keepdims` to True or False to avoid this warning.\n",
      "  mode, _ = stats.mode(_y[neigh_ind, k], axis=1)\n",
      "C:\\Users\\admin\\anaconda3\\lib\\site-packages\\sklearn\\neighbors\\_classification.py:228: FutureWarning: Unlike other reduction functions (e.g. `skew`, `kurtosis`), the default behavior of `mode` typically preserves the axis it acts along. In SciPy 1.11.0, this behavior will change: the default value of `keepdims` will become False, the `axis` over which the statistic is taken will be eliminated, and the value None will no longer be accepted. Set `keepdims` to True or False to avoid this warning.\n",
      "  mode, _ = stats.mode(_y[neigh_ind, k], axis=1)\n",
      "C:\\Users\\admin\\anaconda3\\lib\\site-packages\\sklearn\\neighbors\\_classification.py:228: FutureWarning: Unlike other reduction functions (e.g. `skew`, `kurtosis`), the default behavior of `mode` typically preserves the axis it acts along. In SciPy 1.11.0, this behavior will change: the default value of `keepdims` will become False, the `axis` over which the statistic is taken will be eliminated, and the value None will no longer be accepted. Set `keepdims` to True or False to avoid this warning.\n",
      "  mode, _ = stats.mode(_y[neigh_ind, k], axis=1)\n",
      "C:\\Users\\admin\\anaconda3\\lib\\site-packages\\sklearn\\neighbors\\_classification.py:228: FutureWarning: Unlike other reduction functions (e.g. `skew`, `kurtosis`), the default behavior of `mode` typically preserves the axis it acts along. In SciPy 1.11.0, this behavior will change: the default value of `keepdims` will become False, the `axis` over which the statistic is taken will be eliminated, and the value None will no longer be accepted. Set `keepdims` to True or False to avoid this warning.\n",
      "  mode, _ = stats.mode(_y[neigh_ind, k], axis=1)\n",
      "C:\\Users\\admin\\anaconda3\\lib\\site-packages\\sklearn\\neighbors\\_classification.py:228: FutureWarning: Unlike other reduction functions (e.g. `skew`, `kurtosis`), the default behavior of `mode` typically preserves the axis it acts along. In SciPy 1.11.0, this behavior will change: the default value of `keepdims` will become False, the `axis` over which the statistic is taken will be eliminated, and the value None will no longer be accepted. Set `keepdims` to True or False to avoid this warning.\n",
      "  mode, _ = stats.mode(_y[neigh_ind, k], axis=1)\n",
      "C:\\Users\\admin\\anaconda3\\lib\\site-packages\\sklearn\\neighbors\\_classification.py:228: FutureWarning: Unlike other reduction functions (e.g. `skew`, `kurtosis`), the default behavior of `mode` typically preserves the axis it acts along. In SciPy 1.11.0, this behavior will change: the default value of `keepdims` will become False, the `axis` over which the statistic is taken will be eliminated, and the value None will no longer be accepted. Set `keepdims` to True or False to avoid this warning.\n",
      "  mode, _ = stats.mode(_y[neigh_ind, k], axis=1)\n",
      "C:\\Users\\admin\\anaconda3\\lib\\site-packages\\sklearn\\neighbors\\_classification.py:228: FutureWarning: Unlike other reduction functions (e.g. `skew`, `kurtosis`), the default behavior of `mode` typically preserves the axis it acts along. In SciPy 1.11.0, this behavior will change: the default value of `keepdims` will become False, the `axis` over which the statistic is taken will be eliminated, and the value None will no longer be accepted. Set `keepdims` to True or False to avoid this warning.\n",
      "  mode, _ = stats.mode(_y[neigh_ind, k], axis=1)\n",
      "C:\\Users\\admin\\anaconda3\\lib\\site-packages\\sklearn\\neighbors\\_classification.py:228: FutureWarning: Unlike other reduction functions (e.g. `skew`, `kurtosis`), the default behavior of `mode` typically preserves the axis it acts along. In SciPy 1.11.0, this behavior will change: the default value of `keepdims` will become False, the `axis` over which the statistic is taken will be eliminated, and the value None will no longer be accepted. Set `keepdims` to True or False to avoid this warning.\n",
      "  mode, _ = stats.mode(_y[neigh_ind, k], axis=1)\n",
      "C:\\Users\\admin\\anaconda3\\lib\\site-packages\\sklearn\\neighbors\\_classification.py:228: FutureWarning: Unlike other reduction functions (e.g. `skew`, `kurtosis`), the default behavior of `mode` typically preserves the axis it acts along. In SciPy 1.11.0, this behavior will change: the default value of `keepdims` will become False, the `axis` over which the statistic is taken will be eliminated, and the value None will no longer be accepted. Set `keepdims` to True or False to avoid this warning.\n",
      "  mode, _ = stats.mode(_y[neigh_ind, k], axis=1)\n",
      "C:\\Users\\admin\\anaconda3\\lib\\site-packages\\sklearn\\neighbors\\_classification.py:228: FutureWarning: Unlike other reduction functions (e.g. `skew`, `kurtosis`), the default behavior of `mode` typically preserves the axis it acts along. In SciPy 1.11.0, this behavior will change: the default value of `keepdims` will become False, the `axis` over which the statistic is taken will be eliminated, and the value None will no longer be accepted. Set `keepdims` to True or False to avoid this warning.\n",
      "  mode, _ = stats.mode(_y[neigh_ind, k], axis=1)\n",
      "C:\\Users\\admin\\anaconda3\\lib\\site-packages\\sklearn\\neighbors\\_classification.py:228: FutureWarning: Unlike other reduction functions (e.g. `skew`, `kurtosis`), the default behavior of `mode` typically preserves the axis it acts along. In SciPy 1.11.0, this behavior will change: the default value of `keepdims` will become False, the `axis` over which the statistic is taken will be eliminated, and the value None will no longer be accepted. Set `keepdims` to True or False to avoid this warning.\n",
      "  mode, _ = stats.mode(_y[neigh_ind, k], axis=1)\n",
      "C:\\Users\\admin\\anaconda3\\lib\\site-packages\\sklearn\\neighbors\\_classification.py:228: FutureWarning: Unlike other reduction functions (e.g. `skew`, `kurtosis`), the default behavior of `mode` typically preserves the axis it acts along. In SciPy 1.11.0, this behavior will change: the default value of `keepdims` will become False, the `axis` over which the statistic is taken will be eliminated, and the value None will no longer be accepted. Set `keepdims` to True or False to avoid this warning.\n",
      "  mode, _ = stats.mode(_y[neigh_ind, k], axis=1)\n",
      "C:\\Users\\admin\\anaconda3\\lib\\site-packages\\sklearn\\neighbors\\_classification.py:228: FutureWarning: Unlike other reduction functions (e.g. `skew`, `kurtosis`), the default behavior of `mode` typically preserves the axis it acts along. In SciPy 1.11.0, this behavior will change: the default value of `keepdims` will become False, the `axis` over which the statistic is taken will be eliminated, and the value None will no longer be accepted. Set `keepdims` to True or False to avoid this warning.\n",
      "  mode, _ = stats.mode(_y[neigh_ind, k], axis=1)\n",
      "C:\\Users\\admin\\anaconda3\\lib\\site-packages\\sklearn\\neighbors\\_classification.py:228: FutureWarning: Unlike other reduction functions (e.g. `skew`, `kurtosis`), the default behavior of `mode` typically preserves the axis it acts along. In SciPy 1.11.0, this behavior will change: the default value of `keepdims` will become False, the `axis` over which the statistic is taken will be eliminated, and the value None will no longer be accepted. Set `keepdims` to True or False to avoid this warning.\n",
      "  mode, _ = stats.mode(_y[neigh_ind, k], axis=1)\n",
      "C:\\Users\\admin\\anaconda3\\lib\\site-packages\\sklearn\\neighbors\\_classification.py:228: FutureWarning: Unlike other reduction functions (e.g. `skew`, `kurtosis`), the default behavior of `mode` typically preserves the axis it acts along. In SciPy 1.11.0, this behavior will change: the default value of `keepdims` will become False, the `axis` over which the statistic is taken will be eliminated, and the value None will no longer be accepted. Set `keepdims` to True or False to avoid this warning.\n",
      "  mode, _ = stats.mode(_y[neigh_ind, k], axis=1)\n",
      "C:\\Users\\admin\\anaconda3\\lib\\site-packages\\sklearn\\neighbors\\_classification.py:228: FutureWarning: Unlike other reduction functions (e.g. `skew`, `kurtosis`), the default behavior of `mode` typically preserves the axis it acts along. In SciPy 1.11.0, this behavior will change: the default value of `keepdims` will become False, the `axis` over which the statistic is taken will be eliminated, and the value None will no longer be accepted. Set `keepdims` to True or False to avoid this warning.\n",
      "  mode, _ = stats.mode(_y[neigh_ind, k], axis=1)\n",
      "C:\\Users\\admin\\anaconda3\\lib\\site-packages\\sklearn\\neighbors\\_classification.py:228: FutureWarning: Unlike other reduction functions (e.g. `skew`, `kurtosis`), the default behavior of `mode` typically preserves the axis it acts along. In SciPy 1.11.0, this behavior will change: the default value of `keepdims` will become False, the `axis` over which the statistic is taken will be eliminated, and the value None will no longer be accepted. Set `keepdims` to True or False to avoid this warning.\n",
      "  mode, _ = stats.mode(_y[neigh_ind, k], axis=1)\n",
      "C:\\Users\\admin\\anaconda3\\lib\\site-packages\\sklearn\\neighbors\\_classification.py:228: FutureWarning: Unlike other reduction functions (e.g. `skew`, `kurtosis`), the default behavior of `mode` typically preserves the axis it acts along. In SciPy 1.11.0, this behavior will change: the default value of `keepdims` will become False, the `axis` over which the statistic is taken will be eliminated, and the value None will no longer be accepted. Set `keepdims` to True or False to avoid this warning.\n",
      "  mode, _ = stats.mode(_y[neigh_ind, k], axis=1)\n",
      "C:\\Users\\admin\\anaconda3\\lib\\site-packages\\sklearn\\neighbors\\_classification.py:228: FutureWarning: Unlike other reduction functions (e.g. `skew`, `kurtosis`), the default behavior of `mode` typically preserves the axis it acts along. In SciPy 1.11.0, this behavior will change: the default value of `keepdims` will become False, the `axis` over which the statistic is taken will be eliminated, and the value None will no longer be accepted. Set `keepdims` to True or False to avoid this warning.\n",
      "  mode, _ = stats.mode(_y[neigh_ind, k], axis=1)\n",
      "C:\\Users\\admin\\anaconda3\\lib\\site-packages\\sklearn\\neighbors\\_classification.py:228: FutureWarning: Unlike other reduction functions (e.g. `skew`, `kurtosis`), the default behavior of `mode` typically preserves the axis it acts along. In SciPy 1.11.0, this behavior will change: the default value of `keepdims` will become False, the `axis` over which the statistic is taken will be eliminated, and the value None will no longer be accepted. Set `keepdims` to True or False to avoid this warning.\n",
      "  mode, _ = stats.mode(_y[neigh_ind, k], axis=1)\n",
      "C:\\Users\\admin\\anaconda3\\lib\\site-packages\\sklearn\\neighbors\\_classification.py:228: FutureWarning: Unlike other reduction functions (e.g. `skew`, `kurtosis`), the default behavior of `mode` typically preserves the axis it acts along. In SciPy 1.11.0, this behavior will change: the default value of `keepdims` will become False, the `axis` over which the statistic is taken will be eliminated, and the value None will no longer be accepted. Set `keepdims` to True or False to avoid this warning.\n",
      "  mode, _ = stats.mode(_y[neigh_ind, k], axis=1)\n",
      "C:\\Users\\admin\\anaconda3\\lib\\site-packages\\sklearn\\neighbors\\_classification.py:228: FutureWarning: Unlike other reduction functions (e.g. `skew`, `kurtosis`), the default behavior of `mode` typically preserves the axis it acts along. In SciPy 1.11.0, this behavior will change: the default value of `keepdims` will become False, the `axis` over which the statistic is taken will be eliminated, and the value None will no longer be accepted. Set `keepdims` to True or False to avoid this warning.\n",
      "  mode, _ = stats.mode(_y[neigh_ind, k], axis=1)\n"
     ]
    },
    {
     "name": "stdout",
     "output_type": "stream",
     "text": [
      "Train Accuracy is  94.0        Test Accuracy is  92.0 % for K-Value: 6\n",
      "Train Accuracy is  94.0        Test Accuracy is  91.0 % for K-Value: 7\n",
      "Train Accuracy is  95.0        Test Accuracy is  92.0 % for K-Value: 8\n",
      "Train Accuracy is  95.0        Test Accuracy is  91.0 % for K-Value: 9\n",
      "Train Accuracy is  94.0        Test Accuracy is  91.0 % for K-Value: 10\n",
      "Train Accuracy is  94.0        Test Accuracy is  91.0 % for K-Value: 11\n",
      "Train Accuracy is  91.0        Test Accuracy is  89.0 % for K-Value: 12\n",
      "Train Accuracy is  91.0        Test Accuracy is  89.0 % for K-Value: 13\n",
      "Train Accuracy is  91.0        Test Accuracy is  88.0 % for K-Value: 14\n",
      "Train Accuracy is  92.0        Test Accuracy is  89.0 % for K-Value: 15\n",
      "Train Accuracy is  91.0        Test Accuracy is  88.0 % for K-Value: 16\n",
      "Train Accuracy is  91.0        Test Accuracy is  88.0 % for K-Value: 17\n",
      "Train Accuracy is  91.0        Test Accuracy is  88.0 % for K-Value: 18\n"
     ]
    },
    {
     "name": "stderr",
     "output_type": "stream",
     "text": [
      "C:\\Users\\admin\\anaconda3\\lib\\site-packages\\sklearn\\neighbors\\_classification.py:228: FutureWarning: Unlike other reduction functions (e.g. `skew`, `kurtosis`), the default behavior of `mode` typically preserves the axis it acts along. In SciPy 1.11.0, this behavior will change: the default value of `keepdims` will become False, the `axis` over which the statistic is taken will be eliminated, and the value None will no longer be accepted. Set `keepdims` to True or False to avoid this warning.\n",
      "  mode, _ = stats.mode(_y[neigh_ind, k], axis=1)\n",
      "C:\\Users\\admin\\anaconda3\\lib\\site-packages\\sklearn\\neighbors\\_classification.py:228: FutureWarning: Unlike other reduction functions (e.g. `skew`, `kurtosis`), the default behavior of `mode` typically preserves the axis it acts along. In SciPy 1.11.0, this behavior will change: the default value of `keepdims` will become False, the `axis` over which the statistic is taken will be eliminated, and the value None will no longer be accepted. Set `keepdims` to True or False to avoid this warning.\n",
      "  mode, _ = stats.mode(_y[neigh_ind, k], axis=1)\n",
      "C:\\Users\\admin\\anaconda3\\lib\\site-packages\\sklearn\\neighbors\\_classification.py:228: FutureWarning: Unlike other reduction functions (e.g. `skew`, `kurtosis`), the default behavior of `mode` typically preserves the axis it acts along. In SciPy 1.11.0, this behavior will change: the default value of `keepdims` will become False, the `axis` over which the statistic is taken will be eliminated, and the value None will no longer be accepted. Set `keepdims` to True or False to avoid this warning.\n",
      "  mode, _ = stats.mode(_y[neigh_ind, k], axis=1)\n",
      "C:\\Users\\admin\\anaconda3\\lib\\site-packages\\sklearn\\neighbors\\_classification.py:228: FutureWarning: Unlike other reduction functions (e.g. `skew`, `kurtosis`), the default behavior of `mode` typically preserves the axis it acts along. In SciPy 1.11.0, this behavior will change: the default value of `keepdims` will become False, the `axis` over which the statistic is taken will be eliminated, and the value None will no longer be accepted. Set `keepdims` to True or False to avoid this warning.\n",
      "  mode, _ = stats.mode(_y[neigh_ind, k], axis=1)\n",
      "C:\\Users\\admin\\anaconda3\\lib\\site-packages\\sklearn\\neighbors\\_classification.py:228: FutureWarning: Unlike other reduction functions (e.g. `skew`, `kurtosis`), the default behavior of `mode` typically preserves the axis it acts along. In SciPy 1.11.0, this behavior will change: the default value of `keepdims` will become False, the `axis` over which the statistic is taken will be eliminated, and the value None will no longer be accepted. Set `keepdims` to True or False to avoid this warning.\n",
      "  mode, _ = stats.mode(_y[neigh_ind, k], axis=1)\n",
      "C:\\Users\\admin\\anaconda3\\lib\\site-packages\\sklearn\\neighbors\\_classification.py:228: FutureWarning: Unlike other reduction functions (e.g. `skew`, `kurtosis`), the default behavior of `mode` typically preserves the axis it acts along. In SciPy 1.11.0, this behavior will change: the default value of `keepdims` will become False, the `axis` over which the statistic is taken will be eliminated, and the value None will no longer be accepted. Set `keepdims` to True or False to avoid this warning.\n",
      "  mode, _ = stats.mode(_y[neigh_ind, k], axis=1)\n",
      "C:\\Users\\admin\\anaconda3\\lib\\site-packages\\sklearn\\neighbors\\_classification.py:228: FutureWarning: Unlike other reduction functions (e.g. `skew`, `kurtosis`), the default behavior of `mode` typically preserves the axis it acts along. In SciPy 1.11.0, this behavior will change: the default value of `keepdims` will become False, the `axis` over which the statistic is taken will be eliminated, and the value None will no longer be accepted. Set `keepdims` to True or False to avoid this warning.\n",
      "  mode, _ = stats.mode(_y[neigh_ind, k], axis=1)\n",
      "C:\\Users\\admin\\anaconda3\\lib\\site-packages\\sklearn\\neighbors\\_classification.py:228: FutureWarning: Unlike other reduction functions (e.g. `skew`, `kurtosis`), the default behavior of `mode` typically preserves the axis it acts along. In SciPy 1.11.0, this behavior will change: the default value of `keepdims` will become False, the `axis` over which the statistic is taken will be eliminated, and the value None will no longer be accepted. Set `keepdims` to True or False to avoid this warning.\n",
      "  mode, _ = stats.mode(_y[neigh_ind, k], axis=1)\n",
      "C:\\Users\\admin\\anaconda3\\lib\\site-packages\\sklearn\\neighbors\\_classification.py:228: FutureWarning: Unlike other reduction functions (e.g. `skew`, `kurtosis`), the default behavior of `mode` typically preserves the axis it acts along. In SciPy 1.11.0, this behavior will change: the default value of `keepdims` will become False, the `axis` over which the statistic is taken will be eliminated, and the value None will no longer be accepted. Set `keepdims` to True or False to avoid this warning.\n",
      "  mode, _ = stats.mode(_y[neigh_ind, k], axis=1)\n",
      "C:\\Users\\admin\\anaconda3\\lib\\site-packages\\sklearn\\neighbors\\_classification.py:228: FutureWarning: Unlike other reduction functions (e.g. `skew`, `kurtosis`), the default behavior of `mode` typically preserves the axis it acts along. In SciPy 1.11.0, this behavior will change: the default value of `keepdims` will become False, the `axis` over which the statistic is taken will be eliminated, and the value None will no longer be accepted. Set `keepdims` to True or False to avoid this warning.\n",
      "  mode, _ = stats.mode(_y[neigh_ind, k], axis=1)\n",
      "C:\\Users\\admin\\anaconda3\\lib\\site-packages\\sklearn\\neighbors\\_classification.py:228: FutureWarning: Unlike other reduction functions (e.g. `skew`, `kurtosis`), the default behavior of `mode` typically preserves the axis it acts along. In SciPy 1.11.0, this behavior will change: the default value of `keepdims` will become False, the `axis` over which the statistic is taken will be eliminated, and the value None will no longer be accepted. Set `keepdims` to True or False to avoid this warning.\n",
      "  mode, _ = stats.mode(_y[neigh_ind, k], axis=1)\n",
      "C:\\Users\\admin\\anaconda3\\lib\\site-packages\\sklearn\\neighbors\\_classification.py:228: FutureWarning: Unlike other reduction functions (e.g. `skew`, `kurtosis`), the default behavior of `mode` typically preserves the axis it acts along. In SciPy 1.11.0, this behavior will change: the default value of `keepdims` will become False, the `axis` over which the statistic is taken will be eliminated, and the value None will no longer be accepted. Set `keepdims` to True or False to avoid this warning.\n",
      "  mode, _ = stats.mode(_y[neigh_ind, k], axis=1)\n",
      "C:\\Users\\admin\\anaconda3\\lib\\site-packages\\sklearn\\neighbors\\_classification.py:228: FutureWarning: Unlike other reduction functions (e.g. `skew`, `kurtosis`), the default behavior of `mode` typically preserves the axis it acts along. In SciPy 1.11.0, this behavior will change: the default value of `keepdims` will become False, the `axis` over which the statistic is taken will be eliminated, and the value None will no longer be accepted. Set `keepdims` to True or False to avoid this warning.\n",
      "  mode, _ = stats.mode(_y[neigh_ind, k], axis=1)\n",
      "C:\\Users\\admin\\anaconda3\\lib\\site-packages\\sklearn\\neighbors\\_classification.py:228: FutureWarning: Unlike other reduction functions (e.g. `skew`, `kurtosis`), the default behavior of `mode` typically preserves the axis it acts along. In SciPy 1.11.0, this behavior will change: the default value of `keepdims` will become False, the `axis` over which the statistic is taken will be eliminated, and the value None will no longer be accepted. Set `keepdims` to True or False to avoid this warning.\n",
      "  mode, _ = stats.mode(_y[neigh_ind, k], axis=1)\n",
      "C:\\Users\\admin\\anaconda3\\lib\\site-packages\\sklearn\\neighbors\\_classification.py:228: FutureWarning: Unlike other reduction functions (e.g. `skew`, `kurtosis`), the default behavior of `mode` typically preserves the axis it acts along. In SciPy 1.11.0, this behavior will change: the default value of `keepdims` will become False, the `axis` over which the statistic is taken will be eliminated, and the value None will no longer be accepted. Set `keepdims` to True or False to avoid this warning.\n",
      "  mode, _ = stats.mode(_y[neigh_ind, k], axis=1)\n",
      "C:\\Users\\admin\\anaconda3\\lib\\site-packages\\sklearn\\neighbors\\_classification.py:228: FutureWarning: Unlike other reduction functions (e.g. `skew`, `kurtosis`), the default behavior of `mode` typically preserves the axis it acts along. In SciPy 1.11.0, this behavior will change: the default value of `keepdims` will become False, the `axis` over which the statistic is taken will be eliminated, and the value None will no longer be accepted. Set `keepdims` to True or False to avoid this warning.\n",
      "  mode, _ = stats.mode(_y[neigh_ind, k], axis=1)\n",
      "C:\\Users\\admin\\anaconda3\\lib\\site-packages\\sklearn\\neighbors\\_classification.py:228: FutureWarning: Unlike other reduction functions (e.g. `skew`, `kurtosis`), the default behavior of `mode` typically preserves the axis it acts along. In SciPy 1.11.0, this behavior will change: the default value of `keepdims` will become False, the `axis` over which the statistic is taken will be eliminated, and the value None will no longer be accepted. Set `keepdims` to True or False to avoid this warning.\n",
      "  mode, _ = stats.mode(_y[neigh_ind, k], axis=1)\n",
      "C:\\Users\\admin\\anaconda3\\lib\\site-packages\\sklearn\\neighbors\\_classification.py:228: FutureWarning: Unlike other reduction functions (e.g. `skew`, `kurtosis`), the default behavior of `mode` typically preserves the axis it acts along. In SciPy 1.11.0, this behavior will change: the default value of `keepdims` will become False, the `axis` over which the statistic is taken will be eliminated, and the value None will no longer be accepted. Set `keepdims` to True or False to avoid this warning.\n",
      "  mode, _ = stats.mode(_y[neigh_ind, k], axis=1)\n",
      "C:\\Users\\admin\\anaconda3\\lib\\site-packages\\sklearn\\neighbors\\_classification.py:228: FutureWarning: Unlike other reduction functions (e.g. `skew`, `kurtosis`), the default behavior of `mode` typically preserves the axis it acts along. In SciPy 1.11.0, this behavior will change: the default value of `keepdims` will become False, the `axis` over which the statistic is taken will be eliminated, and the value None will no longer be accepted. Set `keepdims` to True or False to avoid this warning.\n",
      "  mode, _ = stats.mode(_y[neigh_ind, k], axis=1)\n",
      "C:\\Users\\admin\\anaconda3\\lib\\site-packages\\sklearn\\neighbors\\_classification.py:228: FutureWarning: Unlike other reduction functions (e.g. `skew`, `kurtosis`), the default behavior of `mode` typically preserves the axis it acts along. In SciPy 1.11.0, this behavior will change: the default value of `keepdims` will become False, the `axis` over which the statistic is taken will be eliminated, and the value None will no longer be accepted. Set `keepdims` to True or False to avoid this warning.\n",
      "  mode, _ = stats.mode(_y[neigh_ind, k], axis=1)\n",
      "C:\\Users\\admin\\anaconda3\\lib\\site-packages\\sklearn\\neighbors\\_classification.py:228: FutureWarning: Unlike other reduction functions (e.g. `skew`, `kurtosis`), the default behavior of `mode` typically preserves the axis it acts along. In SciPy 1.11.0, this behavior will change: the default value of `keepdims` will become False, the `axis` over which the statistic is taken will be eliminated, and the value None will no longer be accepted. Set `keepdims` to True or False to avoid this warning.\n",
      "  mode, _ = stats.mode(_y[neigh_ind, k], axis=1)\n",
      "C:\\Users\\admin\\anaconda3\\lib\\site-packages\\sklearn\\neighbors\\_classification.py:228: FutureWarning: Unlike other reduction functions (e.g. `skew`, `kurtosis`), the default behavior of `mode` typically preserves the axis it acts along. In SciPy 1.11.0, this behavior will change: the default value of `keepdims` will become False, the `axis` over which the statistic is taken will be eliminated, and the value None will no longer be accepted. Set `keepdims` to True or False to avoid this warning.\n",
      "  mode, _ = stats.mode(_y[neigh_ind, k], axis=1)\n",
      "C:\\Users\\admin\\anaconda3\\lib\\site-packages\\sklearn\\neighbors\\_classification.py:228: FutureWarning: Unlike other reduction functions (e.g. `skew`, `kurtosis`), the default behavior of `mode` typically preserves the axis it acts along. In SciPy 1.11.0, this behavior will change: the default value of `keepdims` will become False, the `axis` over which the statistic is taken will be eliminated, and the value None will no longer be accepted. Set `keepdims` to True or False to avoid this warning.\n",
      "  mode, _ = stats.mode(_y[neigh_ind, k], axis=1)\n",
      "C:\\Users\\admin\\anaconda3\\lib\\site-packages\\sklearn\\neighbors\\_classification.py:228: FutureWarning: Unlike other reduction functions (e.g. `skew`, `kurtosis`), the default behavior of `mode` typically preserves the axis it acts along. In SciPy 1.11.0, this behavior will change: the default value of `keepdims` will become False, the `axis` over which the statistic is taken will be eliminated, and the value None will no longer be accepted. Set `keepdims` to True or False to avoid this warning.\n",
      "  mode, _ = stats.mode(_y[neigh_ind, k], axis=1)\n",
      "C:\\Users\\admin\\anaconda3\\lib\\site-packages\\sklearn\\neighbors\\_classification.py:228: FutureWarning: Unlike other reduction functions (e.g. `skew`, `kurtosis`), the default behavior of `mode` typically preserves the axis it acts along. In SciPy 1.11.0, this behavior will change: the default value of `keepdims` will become False, the `axis` over which the statistic is taken will be eliminated, and the value None will no longer be accepted. Set `keepdims` to True or False to avoid this warning.\n",
      "  mode, _ = stats.mode(_y[neigh_ind, k], axis=1)\n",
      "C:\\Users\\admin\\anaconda3\\lib\\site-packages\\sklearn\\neighbors\\_classification.py:228: FutureWarning: Unlike other reduction functions (e.g. `skew`, `kurtosis`), the default behavior of `mode` typically preserves the axis it acts along. In SciPy 1.11.0, this behavior will change: the default value of `keepdims` will become False, the `axis` over which the statistic is taken will be eliminated, and the value None will no longer be accepted. Set `keepdims` to True or False to avoid this warning.\n",
      "  mode, _ = stats.mode(_y[neigh_ind, k], axis=1)\n"
     ]
    },
    {
     "name": "stdout",
     "output_type": "stream",
     "text": [
      "Train Accuracy is  91.0        Test Accuracy is  88.0 % for K-Value: 19\n",
      "Train Accuracy is  91.0        Test Accuracy is  88.0 % for K-Value: 20\n",
      "Train Accuracy is  93.0        Test Accuracy is  89.0 % for K-Value: 21\n",
      "Train Accuracy is  91.0        Test Accuracy is  88.0 % for K-Value: 22\n",
      "Train Accuracy is  91.0        Test Accuracy is  89.0 % for K-Value: 23\n",
      "Train Accuracy is  91.0        Test Accuracy is  88.0 % for K-Value: 24\n",
      "Train Accuracy is  91.0        Test Accuracy is  88.0 % for K-Value: 25\n"
     ]
    },
    {
     "name": "stderr",
     "output_type": "stream",
     "text": [
      "C:\\Users\\admin\\anaconda3\\lib\\site-packages\\sklearn\\neighbors\\_classification.py:228: FutureWarning: Unlike other reduction functions (e.g. `skew`, `kurtosis`), the default behavior of `mode` typically preserves the axis it acts along. In SciPy 1.11.0, this behavior will change: the default value of `keepdims` will become False, the `axis` over which the statistic is taken will be eliminated, and the value None will no longer be accepted. Set `keepdims` to True or False to avoid this warning.\n",
      "  mode, _ = stats.mode(_y[neigh_ind, k], axis=1)\n"
     ]
    }
   ],
   "source": [
    "from sklearn.metrics import accuracy_score\n",
    "for K in range(25):\n",
    "    K_value = K+1\n",
    "    model2 = KNeighborsClassifier(n_neighbors = K_value)\n",
    "    model2.fit(X_train, y_train) \n",
    "    y_pred_Train= model2.predict(X_train)\n",
    "    y_pred_test = model2.predict(X_test)\n",
    "    print(\"Train Accuracy is \", \n",
    "          round(accuracy_score(y_train,y_pred_Train)*100,0), \"      \",\"Test Accuracy is \", round(accuracy_score(y_test,y_pred_test)*100,0),\"% for K-Value:\",\n",
    "          K_value)"
   ]
  },
  {
   "cell_type": "markdown",
   "id": "b18bad78",
   "metadata": {},
   "source": [
    "# train the decision tree\n",
    "Instantiate the model with 5 neighbors. model = KNeighborsClassifier(n_neighbors=8,metric='euclidean')\n",
    "\n",
    "Fit the model on the training data. model.fit(X_train, y_train)"
   ]
  },
  {
   "cell_type": "code",
   "execution_count": 54,
   "id": "344fd671",
   "metadata": {},
   "outputs": [
    {
     "name": "stdout",
     "output_type": "stream",
     "text": [
      "Fitting 10 folds for each of 7 candidates, totalling 70 fits\n"
     ]
    },
    {
     "name": "stderr",
     "output_type": "stream",
     "text": [
      "C:\\Users\\admin\\anaconda3\\lib\\site-packages\\sklearn\\neighbors\\_classification.py:228: FutureWarning: Unlike other reduction functions (e.g. `skew`, `kurtosis`), the default behavior of `mode` typically preserves the axis it acts along. In SciPy 1.11.0, this behavior will change: the default value of `keepdims` will become False, the `axis` over which the statistic is taken will be eliminated, and the value None will no longer be accepted. Set `keepdims` to True or False to avoid this warning.\n",
      "  mode, _ = stats.mode(_y[neigh_ind, k], axis=1)\n",
      "C:\\Users\\admin\\anaconda3\\lib\\site-packages\\sklearn\\neighbors\\_classification.py:228: FutureWarning: Unlike other reduction functions (e.g. `skew`, `kurtosis`), the default behavior of `mode` typically preserves the axis it acts along. In SciPy 1.11.0, this behavior will change: the default value of `keepdims` will become False, the `axis` over which the statistic is taken will be eliminated, and the value None will no longer be accepted. Set `keepdims` to True or False to avoid this warning.\n",
      "  mode, _ = stats.mode(_y[neigh_ind, k], axis=1)\n",
      "C:\\Users\\admin\\anaconda3\\lib\\site-packages\\sklearn\\neighbors\\_classification.py:228: FutureWarning: Unlike other reduction functions (e.g. `skew`, `kurtosis`), the default behavior of `mode` typically preserves the axis it acts along. In SciPy 1.11.0, this behavior will change: the default value of `keepdims` will become False, the `axis` over which the statistic is taken will be eliminated, and the value None will no longer be accepted. Set `keepdims` to True or False to avoid this warning.\n",
      "  mode, _ = stats.mode(_y[neigh_ind, k], axis=1)\n",
      "C:\\Users\\admin\\anaconda3\\lib\\site-packages\\sklearn\\neighbors\\_classification.py:228: FutureWarning: Unlike other reduction functions (e.g. `skew`, `kurtosis`), the default behavior of `mode` typically preserves the axis it acts along. In SciPy 1.11.0, this behavior will change: the default value of `keepdims` will become False, the `axis` over which the statistic is taken will be eliminated, and the value None will no longer be accepted. Set `keepdims` to True or False to avoid this warning.\n",
      "  mode, _ = stats.mode(_y[neigh_ind, k], axis=1)\n",
      "C:\\Users\\admin\\anaconda3\\lib\\site-packages\\sklearn\\neighbors\\_classification.py:228: FutureWarning: Unlike other reduction functions (e.g. `skew`, `kurtosis`), the default behavior of `mode` typically preserves the axis it acts along. In SciPy 1.11.0, this behavior will change: the default value of `keepdims` will become False, the `axis` over which the statistic is taken will be eliminated, and the value None will no longer be accepted. Set `keepdims` to True or False to avoid this warning.\n",
      "  mode, _ = stats.mode(_y[neigh_ind, k], axis=1)\n",
      "C:\\Users\\admin\\anaconda3\\lib\\site-packages\\sklearn\\neighbors\\_classification.py:228: FutureWarning: Unlike other reduction functions (e.g. `skew`, `kurtosis`), the default behavior of `mode` typically preserves the axis it acts along. In SciPy 1.11.0, this behavior will change: the default value of `keepdims` will become False, the `axis` over which the statistic is taken will be eliminated, and the value None will no longer be accepted. Set `keepdims` to True or False to avoid this warning.\n",
      "  mode, _ = stats.mode(_y[neigh_ind, k], axis=1)\n",
      "C:\\Users\\admin\\anaconda3\\lib\\site-packages\\sklearn\\neighbors\\_classification.py:228: FutureWarning: Unlike other reduction functions (e.g. `skew`, `kurtosis`), the default behavior of `mode` typically preserves the axis it acts along. In SciPy 1.11.0, this behavior will change: the default value of `keepdims` will become False, the `axis` over which the statistic is taken will be eliminated, and the value None will no longer be accepted. Set `keepdims` to True or False to avoid this warning.\n",
      "  mode, _ = stats.mode(_y[neigh_ind, k], axis=1)\n",
      "C:\\Users\\admin\\anaconda3\\lib\\site-packages\\sklearn\\neighbors\\_classification.py:228: FutureWarning: Unlike other reduction functions (e.g. `skew`, `kurtosis`), the default behavior of `mode` typically preserves the axis it acts along. In SciPy 1.11.0, this behavior will change: the default value of `keepdims` will become False, the `axis` over which the statistic is taken will be eliminated, and the value None will no longer be accepted. Set `keepdims` to True or False to avoid this warning.\n",
      "  mode, _ = stats.mode(_y[neigh_ind, k], axis=1)\n",
      "C:\\Users\\admin\\anaconda3\\lib\\site-packages\\sklearn\\neighbors\\_classification.py:228: FutureWarning: Unlike other reduction functions (e.g. `skew`, `kurtosis`), the default behavior of `mode` typically preserves the axis it acts along. In SciPy 1.11.0, this behavior will change: the default value of `keepdims` will become False, the `axis` over which the statistic is taken will be eliminated, and the value None will no longer be accepted. Set `keepdims` to True or False to avoid this warning.\n",
      "  mode, _ = stats.mode(_y[neigh_ind, k], axis=1)\n",
      "C:\\Users\\admin\\anaconda3\\lib\\site-packages\\sklearn\\neighbors\\_classification.py:228: FutureWarning: Unlike other reduction functions (e.g. `skew`, `kurtosis`), the default behavior of `mode` typically preserves the axis it acts along. In SciPy 1.11.0, this behavior will change: the default value of `keepdims` will become False, the `axis` over which the statistic is taken will be eliminated, and the value None will no longer be accepted. Set `keepdims` to True or False to avoid this warning.\n",
      "  mode, _ = stats.mode(_y[neigh_ind, k], axis=1)\n",
      "C:\\Users\\admin\\anaconda3\\lib\\site-packages\\sklearn\\neighbors\\_classification.py:228: FutureWarning: Unlike other reduction functions (e.g. `skew`, `kurtosis`), the default behavior of `mode` typically preserves the axis it acts along. In SciPy 1.11.0, this behavior will change: the default value of `keepdims` will become False, the `axis` over which the statistic is taken will be eliminated, and the value None will no longer be accepted. Set `keepdims` to True or False to avoid this warning.\n",
      "  mode, _ = stats.mode(_y[neigh_ind, k], axis=1)\n",
      "C:\\Users\\admin\\anaconda3\\lib\\site-packages\\sklearn\\neighbors\\_classification.py:228: FutureWarning: Unlike other reduction functions (e.g. `skew`, `kurtosis`), the default behavior of `mode` typically preserves the axis it acts along. In SciPy 1.11.0, this behavior will change: the default value of `keepdims` will become False, the `axis` over which the statistic is taken will be eliminated, and the value None will no longer be accepted. Set `keepdims` to True or False to avoid this warning.\n",
      "  mode, _ = stats.mode(_y[neigh_ind, k], axis=1)\n",
      "C:\\Users\\admin\\anaconda3\\lib\\site-packages\\sklearn\\neighbors\\_classification.py:228: FutureWarning: Unlike other reduction functions (e.g. `skew`, `kurtosis`), the default behavior of `mode` typically preserves the axis it acts along. In SciPy 1.11.0, this behavior will change: the default value of `keepdims` will become False, the `axis` over which the statistic is taken will be eliminated, and the value None will no longer be accepted. Set `keepdims` to True or False to avoid this warning.\n",
      "  mode, _ = stats.mode(_y[neigh_ind, k], axis=1)\n",
      "C:\\Users\\admin\\anaconda3\\lib\\site-packages\\sklearn\\neighbors\\_classification.py:228: FutureWarning: Unlike other reduction functions (e.g. `skew`, `kurtosis`), the default behavior of `mode` typically preserves the axis it acts along. In SciPy 1.11.0, this behavior will change: the default value of `keepdims` will become False, the `axis` over which the statistic is taken will be eliminated, and the value None will no longer be accepted. Set `keepdims` to True or False to avoid this warning.\n",
      "  mode, _ = stats.mode(_y[neigh_ind, k], axis=1)\n",
      "C:\\Users\\admin\\anaconda3\\lib\\site-packages\\sklearn\\neighbors\\_classification.py:228: FutureWarning: Unlike other reduction functions (e.g. `skew`, `kurtosis`), the default behavior of `mode` typically preserves the axis it acts along. In SciPy 1.11.0, this behavior will change: the default value of `keepdims` will become False, the `axis` over which the statistic is taken will be eliminated, and the value None will no longer be accepted. Set `keepdims` to True or False to avoid this warning.\n",
      "  mode, _ = stats.mode(_y[neigh_ind, k], axis=1)\n",
      "C:\\Users\\admin\\anaconda3\\lib\\site-packages\\sklearn\\neighbors\\_classification.py:228: FutureWarning: Unlike other reduction functions (e.g. `skew`, `kurtosis`), the default behavior of `mode` typically preserves the axis it acts along. In SciPy 1.11.0, this behavior will change: the default value of `keepdims` will become False, the `axis` over which the statistic is taken will be eliminated, and the value None will no longer be accepted. Set `keepdims` to True or False to avoid this warning.\n",
      "  mode, _ = stats.mode(_y[neigh_ind, k], axis=1)\n",
      "C:\\Users\\admin\\anaconda3\\lib\\site-packages\\sklearn\\neighbors\\_classification.py:228: FutureWarning: Unlike other reduction functions (e.g. `skew`, `kurtosis`), the default behavior of `mode` typically preserves the axis it acts along. In SciPy 1.11.0, this behavior will change: the default value of `keepdims` will become False, the `axis` over which the statistic is taken will be eliminated, and the value None will no longer be accepted. Set `keepdims` to True or False to avoid this warning.\n",
      "  mode, _ = stats.mode(_y[neigh_ind, k], axis=1)\n",
      "C:\\Users\\admin\\anaconda3\\lib\\site-packages\\sklearn\\neighbors\\_classification.py:228: FutureWarning: Unlike other reduction functions (e.g. `skew`, `kurtosis`), the default behavior of `mode` typically preserves the axis it acts along. In SciPy 1.11.0, this behavior will change: the default value of `keepdims` will become False, the `axis` over which the statistic is taken will be eliminated, and the value None will no longer be accepted. Set `keepdims` to True or False to avoid this warning.\n",
      "  mode, _ = stats.mode(_y[neigh_ind, k], axis=1)\n",
      "C:\\Users\\admin\\anaconda3\\lib\\site-packages\\sklearn\\neighbors\\_classification.py:228: FutureWarning: Unlike other reduction functions (e.g. `skew`, `kurtosis`), the default behavior of `mode` typically preserves the axis it acts along. In SciPy 1.11.0, this behavior will change: the default value of `keepdims` will become False, the `axis` over which the statistic is taken will be eliminated, and the value None will no longer be accepted. Set `keepdims` to True or False to avoid this warning.\n",
      "  mode, _ = stats.mode(_y[neigh_ind, k], axis=1)\n",
      "C:\\Users\\admin\\anaconda3\\lib\\site-packages\\sklearn\\neighbors\\_classification.py:228: FutureWarning: Unlike other reduction functions (e.g. `skew`, `kurtosis`), the default behavior of `mode` typically preserves the axis it acts along. In SciPy 1.11.0, this behavior will change: the default value of `keepdims` will become False, the `axis` over which the statistic is taken will be eliminated, and the value None will no longer be accepted. Set `keepdims` to True or False to avoid this warning.\n",
      "  mode, _ = stats.mode(_y[neigh_ind, k], axis=1)\n",
      "C:\\Users\\admin\\anaconda3\\lib\\site-packages\\sklearn\\neighbors\\_classification.py:228: FutureWarning: Unlike other reduction functions (e.g. `skew`, `kurtosis`), the default behavior of `mode` typically preserves the axis it acts along. In SciPy 1.11.0, this behavior will change: the default value of `keepdims` will become False, the `axis` over which the statistic is taken will be eliminated, and the value None will no longer be accepted. Set `keepdims` to True or False to avoid this warning.\n",
      "  mode, _ = stats.mode(_y[neigh_ind, k], axis=1)\n",
      "C:\\Users\\admin\\anaconda3\\lib\\site-packages\\sklearn\\neighbors\\_classification.py:228: FutureWarning: Unlike other reduction functions (e.g. `skew`, `kurtosis`), the default behavior of `mode` typically preserves the axis it acts along. In SciPy 1.11.0, this behavior will change: the default value of `keepdims` will become False, the `axis` over which the statistic is taken will be eliminated, and the value None will no longer be accepted. Set `keepdims` to True or False to avoid this warning.\n",
      "  mode, _ = stats.mode(_y[neigh_ind, k], axis=1)\n",
      "C:\\Users\\admin\\anaconda3\\lib\\site-packages\\sklearn\\neighbors\\_classification.py:228: FutureWarning: Unlike other reduction functions (e.g. `skew`, `kurtosis`), the default behavior of `mode` typically preserves the axis it acts along. In SciPy 1.11.0, this behavior will change: the default value of `keepdims` will become False, the `axis` over which the statistic is taken will be eliminated, and the value None will no longer be accepted. Set `keepdims` to True or False to avoid this warning.\n",
      "  mode, _ = stats.mode(_y[neigh_ind, k], axis=1)\n",
      "C:\\Users\\admin\\anaconda3\\lib\\site-packages\\sklearn\\neighbors\\_classification.py:228: FutureWarning: Unlike other reduction functions (e.g. `skew`, `kurtosis`), the default behavior of `mode` typically preserves the axis it acts along. In SciPy 1.11.0, this behavior will change: the default value of `keepdims` will become False, the `axis` over which the statistic is taken will be eliminated, and the value None will no longer be accepted. Set `keepdims` to True or False to avoid this warning.\n",
      "  mode, _ = stats.mode(_y[neigh_ind, k], axis=1)\n",
      "C:\\Users\\admin\\anaconda3\\lib\\site-packages\\sklearn\\neighbors\\_classification.py:228: FutureWarning: Unlike other reduction functions (e.g. `skew`, `kurtosis`), the default behavior of `mode` typically preserves the axis it acts along. In SciPy 1.11.0, this behavior will change: the default value of `keepdims` will become False, the `axis` over which the statistic is taken will be eliminated, and the value None will no longer be accepted. Set `keepdims` to True or False to avoid this warning.\n",
      "  mode, _ = stats.mode(_y[neigh_ind, k], axis=1)\n",
      "C:\\Users\\admin\\anaconda3\\lib\\site-packages\\sklearn\\neighbors\\_classification.py:228: FutureWarning: Unlike other reduction functions (e.g. `skew`, `kurtosis`), the default behavior of `mode` typically preserves the axis it acts along. In SciPy 1.11.0, this behavior will change: the default value of `keepdims` will become False, the `axis` over which the statistic is taken will be eliminated, and the value None will no longer be accepted. Set `keepdims` to True or False to avoid this warning.\n",
      "  mode, _ = stats.mode(_y[neigh_ind, k], axis=1)\n",
      "C:\\Users\\admin\\anaconda3\\lib\\site-packages\\sklearn\\neighbors\\_classification.py:228: FutureWarning: Unlike other reduction functions (e.g. `skew`, `kurtosis`), the default behavior of `mode` typically preserves the axis it acts along. In SciPy 1.11.0, this behavior will change: the default value of `keepdims` will become False, the `axis` over which the statistic is taken will be eliminated, and the value None will no longer be accepted. Set `keepdims` to True or False to avoid this warning.\n",
      "  mode, _ = stats.mode(_y[neigh_ind, k], axis=1)\n",
      "C:\\Users\\admin\\anaconda3\\lib\\site-packages\\sklearn\\neighbors\\_classification.py:228: FutureWarning: Unlike other reduction functions (e.g. `skew`, `kurtosis`), the default behavior of `mode` typically preserves the axis it acts along. In SciPy 1.11.0, this behavior will change: the default value of `keepdims` will become False, the `axis` over which the statistic is taken will be eliminated, and the value None will no longer be accepted. Set `keepdims` to True or False to avoid this warning.\n",
      "  mode, _ = stats.mode(_y[neigh_ind, k], axis=1)\n",
      "C:\\Users\\admin\\anaconda3\\lib\\site-packages\\sklearn\\neighbors\\_classification.py:228: FutureWarning: Unlike other reduction functions (e.g. `skew`, `kurtosis`), the default behavior of `mode` typically preserves the axis it acts along. In SciPy 1.11.0, this behavior will change: the default value of `keepdims` will become False, the `axis` over which the statistic is taken will be eliminated, and the value None will no longer be accepted. Set `keepdims` to True or False to avoid this warning.\n",
      "  mode, _ = stats.mode(_y[neigh_ind, k], axis=1)\n",
      "C:\\Users\\admin\\anaconda3\\lib\\site-packages\\sklearn\\neighbors\\_classification.py:228: FutureWarning: Unlike other reduction functions (e.g. `skew`, `kurtosis`), the default behavior of `mode` typically preserves the axis it acts along. In SciPy 1.11.0, this behavior will change: the default value of `keepdims` will become False, the `axis` over which the statistic is taken will be eliminated, and the value None will no longer be accepted. Set `keepdims` to True or False to avoid this warning.\n",
      "  mode, _ = stats.mode(_y[neigh_ind, k], axis=1)\n",
      "C:\\Users\\admin\\anaconda3\\lib\\site-packages\\sklearn\\neighbors\\_classification.py:228: FutureWarning: Unlike other reduction functions (e.g. `skew`, `kurtosis`), the default behavior of `mode` typically preserves the axis it acts along. In SciPy 1.11.0, this behavior will change: the default value of `keepdims` will become False, the `axis` over which the statistic is taken will be eliminated, and the value None will no longer be accepted. Set `keepdims` to True or False to avoid this warning.\n",
      "  mode, _ = stats.mode(_y[neigh_ind, k], axis=1)\n",
      "C:\\Users\\admin\\anaconda3\\lib\\site-packages\\sklearn\\neighbors\\_classification.py:228: FutureWarning: Unlike other reduction functions (e.g. `skew`, `kurtosis`), the default behavior of `mode` typically preserves the axis it acts along. In SciPy 1.11.0, this behavior will change: the default value of `keepdims` will become False, the `axis` over which the statistic is taken will be eliminated, and the value None will no longer be accepted. Set `keepdims` to True or False to avoid this warning.\n",
      "  mode, _ = stats.mode(_y[neigh_ind, k], axis=1)\n",
      "C:\\Users\\admin\\anaconda3\\lib\\site-packages\\sklearn\\neighbors\\_classification.py:228: FutureWarning: Unlike other reduction functions (e.g. `skew`, `kurtosis`), the default behavior of `mode` typically preserves the axis it acts along. In SciPy 1.11.0, this behavior will change: the default value of `keepdims` will become False, the `axis` over which the statistic is taken will be eliminated, and the value None will no longer be accepted. Set `keepdims` to True or False to avoid this warning.\n",
      "  mode, _ = stats.mode(_y[neigh_ind, k], axis=1)\n",
      "C:\\Users\\admin\\anaconda3\\lib\\site-packages\\sklearn\\neighbors\\_classification.py:228: FutureWarning: Unlike other reduction functions (e.g. `skew`, `kurtosis`), the default behavior of `mode` typically preserves the axis it acts along. In SciPy 1.11.0, this behavior will change: the default value of `keepdims` will become False, the `axis` over which the statistic is taken will be eliminated, and the value None will no longer be accepted. Set `keepdims` to True or False to avoid this warning.\n",
      "  mode, _ = stats.mode(_y[neigh_ind, k], axis=1)\n",
      "C:\\Users\\admin\\anaconda3\\lib\\site-packages\\sklearn\\neighbors\\_classification.py:228: FutureWarning: Unlike other reduction functions (e.g. `skew`, `kurtosis`), the default behavior of `mode` typically preserves the axis it acts along. In SciPy 1.11.0, this behavior will change: the default value of `keepdims` will become False, the `axis` over which the statistic is taken will be eliminated, and the value None will no longer be accepted. Set `keepdims` to True or False to avoid this warning.\n",
      "  mode, _ = stats.mode(_y[neigh_ind, k], axis=1)\n",
      "C:\\Users\\admin\\anaconda3\\lib\\site-packages\\sklearn\\neighbors\\_classification.py:228: FutureWarning: Unlike other reduction functions (e.g. `skew`, `kurtosis`), the default behavior of `mode` typically preserves the axis it acts along. In SciPy 1.11.0, this behavior will change: the default value of `keepdims` will become False, the `axis` over which the statistic is taken will be eliminated, and the value None will no longer be accepted. Set `keepdims` to True or False to avoid this warning.\n",
      "  mode, _ = stats.mode(_y[neigh_ind, k], axis=1)\n",
      "C:\\Users\\admin\\anaconda3\\lib\\site-packages\\sklearn\\neighbors\\_classification.py:228: FutureWarning: Unlike other reduction functions (e.g. `skew`, `kurtosis`), the default behavior of `mode` typically preserves the axis it acts along. In SciPy 1.11.0, this behavior will change: the default value of `keepdims` will become False, the `axis` over which the statistic is taken will be eliminated, and the value None will no longer be accepted. Set `keepdims` to True or False to avoid this warning.\n",
      "  mode, _ = stats.mode(_y[neigh_ind, k], axis=1)\n",
      "C:\\Users\\admin\\anaconda3\\lib\\site-packages\\sklearn\\neighbors\\_classification.py:228: FutureWarning: Unlike other reduction functions (e.g. `skew`, `kurtosis`), the default behavior of `mode` typically preserves the axis it acts along. In SciPy 1.11.0, this behavior will change: the default value of `keepdims` will become False, the `axis` over which the statistic is taken will be eliminated, and the value None will no longer be accepted. Set `keepdims` to True or False to avoid this warning.\n",
      "  mode, _ = stats.mode(_y[neigh_ind, k], axis=1)\n",
      "C:\\Users\\admin\\anaconda3\\lib\\site-packages\\sklearn\\neighbors\\_classification.py:228: FutureWarning: Unlike other reduction functions (e.g. `skew`, `kurtosis`), the default behavior of `mode` typically preserves the axis it acts along. In SciPy 1.11.0, this behavior will change: the default value of `keepdims` will become False, the `axis` over which the statistic is taken will be eliminated, and the value None will no longer be accepted. Set `keepdims` to True or False to avoid this warning.\n",
      "  mode, _ = stats.mode(_y[neigh_ind, k], axis=1)\n",
      "C:\\Users\\admin\\anaconda3\\lib\\site-packages\\sklearn\\neighbors\\_classification.py:228: FutureWarning: Unlike other reduction functions (e.g. `skew`, `kurtosis`), the default behavior of `mode` typically preserves the axis it acts along. In SciPy 1.11.0, this behavior will change: the default value of `keepdims` will become False, the `axis` over which the statistic is taken will be eliminated, and the value None will no longer be accepted. Set `keepdims` to True or False to avoid this warning.\n",
      "  mode, _ = stats.mode(_y[neigh_ind, k], axis=1)\n",
      "C:\\Users\\admin\\anaconda3\\lib\\site-packages\\sklearn\\neighbors\\_classification.py:228: FutureWarning: Unlike other reduction functions (e.g. `skew`, `kurtosis`), the default behavior of `mode` typically preserves the axis it acts along. In SciPy 1.11.0, this behavior will change: the default value of `keepdims` will become False, the `axis` over which the statistic is taken will be eliminated, and the value None will no longer be accepted. Set `keepdims` to True or False to avoid this warning.\n",
      "  mode, _ = stats.mode(_y[neigh_ind, k], axis=1)\n",
      "C:\\Users\\admin\\anaconda3\\lib\\site-packages\\sklearn\\neighbors\\_classification.py:228: FutureWarning: Unlike other reduction functions (e.g. `skew`, `kurtosis`), the default behavior of `mode` typically preserves the axis it acts along. In SciPy 1.11.0, this behavior will change: the default value of `keepdims` will become False, the `axis` over which the statistic is taken will be eliminated, and the value None will no longer be accepted. Set `keepdims` to True or False to avoid this warning.\n",
      "  mode, _ = stats.mode(_y[neigh_ind, k], axis=1)\n",
      "C:\\Users\\admin\\anaconda3\\lib\\site-packages\\sklearn\\neighbors\\_classification.py:228: FutureWarning: Unlike other reduction functions (e.g. `skew`, `kurtosis`), the default behavior of `mode` typically preserves the axis it acts along. In SciPy 1.11.0, this behavior will change: the default value of `keepdims` will become False, the `axis` over which the statistic is taken will be eliminated, and the value None will no longer be accepted. Set `keepdims` to True or False to avoid this warning.\n",
      "  mode, _ = stats.mode(_y[neigh_ind, k], axis=1)\n",
      "C:\\Users\\admin\\anaconda3\\lib\\site-packages\\sklearn\\neighbors\\_classification.py:228: FutureWarning: Unlike other reduction functions (e.g. `skew`, `kurtosis`), the default behavior of `mode` typically preserves the axis it acts along. In SciPy 1.11.0, this behavior will change: the default value of `keepdims` will become False, the `axis` over which the statistic is taken will be eliminated, and the value None will no longer be accepted. Set `keepdims` to True or False to avoid this warning.\n",
      "  mode, _ = stats.mode(_y[neigh_ind, k], axis=1)\n",
      "C:\\Users\\admin\\anaconda3\\lib\\site-packages\\sklearn\\neighbors\\_classification.py:228: FutureWarning: Unlike other reduction functions (e.g. `skew`, `kurtosis`), the default behavior of `mode` typically preserves the axis it acts along. In SciPy 1.11.0, this behavior will change: the default value of `keepdims` will become False, the `axis` over which the statistic is taken will be eliminated, and the value None will no longer be accepted. Set `keepdims` to True or False to avoid this warning.\n",
      "  mode, _ = stats.mode(_y[neigh_ind, k], axis=1)\n",
      "C:\\Users\\admin\\anaconda3\\lib\\site-packages\\sklearn\\neighbors\\_classification.py:228: FutureWarning: Unlike other reduction functions (e.g. `skew`, `kurtosis`), the default behavior of `mode` typically preserves the axis it acts along. In SciPy 1.11.0, this behavior will change: the default value of `keepdims` will become False, the `axis` over which the statistic is taken will be eliminated, and the value None will no longer be accepted. Set `keepdims` to True or False to avoid this warning.\n",
      "  mode, _ = stats.mode(_y[neigh_ind, k], axis=1)\n",
      "C:\\Users\\admin\\anaconda3\\lib\\site-packages\\sklearn\\neighbors\\_classification.py:228: FutureWarning: Unlike other reduction functions (e.g. `skew`, `kurtosis`), the default behavior of `mode` typically preserves the axis it acts along. In SciPy 1.11.0, this behavior will change: the default value of `keepdims` will become False, the `axis` over which the statistic is taken will be eliminated, and the value None will no longer be accepted. Set `keepdims` to True or False to avoid this warning.\n",
      "  mode, _ = stats.mode(_y[neigh_ind, k], axis=1)\n",
      "C:\\Users\\admin\\anaconda3\\lib\\site-packages\\sklearn\\neighbors\\_classification.py:228: FutureWarning: Unlike other reduction functions (e.g. `skew`, `kurtosis`), the default behavior of `mode` typically preserves the axis it acts along. In SciPy 1.11.0, this behavior will change: the default value of `keepdims` will become False, the `axis` over which the statistic is taken will be eliminated, and the value None will no longer be accepted. Set `keepdims` to True or False to avoid this warning.\n",
      "  mode, _ = stats.mode(_y[neigh_ind, k], axis=1)\n",
      "C:\\Users\\admin\\anaconda3\\lib\\site-packages\\sklearn\\neighbors\\_classification.py:228: FutureWarning: Unlike other reduction functions (e.g. `skew`, `kurtosis`), the default behavior of `mode` typically preserves the axis it acts along. In SciPy 1.11.0, this behavior will change: the default value of `keepdims` will become False, the `axis` over which the statistic is taken will be eliminated, and the value None will no longer be accepted. Set `keepdims` to True or False to avoid this warning.\n",
      "  mode, _ = stats.mode(_y[neigh_ind, k], axis=1)\n",
      "C:\\Users\\admin\\anaconda3\\lib\\site-packages\\sklearn\\neighbors\\_classification.py:228: FutureWarning: Unlike other reduction functions (e.g. `skew`, `kurtosis`), the default behavior of `mode` typically preserves the axis it acts along. In SciPy 1.11.0, this behavior will change: the default value of `keepdims` will become False, the `axis` over which the statistic is taken will be eliminated, and the value None will no longer be accepted. Set `keepdims` to True or False to avoid this warning.\n",
      "  mode, _ = stats.mode(_y[neigh_ind, k], axis=1)\n",
      "C:\\Users\\admin\\anaconda3\\lib\\site-packages\\sklearn\\neighbors\\_classification.py:228: FutureWarning: Unlike other reduction functions (e.g. `skew`, `kurtosis`), the default behavior of `mode` typically preserves the axis it acts along. In SciPy 1.11.0, this behavior will change: the default value of `keepdims` will become False, the `axis` over which the statistic is taken will be eliminated, and the value None will no longer be accepted. Set `keepdims` to True or False to avoid this warning.\n",
      "  mode, _ = stats.mode(_y[neigh_ind, k], axis=1)\n",
      "C:\\Users\\admin\\anaconda3\\lib\\site-packages\\sklearn\\neighbors\\_classification.py:228: FutureWarning: Unlike other reduction functions (e.g. `skew`, `kurtosis`), the default behavior of `mode` typically preserves the axis it acts along. In SciPy 1.11.0, this behavior will change: the default value of `keepdims` will become False, the `axis` over which the statistic is taken will be eliminated, and the value None will no longer be accepted. Set `keepdims` to True or False to avoid this warning.\n",
      "  mode, _ = stats.mode(_y[neigh_ind, k], axis=1)\n",
      "C:\\Users\\admin\\anaconda3\\lib\\site-packages\\sklearn\\neighbors\\_classification.py:228: FutureWarning: Unlike other reduction functions (e.g. `skew`, `kurtosis`), the default behavior of `mode` typically preserves the axis it acts along. In SciPy 1.11.0, this behavior will change: the default value of `keepdims` will become False, the `axis` over which the statistic is taken will be eliminated, and the value None will no longer be accepted. Set `keepdims` to True or False to avoid this warning.\n",
      "  mode, _ = stats.mode(_y[neigh_ind, k], axis=1)\n",
      "C:\\Users\\admin\\anaconda3\\lib\\site-packages\\sklearn\\neighbors\\_classification.py:228: FutureWarning: Unlike other reduction functions (e.g. `skew`, `kurtosis`), the default behavior of `mode` typically preserves the axis it acts along. In SciPy 1.11.0, this behavior will change: the default value of `keepdims` will become False, the `axis` over which the statistic is taken will be eliminated, and the value None will no longer be accepted. Set `keepdims` to True or False to avoid this warning.\n",
      "  mode, _ = stats.mode(_y[neigh_ind, k], axis=1)\n",
      "C:\\Users\\admin\\anaconda3\\lib\\site-packages\\sklearn\\neighbors\\_classification.py:228: FutureWarning: Unlike other reduction functions (e.g. `skew`, `kurtosis`), the default behavior of `mode` typically preserves the axis it acts along. In SciPy 1.11.0, this behavior will change: the default value of `keepdims` will become False, the `axis` over which the statistic is taken will be eliminated, and the value None will no longer be accepted. Set `keepdims` to True or False to avoid this warning.\n",
      "  mode, _ = stats.mode(_y[neigh_ind, k], axis=1)\n",
      "C:\\Users\\admin\\anaconda3\\lib\\site-packages\\sklearn\\neighbors\\_classification.py:228: FutureWarning: Unlike other reduction functions (e.g. `skew`, `kurtosis`), the default behavior of `mode` typically preserves the axis it acts along. In SciPy 1.11.0, this behavior will change: the default value of `keepdims` will become False, the `axis` over which the statistic is taken will be eliminated, and the value None will no longer be accepted. Set `keepdims` to True or False to avoid this warning.\n",
      "  mode, _ = stats.mode(_y[neigh_ind, k], axis=1)\n",
      "C:\\Users\\admin\\anaconda3\\lib\\site-packages\\sklearn\\neighbors\\_classification.py:228: FutureWarning: Unlike other reduction functions (e.g. `skew`, `kurtosis`), the default behavior of `mode` typically preserves the axis it acts along. In SciPy 1.11.0, this behavior will change: the default value of `keepdims` will become False, the `axis` over which the statistic is taken will be eliminated, and the value None will no longer be accepted. Set `keepdims` to True or False to avoid this warning.\n",
      "  mode, _ = stats.mode(_y[neigh_ind, k], axis=1)\n",
      "C:\\Users\\admin\\anaconda3\\lib\\site-packages\\sklearn\\neighbors\\_classification.py:228: FutureWarning: Unlike other reduction functions (e.g. `skew`, `kurtosis`), the default behavior of `mode` typically preserves the axis it acts along. In SciPy 1.11.0, this behavior will change: the default value of `keepdims` will become False, the `axis` over which the statistic is taken will be eliminated, and the value None will no longer be accepted. Set `keepdims` to True or False to avoid this warning.\n",
      "  mode, _ = stats.mode(_y[neigh_ind, k], axis=1)\n",
      "C:\\Users\\admin\\anaconda3\\lib\\site-packages\\sklearn\\neighbors\\_classification.py:228: FutureWarning: Unlike other reduction functions (e.g. `skew`, `kurtosis`), the default behavior of `mode` typically preserves the axis it acts along. In SciPy 1.11.0, this behavior will change: the default value of `keepdims` will become False, the `axis` over which the statistic is taken will be eliminated, and the value None will no longer be accepted. Set `keepdims` to True or False to avoid this warning.\n",
      "  mode, _ = stats.mode(_y[neigh_ind, k], axis=1)\n",
      "C:\\Users\\admin\\anaconda3\\lib\\site-packages\\sklearn\\neighbors\\_classification.py:228: FutureWarning: Unlike other reduction functions (e.g. `skew`, `kurtosis`), the default behavior of `mode` typically preserves the axis it acts along. In SciPy 1.11.0, this behavior will change: the default value of `keepdims` will become False, the `axis` over which the statistic is taken will be eliminated, and the value None will no longer be accepted. Set `keepdims` to True or False to avoid this warning.\n",
      "  mode, _ = stats.mode(_y[neigh_ind, k], axis=1)\n",
      "C:\\Users\\admin\\anaconda3\\lib\\site-packages\\sklearn\\neighbors\\_classification.py:228: FutureWarning: Unlike other reduction functions (e.g. `skew`, `kurtosis`), the default behavior of `mode` typically preserves the axis it acts along. In SciPy 1.11.0, this behavior will change: the default value of `keepdims` will become False, the `axis` over which the statistic is taken will be eliminated, and the value None will no longer be accepted. Set `keepdims` to True or False to avoid this warning.\n",
      "  mode, _ = stats.mode(_y[neigh_ind, k], axis=1)\n",
      "C:\\Users\\admin\\anaconda3\\lib\\site-packages\\sklearn\\neighbors\\_classification.py:228: FutureWarning: Unlike other reduction functions (e.g. `skew`, `kurtosis`), the default behavior of `mode` typically preserves the axis it acts along. In SciPy 1.11.0, this behavior will change: the default value of `keepdims` will become False, the `axis` over which the statistic is taken will be eliminated, and the value None will no longer be accepted. Set `keepdims` to True or False to avoid this warning.\n",
      "  mode, _ = stats.mode(_y[neigh_ind, k], axis=1)\n",
      "C:\\Users\\admin\\anaconda3\\lib\\site-packages\\sklearn\\neighbors\\_classification.py:228: FutureWarning: Unlike other reduction functions (e.g. `skew`, `kurtosis`), the default behavior of `mode` typically preserves the axis it acts along. In SciPy 1.11.0, this behavior will change: the default value of `keepdims` will become False, the `axis` over which the statistic is taken will be eliminated, and the value None will no longer be accepted. Set `keepdims` to True or False to avoid this warning.\n",
      "  mode, _ = stats.mode(_y[neigh_ind, k], axis=1)\n",
      "C:\\Users\\admin\\anaconda3\\lib\\site-packages\\sklearn\\neighbors\\_classification.py:228: FutureWarning: Unlike other reduction functions (e.g. `skew`, `kurtosis`), the default behavior of `mode` typically preserves the axis it acts along. In SciPy 1.11.0, this behavior will change: the default value of `keepdims` will become False, the `axis` over which the statistic is taken will be eliminated, and the value None will no longer be accepted. Set `keepdims` to True or False to avoid this warning.\n",
      "  mode, _ = stats.mode(_y[neigh_ind, k], axis=1)\n",
      "C:\\Users\\admin\\anaconda3\\lib\\site-packages\\sklearn\\neighbors\\_classification.py:228: FutureWarning: Unlike other reduction functions (e.g. `skew`, `kurtosis`), the default behavior of `mode` typically preserves the axis it acts along. In SciPy 1.11.0, this behavior will change: the default value of `keepdims` will become False, the `axis` over which the statistic is taken will be eliminated, and the value None will no longer be accepted. Set `keepdims` to True or False to avoid this warning.\n",
      "  mode, _ = stats.mode(_y[neigh_ind, k], axis=1)\n",
      "C:\\Users\\admin\\anaconda3\\lib\\site-packages\\sklearn\\neighbors\\_classification.py:228: FutureWarning: Unlike other reduction functions (e.g. `skew`, `kurtosis`), the default behavior of `mode` typically preserves the axis it acts along. In SciPy 1.11.0, this behavior will change: the default value of `keepdims` will become False, the `axis` over which the statistic is taken will be eliminated, and the value None will no longer be accepted. Set `keepdims` to True or False to avoid this warning.\n",
      "  mode, _ = stats.mode(_y[neigh_ind, k], axis=1)\n",
      "C:\\Users\\admin\\anaconda3\\lib\\site-packages\\sklearn\\neighbors\\_classification.py:228: FutureWarning: Unlike other reduction functions (e.g. `skew`, `kurtosis`), the default behavior of `mode` typically preserves the axis it acts along. In SciPy 1.11.0, this behavior will change: the default value of `keepdims` will become False, the `axis` over which the statistic is taken will be eliminated, and the value None will no longer be accepted. Set `keepdims` to True or False to avoid this warning.\n",
      "  mode, _ = stats.mode(_y[neigh_ind, k], axis=1)\n",
      "C:\\Users\\admin\\anaconda3\\lib\\site-packages\\sklearn\\neighbors\\_classification.py:228: FutureWarning: Unlike other reduction functions (e.g. `skew`, `kurtosis`), the default behavior of `mode` typically preserves the axis it acts along. In SciPy 1.11.0, this behavior will change: the default value of `keepdims` will become False, the `axis` over which the statistic is taken will be eliminated, and the value None will no longer be accepted. Set `keepdims` to True or False to avoid this warning.\n",
      "  mode, _ = stats.mode(_y[neigh_ind, k], axis=1)\n",
      "C:\\Users\\admin\\anaconda3\\lib\\site-packages\\sklearn\\neighbors\\_classification.py:228: FutureWarning: Unlike other reduction functions (e.g. `skew`, `kurtosis`), the default behavior of `mode` typically preserves the axis it acts along. In SciPy 1.11.0, this behavior will change: the default value of `keepdims` will become False, the `axis` over which the statistic is taken will be eliminated, and the value None will no longer be accepted. Set `keepdims` to True or False to avoid this warning.\n",
      "  mode, _ = stats.mode(_y[neigh_ind, k], axis=1)\n",
      "C:\\Users\\admin\\anaconda3\\lib\\site-packages\\sklearn\\neighbors\\_classification.py:228: FutureWarning: Unlike other reduction functions (e.g. `skew`, `kurtosis`), the default behavior of `mode` typically preserves the axis it acts along. In SciPy 1.11.0, this behavior will change: the default value of `keepdims` will become False, the `axis` over which the statistic is taken will be eliminated, and the value None will no longer be accepted. Set `keepdims` to True or False to avoid this warning.\n",
      "  mode, _ = stats.mode(_y[neigh_ind, k], axis=1)\n"
     ]
    },
    {
     "data": {
      "text/plain": [
       "GridSearchCV(cv=10, estimator=KNeighborsClassifier(),\n",
       "             param_grid={'n_neighbors': array([2, 3, 4, 5, 6, 7, 8])},\n",
       "             verbose=1)"
      ]
     },
     "execution_count": 54,
     "metadata": {},
     "output_type": "execute_result"
    }
   ],
   "source": [
    "from sklearn.model_selection import GridSearchCV\n",
    "param_grid = {'n_neighbors': np.arange(2, 9)}\n",
    "\n",
    "\n",
    "knn2 = KNeighborsClassifier()\n",
    "knn_gscv = GridSearchCV(knn2, \n",
    "                        param_grid, # 2,3,4,5,6,7,8\n",
    "                        cv=10,\n",
    "                        verbose=1)\n",
    "knn_gscv.fit(X_train, y_train)"
   ]
  },
  {
   "cell_type": "code",
   "execution_count": 55,
   "id": "2a7404f4",
   "metadata": {},
   "outputs": [
    {
     "data": {
      "text/plain": [
       "{'n_neighbors': 2}"
      ]
     },
     "execution_count": 55,
     "metadata": {},
     "output_type": "execute_result"
    }
   ],
   "source": [
    "#check top performing n_neighbors value\n",
    "knn_gscv.best_params_"
   ]
  },
  {
   "cell_type": "code",
   "execution_count": 56,
   "id": "8af32883",
   "metadata": {},
   "outputs": [
    {
     "data": {
      "text/plain": [
       "0.961190476190476"
      ]
     },
     "execution_count": 56,
     "metadata": {},
     "output_type": "execute_result"
    }
   ],
   "source": [
    "knn_gscv.best_score_"
   ]
  },
  {
   "cell_type": "markdown",
   "id": "217c55dc",
   "metadata": {},
   "source": [
    "# Logistic Regression"
   ]
  },
  {
   "cell_type": "code",
   "execution_count": 57,
   "id": "7fbbe4bf",
   "metadata": {},
   "outputs": [
    {
     "data": {
      "text/html": [
       "        <script type=\"text/javascript\">\n",
       "        window.PlotlyConfig = {MathJaxConfig: 'local'};\n",
       "        if (window.MathJax && window.MathJax.Hub && window.MathJax.Hub.Config) {window.MathJax.Hub.Config({SVG: {font: \"STIX-Web\"}});}\n",
       "        if (typeof require !== 'undefined') {\n",
       "        require.undef(\"plotly\");\n",
       "        requirejs.config({\n",
       "            paths: {\n",
       "                'plotly': ['https://cdn.plot.ly/plotly-2.12.1.min']\n",
       "            }\n",
       "        });\n",
       "        require(['plotly'], function(Plotly) {\n",
       "            window._Plotly = Plotly;\n",
       "        });\n",
       "        }\n",
       "        </script>\n",
       "        "
      ]
     },
     "metadata": {},
     "output_type": "display_data"
    }
   ],
   "source": [
    "#Importing libraries\n",
    "import numpy as np # linear algebra\n",
    "import pandas as pd # data processing, CSV file I/O \n",
    "import os\n",
    "import itertools\n",
    "import warnings\n",
    "warnings.filterwarnings(\"ignore\")\n",
    "import io\n",
    "\n",
    "################# visualization #################\n",
    "import matplotlib.pyplot as plt \n",
    "from PIL import  Image\n",
    "import seaborn as sns \n",
    "import plotly.offline as py\n",
    "py.init_notebook_mode(connected=True)\n",
    "import plotly.graph_objs as go\n",
    "import plotly.tools as tls\n",
    "import plotly.figure_factory as ff"
   ]
  },
  {
   "cell_type": "markdown",
   "id": "efb76bf1",
   "metadata": {},
   "source": [
    "# Data Partition"
   ]
  },
  {
   "cell_type": "code",
   "execution_count": 58,
   "id": "cc907322",
   "metadata": {},
   "outputs": [],
   "source": [
    "#Dividing data into train and test dataset\n",
    "from sklearn.model_selection import train_test_split\n",
    "#from random import seed\n",
    "\n",
    "#seed(20)\n",
    "train_x = data.drop(['Regime'],axis=1)\n",
    "train_y = data['Regime']\n",
    "\n",
    "# Train test split\n",
    "\n",
    "X_train, X_test, y_train, y_test = train_test_split(train_x, train_y, test_size=0.3,random_state=20)"
   ]
  },
  {
   "cell_type": "markdown",
   "id": "b2b2eb4e",
   "metadata": {},
   "source": [
    "# Model building"
   ]
  },
  {
   "cell_type": "markdown",
   "id": "1ca4305f",
   "metadata": {},
   "source": [
    "# Hypothesis\n",
    "H0 :- There is no log linear relationship between Regime and all independent Variable\n",
    "Vs\n",
    "\n",
    "H1 :- There is log linear relationship between Regime and all independent Variable\n",
    "Alpha = 0.05 (5%)"
   ]
  },
  {
   "cell_type": "markdown",
   "id": "fafcb249",
   "metadata": {},
   "source": [
    "# Logistics Regression"
   ]
  },
  {
   "cell_type": "code",
   "execution_count": 59,
   "id": "bbb697b9",
   "metadata": {},
   "outputs": [],
   "source": [
    "from sklearn.linear_model import LogisticRegression\n",
    "from sklearn import metrics\n",
    "logreg = LogisticRegression()\n",
    "output=logreg.fit(X_train, y_train) # model"
   ]
  },
  {
   "cell_type": "code",
   "execution_count": 60,
   "id": "4a8937c1",
   "metadata": {},
   "outputs": [
    {
     "data": {
      "text/plain": [
       "array([-2.59135299])"
      ]
     },
     "execution_count": 60,
     "metadata": {},
     "output_type": "execute_result"
    }
   ],
   "source": [
    "output.intercept_  # beto "
   ]
  },
  {
   "cell_type": "code",
   "execution_count": 61,
   "id": "06fee082",
   "metadata": {},
   "outputs": [
    {
     "data": {
      "text/plain": [
       "array([[-0.06671285,  0.83760966, -0.38396724]])"
      ]
     },
     "execution_count": 61,
     "metadata": {},
     "output_type": "execute_result"
    }
   ],
   "source": [
    "output.coef_  # Beta 1 -- "
   ]
  },
  {
   "cell_type": "code",
   "execution_count": 62,
   "id": "ff8289ce",
   "metadata": {},
   "outputs": [
    {
     "data": {
      "text/plain": [
       "array(['Data PC1', 'Data PC2', 'Data PC3'], dtype=object)"
      ]
     },
     "execution_count": 62,
     "metadata": {},
     "output_type": "execute_result"
    }
   ],
   "source": [
    "output.feature_names_in_"
   ]
  },
  {
   "cell_type": "markdown",
   "id": "8ecef70c",
   "metadata": {},
   "source": [
    "# Step 6 : Predictions on Train Dataset"
   ]
  },
  {
   "cell_type": "code",
   "execution_count": 63,
   "id": "213c6477",
   "metadata": {},
   "outputs": [
    {
     "data": {
      "text/html": [
       "<div>\n",
       "<style scoped>\n",
       "    .dataframe tbody tr th:only-of-type {\n",
       "        vertical-align: middle;\n",
       "    }\n",
       "\n",
       "    .dataframe tbody tr th {\n",
       "        vertical-align: top;\n",
       "    }\n",
       "\n",
       "    .dataframe thead th {\n",
       "        text-align: right;\n",
       "    }\n",
       "</style>\n",
       "<table border=\"1\" class=\"dataframe\">\n",
       "  <thead>\n",
       "    <tr style=\"text-align: right;\">\n",
       "      <th></th>\n",
       "      <th>Data PC1</th>\n",
       "      <th>Data PC2</th>\n",
       "      <th>Data PC3</th>\n",
       "      <th>Regime</th>\n",
       "    </tr>\n",
       "  </thead>\n",
       "  <tbody>\n",
       "    <tr>\n",
       "      <th>205</th>\n",
       "      <td>0.732968</td>\n",
       "      <td>-0.447012</td>\n",
       "      <td>0.253586</td>\n",
       "      <td>Normal</td>\n",
       "    </tr>\n",
       "    <tr>\n",
       "      <th>119</th>\n",
       "      <td>-0.527331</td>\n",
       "      <td>-0.569629</td>\n",
       "      <td>-0.524837</td>\n",
       "      <td>Normal</td>\n",
       "    </tr>\n",
       "    <tr>\n",
       "      <th>95</th>\n",
       "      <td>-1.326900</td>\n",
       "      <td>-0.293789</td>\n",
       "      <td>-0.224735</td>\n",
       "      <td>Normal</td>\n",
       "    </tr>\n",
       "    <tr>\n",
       "      <th>222</th>\n",
       "      <td>1.437487</td>\n",
       "      <td>-0.333828</td>\n",
       "      <td>0.162082</td>\n",
       "      <td>Normal</td>\n",
       "    </tr>\n",
       "    <tr>\n",
       "      <th>132</th>\n",
       "      <td>-0.087569</td>\n",
       "      <td>-0.575155</td>\n",
       "      <td>-0.570189</td>\n",
       "      <td>Normal</td>\n",
       "    </tr>\n",
       "  </tbody>\n",
       "</table>\n",
       "</div>"
      ],
      "text/plain": [
       "     Data PC1  Data PC2  Data PC3  Regime\n",
       "205  0.732968 -0.447012  0.253586  Normal\n",
       "119 -0.527331 -0.569629 -0.524837  Normal\n",
       "95  -1.326900 -0.293789 -0.224735  Normal\n",
       "222  1.437487 -0.333828  0.162082  Normal\n",
       "132 -0.087569 -0.575155 -0.570189  Normal"
      ]
     },
     "execution_count": 63,
     "metadata": {},
     "output_type": "execute_result"
    }
   ],
   "source": [
    "train=pd.concat([X_train,y_train],axis=1)\n",
    "train.head()"
   ]
  },
  {
   "cell_type": "code",
   "execution_count": 64,
   "id": "dd545e28",
   "metadata": {},
   "outputs": [
    {
     "data": {
      "text/html": [
       "<div>\n",
       "<style scoped>\n",
       "    .dataframe tbody tr th:only-of-type {\n",
       "        vertical-align: middle;\n",
       "    }\n",
       "\n",
       "    .dataframe tbody tr th {\n",
       "        vertical-align: top;\n",
       "    }\n",
       "\n",
       "    .dataframe thead th {\n",
       "        text-align: right;\n",
       "    }\n",
       "</style>\n",
       "<table border=\"1\" class=\"dataframe\">\n",
       "  <thead>\n",
       "    <tr style=\"text-align: right;\">\n",
       "      <th></th>\n",
       "      <th>Data PC1</th>\n",
       "      <th>Data PC2</th>\n",
       "      <th>Data PC3</th>\n",
       "      <th>Regime</th>\n",
       "      <th>Predicted</th>\n",
       "    </tr>\n",
       "  </thead>\n",
       "  <tbody>\n",
       "    <tr>\n",
       "      <th>205</th>\n",
       "      <td>0.732968</td>\n",
       "      <td>-0.447012</td>\n",
       "      <td>0.253586</td>\n",
       "      <td>Normal</td>\n",
       "      <td>Normal</td>\n",
       "    </tr>\n",
       "    <tr>\n",
       "      <th>119</th>\n",
       "      <td>-0.527331</td>\n",
       "      <td>-0.569629</td>\n",
       "      <td>-0.524837</td>\n",
       "      <td>Normal</td>\n",
       "      <td>Normal</td>\n",
       "    </tr>\n",
       "    <tr>\n",
       "      <th>95</th>\n",
       "      <td>-1.326900</td>\n",
       "      <td>-0.293789</td>\n",
       "      <td>-0.224735</td>\n",
       "      <td>Normal</td>\n",
       "      <td>Normal</td>\n",
       "    </tr>\n",
       "    <tr>\n",
       "      <th>222</th>\n",
       "      <td>1.437487</td>\n",
       "      <td>-0.333828</td>\n",
       "      <td>0.162082</td>\n",
       "      <td>Normal</td>\n",
       "      <td>Normal</td>\n",
       "    </tr>\n",
       "    <tr>\n",
       "      <th>132</th>\n",
       "      <td>-0.087569</td>\n",
       "      <td>-0.575155</td>\n",
       "      <td>-0.570189</td>\n",
       "      <td>Normal</td>\n",
       "      <td>Normal</td>\n",
       "    </tr>\n",
       "  </tbody>\n",
       "</table>\n",
       "</div>"
      ],
      "text/plain": [
       "     Data PC1  Data PC2  Data PC3  Regime Predicted\n",
       "205  0.732968 -0.447012  0.253586  Normal    Normal\n",
       "119 -0.527331 -0.569629 -0.524837  Normal    Normal\n",
       "95  -1.326900 -0.293789 -0.224735  Normal    Normal\n",
       "222  1.437487 -0.333828  0.162082  Normal    Normal\n",
       "132 -0.087569 -0.575155 -0.570189  Normal    Normal"
      ]
     },
     "execution_count": 64,
     "metadata": {},
     "output_type": "execute_result"
    }
   ],
   "source": [
    "train['Predicted']=output.predict(X_train)\n",
    "train.head()"
   ]
  },
  {
   "cell_type": "markdown",
   "id": "0c1d3cc6",
   "metadata": {},
   "source": [
    "# Step 7 : Model Performance Metrics"
   ]
  },
  {
   "cell_type": "code",
   "execution_count": 65,
   "id": "0ee1a50a",
   "metadata": {},
   "outputs": [
    {
     "data": {
      "text/plain": [
       "array([[183,  15],\n",
       "       [  3,   4]], dtype=int64)"
      ]
     },
     "execution_count": 65,
     "metadata": {},
     "output_type": "execute_result"
    }
   ],
   "source": [
    "from sklearn.metrics import confusion_matrix\n",
    "matrix = confusion_matrix(train['Predicted'], train['Regime'])\n",
    "matrix"
   ]
  },
  {
   "cell_type": "code",
   "execution_count": 66,
   "id": "5d669a87",
   "metadata": {},
   "outputs": [
    {
     "name": "stdout",
     "output_type": "stream",
     "text": [
      "91.21951219512195\n"
     ]
    }
   ],
   "source": [
    "Accuracy_Train=((187)/(205)*100)\n",
    "print(Accuracy_Train)"
   ]
  },
  {
   "cell_type": "markdown",
   "id": "94246b92",
   "metadata": {},
   "source": [
    "# Acccuracy of model is 91% so model is  good fit"
   ]
  },
  {
   "cell_type": "code",
   "execution_count": 67,
   "id": "51870436",
   "metadata": {},
   "outputs": [
    {
     "name": "stdout",
     "output_type": "stream",
     "text": [
      "              precision    recall  f1-score   support\n",
      "\n",
      "      Normal       0.92      0.98      0.95       186\n",
      "   Recession       0.57      0.21      0.31        19\n",
      "\n",
      "    accuracy                           0.91       205\n",
      "   macro avg       0.75      0.60      0.63       205\n",
      "weighted avg       0.89      0.91      0.89       205\n",
      "\n"
     ]
    }
   ],
   "source": [
    "from sklearn.metrics import classification_report\n",
    "print(classification_report(train['Regime'],train['Predicted']))"
   ]
  },
  {
   "cell_type": "raw",
   "id": "86aaeee5",
   "metadata": {},
   "source": [
    "Accuracy of Model is 91%,Hence Model is  good Fit\n",
    "Accuracy of Recession Capture by Model is 98% ( Sensitivity )\n",
    "Accuracy of Not Recession  Capture by Model is 21% (Specificity)"
   ]
  },
  {
   "cell_type": "markdown",
   "id": "35c4e7b0",
   "metadata": {},
   "source": [
    "# Step 8 : Predictions on Test Dataset"
   ]
  },
  {
   "cell_type": "code",
   "execution_count": 68,
   "id": "1b527f71",
   "metadata": {},
   "outputs": [
    {
     "data": {
      "text/html": [
       "<div>\n",
       "<style scoped>\n",
       "    .dataframe tbody tr th:only-of-type {\n",
       "        vertical-align: middle;\n",
       "    }\n",
       "\n",
       "    .dataframe tbody tr th {\n",
       "        vertical-align: top;\n",
       "    }\n",
       "\n",
       "    .dataframe thead th {\n",
       "        text-align: right;\n",
       "    }\n",
       "</style>\n",
       "<table border=\"1\" class=\"dataframe\">\n",
       "  <thead>\n",
       "    <tr style=\"text-align: right;\">\n",
       "      <th></th>\n",
       "      <th>Data PC1</th>\n",
       "      <th>Data PC2</th>\n",
       "      <th>Data PC3</th>\n",
       "      <th>Regime</th>\n",
       "    </tr>\n",
       "  </thead>\n",
       "  <tbody>\n",
       "    <tr>\n",
       "      <th>269</th>\n",
       "      <td>3.339627</td>\n",
       "      <td>-0.047479</td>\n",
       "      <td>-0.150091</td>\n",
       "      <td>Normal</td>\n",
       "    </tr>\n",
       "    <tr>\n",
       "      <th>112</th>\n",
       "      <td>-0.778461</td>\n",
       "      <td>-0.514910</td>\n",
       "      <td>-0.461157</td>\n",
       "      <td>Normal</td>\n",
       "    </tr>\n",
       "    <tr>\n",
       "      <th>63</th>\n",
       "      <td>-1.400585</td>\n",
       "      <td>0.431866</td>\n",
       "      <td>-0.289012</td>\n",
       "      <td>Recession</td>\n",
       "    </tr>\n",
       "    <tr>\n",
       "      <th>122</th>\n",
       "      <td>-0.412149</td>\n",
       "      <td>-0.562174</td>\n",
       "      <td>-0.564586</td>\n",
       "      <td>Normal</td>\n",
       "    </tr>\n",
       "    <tr>\n",
       "      <th>292</th>\n",
       "      <td>3.799477</td>\n",
       "      <td>0.418003</td>\n",
       "      <td>2.120532</td>\n",
       "      <td>Recession</td>\n",
       "    </tr>\n",
       "  </tbody>\n",
       "</table>\n",
       "</div>"
      ],
      "text/plain": [
       "     Data PC1  Data PC2  Data PC3     Regime\n",
       "269  3.339627 -0.047479 -0.150091     Normal\n",
       "112 -0.778461 -0.514910 -0.461157     Normal\n",
       "63  -1.400585  0.431866 -0.289012  Recession\n",
       "122 -0.412149 -0.562174 -0.564586     Normal\n",
       "292  3.799477  0.418003  2.120532  Recession"
      ]
     },
     "execution_count": 68,
     "metadata": {},
     "output_type": "execute_result"
    }
   ],
   "source": [
    "test=pd.concat([X_test,y_test],axis=1)\n",
    "test.head()"
   ]
  },
  {
   "cell_type": "code",
   "execution_count": 69,
   "id": "8d700138",
   "metadata": {},
   "outputs": [
    {
     "data": {
      "text/html": [
       "<div>\n",
       "<style scoped>\n",
       "    .dataframe tbody tr th:only-of-type {\n",
       "        vertical-align: middle;\n",
       "    }\n",
       "\n",
       "    .dataframe tbody tr th {\n",
       "        vertical-align: top;\n",
       "    }\n",
       "\n",
       "    .dataframe thead th {\n",
       "        text-align: right;\n",
       "    }\n",
       "</style>\n",
       "<table border=\"1\" class=\"dataframe\">\n",
       "  <thead>\n",
       "    <tr style=\"text-align: right;\">\n",
       "      <th></th>\n",
       "      <th>Data PC1</th>\n",
       "      <th>Data PC2</th>\n",
       "      <th>Data PC3</th>\n",
       "      <th>Regime</th>\n",
       "      <th>Predicted</th>\n",
       "    </tr>\n",
       "  </thead>\n",
       "  <tbody>\n",
       "    <tr>\n",
       "      <th>269</th>\n",
       "      <td>3.339627</td>\n",
       "      <td>-0.047479</td>\n",
       "      <td>-0.150091</td>\n",
       "      <td>Normal</td>\n",
       "      <td>Normal</td>\n",
       "    </tr>\n",
       "    <tr>\n",
       "      <th>112</th>\n",
       "      <td>-0.778461</td>\n",
       "      <td>-0.514910</td>\n",
       "      <td>-0.461157</td>\n",
       "      <td>Normal</td>\n",
       "      <td>Normal</td>\n",
       "    </tr>\n",
       "    <tr>\n",
       "      <th>63</th>\n",
       "      <td>-1.400585</td>\n",
       "      <td>0.431866</td>\n",
       "      <td>-0.289012</td>\n",
       "      <td>Recession</td>\n",
       "      <td>Normal</td>\n",
       "    </tr>\n",
       "    <tr>\n",
       "      <th>122</th>\n",
       "      <td>-0.412149</td>\n",
       "      <td>-0.562174</td>\n",
       "      <td>-0.564586</td>\n",
       "      <td>Normal</td>\n",
       "      <td>Normal</td>\n",
       "    </tr>\n",
       "    <tr>\n",
       "      <th>292</th>\n",
       "      <td>3.799477</td>\n",
       "      <td>0.418003</td>\n",
       "      <td>2.120532</td>\n",
       "      <td>Recession</td>\n",
       "      <td>Normal</td>\n",
       "    </tr>\n",
       "  </tbody>\n",
       "</table>\n",
       "</div>"
      ],
      "text/plain": [
       "     Data PC1  Data PC2  Data PC3     Regime Predicted\n",
       "269  3.339627 -0.047479 -0.150091     Normal    Normal\n",
       "112 -0.778461 -0.514910 -0.461157     Normal    Normal\n",
       "63  -1.400585  0.431866 -0.289012  Recession    Normal\n",
       "122 -0.412149 -0.562174 -0.564586     Normal    Normal\n",
       "292  3.799477  0.418003  2.120532  Recession    Normal"
      ]
     },
     "execution_count": 69,
     "metadata": {},
     "output_type": "execute_result"
    }
   ],
   "source": [
    "test['Predicted']=output.predict(X_test)\n",
    "test.head()"
   ]
  },
  {
   "cell_type": "markdown",
   "id": "608bb7d7",
   "metadata": {},
   "source": [
    "# Step 9 : Model Performance Metrics on Test data"
   ]
  },
  {
   "cell_type": "code",
   "execution_count": 70,
   "id": "482f3f17",
   "metadata": {},
   "outputs": [
    {
     "name": "stdout",
     "output_type": "stream",
     "text": [
      "[[76 10]\n",
      " [ 1  1]]\n"
     ]
    }
   ],
   "source": [
    "from sklearn.metrics import confusion_matrix\n",
    "matrix = confusion_matrix(test['Predicted'],test['Regime'])\n",
    "print(matrix)"
   ]
  },
  {
   "cell_type": "code",
   "execution_count": 71,
   "id": "60c32898",
   "metadata": {},
   "outputs": [
    {
     "data": {
      "text/plain": [
       "87.5"
      ]
     },
     "execution_count": 71,
     "metadata": {},
     "output_type": "execute_result"
    }
   ],
   "source": [
    "Accuracy_test=((77)/(88)*100)\n",
    "Accuracy_test"
   ]
  },
  {
   "cell_type": "code",
   "execution_count": 72,
   "id": "8fcd2254",
   "metadata": {},
   "outputs": [
    {
     "name": "stdout",
     "output_type": "stream",
     "text": [
      "              precision    recall  f1-score   support\n",
      "\n",
      "      Normal       0.88      0.99      0.93        77\n",
      "   Recession       0.50      0.09      0.15        11\n",
      "\n",
      "    accuracy                           0.88        88\n",
      "   macro avg       0.69      0.54      0.54        88\n",
      "weighted avg       0.84      0.88      0.84        88\n",
      "\n"
     ]
    }
   ],
   "source": [
    "from sklearn.metrics import classification_report\n",
    "print(classification_report(test['Regime'],test['Predicted']))"
   ]
  },
  {
   "cell_type": "raw",
   "id": "0215a07d",
   "metadata": {},
   "source": [
    "Accuracy of Model is 87%,Hence Model is  good Fit\n",
    "Accuracy of Recession Capture by Model is 99% ( Sensitivity ) Accuracy of Not Recession Capture by Model is 1% -specificity"
   ]
  },
  {
   "cell_type": "markdown",
   "id": "e7ddad22",
   "metadata": {},
   "source": [
    "# Coefficient\n",
    "For future Prediction below 4 variable data is mandatory\n",
    "\n",
    "Note :- If anyone is not present output will not be reliable"
   ]
  },
  {
   "cell_type": "code",
   "execution_count": 73,
   "id": "f77347e1",
   "metadata": {},
   "outputs": [
    {
     "data": {
      "text/html": [
       "<div>\n",
       "<style scoped>\n",
       "    .dataframe tbody tr th:only-of-type {\n",
       "        vertical-align: middle;\n",
       "    }\n",
       "\n",
       "    .dataframe tbody tr th {\n",
       "        vertical-align: top;\n",
       "    }\n",
       "\n",
       "    .dataframe thead th {\n",
       "        text-align: right;\n",
       "    }\n",
       "</style>\n",
       "<table border=\"1\" class=\"dataframe\">\n",
       "  <thead>\n",
       "    <tr style=\"text-align: right;\">\n",
       "      <th></th>\n",
       "      <th>Coefficient</th>\n",
       "    </tr>\n",
       "  </thead>\n",
       "  <tbody>\n",
       "    <tr>\n",
       "      <th>Intercept</th>\n",
       "      <td>-2.591353</td>\n",
       "    </tr>\n",
       "  </tbody>\n",
       "</table>\n",
       "</div>"
      ],
      "text/plain": [
       "           Coefficient\n",
       "Intercept    -2.591353"
      ]
     },
     "execution_count": 73,
     "metadata": {},
     "output_type": "execute_result"
    }
   ],
   "source": [
    "Model_Values=pd.DataFrame(output.intercept_,index=['Intercept'],columns=['Coefficient'])\n",
    "Model_Values"
   ]
  },
  {
   "cell_type": "code",
   "execution_count": 74,
   "id": "8d514a95",
   "metadata": {},
   "outputs": [
    {
     "data": {
      "text/html": [
       "<div>\n",
       "<style scoped>\n",
       "    .dataframe tbody tr th:only-of-type {\n",
       "        vertical-align: middle;\n",
       "    }\n",
       "\n",
       "    .dataframe tbody tr th {\n",
       "        vertical-align: top;\n",
       "    }\n",
       "\n",
       "    .dataframe thead th {\n",
       "        text-align: right;\n",
       "    }\n",
       "</style>\n",
       "<table border=\"1\" class=\"dataframe\">\n",
       "  <thead>\n",
       "    <tr style=\"text-align: right;\">\n",
       "      <th></th>\n",
       "      <th>Coefficient</th>\n",
       "    </tr>\n",
       "  </thead>\n",
       "  <tbody>\n",
       "    <tr>\n",
       "      <th>Data PC1</th>\n",
       "      <td>-0.066713</td>\n",
       "    </tr>\n",
       "    <tr>\n",
       "      <th>Data PC2</th>\n",
       "      <td>0.837610</td>\n",
       "    </tr>\n",
       "    <tr>\n",
       "      <th>Data PC3</th>\n",
       "      <td>-0.383967</td>\n",
       "    </tr>\n",
       "  </tbody>\n",
       "</table>\n",
       "</div>"
      ],
      "text/plain": [
       "          Coefficient\n",
       "Data PC1    -0.066713\n",
       "Data PC2     0.837610\n",
       "Data PC3    -0.383967"
      ]
     },
     "execution_count": 74,
     "metadata": {},
     "output_type": "execute_result"
    }
   ],
   "source": [
    "abc=pd.DataFrame(output.coef_.T,index=output.feature_names_in_,columns=['Coefficient'])\n",
    "abc"
   ]
  },
  {
   "cell_type": "code",
   "execution_count": 75,
   "id": "74ab8b6d",
   "metadata": {},
   "outputs": [
    {
     "data": {
      "text/html": [
       "<div>\n",
       "<style scoped>\n",
       "    .dataframe tbody tr th:only-of-type {\n",
       "        vertical-align: middle;\n",
       "    }\n",
       "\n",
       "    .dataframe tbody tr th {\n",
       "        vertical-align: top;\n",
       "    }\n",
       "\n",
       "    .dataframe thead th {\n",
       "        text-align: right;\n",
       "    }\n",
       "</style>\n",
       "<table border=\"1\" class=\"dataframe\">\n",
       "  <thead>\n",
       "    <tr style=\"text-align: right;\">\n",
       "      <th></th>\n",
       "      <th>Coefficient</th>\n",
       "    </tr>\n",
       "  </thead>\n",
       "  <tbody>\n",
       "    <tr>\n",
       "      <th>Intercept</th>\n",
       "      <td>-2.591353</td>\n",
       "    </tr>\n",
       "    <tr>\n",
       "      <th>Data PC1</th>\n",
       "      <td>-0.066713</td>\n",
       "    </tr>\n",
       "    <tr>\n",
       "      <th>Data PC2</th>\n",
       "      <td>0.837610</td>\n",
       "    </tr>\n",
       "    <tr>\n",
       "      <th>Data PC3</th>\n",
       "      <td>-0.383967</td>\n",
       "    </tr>\n",
       "  </tbody>\n",
       "</table>\n",
       "</div>"
      ],
      "text/plain": [
       "           Coefficient\n",
       "Intercept    -2.591353\n",
       "Data PC1     -0.066713\n",
       "Data PC2      0.837610\n",
       "Data PC3     -0.383967"
      ]
     },
     "execution_count": 75,
     "metadata": {},
     "output_type": "execute_result"
    }
   ],
   "source": [
    "Model_Values.append(abc)"
   ]
  },
  {
   "cell_type": "markdown",
   "id": "c842322d",
   "metadata": {},
   "source": [
    "# Finish"
   ]
  },
  {
   "cell_type": "code",
   "execution_count": null,
   "id": "a14b9bd9",
   "metadata": {},
   "outputs": [],
   "source": []
  }
 ],
 "metadata": {
  "kernelspec": {
   "display_name": "Python 3 (ipykernel)",
   "language": "python",
   "name": "python3"
  },
  "language_info": {
   "codemirror_mode": {
    "name": "ipython",
    "version": 3
   },
   "file_extension": ".py",
   "mimetype": "text/x-python",
   "name": "python",
   "nbconvert_exporter": "python",
   "pygments_lexer": "ipython3",
   "version": "3.9.13"
  }
 },
 "nbformat": 4,
 "nbformat_minor": 5
}
