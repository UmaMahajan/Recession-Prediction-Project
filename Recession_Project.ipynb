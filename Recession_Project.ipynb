{
 "cells": [
  {
   "cell_type": "markdown",
   "id": "fea600e1",
   "metadata": {},
   "source": [
    "# Objective\n",
    "Predict whether there will be Recession ( Bad ) or Not ( Good )\n",
    "\n",
    "Yes = Recession , No = not recession"
   ]
  },
  {
   "cell_type": "code",
   "execution_count": 1,
   "id": "a844071c",
   "metadata": {},
   "outputs": [
    {
     "data": {
      "text/html": [
       "        <script type=\"text/javascript\">\n",
       "        window.PlotlyConfig = {MathJaxConfig: 'local'};\n",
       "        if (window.MathJax && window.MathJax.Hub && window.MathJax.Hub.Config) {window.MathJax.Hub.Config({SVG: {font: \"STIX-Web\"}});}\n",
       "        if (typeof require !== 'undefined') {\n",
       "        require.undef(\"plotly\");\n",
       "        requirejs.config({\n",
       "            paths: {\n",
       "                'plotly': ['https://cdn.plot.ly/plotly-2.12.1.min']\n",
       "            }\n",
       "        });\n",
       "        require(['plotly'], function(Plotly) {\n",
       "            window._Plotly = Plotly;\n",
       "        });\n",
       "        }\n",
       "        </script>\n",
       "        "
      ]
     },
     "metadata": {},
     "output_type": "display_data"
    }
   ],
   "source": [
    "#Importing libraries\n",
    "import numpy as np # linear algebra\n",
    "import pandas as pd # data processing, CSV file I/O \n",
    "import os\n",
    "import itertools\n",
    "import warnings\n",
    "warnings.filterwarnings(\"ignore\")\n",
    "import io\n",
    "\n",
    "################# visualization #################\n",
    "import matplotlib.pyplot as plt \n",
    "from PIL import  Image\n",
    "import seaborn as sns \n",
    "import plotly.offline as py\n",
    "py.init_notebook_mode(connected=True)\n",
    "import plotly.graph_objs as go\n",
    "import plotly.tools as tls\n",
    "import plotly.figure_factory as ff"
   ]
  },
  {
   "cell_type": "markdown",
   "id": "596b398d",
   "metadata": {},
   "source": [
    "# 1. Data Importing"
   ]
  },
  {
   "cell_type": "code",
   "execution_count": 2,
   "id": "c35b1046",
   "metadata": {
    "scrolled": true
   },
   "outputs": [
    {
     "data": {
      "text/html": [
       "<div>\n",
       "<style scoped>\n",
       "    .dataframe tbody tr th:only-of-type {\n",
       "        vertical-align: middle;\n",
       "    }\n",
       "\n",
       "    .dataframe tbody tr th {\n",
       "        vertical-align: top;\n",
       "    }\n",
       "\n",
       "    .dataframe thead th {\n",
       "        text-align: right;\n",
       "    }\n",
       "</style>\n",
       "<table border=\"1\" class=\"dataframe\">\n",
       "  <thead>\n",
       "    <tr style=\"text-align: right;\">\n",
       "      <th></th>\n",
       "      <th>Unnamed: 0</th>\n",
       "      <th>RPI</th>\n",
       "      <th>INDPRO</th>\n",
       "      <th>CE16OV</th>\n",
       "      <th>UNRATE</th>\n",
       "      <th>PAYEMS</th>\n",
       "      <th>USGOOD</th>\n",
       "      <th>USTPU</th>\n",
       "      <th>HOUST</th>\n",
       "      <th>PERMIT</th>\n",
       "      <th>...</th>\n",
       "      <th>EXUSUK</th>\n",
       "      <th>WPSFD49207</th>\n",
       "      <th>WPSID61</th>\n",
       "      <th>CPIAUCSL</th>\n",
       "      <th>SP500</th>\n",
       "      <th>NASDAQ</th>\n",
       "      <th>GOLDBAR</th>\n",
       "      <th>Regime</th>\n",
       "      <th>P/E</th>\n",
       "      <th>Dividend Yield</th>\n",
       "    </tr>\n",
       "  </thead>\n",
       "  <tbody>\n",
       "    <tr>\n",
       "      <th>0</th>\n",
       "      <td>1996-01</td>\n",
       "      <td>8909.327</td>\n",
       "      <td>74.6841</td>\n",
       "      <td>125125</td>\n",
       "      <td>5.6</td>\n",
       "      <td>118316</td>\n",
       "      <td>23196</td>\n",
       "      <td>23947</td>\n",
       "      <td>1467</td>\n",
       "      <td>1387</td>\n",
       "      <td>...</td>\n",
       "      <td>1.5288</td>\n",
       "      <td>129.7</td>\n",
       "      <td>125.5</td>\n",
       "      <td>154.7</td>\n",
       "      <td>636.020020</td>\n",
       "      <td>1059.790039</td>\n",
       "      <td>20.754421</td>\n",
       "      <td>Normal</td>\n",
       "      <td>18.6845</td>\n",
       "      <td>2.26</td>\n",
       "    </tr>\n",
       "    <tr>\n",
       "      <th>1</th>\n",
       "      <td>1996-02</td>\n",
       "      <td>8983.863</td>\n",
       "      <td>75.8344</td>\n",
       "      <td>125639</td>\n",
       "      <td>5.5</td>\n",
       "      <td>118739</td>\n",
       "      <td>23280</td>\n",
       "      <td>23988</td>\n",
       "      <td>1491</td>\n",
       "      <td>1420</td>\n",
       "      <td>...</td>\n",
       "      <td>1.5360</td>\n",
       "      <td>129.7</td>\n",
       "      <td>125.0</td>\n",
       "      <td>155.0</td>\n",
       "      <td>640.429993</td>\n",
       "      <td>1100.050049</td>\n",
       "      <td>21.372637</td>\n",
       "      <td>Normal</td>\n",
       "      <td>18.8140</td>\n",
       "      <td>2.16</td>\n",
       "    </tr>\n",
       "    <tr>\n",
       "      <th>2</th>\n",
       "      <td>1996-03</td>\n",
       "      <td>9015.588</td>\n",
       "      <td>75.7631</td>\n",
       "      <td>125862</td>\n",
       "      <td>5.5</td>\n",
       "      <td>118993</td>\n",
       "      <td>23276</td>\n",
       "      <td>24030</td>\n",
       "      <td>1424</td>\n",
       "      <td>1437</td>\n",
       "      <td>...</td>\n",
       "      <td>1.5271</td>\n",
       "      <td>130.5</td>\n",
       "      <td>125.3</td>\n",
       "      <td>155.5</td>\n",
       "      <td>645.500000</td>\n",
       "      <td>1101.400024</td>\n",
       "      <td>21.460953</td>\n",
       "      <td>Normal</td>\n",
       "      <td>18.9630</td>\n",
       "      <td>2.18</td>\n",
       "    </tr>\n",
       "    <tr>\n",
       "      <th>3</th>\n",
       "      <td>1996-04</td>\n",
       "      <td>9039.466</td>\n",
       "      <td>76.4562</td>\n",
       "      <td>125994</td>\n",
       "      <td>5.6</td>\n",
       "      <td>119158</td>\n",
       "      <td>23316</td>\n",
       "      <td>24043</td>\n",
       "      <td>1516</td>\n",
       "      <td>1463</td>\n",
       "      <td>...</td>\n",
       "      <td>1.5160</td>\n",
       "      <td>130.9</td>\n",
       "      <td>125.7</td>\n",
       "      <td>156.1</td>\n",
       "      <td>654.169983</td>\n",
       "      <td>1190.520020</td>\n",
       "      <td>21.637589</td>\n",
       "      <td>Normal</td>\n",
       "      <td>18.7388</td>\n",
       "      <td>2.19</td>\n",
       "    </tr>\n",
       "    <tr>\n",
       "      <th>4</th>\n",
       "      <td>1996-05</td>\n",
       "      <td>9078.928</td>\n",
       "      <td>77.0161</td>\n",
       "      <td>126244</td>\n",
       "      <td>5.6</td>\n",
       "      <td>119486</td>\n",
       "      <td>23358</td>\n",
       "      <td>24137</td>\n",
       "      <td>1504</td>\n",
       "      <td>1457</td>\n",
       "      <td>...</td>\n",
       "      <td>1.5152</td>\n",
       "      <td>130.9</td>\n",
       "      <td>126.2</td>\n",
       "      <td>156.4</td>\n",
       "      <td>669.119995</td>\n",
       "      <td>1243.430054</td>\n",
       "      <td>22.255806</td>\n",
       "      <td>Normal</td>\n",
       "      <td>19.1670</td>\n",
       "      <td>2.15</td>\n",
       "    </tr>\n",
       "  </tbody>\n",
       "</table>\n",
       "<p>5 rows × 45 columns</p>\n",
       "</div>"
      ],
      "text/plain": [
       "  Unnamed: 0       RPI   INDPRO  CE16OV  UNRATE  PAYEMS  USGOOD  USTPU  HOUST  \\\n",
       "0    1996-01  8909.327  74.6841  125125     5.6  118316   23196  23947   1467   \n",
       "1    1996-02  8983.863  75.8344  125639     5.5  118739   23280  23988   1491   \n",
       "2    1996-03  9015.588  75.7631  125862     5.5  118993   23276  24030   1424   \n",
       "3    1996-04  9039.466  76.4562  125994     5.6  119158   23316  24043   1516   \n",
       "4    1996-05  9078.928  77.0161  126244     5.6  119486   23358  24137   1504   \n",
       "\n",
       "   PERMIT  ...  EXUSUK  WPSFD49207  WPSID61  CPIAUCSL       SP500  \\\n",
       "0    1387  ...  1.5288       129.7    125.5     154.7  636.020020   \n",
       "1    1420  ...  1.5360       129.7    125.0     155.0  640.429993   \n",
       "2    1437  ...  1.5271       130.5    125.3     155.5  645.500000   \n",
       "3    1463  ...  1.5160       130.9    125.7     156.1  654.169983   \n",
       "4    1457  ...  1.5152       130.9    126.2     156.4  669.119995   \n",
       "\n",
       "        NASDAQ    GOLDBAR  Regime      P/E  Dividend Yield  \n",
       "0  1059.790039  20.754421  Normal  18.6845            2.26  \n",
       "1  1100.050049  21.372637  Normal  18.8140            2.16  \n",
       "2  1101.400024  21.460953  Normal  18.9630            2.18  \n",
       "3  1190.520020  21.637589  Normal  18.7388            2.19  \n",
       "4  1243.430054  22.255806  Normal  19.1670            2.15  \n",
       "\n",
       "[5 rows x 45 columns]"
      ]
     },
     "execution_count": 2,
     "metadata": {},
     "output_type": "execute_result"
    }
   ],
   "source": [
    "import pandas as pd\n",
    "new = pd.read_csv (r\"C:\\Users\\admin\\Downloads\\US-macroeconomic data 1996-2020\\macrodata.csv\")\n",
    "new.head()"
   ]
  },
  {
   "cell_type": "markdown",
   "id": "01fe23fb",
   "metadata": {},
   "source": [
    "# 2. Data Pre-Processing\n",
    "Data Type and conversion\n",
    "\n",
    "Identifying & Treatment Missing Value"
   ]
  },
  {
   "cell_type": "markdown",
   "id": "b2e19be8",
   "metadata": {},
   "source": [
    "# 2.1. Data Type and conversion"
   ]
  },
  {
   "cell_type": "code",
   "execution_count": 3,
   "id": "2829d0a7",
   "metadata": {},
   "outputs": [
    {
     "name": "stdout",
     "output_type": "stream",
     "text": [
      "<class 'pandas.core.frame.DataFrame'>\n",
      "RangeIndex: 293 entries, 0 to 292\n",
      "Data columns (total 45 columns):\n",
      " #   Column           Non-Null Count  Dtype  \n",
      "---  ------           --------------  -----  \n",
      " 0   Unnamed: 0       293 non-null    object \n",
      " 1   RPI              293 non-null    float64\n",
      " 2   INDPRO           293 non-null    float64\n",
      " 3   CE16OV           293 non-null    int64  \n",
      " 4   UNRATE           293 non-null    float64\n",
      " 5   PAYEMS           293 non-null    int64  \n",
      " 6   USGOOD           293 non-null    int64  \n",
      " 7   USTPU            293 non-null    int64  \n",
      " 8   HOUST            293 non-null    int64  \n",
      " 9   PERMIT           293 non-null    int64  \n",
      " 10  DPCERA3M086SBEA  293 non-null    float64\n",
      " 11  AMTMTI           293 non-null    int64  \n",
      " 12  AMTMNO           293 non-null    int64  \n",
      " 13  ACOGNO           293 non-null    int64  \n",
      " 14  AMDMUO           293 non-null    int64  \n",
      " 15  BUSINV           293 non-null    int64  \n",
      " 16  ISRATIO          293 non-null    float64\n",
      " 17  M1SL             293 non-null    float64\n",
      " 18  M2SL             293 non-null    float64\n",
      " 19  TOTRESNS         293 non-null    float64\n",
      " 20  BUSLOANS         293 non-null    float64\n",
      " 21  REALLN           293 non-null    float64\n",
      " 22  DTCTHFNM         293 non-null    float64\n",
      " 23  FEDFUNDS         293 non-null    float64\n",
      " 24  TB3MS            293 non-null    float64\n",
      " 25  TB6MS            293 non-null    float64\n",
      " 26  GS1              293 non-null    float64\n",
      " 27  GS5              293 non-null    float64\n",
      " 28  GS10             293 non-null    float64\n",
      " 29  AAA              293 non-null    float64\n",
      " 30  TB3SMFFM         293 non-null    float64\n",
      " 31  T1YFFM           293 non-null    float64\n",
      " 32  AAAFFM           293 non-null    float64\n",
      " 33  EXSZUS           293 non-null    float64\n",
      " 34  EXCAUS           293 non-null    float64\n",
      " 35  EXUSUK           293 non-null    float64\n",
      " 36  WPSFD49207       293 non-null    float64\n",
      " 37  WPSID61          293 non-null    float64\n",
      " 38  CPIAUCSL         293 non-null    float64\n",
      " 39  SP500            293 non-null    float64\n",
      " 40  NASDAQ           293 non-null    float64\n",
      " 41  GOLDBAR          293 non-null    float64\n",
      " 42  Regime           293 non-null    object \n",
      " 43  P/E              293 non-null    float64\n",
      " 44  Dividend Yield   293 non-null    float64\n",
      "dtypes: float64(32), int64(11), object(2)\n",
      "memory usage: 103.1+ KB\n"
     ]
    }
   ],
   "source": [
    "new.info()"
   ]
  },
  {
   "cell_type": "code",
   "execution_count": 4,
   "id": "20bf8d3b",
   "metadata": {},
   "outputs": [],
   "source": [
    "new = new.drop('Unnamed: 0',axis=1)"
   ]
  },
  {
   "cell_type": "markdown",
   "id": "02865eb6",
   "metadata": {},
   "source": [
    "# 2.2. Identifying & Treatment Missing Value"
   ]
  },
  {
   "cell_type": "code",
   "execution_count": 5,
   "id": "00fc9078",
   "metadata": {},
   "outputs": [
    {
     "data": {
      "text/plain": [
       "RPI                0\n",
       "INDPRO             0\n",
       "CE16OV             0\n",
       "UNRATE             0\n",
       "PAYEMS             0\n",
       "USGOOD             0\n",
       "USTPU              0\n",
       "HOUST              0\n",
       "PERMIT             0\n",
       "DPCERA3M086SBEA    0\n",
       "AMTMTI             0\n",
       "AMTMNO             0\n",
       "ACOGNO             0\n",
       "AMDMUO             0\n",
       "BUSINV             0\n",
       "ISRATIO            0\n",
       "M1SL               0\n",
       "M2SL               0\n",
       "TOTRESNS           0\n",
       "BUSLOANS           0\n",
       "REALLN             0\n",
       "DTCTHFNM           0\n",
       "FEDFUNDS           0\n",
       "TB3MS              0\n",
       "TB6MS              0\n",
       "GS1                0\n",
       "GS5                0\n",
       "GS10               0\n",
       "AAA                0\n",
       "TB3SMFFM           0\n",
       "T1YFFM             0\n",
       "AAAFFM             0\n",
       "EXSZUS             0\n",
       "EXCAUS             0\n",
       "EXUSUK             0\n",
       "WPSFD49207         0\n",
       "WPSID61            0\n",
       "CPIAUCSL           0\n",
       "SP500              0\n",
       "NASDAQ             0\n",
       "GOLDBAR            0\n",
       "Regime             0\n",
       "P/E                0\n",
       "Dividend Yield     0\n",
       "dtype: int64"
      ]
     },
     "execution_count": 5,
     "metadata": {},
     "output_type": "execute_result"
    }
   ],
   "source": [
    "# count the number of NaN values in each column\n",
    "new.isnull().sum()"
   ]
  },
  {
   "cell_type": "code",
   "execution_count": 6,
   "id": "2371dad2",
   "metadata": {},
   "outputs": [
    {
     "data": {
      "text/html": [
       "<div>\n",
       "<style scoped>\n",
       "    .dataframe tbody tr th:only-of-type {\n",
       "        vertical-align: middle;\n",
       "    }\n",
       "\n",
       "    .dataframe tbody tr th {\n",
       "        vertical-align: top;\n",
       "    }\n",
       "\n",
       "    .dataframe thead th {\n",
       "        text-align: right;\n",
       "    }\n",
       "</style>\n",
       "<table border=\"1\" class=\"dataframe\">\n",
       "  <thead>\n",
       "    <tr style=\"text-align: right;\">\n",
       "      <th></th>\n",
       "      <th>RPI</th>\n",
       "      <th>INDPRO</th>\n",
       "      <th>CE16OV</th>\n",
       "      <th>UNRATE</th>\n",
       "      <th>PAYEMS</th>\n",
       "      <th>USGOOD</th>\n",
       "      <th>USTPU</th>\n",
       "      <th>HOUST</th>\n",
       "      <th>PERMIT</th>\n",
       "      <th>DPCERA3M086SBEA</th>\n",
       "      <th>...</th>\n",
       "      <th>EXUSUK</th>\n",
       "      <th>WPSFD49207</th>\n",
       "      <th>WPSID61</th>\n",
       "      <th>CPIAUCSL</th>\n",
       "      <th>SP500</th>\n",
       "      <th>NASDAQ</th>\n",
       "      <th>GOLDBAR</th>\n",
       "      <th>Regime</th>\n",
       "      <th>P/E</th>\n",
       "      <th>Dividend Yield</th>\n",
       "    </tr>\n",
       "  </thead>\n",
       "  <tbody>\n",
       "    <tr>\n",
       "      <th>0</th>\n",
       "      <td>8909.327</td>\n",
       "      <td>74.6841</td>\n",
       "      <td>125125</td>\n",
       "      <td>5.6</td>\n",
       "      <td>118316</td>\n",
       "      <td>23196</td>\n",
       "      <td>23947</td>\n",
       "      <td>1467</td>\n",
       "      <td>1387</td>\n",
       "      <td>63.691</td>\n",
       "      <td>...</td>\n",
       "      <td>1.5288</td>\n",
       "      <td>129.7</td>\n",
       "      <td>125.5</td>\n",
       "      <td>154.7</td>\n",
       "      <td>636.020020</td>\n",
       "      <td>1059.790039</td>\n",
       "      <td>20.754421</td>\n",
       "      <td>Normal</td>\n",
       "      <td>18.6845</td>\n",
       "      <td>2.26</td>\n",
       "    </tr>\n",
       "    <tr>\n",
       "      <th>1</th>\n",
       "      <td>8983.863</td>\n",
       "      <td>75.8344</td>\n",
       "      <td>125639</td>\n",
       "      <td>5.5</td>\n",
       "      <td>118739</td>\n",
       "      <td>23280</td>\n",
       "      <td>23988</td>\n",
       "      <td>1491</td>\n",
       "      <td>1420</td>\n",
       "      <td>64.180</td>\n",
       "      <td>...</td>\n",
       "      <td>1.5360</td>\n",
       "      <td>129.7</td>\n",
       "      <td>125.0</td>\n",
       "      <td>155.0</td>\n",
       "      <td>640.429993</td>\n",
       "      <td>1100.050049</td>\n",
       "      <td>21.372637</td>\n",
       "      <td>Normal</td>\n",
       "      <td>18.8140</td>\n",
       "      <td>2.16</td>\n",
       "    </tr>\n",
       "    <tr>\n",
       "      <th>2</th>\n",
       "      <td>9015.588</td>\n",
       "      <td>75.7631</td>\n",
       "      <td>125862</td>\n",
       "      <td>5.5</td>\n",
       "      <td>118993</td>\n",
       "      <td>23276</td>\n",
       "      <td>24030</td>\n",
       "      <td>1424</td>\n",
       "      <td>1437</td>\n",
       "      <td>64.491</td>\n",
       "      <td>...</td>\n",
       "      <td>1.5271</td>\n",
       "      <td>130.5</td>\n",
       "      <td>125.3</td>\n",
       "      <td>155.5</td>\n",
       "      <td>645.500000</td>\n",
       "      <td>1101.400024</td>\n",
       "      <td>21.460953</td>\n",
       "      <td>Normal</td>\n",
       "      <td>18.9630</td>\n",
       "      <td>2.18</td>\n",
       "    </tr>\n",
       "    <tr>\n",
       "      <th>3</th>\n",
       "      <td>9039.466</td>\n",
       "      <td>76.4562</td>\n",
       "      <td>125994</td>\n",
       "      <td>5.6</td>\n",
       "      <td>119158</td>\n",
       "      <td>23316</td>\n",
       "      <td>24043</td>\n",
       "      <td>1516</td>\n",
       "      <td>1463</td>\n",
       "      <td>64.729</td>\n",
       "      <td>...</td>\n",
       "      <td>1.5160</td>\n",
       "      <td>130.9</td>\n",
       "      <td>125.7</td>\n",
       "      <td>156.1</td>\n",
       "      <td>654.169983</td>\n",
       "      <td>1190.520020</td>\n",
       "      <td>21.637589</td>\n",
       "      <td>Normal</td>\n",
       "      <td>18.7388</td>\n",
       "      <td>2.19</td>\n",
       "    </tr>\n",
       "    <tr>\n",
       "      <th>4</th>\n",
       "      <td>9078.928</td>\n",
       "      <td>77.0161</td>\n",
       "      <td>126244</td>\n",
       "      <td>5.6</td>\n",
       "      <td>119486</td>\n",
       "      <td>23358</td>\n",
       "      <td>24137</td>\n",
       "      <td>1504</td>\n",
       "      <td>1457</td>\n",
       "      <td>64.813</td>\n",
       "      <td>...</td>\n",
       "      <td>1.5152</td>\n",
       "      <td>130.9</td>\n",
       "      <td>126.2</td>\n",
       "      <td>156.4</td>\n",
       "      <td>669.119995</td>\n",
       "      <td>1243.430054</td>\n",
       "      <td>22.255806</td>\n",
       "      <td>Normal</td>\n",
       "      <td>19.1670</td>\n",
       "      <td>2.15</td>\n",
       "    </tr>\n",
       "  </tbody>\n",
       "</table>\n",
       "<p>5 rows × 44 columns</p>\n",
       "</div>"
      ],
      "text/plain": [
       "        RPI   INDPRO  CE16OV  UNRATE  PAYEMS  USGOOD  USTPU  HOUST  PERMIT  \\\n",
       "0  8909.327  74.6841  125125     5.6  118316   23196  23947   1467    1387   \n",
       "1  8983.863  75.8344  125639     5.5  118739   23280  23988   1491    1420   \n",
       "2  9015.588  75.7631  125862     5.5  118993   23276  24030   1424    1437   \n",
       "3  9039.466  76.4562  125994     5.6  119158   23316  24043   1516    1463   \n",
       "4  9078.928  77.0161  126244     5.6  119486   23358  24137   1504    1457   \n",
       "\n",
       "   DPCERA3M086SBEA  ...  EXUSUK  WPSFD49207  WPSID61  CPIAUCSL       SP500  \\\n",
       "0           63.691  ...  1.5288       129.7    125.5     154.7  636.020020   \n",
       "1           64.180  ...  1.5360       129.7    125.0     155.0  640.429993   \n",
       "2           64.491  ...  1.5271       130.5    125.3     155.5  645.500000   \n",
       "3           64.729  ...  1.5160       130.9    125.7     156.1  654.169983   \n",
       "4           64.813  ...  1.5152       130.9    126.2     156.4  669.119995   \n",
       "\n",
       "        NASDAQ    GOLDBAR  Regime      P/E  Dividend Yield  \n",
       "0  1059.790039  20.754421  Normal  18.6845            2.26  \n",
       "1  1100.050049  21.372637  Normal  18.8140            2.16  \n",
       "2  1101.400024  21.460953  Normal  18.9630            2.18  \n",
       "3  1190.520020  21.637589  Normal  18.7388            2.19  \n",
       "4  1243.430054  22.255806  Normal  19.1670            2.15  \n",
       "\n",
       "[5 rows x 44 columns]"
      ]
     },
     "execution_count": 6,
     "metadata": {},
     "output_type": "execute_result"
    }
   ],
   "source": [
    "new.head()"
   ]
  },
  {
   "cell_type": "code",
   "execution_count": 7,
   "id": "71d0a5ec",
   "metadata": {},
   "outputs": [
    {
     "data": {
      "text/plain": [
       "<AxesSubplot:>"
      ]
     },
     "execution_count": 7,
     "metadata": {},
     "output_type": "execute_result"
    },
    {
     "data": {
      "image/png": "[encoded data removed]",
      "text/plain": [
       "<Figure size 600x500 with 1 Axes>"
      ]
     },
     "metadata": {},
     "output_type": "display_data"
    }
   ],
   "source": [
    "from matplotlib import pyplot as plt\n",
    "plt.figure(figsize=(6,5))\n",
    "sns.boxplot(data=new)"
   ]
  },
  {
   "cell_type": "code",
   "execution_count": 8,
   "id": "515dd231",
   "metadata": {},
   "outputs": [],
   "source": [
    "for i in new:\n",
    "    if new[i].dtypes in (\"float64\",\"int64\"):\n",
    "        q1 = new[i].quantile(0.25)\n",
    "        q3 = new[i].quantile(0.75)\n",
    "        iqr = q3-q1\n",
    "        ul = q3 + 1.5*iqr\n",
    "        ll = q1 - 1.5*iqr\n",
    "        new[i].clip(upper=ul,lower=ll,inplace=True)"
   ]
  },
  {
   "cell_type": "markdown",
   "id": "fccc7b5b",
   "metadata": {},
   "source": [
    "# Data Visualization"
   ]
  },
  {
   "cell_type": "markdown",
   "id": "c1252fec",
   "metadata": {},
   "source": [
    "# Recession Analysis"
   ]
  },
  {
   "cell_type": "code",
   "execution_count": 9,
   "id": "644d5990",
   "metadata": {},
   "outputs": [
    {
     "data": {
      "text/plain": [
       "Normal       263\n",
       "Recession     30\n",
       "Name: Regime, dtype: int64"
      ]
     },
     "execution_count": 9,
     "metadata": {},
     "output_type": "execute_result"
    }
   ],
   "source": [
    "new.Regime.value_counts()"
   ]
  },
  {
   "cell_type": "code",
   "execution_count": 10,
   "id": "1ced0484",
   "metadata": {},
   "outputs": [
    {
     "data": {
      "text/plain": [
       "10.238907849829351"
      ]
     },
     "execution_count": 10,
     "metadata": {},
     "output_type": "execute_result"
    }
   ],
   "source": [
    "(30/293)*100 # 10% is Recession"
   ]
  },
  {
   "cell_type": "code",
   "execution_count": 11,
   "id": "e4c0b9c3",
   "metadata": {},
   "outputs": [
    {
     "data": {
      "application/vnd.plotly.v1+json": {
       "config": {
        "plotlyServerURL": "https://plot.ly"
       },
       "data": [
        {
         "customdata": [
          [
           "Normal"
          ],
          [
           "Normal"
          ],
          [
           "Normal"
          ],
          [
           "Normal"
          ],
          [
           "Normal"
          ],
          [
           "Normal"
          ],
          [
           "Normal"
          ],
          [
           "Normal"
          ],
          [
           "Normal"
          ],
          [
           "Normal"
          ],
          [
           "Normal"
          ],
          [
           "Normal"
          ],
          [
           "Normal"
          ],
          [
           "Normal"
          ],
          [
           "Normal"
          ],
          [
           "Normal"
          ],
          [
           "Normal"
          ],
          [
           "Normal"
          ],
          [
           "Normal"
          ],
          [
           "Normal"
          ],
          [
           "Normal"
          ],
          [
           "Normal"
          ],
          [
           "Normal"
          ],
          [
           "Normal"
          ],
          [
           "Normal"
          ],
          [
           "Normal"
          ],
          [
           "Normal"
          ],
          [
           "Normal"
          ],
          [
           "Normal"
          ],
          [
           "Normal"
          ],
          [
           "Normal"
          ],
          [
           "Normal"
          ],
          [
           "Normal"
          ],
          [
           "Normal"
          ],
          [
           "Normal"
          ],
          [
           "Normal"
          ],
          [
           "Normal"
          ],
          [
           "Normal"
          ],
          [
           "Normal"
          ],
          [
           "Normal"
          ],
          [
           "Normal"
          ],
          [
           "Normal"
          ],
          [
           "Normal"
          ],
          [
           "Normal"
          ],
          [
           "Normal"
          ],
          [
           "Normal"
          ],
          [
           "Normal"
          ],
          [
           "Normal"
          ],
          [
           "Normal"
          ],
          [
           "Normal"
          ],
          [
           "Normal"
          ],
          [
           "Normal"
          ],
          [
           "Normal"
          ],
          [
           "Normal"
          ],
          [
           "Normal"
          ],
          [
           "Normal"
          ],
          [
           "Normal"
          ],
          [
           "Normal"
          ],
          [
           "Normal"
          ],
          [
           "Normal"
          ],
          [
           "Normal"
          ],
          [
           "Normal"
          ],
          [
           "Recession"
          ],
          [
           "Recession"
          ],
          [
           "Recession"
          ],
          [
           "Recession"
          ],
          [
           "Recession"
          ],
          [
           "Recession"
          ],
          [
           "Recession"
          ],
          [
           "Recession"
          ],
          [
           "Normal"
          ],
          [
           "Normal"
          ],
          [
           "Normal"
          ],
          [
           "Normal"
          ],
          [
           "Normal"
          ],
          [
           "Normal"
          ],
          [
           "Normal"
          ],
          [
           "Normal"
          ],
          [
           "Normal"
          ],
          [
           "Normal"
          ],
          [
           "Normal"
          ],
          [
           "Normal"
          ],
          [
           "Normal"
          ],
          [
           "Normal"
          ],
          [
           "Normal"
          ],
          [
           "Normal"
          ],
          [
           "Normal"
          ],
          [
           "Normal"
          ],
          [
           "Normal"
          ],
          [
           "Normal"
          ],
          [
           "Normal"
          ],
          [
           "Normal"
          ],
          [
           "Normal"
          ],
          [
           "Normal"
          ],
          [
           "Normal"
          ],
          [
           "Normal"
          ],
          [
           "Normal"
          ],
          [
           "Normal"
          ],
          [
           "Normal"
          ],
          [
           "Normal"
          ],
          [
           "Normal"
          ],
          [
           "Normal"
          ],
          [
           "Normal"
          ],
          [
           "Normal"
          ],
          [
           "Normal"
          ],
          [
           "Normal"
          ],
          [
           "Normal"
          ],
          [
           "Normal"
          ],
          [
           "Normal"
          ],
          [
           "Normal"
          ],
          [
           "Normal"
          ],
          [
           "Normal"
          ],
          [
           "Normal"
          ],
          [
           "Normal"
          ],
          [
           "Normal"
          ],
          [
           "Normal"
          ],
          [
           "Normal"
          ],
          [
           "Normal"
          ],
          [
           "Normal"
          ],
          [
           "Normal"
          ],
          [
           "Normal"
          ],
          [
           "Normal"
          ],
          [
           "Normal"
          ],
          [
           "Normal"
          ],
          [
           "Normal"
          ],
          [
           "Normal"
          ],
          [
           "Normal"
          ],
          [
           "Normal"
          ],
          [
           "Normal"
          ],
          [
           "Normal"
          ],
          [
           "Normal"
          ],
          [
           "Normal"
          ],
          [
           "Normal"
          ],
          [
           "Normal"
          ],
          [
           "Normal"
          ],
          [
           "Normal"
          ],
          [
           "Normal"
          ],
          [
           "Normal"
          ],
          [
           "Normal"
          ],
          [
           "Normal"
          ],
          [
           "Normal"
          ],
          [
           "Normal"
          ],
          [
           "Recession"
          ],
          [
           "Recession"
          ],
          [
           "Recession"
          ],
          [
           "Recession"
          ],
          [
           "Recession"
          ],
          [
           "Recession"
          ],
          [
           "Recession"
          ],
          [
           "Recession"
          ],
          [
           "Recession"
          ],
          [
           "Recession"
          ],
          [
           "Recession"
          ],
          [
           "Recession"
          ],
          [
           "Recession"
          ],
          [
           "Recession"
          ],
          [
           "Recession"
          ],
          [
           "Recession"
          ],
          [
           "Recession"
          ],
          [
           "Recession"
          ],
          [
           "Normal"
          ],
          [
           "Normal"
          ],
          [
           "Normal"
          ],
          [
           "Normal"
          ],
          [
           "Normal"
          ],
          [
           "Normal"
          ],
          [
           "Normal"
          ],
          [
           "Normal"
          ],
          [
           "Normal"
          ],
          [
           "Normal"
          ],
          [
           "Normal"
          ],
          [
           "Normal"
          ],
          [
           "Normal"
          ],
          [
           "Normal"
          ],
          [
           "Normal"
          ],
          [
           "Normal"
          ],
          [
           "Normal"
          ],
          [
           "Normal"
          ],
          [
           "Normal"
          ],
          [
           "Normal"
          ],
          [
           "Normal"
          ],
          [
           "Normal"
          ],
          [
           "Normal"
          ],
          [
           "Normal"
          ],
          [
           "Normal"
          ],
          [
           "Normal"
          ],
          [
           "Normal"
          ],
          [
           "Normal"
          ],
          [
           "Normal"
          ],
          [
           "Normal"
          ],
          [
           "Normal"
          ],
          [
           "Normal"
          ],
          [
           "Normal"
          ],
          [
           "Normal"
          ],
          [
           "Normal"
          ],
          [
           "Normal"
          ],
          [
           "Normal"
          ],
          [
           "Normal"
          ],
          [
           "Normal"
          ],
          [
           "Normal"
          ],
          [
           "Normal"
          ],
          [
           "Normal"
          ],
          [
           "Normal"
          ],
          [
           "Normal"
          ],
          [
           "Normal"
          ],
          [
           "Normal"
          ],
          [
           "Normal"
          ],
          [
           "Normal"
          ],
          [
           "Normal"
          ],
          [
           "Normal"
          ],
          [
           "Normal"
          ],
          [
           "Normal"
          ],
          [
           "Normal"
          ],
          [
           "Normal"
          ],
          [
           "Normal"
          ],
          [
           "Normal"
          ],
          [
           "Normal"
          ],
          [
           "Normal"
          ],
          [
           "Normal"
          ],
          [
           "Normal"
          ],
          [
           "Normal"
          ],
          [
           "Normal"
          ],
          [
           "Normal"
          ],
          [
           "Normal"
          ],
          [
           "Normal"
          ],
          [
           "Normal"
          ],
          [
           "Normal"
          ],
          [
           "Normal"
          ],
          [
           "Normal"
          ],
          [
           "Normal"
          ],
          [
           "Normal"
          ],
          [
           "Normal"
          ],
          [
           "Normal"
          ],
          [
           "Normal"
          ],
          [
           "Normal"
          ],
          [
           "Normal"
          ],
          [
           "Normal"
          ],
          [
           "Normal"
          ],
          [
           "Normal"
          ],
          [
           "Normal"
          ],
          [
           "Normal"
          ],
          [
           "Normal"
          ],
          [
           "Normal"
          ],
          [
           "Normal"
          ],
          [
           "Normal"
          ],
          [
           "Normal"
          ],
          [
           "Normal"
          ],
          [
           "Normal"
          ],
          [
           "Normal"
          ],
          [
           "Normal"
          ],
          [
           "Normal"
          ],
          [
           "Normal"
          ],
          [
           "Normal"
          ],
          [
           "Normal"
          ],
          [
           "Normal"
          ],
          [
           "Normal"
          ],
          [
           "Normal"
          ],
          [
           "Normal"
          ],
          [
           "Normal"
          ],
          [
           "Normal"
          ],
          [
           "Normal"
          ],
          [
           "Normal"
          ],
          [
           "Normal"
          ],
          [
           "Normal"
          ],
          [
           "Normal"
          ],
          [
           "Normal"
          ],
          [
           "Normal"
          ],
          [
           "Normal"
          ],
          [
           "Normal"
          ],
          [
           "Normal"
          ],
          [
           "Normal"
          ],
          [
           "Normal"
          ],
          [
           "Normal"
          ],
          [
           "Normal"
          ],
          [
           "Normal"
          ],
          [
           "Normal"
          ],
          [
           "Normal"
          ],
          [
           "Normal"
          ],
          [
           "Normal"
          ],
          [
           "Normal"
          ],
          [
           "Normal"
          ],
          [
           "Normal"
          ],
          [
           "Normal"
          ],
          [
           "Normal"
          ],
          [
           "Normal"
          ],
          [
           "Normal"
          ],
          [
           "Normal"
          ],
          [
           "Normal"
          ],
          [
           "Normal"
          ],
          [
           "Recession"
          ],
          [
           "Recession"
          ],
          [
           "Recession"
          ],
          [
           "Recession"
          ]
         ],
         "domain": {
          "x": [
           0,
           1
          ],
          "y": [
           0,
           1
          ]
         },
         "hovertemplate": "Regime=%{customdata[0]}<extra></extra>",
         "labels": [
          "Normal",
          "Normal",
          "Normal",
          "Normal",
          "Normal",
          "Normal",
          "Normal",
          "Normal",
          "Normal",
          "Normal",
          "Normal",
          "Normal",
          "Normal",
          "Normal",
          "Normal",
          "Normal",
          "Normal",
          "Normal",
          "Normal",
          "Normal",
          "Normal",
          "Normal",
          "Normal",
          "Normal",
          "Normal",
          "Normal",
          "Normal",
          "Normal",
          "Normal",
          "Normal",
          "Normal",
          "Normal",
          "Normal",
          "Normal",
          "Normal",
          "Normal",
          "Normal",
          "Normal",
          "Normal",
          "Normal",
          "Normal",
          "Normal",
          "Normal",
          "Normal",
          "Normal",
          "Normal",
          "Normal",
          "Normal",
          "Normal",
          "Normal",
          "Normal",
          "Normal",
          "Normal",
          "Normal",
          "Normal",
          "Normal",
          "Normal",
          "Normal",
          "Normal",
          "Normal",
          "Normal",
          "Normal",
          "Recession",
          "Recession",
          "Recession",
          "Recession",
          "Recession",
          "Recession",
          "Recession",
          "Recession",
          "Normal",
          "Normal",
          "Normal",
          "Normal",
          "Normal",
          "Normal",
          "Normal",
          "Normal",
          "Normal",
          "Normal",
          "Normal",
          "Normal",
          "Normal",
          "Normal",
          "Normal",
          "Normal",
          "Normal",
          "Normal",
          "Normal",
          "Normal",
          "Normal",
          "Normal",
          "Normal",
          "Normal",
          "Normal",
          "Normal",
          "Normal",
          "Normal",
          "Normal",
          "Normal",
          "Normal",
          "Normal",
          "Normal",
          "Normal",
          "Normal",
          "Normal",
          "Normal",
          "Normal",
          "Normal",
          "Normal",
          "Normal",
          "Normal",
          "Normal",
          "Normal",
          "Normal",
          "Normal",
          "Normal",
          "Normal",
          "Normal",
          "Normal",
          "Normal",
          "Normal",
          "Normal",
          "Normal",
          "Normal",
          "Normal",
          "Normal",
          "Normal",
          "Normal",
          "Normal",
          "Normal",
          "Normal",
          "Normal",
          "Normal",
          "Normal",
          "Normal",
          "Normal",
          "Normal",
          "Normal",
          "Normal",
          "Normal",
          "Normal",
          "Recession",
          "Recession",
          "Recession",
          "Recession",
          "Recession",
          "Recession",
          "Recession",
          "Recession",
          "Recession",
          "Recession",
          "Recession",
          "Recession",
          "Recession",
          "Recession",
          "Recession",
          "Recession",
          "Recession",
          "Recession",
          "Normal",
          "Normal",
          "Normal",
          "Normal",
          "Normal",
          "Normal",
          "Normal",
          "Normal",
          "Normal",
          "Normal",
          "Normal",
          "Normal",
          "Normal",
          "Normal",
          "Normal",
          "Normal",
          "Normal",
          "Normal",
          "Normal",
          "Normal",
          "Normal",
          "Normal",
          "Normal",
          "Normal",
          "Normal",
          "Normal",
          "Normal",
          "Normal",
          "Normal",
          "Normal",
          "Normal",
          "Normal",
          "Normal",
          "Normal",
          "Normal",
          "Normal",
          "Normal",
          "Normal",
          "Normal",
          "Normal",
          "Normal",
          "Normal",
          "Normal",
          "Normal",
          "Normal",
          "Normal",
          "Normal",
          "Normal",
          "Normal",
          "Normal",
          "Normal",
          "Normal",
          "Normal",
          "Normal",
          "Normal",
          "Normal",
          "Normal",
          "Normal",
          "Normal",
          "Normal",
          "Normal",
          "Normal",
          "Normal",
          "Normal",
          "Normal",
          "Normal",
          "Normal",
          "Normal",
          "Normal",
          "Normal",
          "Normal",
          "Normal",
          "Normal",
          "Normal",
          "Normal",
          "Normal",
          "Normal",
          "Normal",
          "Normal",
          "Normal",
          "Normal",
          "Normal",
          "Normal",
          "Normal",
          "Normal",
          "Normal",
          "Normal",
          "Normal",
          "Normal",
          "Normal",
          "Normal",
          "Normal",
          "Normal",
          "Normal",
          "Normal",
          "Normal",
          "Normal",
          "Normal",
          "Normal",
          "Normal",
          "Normal",
          "Normal",
          "Normal",
          "Normal",
          "Normal",
          "Normal",
          "Normal",
          "Normal",
          "Normal",
          "Normal",
          "Normal",
          "Normal",
          "Normal",
          "Normal",
          "Normal",
          "Normal",
          "Normal",
          "Normal",
          "Normal",
          "Normal",
          "Normal",
          "Normal",
          "Normal",
          "Normal",
          "Normal",
          "Normal",
          "Normal",
          "Normal",
          "Normal",
          "Recession",
          "Recession",
          "Recession",
          "Recession"
         ],
         "legendgroup": "",
         "marker": {
          "colors": [
           "#00cc96",
           "#00cc96",
           "#00cc96",
           "#00cc96",
           "#00cc96",
           "#00cc96",
           "#00cc96",
           "#00cc96",
           "#00cc96",
           "#00cc96",
           "#00cc96",
           "#00cc96",
           "#00cc96",
           "#00cc96",
           "#00cc96",
           "#00cc96",
           "#00cc96",
           "#00cc96",
           "#00cc96",
           "#00cc96",
           "#00cc96",
           "#00cc96",
           "#00cc96",
           "#00cc96",
           "#00cc96",
           "#00cc96",
           "#00cc96",
           "#00cc96",
           "#00cc96",
           "#00cc96",
           "#00cc96",
           "#00cc96",
           "#00cc96",
           "#00cc96",
           "#00cc96",
           "#00cc96",
           "#00cc96",
           "#00cc96",
           "#00cc96",
           "#00cc96",
           "#00cc96",
           "#00cc96",
           "#00cc96",
           "#00cc96",
           "#00cc96",
           "#00cc96",
           "#00cc96",
           "#00cc96",
           "#00cc96",
           "#00cc96",
           "#00cc96",
           "#00cc96",
           "#00cc96",
           "#00cc96",
           "#00cc96",
           "#00cc96",
           "#00cc96",
           "#00cc96",
           "#00cc96",
           "#00cc96",
           "#00cc96",
           "#00cc96",
           "#ab63fa",
           "#ab63fa",
           "#ab63fa",
           "#ab63fa",
           "#ab63fa",
           "#ab63fa",
           "#ab63fa",
           "#ab63fa",
           "#00cc96",
           "#00cc96",
           "#00cc96",
           "#00cc96",
           "#00cc96",
           "#00cc96",
           "#00cc96",
           "#00cc96",
           "#00cc96",
           "#00cc96",
           "#00cc96",
           "#00cc96",
           "#00cc96",
           "#00cc96",
           "#00cc96",
           "#00cc96",
           "#00cc96",
           "#00cc96",
           "#00cc96",
           "#00cc96",
           "#00cc96",
           "#00cc96",
           "#00cc96",
           "#00cc96",
           "#00cc96",
           "#00cc96",
           "#00cc96",
           "#00cc96",
           "#00cc96",
           "#00cc96",
           "#00cc96",
           "#00cc96",
           "#00cc96",
           "#00cc96",
           "#00cc96",
           "#00cc96",
           "#00cc96",
           "#00cc96",
           "#00cc96",
           "#00cc96",
           "#00cc96",
           "#00cc96",
           "#00cc96",
           "#00cc96",
           "#00cc96",
           "#00cc96",
           "#00cc96",
           "#00cc96",
           "#00cc96",
           "#00cc96",
           "#00cc96",
           "#00cc96",
           "#00cc96",
           "#00cc96",
           "#00cc96",
           "#00cc96",
           "#00cc96",
           "#00cc96",
           "#00cc96",
           "#00cc96",
           "#00cc96",
           "#00cc96",
           "#00cc96",
           "#00cc96",
           "#00cc96",
           "#00cc96",
           "#00cc96",
           "#00cc96",
           "#00cc96",
           "#00cc96",
           "#00cc96",
           "#00cc96",
           "#ab63fa",
           "#ab63fa",
           "#ab63fa",
           "#ab63fa",
           "#ab63fa",
           "#ab63fa",
           "#ab63fa",
           "#ab63fa",
           "#ab63fa",
           "#ab63fa",
           "#ab63fa",
           "#ab63fa",
           "#ab63fa",
           "#ab63fa",
           "#ab63fa",
           "#ab63fa",
           "#ab63fa",
           "#ab63fa",
           "#00cc96",
           "#00cc96",
           "#00cc96",
           "#00cc96",
           "#00cc96",
           "#00cc96",
           "#00cc96",
           "#00cc96",
           "#00cc96",
           "#00cc96",
           "#00cc96",
           "#00cc96",
           "#00cc96",
           "#00cc96",
           "#00cc96",
           "#00cc96",
           "#00cc96",
           "#00cc96",
           "#00cc96",
           "#00cc96",
           "#00cc96",
           "#00cc96",
           "#00cc96",
           "#00cc96",
           "#00cc96",
           "#00cc96",
           "#00cc96",
           "#00cc96",
           "#00cc96",
           "#00cc96",
           "#00cc96",
           "#00cc96",
           "#00cc96",
           "#00cc96",
           "#00cc96",
           "#00cc96",
           "#00cc96",
           "#00cc96",
           "#00cc96",
           "#00cc96",
           "#00cc96",
           "#00cc96",
           "#00cc96",
           "#00cc96",
           "#00cc96",
           "#00cc96",
           "#00cc96",
           "#00cc96",
           "#00cc96",
           "#00cc96",
           "#00cc96",
           "#00cc96",
           "#00cc96",
           "#00cc96",
           "#00cc96",
           "#00cc96",
           "#00cc96",
           "#00cc96",
           "#00cc96",
           "#00cc96",
           "#00cc96",
           "#00cc96",
           "#00cc96",
           "#00cc96",
           "#00cc96",
           "#00cc96",
           "#00cc96",
           "#00cc96",
           "#00cc96",
           "#00cc96",
           "#00cc96",
           "#00cc96",
           "#00cc96",
           "#00cc96",
           "#00cc96",
           "#00cc96",
           "#00cc96",
           "#00cc96",
           "#00cc96",
           "#00cc96",
           "#00cc96",
           "#00cc96",
           "#00cc96",
           "#00cc96",
           "#00cc96",
           "#00cc96",
           "#00cc96",
           "#00cc96",
           "#00cc96",
           "#00cc96",
           "#00cc96",
           "#00cc96",
           "#00cc96",
           "#00cc96",
           "#00cc96",
           "#00cc96",
           "#00cc96",
           "#00cc96",
           "#00cc96",
           "#00cc96",
           "#00cc96",
           "#00cc96",
           "#00cc96",
           "#00cc96",
           "#00cc96",
           "#00cc96",
           "#00cc96",
           "#00cc96",
           "#00cc96",
           "#00cc96",
           "#00cc96",
           "#00cc96",
           "#00cc96",
           "#00cc96",
           "#00cc96",
           "#00cc96",
           "#00cc96",
           "#00cc96",
           "#00cc96",
           "#00cc96",
           "#00cc96",
           "#00cc96",
           "#00cc96",
           "#00cc96",
           "#00cc96",
           "#00cc96",
           "#00cc96",
           "#00cc96",
           "#00cc96",
           "#ab63fa",
           "#ab63fa",
           "#ab63fa",
           "#ab63fa"
          ]
         },
         "name": "",
         "showlegend": true,
         "type": "pie"
        }
       ],
       "layout": {
        "legend": {
         "tracegroupgap": 0
        },
        "margin": {
         "t": 60
        },
        "template": {
         "data": {
          "bar": [
           {
            "error_x": {
             "color": "#2a3f5f"
            },
            "error_y": {
             "color": "#2a3f5f"
            },
            "marker": {
             "line": {
              "color": "#E5ECF6",
              "width": 0.5
             },
             "pattern": {
              "fillmode": "overlay",
              "size": 10,
              "solidity": 0.2
             }
            },
            "type": "bar"
           }
          ],
          "barpolar": [
           {
            "marker": {
             "line": {
              "color": "#E5ECF6",
              "width": 0.5
             },
             "pattern": {
              "fillmode": "overlay",
              "size": 10,
              "solidity": 0.2
             }
            },
            "type": "barpolar"
           }
          ],
          "carpet": [
           {
            "aaxis": {
             "endlinecolor": "#2a3f5f",
             "gridcolor": "white",
             "linecolor": "white",
             "minorgridcolor": "white",
             "startlinecolor": "#2a3f5f"
            },
            "baxis": {
             "endlinecolor": "#2a3f5f",
             "gridcolor": "white",
             "linecolor": "white",
             "minorgridcolor": "white",
             "startlinecolor": "#2a3f5f"
            },
            "type": "carpet"
           }
          ],
          "choropleth": [
           {
            "colorbar": {
             "outlinewidth": 0,
             "ticks": ""
            },
            "type": "choropleth"
           }
          ],
          "contour": [
           {
            "colorbar": {
             "outlinewidth": 0,
             "ticks": ""
            },
            "colorscale": [
             [
              0,
              "#0d0887"
             ],
             [
              0.1111111111111111,
              "#46039f"
             ],
             [
              0.2222222222222222,
              "#7201a8"
             ],
             [
              0.3333333333333333,
              "#9c179e"
             ],
             [
              0.4444444444444444,
              "#bd3786"
             ],
             [
              0.5555555555555556,
              "#d8576b"
             ],
             [
              0.6666666666666666,
              "#ed7953"
             ],
             [
              0.7777777777777778,
              "#fb9f3a"
             ],
             [
              0.8888888888888888,
              "#fdca26"
             ],
             [
              1,
              "#f0f921"
             ]
            ],
            "type": "contour"
           }
          ],
          "contourcarpet": [
           {
            "colorbar": {
             "outlinewidth": 0,
             "ticks": ""
            },
            "type": "contourcarpet"
           }
          ],
          "heatmap": [
           {
            "colorbar": {
             "outlinewidth": 0,
             "ticks": ""
            },
            "colorscale": [
             [
              0,
              "#0d0887"
             ],
             [
              0.1111111111111111,
              "#46039f"
             ],
             [
              0.2222222222222222,
              "#7201a8"
             ],
             [
              0.3333333333333333,
              "#9c179e"
             ],
             [
              0.4444444444444444,
              "#bd3786"
             ],
             [
              0.5555555555555556,
              "#d8576b"
             ],
             [
              0.6666666666666666,
              "#ed7953"
             ],
             [
              0.7777777777777778,
              "#fb9f3a"
             ],
             [
              0.8888888888888888,
              "#fdca26"
             ],
             [
              1,
              "#f0f921"
             ]
            ],
            "type": "heatmap"
           }
          ],
          "heatmapgl": [
           {
            "colorbar": {
             "outlinewidth": 0,
             "ticks": ""
            },
            "colorscale": [
             [
              0,
              "#0d0887"
             ],
             [
              0.1111111111111111,
              "#46039f"
             ],
             [
              0.2222222222222222,
              "#7201a8"
             ],
             [
              0.3333333333333333,
              "#9c179e"
             ],
             [
              0.4444444444444444,
              "#bd3786"
             ],
             [
              0.5555555555555556,
              "#d8576b"
             ],
             [
              0.6666666666666666,
              "#ed7953"
             ],
             [
              0.7777777777777778,
              "#fb9f3a"
             ],
             [
              0.8888888888888888,
              "#fdca26"
             ],
             [
              1,
              "#f0f921"
             ]
            ],
            "type": "heatmapgl"
           }
          ],
          "histogram": [
           {
            "marker": {
             "pattern": {
              "fillmode": "overlay",
              "size": 10,
              "solidity": 0.2
             }
            },
            "type": "histogram"
           }
          ],
          "histogram2d": [
           {
            "colorbar": {
             "outlinewidth": 0,
             "ticks": ""
            },
            "colorscale": [
             [
              0,
              "#0d0887"
             ],
             [
              0.1111111111111111,
              "#46039f"
             ],
             [
              0.2222222222222222,
              "#7201a8"
             ],
             [
              0.3333333333333333,
              "#9c179e"
             ],
             [
              0.4444444444444444,
              "#bd3786"
             ],
             [
              0.5555555555555556,
              "#d8576b"
             ],
             [
              0.6666666666666666,
              "#ed7953"
             ],
             [
              0.7777777777777778,
              "#fb9f3a"
             ],
             [
              0.8888888888888888,
              "#fdca26"
             ],
             [
              1,
              "#f0f921"
             ]
            ],
            "type": "histogram2d"
           }
          ],
          "histogram2dcontour": [
           {
            "colorbar": {
             "outlinewidth": 0,
             "ticks": ""
            },
            "colorscale": [
             [
              0,
              "#0d0887"
             ],
             [
              0.1111111111111111,
              "#46039f"
             ],
             [
              0.2222222222222222,
              "#7201a8"
             ],
             [
              0.3333333333333333,
              "#9c179e"
             ],
             [
              0.4444444444444444,
              "#bd3786"
             ],
             [
              0.5555555555555556,
              "#d8576b"
             ],
             [
              0.6666666666666666,
              "#ed7953"
             ],
             [
              0.7777777777777778,
              "#fb9f3a"
             ],
             [
              0.8888888888888888,
              "#fdca26"
             ],
             [
              1,
              "#f0f921"
             ]
            ],
            "type": "histogram2dcontour"
           }
          ],
          "mesh3d": [
           {
            "colorbar": {
             "outlinewidth": 0,
             "ticks": ""
            },
            "type": "mesh3d"
           }
          ],
          "parcoords": [
           {
            "line": {
             "colorbar": {
              "outlinewidth": 0,
              "ticks": ""
             }
            },
            "type": "parcoords"
           }
          ],
          "pie": [
           {
            "automargin": true,
            "type": "pie"
           }
          ],
          "scatter": [
           {
            "fillpattern": {
             "fillmode": "overlay",
             "size": 10,
             "solidity": 0.2
            },
            "type": "scatter"
           }
          ],
          "scatter3d": [
           {
            "line": {
             "colorbar": {
              "outlinewidth": 0,
              "ticks": ""
             }
            },
            "marker": {
             "colorbar": {
              "outlinewidth": 0,
              "ticks": ""
             }
            },
            "type": "scatter3d"
           }
          ],
          "scattercarpet": [
           {
            "marker": {
             "colorbar": {
              "outlinewidth": 0,
              "ticks": ""
             }
            },
            "type": "scattercarpet"
           }
          ],
          "scattergeo": [
           {
            "marker": {
             "colorbar": {
              "outlinewidth": 0,
              "ticks": ""
             }
            },
            "type": "scattergeo"
           }
          ],
          "scattergl": [
           {
            "marker": {
             "colorbar": {
              "outlinewidth": 0,
              "ticks": ""
             }
            },
            "type": "scattergl"
           }
          ],
          "scattermapbox": [
           {
            "marker": {
             "colorbar": {
              "outlinewidth": 0,
              "ticks": ""
             }
            },
            "type": "scattermapbox"
           }
          ],
          "scatterpolar": [
           {
            "marker": {
             "colorbar": {
              "outlinewidth": 0,
              "ticks": ""
             }
            },
            "type": "scatterpolar"
           }
          ],
          "scatterpolargl": [
           {
            "marker": {
             "colorbar": {
              "outlinewidth": 0,
              "ticks": ""
             }
            },
            "type": "scatterpolargl"
           }
          ],
          "scatterternary": [
           {
            "marker": {
             "colorbar": {
              "outlinewidth": 0,
              "ticks": ""
             }
            },
            "type": "scatterternary"
           }
          ],
          "surface": [
           {
            "colorbar": {
             "outlinewidth": 0,
             "ticks": ""
            },
            "colorscale": [
             [
              0,
              "#0d0887"
             ],
             [
              0.1111111111111111,
              "#46039f"
             ],
             [
              0.2222222222222222,
              "#7201a8"
             ],
             [
              0.3333333333333333,
              "#9c179e"
             ],
             [
              0.4444444444444444,
              "#bd3786"
             ],
             [
              0.5555555555555556,
              "#d8576b"
             ],
             [
              0.6666666666666666,
              "#ed7953"
             ],
             [
              0.7777777777777778,
              "#fb9f3a"
             ],
             [
              0.8888888888888888,
              "#fdca26"
             ],
             [
              1,
              "#f0f921"
             ]
            ],
            "type": "surface"
           }
          ],
          "table": [
           {
            "cells": {
             "fill": {
              "color": "#EBF0F8"
             },
             "line": {
              "color": "white"
             }
            },
            "header": {
             "fill": {
              "color": "#C8D4E3"
             },
             "line": {
              "color": "white"
             }
            },
            "type": "table"
           }
          ]
         },
         "layout": {
          "annotationdefaults": {
           "arrowcolor": "#2a3f5f",
           "arrowhead": 0,
           "arrowwidth": 1
          },
          "autotypenumbers": "strict",
          "coloraxis": {
           "colorbar": {
            "outlinewidth": 0,
            "ticks": ""
           }
          },
          "colorscale": {
           "diverging": [
            [
             0,
             "#8e0152"
            ],
            [
             0.1,
             "#c51b7d"
            ],
            [
             0.2,
             "#de77ae"
            ],
            [
             0.3,
             "#f1b6da"
            ],
            [
             0.4,
             "#fde0ef"
            ],
            [
             0.5,
             "#f7f7f7"
            ],
            [
             0.6,
             "#e6f5d0"
            ],
            [
             0.7,
             "#b8e186"
            ],
            [
             0.8,
             "#7fbc41"
            ],
            [
             0.9,
             "#4d9221"
            ],
            [
             1,
             "#276419"
            ]
           ],
           "sequential": [
            [
             0,
             "#0d0887"
            ],
            [
             0.1111111111111111,
             "#46039f"
            ],
            [
             0.2222222222222222,
             "#7201a8"
            ],
            [
             0.3333333333333333,
             "#9c179e"
            ],
            [
             0.4444444444444444,
             "#bd3786"
            ],
            [
             0.5555555555555556,
             "#d8576b"
            ],
            [
             0.6666666666666666,
             "#ed7953"
            ],
            [
             0.7777777777777778,
             "#fb9f3a"
            ],
            [
             0.8888888888888888,
             "#fdca26"
            ],
            [
             1,
             "#f0f921"
            ]
           ],
           "sequentialminus": [
            [
             0,
             "#0d0887"
            ],
            [
             0.1111111111111111,
             "#46039f"
            ],
            [
             0.2222222222222222,
             "#7201a8"
            ],
            [
             0.3333333333333333,
             "#9c179e"
            ],
            [
             0.4444444444444444,
             "#bd3786"
            ],
            [
             0.5555555555555556,
             "#d8576b"
            ],
            [
             0.6666666666666666,
             "#ed7953"
            ],
            [
             0.7777777777777778,
             "#fb9f3a"
            ],
            [
             0.8888888888888888,
             "#fdca26"
            ],
            [
             1,
             "#f0f921"
            ]
           ]
          },
          "colorway": [
           "#636efa",
           "#EF553B",
           "#00cc96",
           "#ab63fa",
           "#FFA15A",
           "#19d3f3",
           "#FF6692",
           "#B6E880",
           "#FF97FF",
           "#FECB52"
          ],
          "font": {
           "color": "#2a3f5f"
          },
          "geo": {
           "bgcolor": "white",
           "lakecolor": "white",
           "landcolor": "#E5ECF6",
           "showlakes": true,
           "showland": true,
           "subunitcolor": "white"
          },
          "hoverlabel": {
           "align": "left"
          },
          "hovermode": "closest",
          "mapbox": {
           "style": "light"
          },
          "paper_bgcolor": "white",
          "plot_bgcolor": "#E5ECF6",
          "polar": {
           "angularaxis": {
            "gridcolor": "white",
            "linecolor": "white",
            "ticks": ""
           },
           "bgcolor": "#E5ECF6",
           "radialaxis": {
            "gridcolor": "white",
            "linecolor": "white",
            "ticks": ""
           }
          },
          "scene": {
           "xaxis": {
            "backgroundcolor": "#E5ECF6",
            "gridcolor": "white",
            "gridwidth": 2,
            "linecolor": "white",
            "showbackground": true,
            "ticks": "",
            "zerolinecolor": "white"
           },
           "yaxis": {
            "backgroundcolor": "#E5ECF6",
            "gridcolor": "white",
            "gridwidth": 2,
            "linecolor": "white",
            "showbackground": true,
            "ticks": "",
            "zerolinecolor": "white"
           },
           "zaxis": {
            "backgroundcolor": "#E5ECF6",
            "gridcolor": "white",
            "gridwidth": 2,
            "linecolor": "white",
            "showbackground": true,
            "ticks": "",
            "zerolinecolor": "white"
           }
          },
          "shapedefaults": {
           "line": {
            "color": "#2a3f5f"
           }
          },
          "ternary": {
           "aaxis": {
            "gridcolor": "white",
            "linecolor": "white",
            "ticks": ""
           },
           "baxis": {
            "gridcolor": "white",
            "linecolor": "white",
            "ticks": ""
           },
           "bgcolor": "#E5ECF6",
           "caxis": {
            "gridcolor": "white",
            "linecolor": "white",
            "ticks": ""
           }
          },
          "title": {
           "x": 0.05
          },
          "xaxis": {
           "automargin": true,
           "gridcolor": "white",
           "linecolor": "white",
           "ticks": "",
           "title": {
            "standoff": 15
           },
           "zerolinecolor": "white",
           "zerolinewidth": 2
          },
          "yaxis": {
           "automargin": true,
           "gridcolor": "white",
           "linecolor": "white",
           "ticks": "",
           "title": {
            "standoff": 15
           },
           "zerolinecolor": "white",
           "zerolinewidth": 2
          }
         }
        }
       }
      },
      "text/html": [
       "<div>                            <div id=\"d99db0b7-b6a4-4717-a298-43e601f6aaee\" class=\"plotly-graph-div\" style=\"height:525px; width:100%;\"></div>            <script type=\"text/javascript\">                require([\"plotly\"], function(Plotly) {                    window.PLOTLYENV=window.PLOTLYENV || {};                                    if (document.getElementById(\"d99db0b7-b6a4-4717-a298-43e601f6aaee\")) {                    Plotly.newPlot(                        \"d99db0b7-b6a4-4717-a298-43e601f6aaee\",                        [{\"customdata\":[[\"Normal\"],[\"Normal\"],[\"Normal\"],[\"Normal\"],[\"Normal\"],[\"Normal\"],[\"Normal\"],[\"Normal\"],[\"Normal\"],[\"Normal\"],[\"Normal\"],[\"Normal\"],[\"Normal\"],[\"Normal\"],[\"Normal\"],[\"Normal\"],[\"Normal\"],[\"Normal\"],[\"Normal\"],[\"Normal\"],[\"Normal\"],[\"Normal\"],[\"Normal\"],[\"Normal\"],[\"Normal\"],[\"Normal\"],[\"Normal\"],[\"Normal\"],[\"Normal\"],[\"Normal\"],[\"Normal\"],[\"Normal\"],[\"Normal\"],[\"Normal\"],[\"Normal\"],[\"Normal\"],[\"Normal\"],[\"Normal\"],[\"Normal\"],[\"Normal\"],[\"Normal\"],[\"Normal\"],[\"Normal\"],[\"Normal\"],[\"Normal\"],[\"Normal\"],[\"Normal\"],[\"Normal\"],[\"Normal\"],[\"Normal\"],[\"Normal\"],[\"Normal\"],[\"Normal\"],[\"Normal\"],[\"Normal\"],[\"Normal\"],[\"Normal\"],[\"Normal\"],[\"Normal\"],[\"Normal\"],[\"Normal\"],[\"Normal\"],[\"Recession\"],[\"Recession\"],[\"Recession\"],[\"Recession\"],[\"Recession\"],[\"Recession\"],[\"Recession\"],[\"Recession\"],[\"Normal\"],[\"Normal\"],[\"Normal\"],[\"Normal\"],[\"Normal\"],[\"Normal\"],[\"Normal\"],[\"Normal\"],[\"Normal\"],[\"Normal\"],[\"Normal\"],[\"Normal\"],[\"Normal\"],[\"Normal\"],[\"Normal\"],[\"Normal\"],[\"Normal\"],[\"Normal\"],[\"Normal\"],[\"Normal\"],[\"Normal\"],[\"Normal\"],[\"Normal\"],[\"Normal\"],[\"Normal\"],[\"Normal\"],[\"Normal\"],[\"Normal\"],[\"Normal\"],[\"Normal\"],[\"Normal\"],[\"Normal\"],[\"Normal\"],[\"Normal\"],[\"Normal\"],[\"Normal\"],[\"Normal\"],[\"Normal\"],[\"Normal\"],[\"Normal\"],[\"Normal\"],[\"Normal\"],[\"Normal\"],[\"Normal\"],[\"Normal\"],[\"Normal\"],[\"Normal\"],[\"Normal\"],[\"Normal\"],[\"Normal\"],[\"Normal\"],[\"Normal\"],[\"Normal\"],[\"Normal\"],[\"Normal\"],[\"Normal\"],[\"Normal\"],[\"Normal\"],[\"Normal\"],[\"Normal\"],[\"Normal\"],[\"Normal\"],[\"Normal\"],[\"Normal\"],[\"Normal\"],[\"Normal\"],[\"Normal\"],[\"Normal\"],[\"Normal\"],[\"Normal\"],[\"Normal\"],[\"Normal\"],[\"Recession\"],[\"Recession\"],[\"Recession\"],[\"Recession\"],[\"Recession\"],[\"Recession\"],[\"Recession\"],[\"Recession\"],[\"Recession\"],[\"Recession\"],[\"Recession\"],[\"Recession\"],[\"Recession\"],[\"Recession\"],[\"Recession\"],[\"Recession\"],[\"Recession\"],[\"Recession\"],[\"Normal\"],[\"Normal\"],[\"Normal\"],[\"Normal\"],[\"Normal\"],[\"Normal\"],[\"Normal\"],[\"Normal\"],[\"Normal\"],[\"Normal\"],[\"Normal\"],[\"Normal\"],[\"Normal\"],[\"Normal\"],[\"Normal\"],[\"Normal\"],[\"Normal\"],[\"Normal\"],[\"Normal\"],[\"Normal\"],[\"Normal\"],[\"Normal\"],[\"Normal\"],[\"Normal\"],[\"Normal\"],[\"Normal\"],[\"Normal\"],[\"Normal\"],[\"Normal\"],[\"Normal\"],[\"Normal\"],[\"Normal\"],[\"Normal\"],[\"Normal\"],[\"Normal\"],[\"Normal\"],[\"Normal\"],[\"Normal\"],[\"Normal\"],[\"Normal\"],[\"Normal\"],[\"Normal\"],[\"Normal\"],[\"Normal\"],[\"Normal\"],[\"Normal\"],[\"Normal\"],[\"Normal\"],[\"Normal\"],[\"Normal\"],[\"Normal\"],[\"Normal\"],[\"Normal\"],[\"Normal\"],[\"Normal\"],[\"Normal\"],[\"Normal\"],[\"Normal\"],[\"Normal\"],[\"Normal\"],[\"Normal\"],[\"Normal\"],[\"Normal\"],[\"Normal\"],[\"Normal\"],[\"Normal\"],[\"Normal\"],[\"Normal\"],[\"Normal\"],[\"Normal\"],[\"Normal\"],[\"Normal\"],[\"Normal\"],[\"Normal\"],[\"Normal\"],[\"Normal\"],[\"Normal\"],[\"Normal\"],[\"Normal\"],[\"Normal\"],[\"Normal\"],[\"Normal\"],[\"Normal\"],[\"Normal\"],[\"Normal\"],[\"Normal\"],[\"Normal\"],[\"Normal\"],[\"Normal\"],[\"Normal\"],[\"Normal\"],[\"Normal\"],[\"Normal\"],[\"Normal\"],[\"Normal\"],[\"Normal\"],[\"Normal\"],[\"Normal\"],[\"Normal\"],[\"Normal\"],[\"Normal\"],[\"Normal\"],[\"Normal\"],[\"Normal\"],[\"Normal\"],[\"Normal\"],[\"Normal\"],[\"Normal\"],[\"Normal\"],[\"Normal\"],[\"Normal\"],[\"Normal\"],[\"Normal\"],[\"Normal\"],[\"Normal\"],[\"Normal\"],[\"Normal\"],[\"Normal\"],[\"Normal\"],[\"Normal\"],[\"Normal\"],[\"Normal\"],[\"Normal\"],[\"Normal\"],[\"Normal\"],[\"Normal\"],[\"Normal\"],[\"Normal\"],[\"Normal\"],[\"Recession\"],[\"Recession\"],[\"Recession\"],[\"Recession\"]],\"domain\":{\"x\":[0.0,1.0],\"y\":[0.0,1.0]},\"hovertemplate\":\"Regime=%{customdata[0]}<extra></extra>\",\"labels\":[\"Normal\",\"Normal\",\"Normal\",\"Normal\",\"Normal\",\"Normal\",\"Normal\",\"Normal\",\"Normal\",\"Normal\",\"Normal\",\"Normal\",\"Normal\",\"Normal\",\"Normal\",\"Normal\",\"Normal\",\"Normal\",\"Normal\",\"Normal\",\"Normal\",\"Normal\",\"Normal\",\"Normal\",\"Normal\",\"Normal\",\"Normal\",\"Normal\",\"Normal\",\"Normal\",\"Normal\",\"Normal\",\"Normal\",\"Normal\",\"Normal\",\"Normal\",\"Normal\",\"Normal\",\"Normal\",\"Normal\",\"Normal\",\"Normal\",\"Normal\",\"Normal\",\"Normal\",\"Normal\",\"Normal\",\"Normal\",\"Normal\",\"Normal\",\"Normal\",\"Normal\",\"Normal\",\"Normal\",\"Normal\",\"Normal\",\"Normal\",\"Normal\",\"Normal\",\"Normal\",\"Normal\",\"Normal\",\"Recession\",\"Recession\",\"Recession\",\"Recession\",\"Recession\",\"Recession\",\"Recession\",\"Recession\",\"Normal\",\"Normal\",\"Normal\",\"Normal\",\"Normal\",\"Normal\",\"Normal\",\"Normal\",\"Normal\",\"Normal\",\"Normal\",\"Normal\",\"Normal\",\"Normal\",\"Normal\",\"Normal\",\"Normal\",\"Normal\",\"Normal\",\"Normal\",\"Normal\",\"Normal\",\"Normal\",\"Normal\",\"Normal\",\"Normal\",\"Normal\",\"Normal\",\"Normal\",\"Normal\",\"Normal\",\"Normal\",\"Normal\",\"Normal\",\"Normal\",\"Normal\",\"Normal\",\"Normal\",\"Normal\",\"Normal\",\"Normal\",\"Normal\",\"Normal\",\"Normal\",\"Normal\",\"Normal\",\"Normal\",\"Normal\",\"Normal\",\"Normal\",\"Normal\",\"Normal\",\"Normal\",\"Normal\",\"Normal\",\"Normal\",\"Normal\",\"Normal\",\"Normal\",\"Normal\",\"Normal\",\"Normal\",\"Normal\",\"Normal\",\"Normal\",\"Normal\",\"Normal\",\"Normal\",\"Normal\",\"Normal\",\"Normal\",\"Normal\",\"Recession\",\"Recession\",\"Recession\",\"Recession\",\"Recession\",\"Recession\",\"Recession\",\"Recession\",\"Recession\",\"Recession\",\"Recession\",\"Recession\",\"Recession\",\"Recession\",\"Recession\",\"Recession\",\"Recession\",\"Recession\",\"Normal\",\"Normal\",\"Normal\",\"Normal\",\"Normal\",\"Normal\",\"Normal\",\"Normal\",\"Normal\",\"Normal\",\"Normal\",\"Normal\",\"Normal\",\"Normal\",\"Normal\",\"Normal\",\"Normal\",\"Normal\",\"Normal\",\"Normal\",\"Normal\",\"Normal\",\"Normal\",\"Normal\",\"Normal\",\"Normal\",\"Normal\",\"Normal\",\"Normal\",\"Normal\",\"Normal\",\"Normal\",\"Normal\",\"Normal\",\"Normal\",\"Normal\",\"Normal\",\"Normal\",\"Normal\",\"Normal\",\"Normal\",\"Normal\",\"Normal\",\"Normal\",\"Normal\",\"Normal\",\"Normal\",\"Normal\",\"Normal\",\"Normal\",\"Normal\",\"Normal\",\"Normal\",\"Normal\",\"Normal\",\"Normal\",\"Normal\",\"Normal\",\"Normal\",\"Normal\",\"Normal\",\"Normal\",\"Normal\",\"Normal\",\"Normal\",\"Normal\",\"Normal\",\"Normal\",\"Normal\",\"Normal\",\"Normal\",\"Normal\",\"Normal\",\"Normal\",\"Normal\",\"Normal\",\"Normal\",\"Normal\",\"Normal\",\"Normal\",\"Normal\",\"Normal\",\"Normal\",\"Normal\",\"Normal\",\"Normal\",\"Normal\",\"Normal\",\"Normal\",\"Normal\",\"Normal\",\"Normal\",\"Normal\",\"Normal\",\"Normal\",\"Normal\",\"Normal\",\"Normal\",\"Normal\",\"Normal\",\"Normal\",\"Normal\",\"Normal\",\"Normal\",\"Normal\",\"Normal\",\"Normal\",\"Normal\",\"Normal\",\"Normal\",\"Normal\",\"Normal\",\"Normal\",\"Normal\",\"Normal\",\"Normal\",\"Normal\",\"Normal\",\"Normal\",\"Normal\",\"Normal\",\"Normal\",\"Normal\",\"Normal\",\"Normal\",\"Normal\",\"Normal\",\"Normal\",\"Normal\",\"Recession\",\"Recession\",\"Recession\",\"Recession\"],\"legendgroup\":\"\",\"marker\":{\"colors\":[\"#00cc96\",\"#00cc96\",\"#00cc96\",\"#00cc96\",\"#00cc96\",\"#00cc96\",\"#00cc96\",\"#00cc96\",\"#00cc96\",\"#00cc96\",\"#00cc96\",\"#00cc96\",\"#00cc96\",\"#00cc96\",\"#00cc96\",\"#00cc96\",\"#00cc96\",\"#00cc96\",\"#00cc96\",\"#00cc96\",\"#00cc96\",\"#00cc96\",\"#00cc96\",\"#00cc96\",\"#00cc96\",\"#00cc96\",\"#00cc96\",\"#00cc96\",\"#00cc96\",\"#00cc96\",\"#00cc96\",\"#00cc96\",\"#00cc96\",\"#00cc96\",\"#00cc96\",\"#00cc96\",\"#00cc96\",\"#00cc96\",\"#00cc96\",\"#00cc96\",\"#00cc96\",\"#00cc96\",\"#00cc96\",\"#00cc96\",\"#00cc96\",\"#00cc96\",\"#00cc96\",\"#00cc96\",\"#00cc96\",\"#00cc96\",\"#00cc96\",\"#00cc96\",\"#00cc96\",\"#00cc96\",\"#00cc96\",\"#00cc96\",\"#00cc96\",\"#00cc96\",\"#00cc96\",\"#00cc96\",\"#00cc96\",\"#00cc96\",\"#ab63fa\",\"#ab63fa\",\"#ab63fa\",\"#ab63fa\",\"#ab63fa\",\"#ab63fa\",\"#ab63fa\",\"#ab63fa\",\"#00cc96\",\"#00cc96\",\"#00cc96\",\"#00cc96\",\"#00cc96\",\"#00cc96\",\"#00cc96\",\"#00cc96\",\"#00cc96\",\"#00cc96\",\"#00cc96\",\"#00cc96\",\"#00cc96\",\"#00cc96\",\"#00cc96\",\"#00cc96\",\"#00cc96\",\"#00cc96\",\"#00cc96\",\"#00cc96\",\"#00cc96\",\"#00cc96\",\"#00cc96\",\"#00cc96\",\"#00cc96\",\"#00cc96\",\"#00cc96\",\"#00cc96\",\"#00cc96\",\"#00cc96\",\"#00cc96\",\"#00cc96\",\"#00cc96\",\"#00cc96\",\"#00cc96\",\"#00cc96\",\"#00cc96\",\"#00cc96\",\"#00cc96\",\"#00cc96\",\"#00cc96\",\"#00cc96\",\"#00cc96\",\"#00cc96\",\"#00cc96\",\"#00cc96\",\"#00cc96\",\"#00cc96\",\"#00cc96\",\"#00cc96\",\"#00cc96\",\"#00cc96\",\"#00cc96\",\"#00cc96\",\"#00cc96\",\"#00cc96\",\"#00cc96\",\"#00cc96\",\"#00cc96\",\"#00cc96\",\"#00cc96\",\"#00cc96\",\"#00cc96\",\"#00cc96\",\"#00cc96\",\"#00cc96\",\"#00cc96\",\"#00cc96\",\"#00cc96\",\"#00cc96\",\"#00cc96\",\"#00cc96\",\"#ab63fa\",\"#ab63fa\",\"#ab63fa\",\"#ab63fa\",\"#ab63fa\",\"#ab63fa\",\"#ab63fa\",\"#ab63fa\",\"#ab63fa\",\"#ab63fa\",\"#ab63fa\",\"#ab63fa\",\"#ab63fa\",\"#ab63fa\",\"#ab63fa\",\"#ab63fa\",\"#ab63fa\",\"#ab63fa\",\"#00cc96\",\"#00cc96\",\"#00cc96\",\"#00cc96\",\"#00cc96\",\"#00cc96\",\"#00cc96\",\"#00cc96\",\"#00cc96\",\"#00cc96\",\"#00cc96\",\"#00cc96\",\"#00cc96\",\"#00cc96\",\"#00cc96\",\"#00cc96\",\"#00cc96\",\"#00cc96\",\"#00cc96\",\"#00cc96\",\"#00cc96\",\"#00cc96\",\"#00cc96\",\"#00cc96\",\"#00cc96\",\"#00cc96\",\"#00cc96\",\"#00cc96\",\"#00cc96\",\"#00cc96\",\"#00cc96\",\"#00cc96\",\"#00cc96\",\"#00cc96\",\"#00cc96\",\"#00cc96\",\"#00cc96\",\"#00cc96\",\"#00cc96\",\"#00cc96\",\"#00cc96\",\"#00cc96\",\"#00cc96\",\"#00cc96\",\"#00cc96\",\"#00cc96\",\"#00cc96\",\"#00cc96\",\"#00cc96\",\"#00cc96\",\"#00cc96\",\"#00cc96\",\"#00cc96\",\"#00cc96\",\"#00cc96\",\"#00cc96\",\"#00cc96\",\"#00cc96\",\"#00cc96\",\"#00cc96\",\"#00cc96\",\"#00cc96\",\"#00cc96\",\"#00cc96\",\"#00cc96\",\"#00cc96\",\"#00cc96\",\"#00cc96\",\"#00cc96\",\"#00cc96\",\"#00cc96\",\"#00cc96\",\"#00cc96\",\"#00cc96\",\"#00cc96\",\"#00cc96\",\"#00cc96\",\"#00cc96\",\"#00cc96\",\"#00cc96\",\"#00cc96\",\"#00cc96\",\"#00cc96\",\"#00cc96\",\"#00cc96\",\"#00cc96\",\"#00cc96\",\"#00cc96\",\"#00cc96\",\"#00cc96\",\"#00cc96\",\"#00cc96\",\"#00cc96\",\"#00cc96\",\"#00cc96\",\"#00cc96\",\"#00cc96\",\"#00cc96\",\"#00cc96\",\"#00cc96\",\"#00cc96\",\"#00cc96\",\"#00cc96\",\"#00cc96\",\"#00cc96\",\"#00cc96\",\"#00cc96\",\"#00cc96\",\"#00cc96\",\"#00cc96\",\"#00cc96\",\"#00cc96\",\"#00cc96\",\"#00cc96\",\"#00cc96\",\"#00cc96\",\"#00cc96\",\"#00cc96\",\"#00cc96\",\"#00cc96\",\"#00cc96\",\"#00cc96\",\"#00cc96\",\"#00cc96\",\"#00cc96\",\"#00cc96\",\"#00cc96\",\"#00cc96\",\"#00cc96\",\"#ab63fa\",\"#ab63fa\",\"#ab63fa\",\"#ab63fa\"]},\"name\":\"\",\"showlegend\":true,\"type\":\"pie\"}],                        {\"template\":{\"data\":{\"histogram2dcontour\":[{\"type\":\"histogram2dcontour\",\"colorbar\":{\"outlinewidth\":0,\"ticks\":\"\"},\"colorscale\":[[0.0,\"#0d0887\"],[0.1111111111111111,\"#46039f\"],[0.2222222222222222,\"#7201a8\"],[0.3333333333333333,\"#9c179e\"],[0.4444444444444444,\"#bd3786\"],[0.5555555555555556,\"#d8576b\"],[0.6666666666666666,\"#ed7953\"],[0.7777777777777778,\"#fb9f3a\"],[0.8888888888888888,\"#fdca26\"],[1.0,\"#f0f921\"]]}],\"choropleth\":[{\"type\":\"choropleth\",\"colorbar\":{\"outlinewidth\":0,\"ticks\":\"\"}}],\"histogram2d\":[{\"type\":\"histogram2d\",\"colorbar\":{\"outlinewidth\":0,\"ticks\":\"\"},\"colorscale\":[[0.0,\"#0d0887\"],[0.1111111111111111,\"#46039f\"],[0.2222222222222222,\"#7201a8\"],[0.3333333333333333,\"#9c179e\"],[0.4444444444444444,\"#bd3786\"],[0.5555555555555556,\"#d8576b\"],[0.6666666666666666,\"#ed7953\"],[0.7777777777777778,\"#fb9f3a\"],[0.8888888888888888,\"#fdca26\"],[1.0,\"#f0f921\"]]}],\"heatmap\":[{\"type\":\"heatmap\",\"colorbar\":{\"outlinewidth\":0,\"ticks\":\"\"},\"colorscale\":[[0.0,\"#0d0887\"],[0.1111111111111111,\"#46039f\"],[0.2222222222222222,\"#7201a8\"],[0.3333333333333333,\"#9c179e\"],[0.4444444444444444,\"#bd3786\"],[0.5555555555555556,\"#d8576b\"],[0.6666666666666666,\"#ed7953\"],[0.7777777777777778,\"#fb9f3a\"],[0.8888888888888888,\"#fdca26\"],[1.0,\"#f0f921\"]]}],\"heatmapgl\":[{\"type\":\"heatmapgl\",\"colorbar\":{\"outlinewidth\":0,\"ticks\":\"\"},\"colorscale\":[[0.0,\"#0d0887\"],[0.1111111111111111,\"#46039f\"],[0.2222222222222222,\"#7201a8\"],[0.3333333333333333,\"#9c179e\"],[0.4444444444444444,\"#bd3786\"],[0.5555555555555556,\"#d8576b\"],[0.6666666666666666,\"#ed7953\"],[0.7777777777777778,\"#fb9f3a\"],[0.8888888888888888,\"#fdca26\"],[1.0,\"#f0f921\"]]}],\"contourcarpet\":[{\"type\":\"contourcarpet\",\"colorbar\":{\"outlinewidth\":0,\"ticks\":\"\"}}],\"contour\":[{\"type\":\"contour\",\"colorbar\":{\"outlinewidth\":0,\"ticks\":\"\"},\"colorscale\":[[0.0,\"#0d0887\"],[0.1111111111111111,\"#46039f\"],[0.2222222222222222,\"#7201a8\"],[0.3333333333333333,\"#9c179e\"],[0.4444444444444444,\"#bd3786\"],[0.5555555555555556,\"#d8576b\"],[0.6666666666666666,\"#ed7953\"],[0.7777777777777778,\"#fb9f3a\"],[0.8888888888888888,\"#fdca26\"],[1.0,\"#f0f921\"]]}],\"surface\":[{\"type\":\"surface\",\"colorbar\":{\"outlinewidth\":0,\"ticks\":\"\"},\"colorscale\":[[0.0,\"#0d0887\"],[0.1111111111111111,\"#46039f\"],[0.2222222222222222,\"#7201a8\"],[0.3333333333333333,\"#9c179e\"],[0.4444444444444444,\"#bd3786\"],[0.5555555555555556,\"#d8576b\"],[0.6666666666666666,\"#ed7953\"],[0.7777777777777778,\"#fb9f3a\"],[0.8888888888888888,\"#fdca26\"],[1.0,\"#f0f921\"]]}],\"mesh3d\":[{\"type\":\"mesh3d\",\"colorbar\":{\"outlinewidth\":0,\"ticks\":\"\"}}],\"scatter\":[{\"fillpattern\":{\"fillmode\":\"overlay\",\"size\":10,\"solidity\":0.2},\"type\":\"scatter\"}],\"parcoords\":[{\"type\":\"parcoords\",\"line\":{\"colorbar\":{\"outlinewidth\":0,\"ticks\":\"\"}}}],\"scatterpolargl\":[{\"type\":\"scatterpolargl\",\"marker\":{\"colorbar\":{\"outlinewidth\":0,\"ticks\":\"\"}}}],\"bar\":[{\"error_x\":{\"color\":\"#2a3f5f\"},\"error_y\":{\"color\":\"#2a3f5f\"},\"marker\":{\"line\":{\"color\":\"#E5ECF6\",\"width\":0.5},\"pattern\":{\"fillmode\":\"overlay\",\"size\":10,\"solidity\":0.2}},\"type\":\"bar\"}],\"scattergeo\":[{\"type\":\"scattergeo\",\"marker\":{\"colorbar\":{\"outlinewidth\":0,\"ticks\":\"\"}}}],\"scatterpolar\":[{\"type\":\"scatterpolar\",\"marker\":{\"colorbar\":{\"outlinewidth\":0,\"ticks\":\"\"}}}],\"histogram\":[{\"marker\":{\"pattern\":{\"fillmode\":\"overlay\",\"size\":10,\"solidity\":0.2}},\"type\":\"histogram\"}],\"scattergl\":[{\"type\":\"scattergl\",\"marker\":{\"colorbar\":{\"outlinewidth\":0,\"ticks\":\"\"}}}],\"scatter3d\":[{\"type\":\"scatter3d\",\"line\":{\"colorbar\":{\"outlinewidth\":0,\"ticks\":\"\"}},\"marker\":{\"colorbar\":{\"outlinewidth\":0,\"ticks\":\"\"}}}],\"scattermapbox\":[{\"type\":\"scattermapbox\",\"marker\":{\"colorbar\":{\"outlinewidth\":0,\"ticks\":\"\"}}}],\"scatterternary\":[{\"type\":\"scatterternary\",\"marker\":{\"colorbar\":{\"outlinewidth\":0,\"ticks\":\"\"}}}],\"scattercarpet\":[{\"type\":\"scattercarpet\",\"marker\":{\"colorbar\":{\"outlinewidth\":0,\"ticks\":\"\"}}}],\"carpet\":[{\"aaxis\":{\"endlinecolor\":\"#2a3f5f\",\"gridcolor\":\"white\",\"linecolor\":\"white\",\"minorgridcolor\":\"white\",\"startlinecolor\":\"#2a3f5f\"},\"baxis\":{\"endlinecolor\":\"#2a3f5f\",\"gridcolor\":\"white\",\"linecolor\":\"white\",\"minorgridcolor\":\"white\",\"startlinecolor\":\"#2a3f5f\"},\"type\":\"carpet\"}],\"table\":[{\"cells\":{\"fill\":{\"color\":\"#EBF0F8\"},\"line\":{\"color\":\"white\"}},\"header\":{\"fill\":{\"color\":\"#C8D4E3\"},\"line\":{\"color\":\"white\"}},\"type\":\"table\"}],\"barpolar\":[{\"marker\":{\"line\":{\"color\":\"#E5ECF6\",\"width\":0.5},\"pattern\":{\"fillmode\":\"overlay\",\"size\":10,\"solidity\":0.2}},\"type\":\"barpolar\"}],\"pie\":[{\"automargin\":true,\"type\":\"pie\"}]},\"layout\":{\"autotypenumbers\":\"strict\",\"colorway\":[\"#636efa\",\"#EF553B\",\"#00cc96\",\"#ab63fa\",\"#FFA15A\",\"#19d3f3\",\"#FF6692\",\"#B6E880\",\"#FF97FF\",\"#FECB52\"],\"font\":{\"color\":\"#2a3f5f\"},\"hovermode\":\"closest\",\"hoverlabel\":{\"align\":\"left\"},\"paper_bgcolor\":\"white\",\"plot_bgcolor\":\"#E5ECF6\",\"polar\":{\"bgcolor\":\"#E5ECF6\",\"angularaxis\":{\"gridcolor\":\"white\",\"linecolor\":\"white\",\"ticks\":\"\"},\"radialaxis\":{\"gridcolor\":\"white\",\"linecolor\":\"white\",\"ticks\":\"\"}},\"ternary\":{\"bgcolor\":\"#E5ECF6\",\"aaxis\":{\"gridcolor\":\"white\",\"linecolor\":\"white\",\"ticks\":\"\"},\"baxis\":{\"gridcolor\":\"white\",\"linecolor\":\"white\",\"ticks\":\"\"},\"caxis\":{\"gridcolor\":\"white\",\"linecolor\":\"white\",\"ticks\":\"\"}},\"coloraxis\":{\"colorbar\":{\"outlinewidth\":0,\"ticks\":\"\"}},\"colorscale\":{\"sequential\":[[0.0,\"#0d0887\"],[0.1111111111111111,\"#46039f\"],[0.2222222222222222,\"#7201a8\"],[0.3333333333333333,\"#9c179e\"],[0.4444444444444444,\"#bd3786\"],[0.5555555555555556,\"#d8576b\"],[0.6666666666666666,\"#ed7953\"],[0.7777777777777778,\"#fb9f3a\"],[0.8888888888888888,\"#fdca26\"],[1.0,\"#f0f921\"]],\"sequentialminus\":[[0.0,\"#0d0887\"],[0.1111111111111111,\"#46039f\"],[0.2222222222222222,\"#7201a8\"],[0.3333333333333333,\"#9c179e\"],[0.4444444444444444,\"#bd3786\"],[0.5555555555555556,\"#d8576b\"],[0.6666666666666666,\"#ed7953\"],[0.7777777777777778,\"#fb9f3a\"],[0.8888888888888888,\"#fdca26\"],[1.0,\"#f0f921\"]],\"diverging\":[[0,\"#8e0152\"],[0.1,\"#c51b7d\"],[0.2,\"#de77ae\"],[0.3,\"#f1b6da\"],[0.4,\"#fde0ef\"],[0.5,\"#f7f7f7\"],[0.6,\"#e6f5d0\"],[0.7,\"#b8e186\"],[0.8,\"#7fbc41\"],[0.9,\"#4d9221\"],[1,\"#276419\"]]},\"xaxis\":{\"gridcolor\":\"white\",\"linecolor\":\"white\",\"ticks\":\"\",\"title\":{\"standoff\":15},\"zerolinecolor\":\"white\",\"automargin\":true,\"zerolinewidth\":2},\"yaxis\":{\"gridcolor\":\"white\",\"linecolor\":\"white\",\"ticks\":\"\",\"title\":{\"standoff\":15},\"zerolinecolor\":\"white\",\"automargin\":true,\"zerolinewidth\":2},\"scene\":{\"xaxis\":{\"backgroundcolor\":\"#E5ECF6\",\"gridcolor\":\"white\",\"linecolor\":\"white\",\"showbackground\":true,\"ticks\":\"\",\"zerolinecolor\":\"white\",\"gridwidth\":2},\"yaxis\":{\"backgroundcolor\":\"#E5ECF6\",\"gridcolor\":\"white\",\"linecolor\":\"white\",\"showbackground\":true,\"ticks\":\"\",\"zerolinecolor\":\"white\",\"gridwidth\":2},\"zaxis\":{\"backgroundcolor\":\"#E5ECF6\",\"gridcolor\":\"white\",\"linecolor\":\"white\",\"showbackground\":true,\"ticks\":\"\",\"zerolinecolor\":\"white\",\"gridwidth\":2}},\"shapedefaults\":{\"line\":{\"color\":\"#2a3f5f\"}},\"annotationdefaults\":{\"arrowcolor\":\"#2a3f5f\",\"arrowhead\":0,\"arrowwidth\":1},\"geo\":{\"bgcolor\":\"white\",\"landcolor\":\"#E5ECF6\",\"subunitcolor\":\"white\",\"showland\":true,\"showlakes\":true,\"lakecolor\":\"white\"},\"title\":{\"x\":0.05},\"mapbox\":{\"style\":\"light\"}}},\"legend\":{\"tracegroupgap\":0},\"margin\":{\"t\":60}},                        {\"responsive\": true}                    ).then(function(){\n",
       "                            \n",
       "var gd = document.getElementById('d99db0b7-b6a4-4717-a298-43e601f6aaee');\n",
       "var x = new MutationObserver(function (mutations, observer) {{\n",
       "        var display = window.getComputedStyle(gd).display;\n",
       "        if (!display || display === 'none') {{\n",
       "            console.log([gd, 'removed!']);\n",
       "            Plotly.purge(gd);\n",
       "            observer.disconnect();\n",
       "        }}\n",
       "}});\n",
       "\n",
       "// Listen for the removal of the full notebook cells\n",
       "var notebookContainer = gd.closest('#notebook-container');\n",
       "if (notebookContainer) {{\n",
       "    x.observe(notebookContainer, {childList: true});\n",
       "}}\n",
       "\n",
       "// Listen for the clearing of the current output cell\n",
       "var outputEl = gd.closest('.output');\n",
       "if (outputEl) {{\n",
       "    x.observe(outputEl, {childList: true});\n",
       "}}\n",
       "\n",
       "                        })                };                });            </script>        </div>"
      ]
     },
     "metadata": {},
     "output_type": "display_data"
    }
   ],
   "source": [
    "import plotly.express as px\n",
    "\n",
    "fig = px.pie(new,names='Regime',color='Regime',\n",
    "             color_discrete_map={'Yes':'red',\n",
    "                                 'No':'green'})\n",
    "fig.show()"
   ]
  },
  {
   "cell_type": "markdown",
   "id": "884a6e4c",
   "metadata": {},
   "source": [
    "# 5. Breaking Data into Two Part\n",
    "Quantitative Variable \n",
    "\n",
    "Qualitative Variable"
   ]
  },
  {
   "cell_type": "code",
   "execution_count": 12,
   "id": "060b9703",
   "metadata": {},
   "outputs": [
    {
     "data": {
      "text/plain": [
       "['RPI',\n",
       " 'INDPRO',\n",
       " 'CE16OV',\n",
       " 'UNRATE',\n",
       " 'PAYEMS',\n",
       " 'USGOOD',\n",
       " 'USTPU',\n",
       " 'HOUST',\n",
       " 'PERMIT',\n",
       " 'DPCERA3M086SBEA',\n",
       " 'AMTMTI',\n",
       " 'AMTMNO',\n",
       " 'ACOGNO',\n",
       " 'AMDMUO',\n",
       " 'BUSINV',\n",
       " 'ISRATIO',\n",
       " 'M1SL',\n",
       " 'M2SL',\n",
       " 'TOTRESNS',\n",
       " 'BUSLOANS',\n",
       " 'REALLN',\n",
       " 'DTCTHFNM',\n",
       " 'FEDFUNDS',\n",
       " 'TB3MS',\n",
       " 'TB6MS',\n",
       " 'GS1',\n",
       " 'GS5',\n",
       " 'GS10',\n",
       " 'AAA',\n",
       " 'TB3SMFFM',\n",
       " 'T1YFFM',\n",
       " 'AAAFFM',\n",
       " 'EXSZUS',\n",
       " 'EXCAUS',\n",
       " 'EXUSUK',\n",
       " 'WPSFD49207',\n",
       " 'WPSID61',\n",
       " 'CPIAUCSL',\n",
       " 'SP500',\n",
       " 'NASDAQ',\n",
       " 'GOLDBAR',\n",
       " 'P/E',\n",
       " 'Dividend Yield']"
      ]
     },
     "execution_count": 12,
     "metadata": {},
     "output_type": "execute_result"
    }
   ],
   "source": [
    "new.select_dtypes(include=[np.number]).columns.tolist()"
   ]
  },
  {
   "cell_type": "code",
   "execution_count": 13,
   "id": "dd896258",
   "metadata": {},
   "outputs": [
    {
     "data": {
      "text/html": [
       "<div>\n",
       "<style scoped>\n",
       "    .dataframe tbody tr th:only-of-type {\n",
       "        vertical-align: middle;\n",
       "    }\n",
       "\n",
       "    .dataframe tbody tr th {\n",
       "        vertical-align: top;\n",
       "    }\n",
       "\n",
       "    .dataframe thead th {\n",
       "        text-align: right;\n",
       "    }\n",
       "</style>\n",
       "<table border=\"1\" class=\"dataframe\">\n",
       "  <thead>\n",
       "    <tr style=\"text-align: right;\">\n",
       "      <th></th>\n",
       "      <th>RPI</th>\n",
       "      <th>INDPRO</th>\n",
       "      <th>CE16OV</th>\n",
       "      <th>UNRATE</th>\n",
       "      <th>PAYEMS</th>\n",
       "      <th>USGOOD</th>\n",
       "      <th>USTPU</th>\n",
       "      <th>HOUST</th>\n",
       "      <th>PERMIT</th>\n",
       "      <th>DPCERA3M086SBEA</th>\n",
       "      <th>...</th>\n",
       "      <th>EXCAUS</th>\n",
       "      <th>EXUSUK</th>\n",
       "      <th>WPSFD49207</th>\n",
       "      <th>WPSID61</th>\n",
       "      <th>CPIAUCSL</th>\n",
       "      <th>SP500</th>\n",
       "      <th>NASDAQ</th>\n",
       "      <th>GOLDBAR</th>\n",
       "      <th>P/E</th>\n",
       "      <th>Dividend Yield</th>\n",
       "    </tr>\n",
       "  </thead>\n",
       "  <tbody>\n",
       "    <tr>\n",
       "      <th>0</th>\n",
       "      <td>8909.327</td>\n",
       "      <td>76.77265</td>\n",
       "      <td>125125</td>\n",
       "      <td>5.6</td>\n",
       "      <td>118964.0</td>\n",
       "      <td>23196</td>\n",
       "      <td>23947</td>\n",
       "      <td>1467</td>\n",
       "      <td>1387</td>\n",
       "      <td>63.691</td>\n",
       "      <td>...</td>\n",
       "      <td>1.3669</td>\n",
       "      <td>1.5288</td>\n",
       "      <td>129.7</td>\n",
       "      <td>125.5</td>\n",
       "      <td>154.7</td>\n",
       "      <td>636.020020</td>\n",
       "      <td>1059.790039</td>\n",
       "      <td>20.754421</td>\n",
       "      <td>18.6845</td>\n",
       "      <td>2.26</td>\n",
       "    </tr>\n",
       "    <tr>\n",
       "      <th>1</th>\n",
       "      <td>8983.863</td>\n",
       "      <td>76.77265</td>\n",
       "      <td>125639</td>\n",
       "      <td>5.5</td>\n",
       "      <td>118964.0</td>\n",
       "      <td>23280</td>\n",
       "      <td>23988</td>\n",
       "      <td>1491</td>\n",
       "      <td>1420</td>\n",
       "      <td>64.180</td>\n",
       "      <td>...</td>\n",
       "      <td>1.3752</td>\n",
       "      <td>1.5360</td>\n",
       "      <td>129.7</td>\n",
       "      <td>125.0</td>\n",
       "      <td>155.0</td>\n",
       "      <td>640.429993</td>\n",
       "      <td>1100.050049</td>\n",
       "      <td>21.372637</td>\n",
       "      <td>18.8140</td>\n",
       "      <td>2.16</td>\n",
       "    </tr>\n",
       "    <tr>\n",
       "      <th>2</th>\n",
       "      <td>9015.588</td>\n",
       "      <td>76.77265</td>\n",
       "      <td>125862</td>\n",
       "      <td>5.5</td>\n",
       "      <td>118993.0</td>\n",
       "      <td>23276</td>\n",
       "      <td>24030</td>\n",
       "      <td>1424</td>\n",
       "      <td>1437</td>\n",
       "      <td>64.491</td>\n",
       "      <td>...</td>\n",
       "      <td>1.3656</td>\n",
       "      <td>1.5271</td>\n",
       "      <td>130.5</td>\n",
       "      <td>125.3</td>\n",
       "      <td>155.5</td>\n",
       "      <td>645.500000</td>\n",
       "      <td>1101.400024</td>\n",
       "      <td>21.460953</td>\n",
       "      <td>18.9630</td>\n",
       "      <td>2.18</td>\n",
       "    </tr>\n",
       "  </tbody>\n",
       "</table>\n",
       "<p>3 rows × 43 columns</p>\n",
       "</div>"
      ],
      "text/plain": [
       "        RPI    INDPRO  CE16OV  UNRATE    PAYEMS  USGOOD  USTPU  HOUST  PERMIT  \\\n",
       "0  8909.327  76.77265  125125     5.6  118964.0   23196  23947   1467    1387   \n",
       "1  8983.863  76.77265  125639     5.5  118964.0   23280  23988   1491    1420   \n",
       "2  9015.588  76.77265  125862     5.5  118993.0   23276  24030   1424    1437   \n",
       "\n",
       "   DPCERA3M086SBEA  ...  EXCAUS  EXUSUK  WPSFD49207  WPSID61  CPIAUCSL  \\\n",
       "0           63.691  ...  1.3669  1.5288       129.7    125.5     154.7   \n",
       "1           64.180  ...  1.3752  1.5360       129.7    125.0     155.0   \n",
       "2           64.491  ...  1.3656  1.5271       130.5    125.3     155.5   \n",
       "\n",
       "        SP500       NASDAQ    GOLDBAR      P/E  Dividend Yield  \n",
       "0  636.020020  1059.790039  20.754421  18.6845            2.26  \n",
       "1  640.429993  1100.050049  21.372637  18.8140            2.16  \n",
       "2  645.500000  1101.400024  21.460953  18.9630            2.18  \n",
       "\n",
       "[3 rows x 43 columns]"
      ]
     },
     "execution_count": 13,
     "metadata": {},
     "output_type": "execute_result"
    }
   ],
   "source": [
    "# Qualitative Variable\n",
    "Quantitative_Variable = new[new.select_dtypes(include=[np.number]).columns.tolist()]\n",
    "Quantitative_Variable.head(3)"
   ]
  },
  {
   "cell_type": "code",
   "execution_count": 14,
   "id": "34aaaa1c",
   "metadata": {},
   "outputs": [
    {
     "data": {
      "text/html": [
       "<div>\n",
       "<style scoped>\n",
       "    .dataframe tbody tr th:only-of-type {\n",
       "        vertical-align: middle;\n",
       "    }\n",
       "\n",
       "    .dataframe tbody tr th {\n",
       "        vertical-align: top;\n",
       "    }\n",
       "\n",
       "    .dataframe thead th {\n",
       "        text-align: right;\n",
       "    }\n",
       "</style>\n",
       "<table border=\"1\" class=\"dataframe\">\n",
       "  <thead>\n",
       "    <tr style=\"text-align: right;\">\n",
       "      <th></th>\n",
       "      <th>PAYEMS</th>\n",
       "      <th>DPCERA3M086SBEA</th>\n",
       "      <th>M2SL</th>\n",
       "      <th>BUSLOANS</th>\n",
       "      <th>P/E</th>\n",
       "    </tr>\n",
       "  </thead>\n",
       "  <tbody>\n",
       "    <tr>\n",
       "      <th>0</th>\n",
       "      <td>118964.0</td>\n",
       "      <td>63.691</td>\n",
       "      <td>3647.9</td>\n",
       "      <td>721.8115</td>\n",
       "      <td>18.6845</td>\n",
       "    </tr>\n",
       "    <tr>\n",
       "      <th>1</th>\n",
       "      <td>118964.0</td>\n",
       "      <td>64.180</td>\n",
       "      <td>3661.8</td>\n",
       "      <td>724.1690</td>\n",
       "      <td>18.8140</td>\n",
       "    </tr>\n",
       "    <tr>\n",
       "      <th>2</th>\n",
       "      <td>118993.0</td>\n",
       "      <td>64.491</td>\n",
       "      <td>3687.0</td>\n",
       "      <td>727.3465</td>\n",
       "      <td>18.9630</td>\n",
       "    </tr>\n",
       "    <tr>\n",
       "      <th>3</th>\n",
       "      <td>119158.0</td>\n",
       "      <td>64.729</td>\n",
       "      <td>3697.8</td>\n",
       "      <td>732.0780</td>\n",
       "      <td>18.7388</td>\n",
       "    </tr>\n",
       "    <tr>\n",
       "      <th>4</th>\n",
       "      <td>119486.0</td>\n",
       "      <td>64.813</td>\n",
       "      <td>3709.6</td>\n",
       "      <td>736.4489</td>\n",
       "      <td>19.1670</td>\n",
       "    </tr>\n",
       "  </tbody>\n",
       "</table>\n",
       "</div>"
      ],
      "text/plain": [
       "     PAYEMS  DPCERA3M086SBEA    M2SL  BUSLOANS      P/E\n",
       "0  118964.0           63.691  3647.9  721.8115  18.6845\n",
       "1  118964.0           64.180  3661.8  724.1690  18.8140\n",
       "2  118993.0           64.491  3687.0  727.3465  18.9630\n",
       "3  119158.0           64.729  3697.8  732.0780  18.7388\n",
       "4  119486.0           64.813  3709.6  736.4489  19.1670"
      ]
     },
     "execution_count": 14,
     "metadata": {},
     "output_type": "execute_result"
    }
   ],
   "source": [
    "abc = Quantitative_Variable.loc[:,['PAYEMS', 'DPCERA3M086SBEA', 'M2SL', 'BUSLOANS', 'P/E']]\n",
    "abc.head()"
   ]
  },
  {
   "cell_type": "code",
   "execution_count": 15,
   "id": "260024da",
   "metadata": {},
   "outputs": [
    {
     "data": {
      "text/plain": [
       "PAYEMS             504.428893\n",
       "DPCERA3M086SBEA    826.198062\n",
       "M2SL               328.951812\n",
       "BUSLOANS           222.399576\n",
       "P/E                 22.083875\n",
       "dtype: float64"
      ]
     },
     "execution_count": 15,
     "metadata": {},
     "output_type": "execute_result"
    }
   ],
   "source": [
    "from statsmodels.stats.outliers_influence import variance_inflation_factor\n",
    "series_before = pd.Series([variance_inflation_factor(abc.values, i) \n",
    "                           for i in range(abc.shape[1])],  # i=0,1,2\n",
    "                          index=abc.columns)  # column name\n",
    "series_before"
   ]
  },
  {
   "cell_type": "code",
   "execution_count": 16,
   "id": "4878ac58",
   "metadata": {},
   "outputs": [
    {
     "data": {
      "text/html": [
       "<div>\n",
       "<style scoped>\n",
       "    .dataframe tbody tr th:only-of-type {\n",
       "        vertical-align: middle;\n",
       "    }\n",
       "\n",
       "    .dataframe tbody tr th {\n",
       "        vertical-align: top;\n",
       "    }\n",
       "\n",
       "    .dataframe thead th {\n",
       "        text-align: right;\n",
       "    }\n",
       "</style>\n",
       "<table border=\"1\" class=\"dataframe\">\n",
       "  <thead>\n",
       "    <tr style=\"text-align: right;\">\n",
       "      <th></th>\n",
       "      <th>Regime</th>\n",
       "    </tr>\n",
       "  </thead>\n",
       "  <tbody>\n",
       "    <tr>\n",
       "      <th>0</th>\n",
       "      <td>Normal</td>\n",
       "    </tr>\n",
       "    <tr>\n",
       "      <th>1</th>\n",
       "      <td>Normal</td>\n",
       "    </tr>\n",
       "    <tr>\n",
       "      <th>2</th>\n",
       "      <td>Normal</td>\n",
       "    </tr>\n",
       "  </tbody>\n",
       "</table>\n",
       "</div>"
      ],
      "text/plain": [
       "   Regime\n",
       "0  Normal\n",
       "1  Normal\n",
       "2  Normal"
      ]
     },
     "execution_count": 16,
     "metadata": {},
     "output_type": "execute_result"
    }
   ],
   "source": [
    "Qualitative_Variable = new[new.select_dtypes(include=['object']).columns.tolist()]\n",
    "Qualitative_Variable.head(3)"
   ]
  },
  {
   "cell_type": "code",
   "execution_count": null,
   "id": "28247445",
   "metadata": {},
   "outputs": [],
   "source": []
  },
  {
   "cell_type": "markdown",
   "id": "e09bbacd",
   "metadata": {},
   "source": [
    "# Converting qualitative Variable into number"
   ]
  },
  {
   "cell_type": "code",
   "execution_count": 17,
   "id": "eb97ccd8",
   "metadata": {},
   "outputs": [
    {
     "data": {
      "text/html": [
       "<div>\n",
       "<style scoped>\n",
       "    .dataframe tbody tr th:only-of-type {\n",
       "        vertical-align: middle;\n",
       "    }\n",
       "\n",
       "    .dataframe tbody tr th {\n",
       "        vertical-align: top;\n",
       "    }\n",
       "\n",
       "    .dataframe thead th {\n",
       "        text-align: right;\n",
       "    }\n",
       "</style>\n",
       "<table border=\"1\" class=\"dataframe\">\n",
       "  <thead>\n",
       "    <tr style=\"text-align: right;\">\n",
       "      <th></th>\n",
       "      <th>Regime</th>\n",
       "    </tr>\n",
       "  </thead>\n",
       "  <tbody>\n",
       "    <tr>\n",
       "      <th>0</th>\n",
       "      <td>0</td>\n",
       "    </tr>\n",
       "    <tr>\n",
       "      <th>1</th>\n",
       "      <td>0</td>\n",
       "    </tr>\n",
       "    <tr>\n",
       "      <th>2</th>\n",
       "      <td>0</td>\n",
       "    </tr>\n",
       "    <tr>\n",
       "      <th>3</th>\n",
       "      <td>0</td>\n",
       "    </tr>\n",
       "    <tr>\n",
       "      <th>4</th>\n",
       "      <td>0</td>\n",
       "    </tr>\n",
       "  </tbody>\n",
       "</table>\n",
       "</div>"
      ],
      "text/plain": [
       "   Regime\n",
       "0       0\n",
       "1       0\n",
       "2       0\n",
       "3       0\n",
       "4       0"
      ]
     },
     "execution_count": 17,
     "metadata": {},
     "output_type": "execute_result"
    }
   ],
   "source": [
    "from sklearn.preprocessing import LabelEncoder\n",
    "Qualitative_Variable=Qualitative_Variable.apply(LabelEncoder().fit_transform) # label in ascending order\n",
    "Qualitative_Variable.head()"
   ]
  },
  {
   "cell_type": "markdown",
   "id": "8040f5a1",
   "metadata": {},
   "source": [
    "# Combining the data set"
   ]
  },
  {
   "cell_type": "code",
   "execution_count": 18,
   "id": "8ba27108",
   "metadata": {
    "scrolled": true
   },
   "outputs": [
    {
     "data": {
      "text/html": [
       "<div>\n",
       "<style scoped>\n",
       "    .dataframe tbody tr th:only-of-type {\n",
       "        vertical-align: middle;\n",
       "    }\n",
       "\n",
       "    .dataframe tbody tr th {\n",
       "        vertical-align: top;\n",
       "    }\n",
       "\n",
       "    .dataframe thead th {\n",
       "        text-align: right;\n",
       "    }\n",
       "</style>\n",
       "<table border=\"1\" class=\"dataframe\">\n",
       "  <thead>\n",
       "    <tr style=\"text-align: right;\">\n",
       "      <th></th>\n",
       "      <th>Regime</th>\n",
       "      <th>RPI</th>\n",
       "      <th>INDPRO</th>\n",
       "      <th>CE16OV</th>\n",
       "      <th>UNRATE</th>\n",
       "      <th>PAYEMS</th>\n",
       "      <th>USGOOD</th>\n",
       "      <th>USTPU</th>\n",
       "      <th>HOUST</th>\n",
       "      <th>PERMIT</th>\n",
       "      <th>...</th>\n",
       "      <th>EXCAUS</th>\n",
       "      <th>EXUSUK</th>\n",
       "      <th>WPSFD49207</th>\n",
       "      <th>WPSID61</th>\n",
       "      <th>CPIAUCSL</th>\n",
       "      <th>SP500</th>\n",
       "      <th>NASDAQ</th>\n",
       "      <th>GOLDBAR</th>\n",
       "      <th>P/E</th>\n",
       "      <th>Dividend Yield</th>\n",
       "    </tr>\n",
       "  </thead>\n",
       "  <tbody>\n",
       "    <tr>\n",
       "      <th>0</th>\n",
       "      <td>0</td>\n",
       "      <td>8909.327</td>\n",
       "      <td>76.77265</td>\n",
       "      <td>125125</td>\n",
       "      <td>5.6</td>\n",
       "      <td>118964.0</td>\n",
       "      <td>23196</td>\n",
       "      <td>23947</td>\n",
       "      <td>1467</td>\n",
       "      <td>1387</td>\n",
       "      <td>...</td>\n",
       "      <td>1.3669</td>\n",
       "      <td>1.5288</td>\n",
       "      <td>129.7</td>\n",
       "      <td>125.5</td>\n",
       "      <td>154.7</td>\n",
       "      <td>636.020020</td>\n",
       "      <td>1059.790039</td>\n",
       "      <td>20.754421</td>\n",
       "      <td>18.6845</td>\n",
       "      <td>2.26</td>\n",
       "    </tr>\n",
       "    <tr>\n",
       "      <th>1</th>\n",
       "      <td>0</td>\n",
       "      <td>8983.863</td>\n",
       "      <td>76.77265</td>\n",
       "      <td>125639</td>\n",
       "      <td>5.5</td>\n",
       "      <td>118964.0</td>\n",
       "      <td>23280</td>\n",
       "      <td>23988</td>\n",
       "      <td>1491</td>\n",
       "      <td>1420</td>\n",
       "      <td>...</td>\n",
       "      <td>1.3752</td>\n",
       "      <td>1.5360</td>\n",
       "      <td>129.7</td>\n",
       "      <td>125.0</td>\n",
       "      <td>155.0</td>\n",
       "      <td>640.429993</td>\n",
       "      <td>1100.050049</td>\n",
       "      <td>21.372637</td>\n",
       "      <td>18.8140</td>\n",
       "      <td>2.16</td>\n",
       "    </tr>\n",
       "    <tr>\n",
       "      <th>2</th>\n",
       "      <td>0</td>\n",
       "      <td>9015.588</td>\n",
       "      <td>76.77265</td>\n",
       "      <td>125862</td>\n",
       "      <td>5.5</td>\n",
       "      <td>118993.0</td>\n",
       "      <td>23276</td>\n",
       "      <td>24030</td>\n",
       "      <td>1424</td>\n",
       "      <td>1437</td>\n",
       "      <td>...</td>\n",
       "      <td>1.3656</td>\n",
       "      <td>1.5271</td>\n",
       "      <td>130.5</td>\n",
       "      <td>125.3</td>\n",
       "      <td>155.5</td>\n",
       "      <td>645.500000</td>\n",
       "      <td>1101.400024</td>\n",
       "      <td>21.460953</td>\n",
       "      <td>18.9630</td>\n",
       "      <td>2.18</td>\n",
       "    </tr>\n",
       "    <tr>\n",
       "      <th>3</th>\n",
       "      <td>0</td>\n",
       "      <td>9039.466</td>\n",
       "      <td>76.77265</td>\n",
       "      <td>125994</td>\n",
       "      <td>5.6</td>\n",
       "      <td>119158.0</td>\n",
       "      <td>23316</td>\n",
       "      <td>24043</td>\n",
       "      <td>1516</td>\n",
       "      <td>1463</td>\n",
       "      <td>...</td>\n",
       "      <td>1.3592</td>\n",
       "      <td>1.5160</td>\n",
       "      <td>130.9</td>\n",
       "      <td>125.7</td>\n",
       "      <td>156.1</td>\n",
       "      <td>654.169983</td>\n",
       "      <td>1190.520020</td>\n",
       "      <td>21.637589</td>\n",
       "      <td>18.7388</td>\n",
       "      <td>2.19</td>\n",
       "    </tr>\n",
       "    <tr>\n",
       "      <th>4</th>\n",
       "      <td>0</td>\n",
       "      <td>9078.928</td>\n",
       "      <td>77.01610</td>\n",
       "      <td>126244</td>\n",
       "      <td>5.6</td>\n",
       "      <td>119486.0</td>\n",
       "      <td>23358</td>\n",
       "      <td>24137</td>\n",
       "      <td>1504</td>\n",
       "      <td>1457</td>\n",
       "      <td>...</td>\n",
       "      <td>1.3693</td>\n",
       "      <td>1.5152</td>\n",
       "      <td>130.9</td>\n",
       "      <td>126.2</td>\n",
       "      <td>156.4</td>\n",
       "      <td>669.119995</td>\n",
       "      <td>1243.430054</td>\n",
       "      <td>22.255806</td>\n",
       "      <td>19.1670</td>\n",
       "      <td>2.15</td>\n",
       "    </tr>\n",
       "  </tbody>\n",
       "</table>\n",
       "<p>5 rows × 44 columns</p>\n",
       "</div>"
      ],
      "text/plain": [
       "   Regime       RPI    INDPRO  CE16OV  UNRATE    PAYEMS  USGOOD  USTPU  HOUST  \\\n",
       "0       0  8909.327  76.77265  125125     5.6  118964.0   23196  23947   1467   \n",
       "1       0  8983.863  76.77265  125639     5.5  118964.0   23280  23988   1491   \n",
       "2       0  9015.588  76.77265  125862     5.5  118993.0   23276  24030   1424   \n",
       "3       0  9039.466  76.77265  125994     5.6  119158.0   23316  24043   1516   \n",
       "4       0  9078.928  77.01610  126244     5.6  119486.0   23358  24137   1504   \n",
       "\n",
       "   PERMIT  ...  EXCAUS  EXUSUK  WPSFD49207  WPSID61  CPIAUCSL       SP500  \\\n",
       "0    1387  ...  1.3669  1.5288       129.7    125.5     154.7  636.020020   \n",
       "1    1420  ...  1.3752  1.5360       129.7    125.0     155.0  640.429993   \n",
       "2    1437  ...  1.3656  1.5271       130.5    125.3     155.5  645.500000   \n",
       "3    1463  ...  1.3592  1.5160       130.9    125.7     156.1  654.169983   \n",
       "4    1457  ...  1.3693  1.5152       130.9    126.2     156.4  669.119995   \n",
       "\n",
       "        NASDAQ    GOLDBAR      P/E  Dividend Yield  \n",
       "0  1059.790039  20.754421  18.6845            2.26  \n",
       "1  1100.050049  21.372637  18.8140            2.16  \n",
       "2  1101.400024  21.460953  18.9630            2.18  \n",
       "3  1190.520020  21.637589  18.7388            2.19  \n",
       "4  1243.430054  22.255806  19.1670            2.15  \n",
       "\n",
       "[5 rows x 44 columns]"
      ]
     },
     "execution_count": 18,
     "metadata": {},
     "output_type": "execute_result"
    }
   ],
   "source": [
    "Final_combined = pd.concat([Qualitative_Variable, Quantitative_Variable],axis=1)\n",
    "Final_combined.head()"
   ]
  },
  {
   "cell_type": "markdown",
   "id": "a54d634e",
   "metadata": {},
   "source": [
    "# Data Partition"
   ]
  },
  {
   "cell_type": "code",
   "execution_count": 19,
   "id": "35ed0826",
   "metadata": {},
   "outputs": [],
   "source": [
    "from sklearn.model_selection import train_test_split\n",
    "\n",
    "# define our input variable (X) & output variable\n",
    "X = Final_combined.drop('Regime', axis = 1)\n",
    "Y = Final_combined[['Regime']]\n",
    "# Split X and y into X_\n",
    "X_train, X_test, y_train, y_test = train_test_split(X, Y, test_size=0.20, random_state=56)"
   ]
  },
  {
   "cell_type": "markdown",
   "id": "6028bd9d",
   "metadata": {},
   "source": [
    "# Model building"
   ]
  },
  {
   "cell_type": "markdown",
   "id": "45027837",
   "metadata": {},
   "source": [
    "# Hypothesis\n",
    "H0 :- There is no log linear relationship between Regime and all independent Variable Vs\n",
    "\n",
    "H1 :- There is log linear relationship between Regime and all independent Variable Alpha = 0.05 (5%)"
   ]
  },
  {
   "cell_type": "markdown",
   "id": "b9eeefa3",
   "metadata": {},
   "source": [
    "# Variable selection"
   ]
  },
  {
   "cell_type": "code",
   "execution_count": 20,
   "id": "6344e921",
   "metadata": {},
   "outputs": [
    {
     "data": {
      "text/plain": [
       "SequentialFeatureSelector(estimator=LogisticRegression(),\n",
       "                          n_features_to_select=5, scoring='accuracy')"
      ]
     },
     "execution_count": 20,
     "metadata": {},
     "output_type": "execute_result"
    }
   ],
   "source": [
    "from sklearn.feature_selection import SequentialFeatureSelector as sfs\n",
    "from sklearn.linear_model import LogisticRegression\n",
    "\n",
    "logreg = LogisticRegression()\n",
    "Model3 = sfs(logreg, n_features_to_select=5, direction='forward', scoring='accuracy',cv=5)\n",
    "Model3.fit(X_train,y_train)"
   ]
  },
  {
   "cell_type": "code",
   "execution_count": 21,
   "id": "6f9b27ce",
   "metadata": {},
   "outputs": [
    {
     "data": {
      "text/plain": [
       "array(['RPI', 'INDPRO', 'CE16OV', 'UNRATE', 'PAYEMS', 'USGOOD', 'USTPU',\n",
       "       'HOUST', 'PERMIT', 'DPCERA3M086SBEA', 'AMTMTI', 'AMTMNO', 'ACOGNO',\n",
       "       'AMDMUO', 'BUSINV', 'ISRATIO', 'M1SL', 'M2SL', 'TOTRESNS',\n",
       "       'BUSLOANS', 'REALLN', 'DTCTHFNM', 'FEDFUNDS', 'TB3MS', 'TB6MS',\n",
       "       'GS1', 'GS5', 'GS10', 'AAA', 'TB3SMFFM', 'T1YFFM', 'AAAFFM',\n",
       "       'EXSZUS', 'EXCAUS', 'EXUSUK', 'WPSFD49207', 'WPSID61', 'CPIAUCSL',\n",
       "       'SP500', 'NASDAQ', 'GOLDBAR', 'P/E', 'Dividend Yield'],\n",
       "      dtype=object)"
      ]
     },
     "execution_count": 21,
     "metadata": {},
     "output_type": "execute_result"
    }
   ],
   "source": [
    "Model3.feature_names_in_"
   ]
  },
  {
   "cell_type": "code",
   "execution_count": 22,
   "id": "c37fc544",
   "metadata": {},
   "outputs": [
    {
     "data": {
      "text/plain": [
       "array(['PAYEMS', 'DPCERA3M086SBEA', 'M2SL', 'BUSLOANS', 'P/E'],\n",
       "      dtype=object)"
      ]
     },
     "execution_count": 22,
     "metadata": {},
     "output_type": "execute_result"
    }
   ],
   "source": [
    "Model3.get_feature_names_out()"
   ]
  },
  {
   "cell_type": "markdown",
   "id": "4f49f902",
   "metadata": {},
   "source": [
    "# Logistics Regression"
   ]
  },
  {
   "cell_type": "markdown",
   "id": "38056570",
   "metadata": {},
   "source": [
    "X_train1 = X_train.iloc[:,[5,10,18,20,43]]\n",
    "X_train1.head()"
   ]
  },
  {
   "cell_type": "code",
   "execution_count": null,
   "id": "5f624dc4",
   "metadata": {},
   "outputs": [],
   "source": [
    "logreg = LogisticRegression()\n",
    "output=logreg.fit(X_train1, y_train) # model = output"
   ]
  },
  {
   "cell_type": "code",
   "execution_count": null,
   "id": "2461e7c7",
   "metadata": {},
   "outputs": [],
   "source": [
    "output.intercept_  # beto "
   ]
  },
  {
   "cell_type": "code",
   "execution_count": null,
   "id": "8160b6bf",
   "metadata": {},
   "outputs": [],
   "source": [
    "output.coef_  # Beta 1 -- "
   ]
  },
  {
   "cell_type": "code",
   "execution_count": null,
   "id": "7e8429f5",
   "metadata": {},
   "outputs": [],
   "source": [
    "output.feature_names_in_"
   ]
  },
  {
   "cell_type": "markdown",
   "id": "588b7665",
   "metadata": {},
   "source": [
    "# Step 6 : Predictions on Train Dataset"
   ]
  },
  {
   "cell_type": "code",
   "execution_count": null,
   "id": "846d913a",
   "metadata": {},
   "outputs": [],
   "source": [
    "train=pd.concat([X_train1,y_train],axis=1)\n",
    "train.head()"
   ]
  },
  {
   "cell_type": "code",
   "execution_count": null,
   "id": "fbdef204",
   "metadata": {
    "scrolled": true
   },
   "outputs": [],
   "source": [
    "train['Probability']=output.predict_proba(X_train1)[:,1]\n",
    "train.head()"
   ]
  },
  {
   "cell_type": "code",
   "execution_count": null,
   "id": "bfd43bfd",
   "metadata": {},
   "outputs": [],
   "source": [
    "train['Predicted']=np.where(train['Probability'] >= 0.7,1,0) \n",
    "train.head()"
   ]
  },
  {
   "cell_type": "markdown",
   "id": "9e78a94d",
   "metadata": {},
   "source": [
    "# Step 7 : Model Performance Metrics"
   ]
  },
  {
   "cell_type": "code",
   "execution_count": null,
   "id": "e0025c6f",
   "metadata": {},
   "outputs": [],
   "source": [
    "from sklearn.metrics import classification_report\n",
    "print(classification_report(train['Regime'],train['Predicted']))"
   ]
  },
  {
   "cell_type": "code",
   "execution_count": null,
   "id": "fa778522",
   "metadata": {},
   "outputs": [],
   "source": [
    "from  sklearn.metrics import log_loss"
   ]
  },
  {
   "cell_type": "code",
   "execution_count": null,
   "id": "17d4da02",
   "metadata": {},
   "outputs": [],
   "source": [
    "log_loss(y_train,train['Predicted'])"
   ]
  },
  {
   "cell_type": "code",
   "execution_count": null,
   "id": "51ae9481",
   "metadata": {},
   "outputs": [],
   "source": [
    "from sklearn.metrics import confusion_matrix\n",
    "matrix = confusion_matrix(train['Regime'], train['Predicted'])\n",
    "matrix"
   ]
  },
  {
   "cell_type": "code",
   "execution_count": null,
   "id": "bfc16a09",
   "metadata": {},
   "outputs": [],
   "source": [
    "Accuracy_Train=((213)/(234)*100)\n",
    "print(Accuracy_Train)"
   ]
  },
  {
   "cell_type": "markdown",
   "id": "4e418c5d",
   "metadata": {},
   "source": [
    "# Acccuracy of model is 91% so model is good fit"
   ]
  },
  {
   "cell_type": "markdown",
   "id": "9d000195",
   "metadata": {},
   "source": [
    "# Step 8 : Predictions on Test Dataset"
   ]
  },
  {
   "cell_type": "code",
   "execution_count": null,
   "id": "176e88c3",
   "metadata": {},
   "outputs": [],
   "source": [
    "X_test1 = X_test.iloc[:,[5,10,18,20,43]]\n",
    "X_test1.head()"
   ]
  },
  {
   "cell_type": "code",
   "execution_count": null,
   "id": "38343410",
   "metadata": {},
   "outputs": [],
   "source": [
    "test=pd.concat([X_test1,y_test],axis=1)\n",
    "test.head()"
   ]
  },
  {
   "cell_type": "code",
   "execution_count": null,
   "id": "69bb31e3",
   "metadata": {},
   "outputs": [],
   "source": [
    "test['Probability']=output.predict_proba(X_test1)[:,1]\n",
    "test.head()"
   ]
  },
  {
   "cell_type": "code",
   "execution_count": null,
   "id": "2c1701e6",
   "metadata": {},
   "outputs": [],
   "source": [
    "test['Predicted']=np.where(test['Probability'] >= 0.8,1,0) \n",
    "test.head()"
   ]
  },
  {
   "cell_type": "markdown",
   "id": "200b10ae",
   "metadata": {},
   "source": [
    "# Step 9 : Model Performance Metrics on Test data"
   ]
  },
  {
   "cell_type": "code",
   "execution_count": null,
   "id": "10494ec7",
   "metadata": {},
   "outputs": [],
   "source": [
    "from sklearn.metrics import classification_report\n",
    "print(classification_report(test['Regime'],test['Predicted']))"
   ]
  },
  {
   "cell_type": "code",
   "execution_count": null,
   "id": "900afef6",
   "metadata": {},
   "outputs": [],
   "source": [
    "from  sklearn.metrics import log_loss"
   ]
  },
  {
   "cell_type": "code",
   "execution_count": null,
   "id": "5b109138",
   "metadata": {},
   "outputs": [],
   "source": [
    "log_loss(y_test,test['Predicted'])"
   ]
  },
  {
   "cell_type": "code",
   "execution_count": null,
   "id": "8799d34d",
   "metadata": {},
   "outputs": [],
   "source": [
    "from sklearn.metrics import confusion_matrix\n",
    "matrix = confusion_matrix(test['Regime'],test['Predicted'])\n",
    "print(matrix)"
   ]
  },
  {
   "cell_type": "code",
   "execution_count": null,
   "id": "66801dea",
   "metadata": {},
   "outputs": [],
   "source": [
    "Accuracy_test=((57)/(59)*100)\n",
    "Accuracy_test"
   ]
  },
  {
   "cell_type": "markdown",
   "id": "fd27a2cd",
   "metadata": {},
   "source": [
    "# Business Submission"
   ]
  },
  {
   "cell_type": "markdown",
   "id": "b635e469",
   "metadata": {},
   "source": [
    "# Coefficient\n",
    "For future Prediction below 4 variable data is mandatory\n",
    "\n",
    "Note :- If anyone is not present output will not be reliable"
   ]
  },
  {
   "cell_type": "code",
   "execution_count": null,
   "id": "decd4646",
   "metadata": {},
   "outputs": [],
   "source": [
    "Model_Values=pd.DataFrame(output.intercept_,index=['Intercept'],columns=['Coefficient'])\n",
    "Model_Values"
   ]
  },
  {
   "cell_type": "code",
   "execution_count": null,
   "id": "b74f9c89",
   "metadata": {},
   "outputs": [],
   "source": [
    "abc=pd.DataFrame(output.coef_.T,index=output.feature_names_in_,columns=['Coefficient'])\n",
    "abc\n"
   ]
  },
  {
   "cell_type": "code",
   "execution_count": null,
   "id": "f70c6323",
   "metadata": {},
   "outputs": [],
   "source": [
    "Model_Values.append(abc)"
   ]
  },
  {
   "cell_type": "markdown",
   "id": "09103df1",
   "metadata": {},
   "source": [
    "# Step 10 :- ROCR Plot"
   ]
  },
  {
   "cell_type": "code",
   "execution_count": null,
   "id": "57c7ac38",
   "metadata": {},
   "outputs": [],
   "source": [
    "from sklearn.metrics import roc_auc_score\n",
    "from sklearn.metrics import roc_curve\n",
    "logit_roc_auc = roc_auc_score(y_train, output.predict(X_train1))\n",
    "fpr, tpr, thresholds= roc_curve(y_train, output.predict_proba(X_train1)\n",
    "                                 [:,1])\n",
    "plt.figure()\n",
    "plt.plot(fpr, tpr, label='Logistic Regression (area = %0.2f)'\n",
    "         % logit_roc_auc)\n",
    "plt.plot([0, 1], [0, 1],'r--')\n",
    "plt.xlim([0.0, 1.0])\n",
    "plt.ylim([0.0, 1.05])\n",
    "plt.xlabel('False Positive Rate')\n",
    "plt.ylabel('True Positive Rate')\n",
    "plt.title('Receiver operating characteristic')\n",
    "plt.legend(loc=\"lower right\")\n",
    "#plt.savefig('Log_ROC')\n",
    "plt.show()"
   ]
  },
  {
   "cell_type": "markdown",
   "id": "3a423c90",
   "metadata": {},
   "source": [
    "# Finish"
   ]
  },
  {
   "cell_type": "markdown",
   "id": "cc175de4",
   "metadata": {},
   "source": [
    "# Live Data"
   ]
  },
  {
   "cell_type": "code",
   "execution_count": null,
   "id": "c12f74f8",
   "metadata": {
    "scrolled": true
   },
   "outputs": [],
   "source": [
    "# Load the test data\n",
    "Recession_test = pd.read_excel(r\"C:\\Users\\admin\\Desktop\\Data folder\\Recession\\Recession-New.xlsx\")\n",
    "print('Test Data Shape  - ', Recession_test.shape)\n",
    "Recession_test.head()"
   ]
  },
  {
   "cell_type": "markdown",
   "id": "3cadd565",
   "metadata": {},
   "source": [
    "# Handle missing values on the Live data"
   ]
  },
  {
   "cell_type": "code",
   "execution_count": null,
   "id": "d6f5275a",
   "metadata": {},
   "outputs": [],
   "source": [
    "Recession_test.isnull().sum()"
   ]
  },
  {
   "cell_type": "code",
   "execution_count": null,
   "id": "e8f5fc42",
   "metadata": {},
   "outputs": [],
   "source": [
    "for column in ['Dividend Yield','DATE','RPI','INDPRO','CE16OV','UNRATE','PAYEMS','USGOOD','USTPU','HOUST','PERMIT', 'DPCERA3M086SBEA','Regime','GOLDBAR', 'NASDAQCOM' ]: \n",
    "    Recession_test[column].fillna(Recession_test[column].mode(), inplace=True)"
   ]
  },
  {
   "cell_type": "code",
   "execution_count": null,
   "id": "848ef25f",
   "metadata": {},
   "outputs": [],
   "source": [
    "Recession_test.isnull().sum()"
   ]
  },
  {
   "cell_type": "code",
   "execution_count": null,
   "id": "42754b3e",
   "metadata": {},
   "outputs": [],
   "source": [
    "AMTMTI"
   ]
  },
  {
   "cell_type": "markdown",
   "id": "75542d41",
   "metadata": {},
   "source": [
    "# Converting to Dummies"
   ]
  },
  {
   "cell_type": "markdown",
   "id": "a7fcd7bf",
   "metadata": {},
   "source": [
    "# Extreme Boosting"
   ]
  },
  {
   "cell_type": "code",
   "execution_count": 37,
   "id": "d1dac388",
   "metadata": {},
   "outputs": [],
   "source": [
    "################  Data Analysis & Calculation  #####################3\n",
    "import numpy as np   \n",
    "import pandas as pd  \n",
    "import datetime  \n",
    "\n",
    "####################  Visuvalization & plotting  #####################3\n",
    "import matplotlib.pyplot as plt \n",
    "import seaborn as sns\n",
    "%matplotlib inline  \n",
    "#################### Machine Learning #####################3\n",
    "from sklearn.ensemble import AdaBoostClassifier  \n",
    "from sklearn.ensemble import GradientBoostingClassifier  \n",
    "from sklearn.model_selection import train_test_split, cross_val_score, GridSearchCV\n",
    "from sklearn.metrics import confusion_matrix, classification_report\n",
    "import warnings  \n",
    "warnings.filterwarnings(\"ignore\")\n",
    "from sklearn.preprocessing import LabelEncoder \n",
    "import xgboost as xgb\n",
    "from xgboost.sklearn import XGBClassifier # Extrame GB\n",
    "from xgboost import plot_importance ## Plotting Importance Variables \n",
    "from sklearn.model_selection import train_test_split, cross_val_score, GridSearchCV\n",
    "from sklearn.metrics import confusion_matrix, classification_report\n",
    "from sklearn.preprocessing import LabelEncoder # Labeling the columns with 0 & 1"
   ]
  },
  {
   "cell_type": "code",
   "execution_count": 24,
   "id": "846f1cde",
   "metadata": {},
   "outputs": [
    {
     "name": "stdout",
     "output_type": "stream",
     "text": [
      "Rows     :  293\n",
      "Columns  :  44\n"
     ]
    }
   ],
   "source": [
    "print (\"Rows     : \" ,new.shape[0])\n",
    "print (\"Columns  : \" ,new.shape[1])"
   ]
  },
  {
   "cell_type": "code",
   "execution_count": 25,
   "id": "ffc64b16",
   "metadata": {},
   "outputs": [
    {
     "name": "stdout",
     "output_type": "stream",
     "text": [
      "<class 'pandas.core.frame.DataFrame'>\n",
      "RangeIndex: 293 entries, 0 to 292\n",
      "Data columns (total 44 columns):\n",
      " #   Column           Non-Null Count  Dtype  \n",
      "---  ------           --------------  -----  \n",
      " 0   RPI              293 non-null    float64\n",
      " 1   INDPRO           293 non-null    float64\n",
      " 2   CE16OV           293 non-null    int64  \n",
      " 3   UNRATE           293 non-null    float64\n",
      " 4   PAYEMS           293 non-null    float64\n",
      " 5   USGOOD           293 non-null    int64  \n",
      " 6   USTPU            293 non-null    int64  \n",
      " 7   HOUST            293 non-null    int64  \n",
      " 8   PERMIT           293 non-null    int64  \n",
      " 9   DPCERA3M086SBEA  293 non-null    float64\n",
      " 10  AMTMTI           293 non-null    int64  \n",
      " 11  AMTMNO           293 non-null    int64  \n",
      " 12  ACOGNO           293 non-null    int64  \n",
      " 13  AMDMUO           293 non-null    int64  \n",
      " 14  BUSINV           293 non-null    int64  \n",
      " 15  ISRATIO          293 non-null    float64\n",
      " 16  M1SL             293 non-null    float64\n",
      " 17  M2SL             293 non-null    float64\n",
      " 18  TOTRESNS         293 non-null    float64\n",
      " 19  BUSLOANS         293 non-null    float64\n",
      " 20  REALLN           293 non-null    float64\n",
      " 21  DTCTHFNM         293 non-null    float64\n",
      " 22  FEDFUNDS         293 non-null    float64\n",
      " 23  TB3MS            293 non-null    float64\n",
      " 24  TB6MS            293 non-null    float64\n",
      " 25  GS1              293 non-null    float64\n",
      " 26  GS5              293 non-null    float64\n",
      " 27  GS10             293 non-null    float64\n",
      " 28  AAA              293 non-null    float64\n",
      " 29  TB3SMFFM         293 non-null    float64\n",
      " 30  T1YFFM           293 non-null    float64\n",
      " 31  AAAFFM           293 non-null    float64\n",
      " 32  EXSZUS           293 non-null    float64\n",
      " 33  EXCAUS           293 non-null    float64\n",
      " 34  EXUSUK           293 non-null    float64\n",
      " 35  WPSFD49207       293 non-null    float64\n",
      " 36  WPSID61          293 non-null    float64\n",
      " 37  CPIAUCSL         293 non-null    float64\n",
      " 38  SP500            293 non-null    float64\n",
      " 39  NASDAQ           293 non-null    float64\n",
      " 40  GOLDBAR          293 non-null    float64\n",
      " 41  Regime           293 non-null    object \n",
      " 42  P/E              293 non-null    float64\n",
      " 43  Dividend Yield   293 non-null    float64\n",
      "dtypes: float64(33), int64(10), object(1)\n",
      "memory usage: 100.8+ KB\n"
     ]
    }
   ],
   "source": [
    "new.info()"
   ]
  },
  {
   "cell_type": "markdown",
   "id": "053746d7",
   "metadata": {},
   "source": [
    "# Missing Value"
   ]
  },
  {
   "cell_type": "code",
   "execution_count": 26,
   "id": "42e599db",
   "metadata": {},
   "outputs": [
    {
     "data": {
      "text/plain": [
       "RPI                0\n",
       "INDPRO             0\n",
       "CE16OV             0\n",
       "UNRATE             0\n",
       "PAYEMS             0\n",
       "USGOOD             0\n",
       "USTPU              0\n",
       "HOUST              0\n",
       "PERMIT             0\n",
       "DPCERA3M086SBEA    0\n",
       "AMTMTI             0\n",
       "AMTMNO             0\n",
       "ACOGNO             0\n",
       "AMDMUO             0\n",
       "BUSINV             0\n",
       "ISRATIO            0\n",
       "M1SL               0\n",
       "M2SL               0\n",
       "TOTRESNS           0\n",
       "BUSLOANS           0\n",
       "REALLN             0\n",
       "DTCTHFNM           0\n",
       "FEDFUNDS           0\n",
       "TB3MS              0\n",
       "TB6MS              0\n",
       "GS1                0\n",
       "GS5                0\n",
       "GS10               0\n",
       "AAA                0\n",
       "TB3SMFFM           0\n",
       "T1YFFM             0\n",
       "AAAFFM             0\n",
       "EXSZUS             0\n",
       "EXCAUS             0\n",
       "EXUSUK             0\n",
       "WPSFD49207         0\n",
       "WPSID61            0\n",
       "CPIAUCSL           0\n",
       "SP500              0\n",
       "NASDAQ             0\n",
       "GOLDBAR            0\n",
       "Regime             0\n",
       "P/E                0\n",
       "Dividend Yield     0\n",
       "dtype: int64"
      ]
     },
     "execution_count": 26,
     "metadata": {},
     "output_type": "execute_result"
    }
   ],
   "source": [
    "new.isnull().sum()"
   ]
  },
  {
   "cell_type": "code",
   "execution_count": 27,
   "id": "6522b7f4",
   "metadata": {},
   "outputs": [
    {
     "data": {
      "text/html": [
       "<div>\n",
       "<style scoped>\n",
       "    .dataframe tbody tr th:only-of-type {\n",
       "        vertical-align: middle;\n",
       "    }\n",
       "\n",
       "    .dataframe tbody tr th {\n",
       "        vertical-align: top;\n",
       "    }\n",
       "\n",
       "    .dataframe thead th {\n",
       "        text-align: right;\n",
       "    }\n",
       "</style>\n",
       "<table border=\"1\" class=\"dataframe\">\n",
       "  <thead>\n",
       "    <tr style=\"text-align: right;\">\n",
       "      <th></th>\n",
       "      <th>RPI</th>\n",
       "      <th>INDPRO</th>\n",
       "      <th>CE16OV</th>\n",
       "      <th>UNRATE</th>\n",
       "      <th>PAYEMS</th>\n",
       "      <th>USGOOD</th>\n",
       "      <th>USTPU</th>\n",
       "      <th>HOUST</th>\n",
       "      <th>PERMIT</th>\n",
       "      <th>DPCERA3M086SBEA</th>\n",
       "      <th>...</th>\n",
       "      <th>EXCAUS</th>\n",
       "      <th>EXUSUK</th>\n",
       "      <th>WPSFD49207</th>\n",
       "      <th>WPSID61</th>\n",
       "      <th>CPIAUCSL</th>\n",
       "      <th>SP500</th>\n",
       "      <th>NASDAQ</th>\n",
       "      <th>GOLDBAR</th>\n",
       "      <th>P/E</th>\n",
       "      <th>Dividend Yield</th>\n",
       "    </tr>\n",
       "  </thead>\n",
       "  <tbody>\n",
       "    <tr>\n",
       "      <th>0</th>\n",
       "      <td>8909.327</td>\n",
       "      <td>76.77265</td>\n",
       "      <td>125125</td>\n",
       "      <td>5.6</td>\n",
       "      <td>118964.0</td>\n",
       "      <td>23196</td>\n",
       "      <td>23947</td>\n",
       "      <td>1467</td>\n",
       "      <td>1387</td>\n",
       "      <td>63.691</td>\n",
       "      <td>...</td>\n",
       "      <td>1.3669</td>\n",
       "      <td>1.5288</td>\n",
       "      <td>129.7</td>\n",
       "      <td>125.5</td>\n",
       "      <td>154.7</td>\n",
       "      <td>636.020020</td>\n",
       "      <td>1059.790039</td>\n",
       "      <td>20.754421</td>\n",
       "      <td>18.6845</td>\n",
       "      <td>2.26</td>\n",
       "    </tr>\n",
       "    <tr>\n",
       "      <th>1</th>\n",
       "      <td>8983.863</td>\n",
       "      <td>76.77265</td>\n",
       "      <td>125639</td>\n",
       "      <td>5.5</td>\n",
       "      <td>118964.0</td>\n",
       "      <td>23280</td>\n",
       "      <td>23988</td>\n",
       "      <td>1491</td>\n",
       "      <td>1420</td>\n",
       "      <td>64.180</td>\n",
       "      <td>...</td>\n",
       "      <td>1.3752</td>\n",
       "      <td>1.5360</td>\n",
       "      <td>129.7</td>\n",
       "      <td>125.0</td>\n",
       "      <td>155.0</td>\n",
       "      <td>640.429993</td>\n",
       "      <td>1100.050049</td>\n",
       "      <td>21.372637</td>\n",
       "      <td>18.8140</td>\n",
       "      <td>2.16</td>\n",
       "    </tr>\n",
       "    <tr>\n",
       "      <th>2</th>\n",
       "      <td>9015.588</td>\n",
       "      <td>76.77265</td>\n",
       "      <td>125862</td>\n",
       "      <td>5.5</td>\n",
       "      <td>118993.0</td>\n",
       "      <td>23276</td>\n",
       "      <td>24030</td>\n",
       "      <td>1424</td>\n",
       "      <td>1437</td>\n",
       "      <td>64.491</td>\n",
       "      <td>...</td>\n",
       "      <td>1.3656</td>\n",
       "      <td>1.5271</td>\n",
       "      <td>130.5</td>\n",
       "      <td>125.3</td>\n",
       "      <td>155.5</td>\n",
       "      <td>645.500000</td>\n",
       "      <td>1101.400024</td>\n",
       "      <td>21.460953</td>\n",
       "      <td>18.9630</td>\n",
       "      <td>2.18</td>\n",
       "    </tr>\n",
       "  </tbody>\n",
       "</table>\n",
       "<p>3 rows × 43 columns</p>\n",
       "</div>"
      ],
      "text/plain": [
       "        RPI    INDPRO  CE16OV  UNRATE    PAYEMS  USGOOD  USTPU  HOUST  PERMIT  \\\n",
       "0  8909.327  76.77265  125125     5.6  118964.0   23196  23947   1467    1387   \n",
       "1  8983.863  76.77265  125639     5.5  118964.0   23280  23988   1491    1420   \n",
       "2  9015.588  76.77265  125862     5.5  118993.0   23276  24030   1424    1437   \n",
       "\n",
       "   DPCERA3M086SBEA  ...  EXCAUS  EXUSUK  WPSFD49207  WPSID61  CPIAUCSL  \\\n",
       "0           63.691  ...  1.3669  1.5288       129.7    125.5     154.7   \n",
       "1           64.180  ...  1.3752  1.5360       129.7    125.0     155.0   \n",
       "2           64.491  ...  1.3656  1.5271       130.5    125.3     155.5   \n",
       "\n",
       "        SP500       NASDAQ    GOLDBAR      P/E  Dividend Yield  \n",
       "0  636.020020  1059.790039  20.754421  18.6845            2.26  \n",
       "1  640.429993  1100.050049  21.372637  18.8140            2.16  \n",
       "2  645.500000  1101.400024  21.460953  18.9630            2.18  \n",
       "\n",
       "[3 rows x 43 columns]"
      ]
     },
     "execution_count": 27,
     "metadata": {},
     "output_type": "execute_result"
    }
   ],
   "source": [
    "# #Employee Numeric columns\n",
    "new_num = new[new.select_dtypes(include=[np.number]).columns.tolist()]\n",
    "new_num.head(3)"
   ]
  },
  {
   "cell_type": "code",
   "execution_count": 28,
   "id": "af276832",
   "metadata": {},
   "outputs": [
    {
     "data": {
      "text/html": [
       "<div>\n",
       "<style scoped>\n",
       "    .dataframe tbody tr th:only-of-type {\n",
       "        vertical-align: middle;\n",
       "    }\n",
       "\n",
       "    .dataframe tbody tr th {\n",
       "        vertical-align: top;\n",
       "    }\n",
       "\n",
       "    .dataframe thead th {\n",
       "        text-align: right;\n",
       "    }\n",
       "</style>\n",
       "<table border=\"1\" class=\"dataframe\">\n",
       "  <thead>\n",
       "    <tr style=\"text-align: right;\">\n",
       "      <th></th>\n",
       "      <th>Regime</th>\n",
       "    </tr>\n",
       "  </thead>\n",
       "  <tbody>\n",
       "    <tr>\n",
       "      <th>0</th>\n",
       "      <td>Normal</td>\n",
       "    </tr>\n",
       "    <tr>\n",
       "      <th>1</th>\n",
       "      <td>Normal</td>\n",
       "    </tr>\n",
       "    <tr>\n",
       "      <th>2</th>\n",
       "      <td>Normal</td>\n",
       "    </tr>\n",
       "  </tbody>\n",
       "</table>\n",
       "</div>"
      ],
      "text/plain": [
       "   Regime\n",
       "0  Normal\n",
       "1  Normal\n",
       "2  Normal"
      ]
     },
     "execution_count": 28,
     "metadata": {},
     "output_type": "execute_result"
    }
   ],
   "source": [
    "new_dummies = new[new.select_dtypes(include=['object']).columns.tolist()]\n",
    "new_dummies.head(3)"
   ]
  },
  {
   "cell_type": "code",
   "execution_count": 29,
   "id": "76fec274",
   "metadata": {},
   "outputs": [
    {
     "data": {
      "text/html": [
       "<div>\n",
       "<style scoped>\n",
       "    .dataframe tbody tr th:only-of-type {\n",
       "        vertical-align: middle;\n",
       "    }\n",
       "\n",
       "    .dataframe tbody tr th {\n",
       "        vertical-align: top;\n",
       "    }\n",
       "\n",
       "    .dataframe thead th {\n",
       "        text-align: right;\n",
       "    }\n",
       "</style>\n",
       "<table border=\"1\" class=\"dataframe\">\n",
       "  <thead>\n",
       "    <tr style=\"text-align: right;\">\n",
       "      <th></th>\n",
       "      <th>Regime</th>\n",
       "    </tr>\n",
       "  </thead>\n",
       "  <tbody>\n",
       "    <tr>\n",
       "      <th>0</th>\n",
       "      <td>0</td>\n",
       "    </tr>\n",
       "    <tr>\n",
       "      <th>1</th>\n",
       "      <td>0</td>\n",
       "    </tr>\n",
       "    <tr>\n",
       "      <th>2</th>\n",
       "      <td>0</td>\n",
       "    </tr>\n",
       "  </tbody>\n",
       "</table>\n",
       "</div>"
      ],
      "text/plain": [
       "   Regime\n",
       "0       0\n",
       "1       0\n",
       "2       0"
      ]
     },
     "execution_count": 29,
     "metadata": {},
     "output_type": "execute_result"
    }
   ],
   "source": [
    "from sklearn.preprocessing import LabelEncoder\n",
    "new_dummies=new_dummies.apply(LabelEncoder().fit_transform)\n",
    "new_dummies.head(3)\n",
    "# label in ascending order"
   ]
  },
  {
   "cell_type": "code",
   "execution_count": 30,
   "id": "589d9bf5",
   "metadata": {},
   "outputs": [
    {
     "data": {
      "text/html": [
       "<div>\n",
       "<style scoped>\n",
       "    .dataframe tbody tr th:only-of-type {\n",
       "        vertical-align: middle;\n",
       "    }\n",
       "\n",
       "    .dataframe tbody tr th {\n",
       "        vertical-align: top;\n",
       "    }\n",
       "\n",
       "    .dataframe thead th {\n",
       "        text-align: right;\n",
       "    }\n",
       "</style>\n",
       "<table border=\"1\" class=\"dataframe\">\n",
       "  <thead>\n",
       "    <tr style=\"text-align: right;\">\n",
       "      <th></th>\n",
       "      <th>RPI</th>\n",
       "      <th>INDPRO</th>\n",
       "      <th>CE16OV</th>\n",
       "      <th>UNRATE</th>\n",
       "      <th>PAYEMS</th>\n",
       "      <th>USGOOD</th>\n",
       "      <th>USTPU</th>\n",
       "      <th>HOUST</th>\n",
       "      <th>PERMIT</th>\n",
       "      <th>DPCERA3M086SBEA</th>\n",
       "      <th>...</th>\n",
       "      <th>EXUSUK</th>\n",
       "      <th>WPSFD49207</th>\n",
       "      <th>WPSID61</th>\n",
       "      <th>CPIAUCSL</th>\n",
       "      <th>SP500</th>\n",
       "      <th>NASDAQ</th>\n",
       "      <th>GOLDBAR</th>\n",
       "      <th>P/E</th>\n",
       "      <th>Dividend Yield</th>\n",
       "      <th>Regime</th>\n",
       "    </tr>\n",
       "  </thead>\n",
       "  <tbody>\n",
       "    <tr>\n",
       "      <th>0</th>\n",
       "      <td>8909.327</td>\n",
       "      <td>76.77265</td>\n",
       "      <td>125125</td>\n",
       "      <td>5.6</td>\n",
       "      <td>118964.0</td>\n",
       "      <td>23196</td>\n",
       "      <td>23947</td>\n",
       "      <td>1467</td>\n",
       "      <td>1387</td>\n",
       "      <td>63.691</td>\n",
       "      <td>...</td>\n",
       "      <td>1.5288</td>\n",
       "      <td>129.7</td>\n",
       "      <td>125.5</td>\n",
       "      <td>154.7</td>\n",
       "      <td>636.020020</td>\n",
       "      <td>1059.790039</td>\n",
       "      <td>20.754421</td>\n",
       "      <td>18.6845</td>\n",
       "      <td>2.26</td>\n",
       "      <td>0</td>\n",
       "    </tr>\n",
       "    <tr>\n",
       "      <th>1</th>\n",
       "      <td>8983.863</td>\n",
       "      <td>76.77265</td>\n",
       "      <td>125639</td>\n",
       "      <td>5.5</td>\n",
       "      <td>118964.0</td>\n",
       "      <td>23280</td>\n",
       "      <td>23988</td>\n",
       "      <td>1491</td>\n",
       "      <td>1420</td>\n",
       "      <td>64.180</td>\n",
       "      <td>...</td>\n",
       "      <td>1.5360</td>\n",
       "      <td>129.7</td>\n",
       "      <td>125.0</td>\n",
       "      <td>155.0</td>\n",
       "      <td>640.429993</td>\n",
       "      <td>1100.050049</td>\n",
       "      <td>21.372637</td>\n",
       "      <td>18.8140</td>\n",
       "      <td>2.16</td>\n",
       "      <td>0</td>\n",
       "    </tr>\n",
       "    <tr>\n",
       "      <th>2</th>\n",
       "      <td>9015.588</td>\n",
       "      <td>76.77265</td>\n",
       "      <td>125862</td>\n",
       "      <td>5.5</td>\n",
       "      <td>118993.0</td>\n",
       "      <td>23276</td>\n",
       "      <td>24030</td>\n",
       "      <td>1424</td>\n",
       "      <td>1437</td>\n",
       "      <td>64.491</td>\n",
       "      <td>...</td>\n",
       "      <td>1.5271</td>\n",
       "      <td>130.5</td>\n",
       "      <td>125.3</td>\n",
       "      <td>155.5</td>\n",
       "      <td>645.500000</td>\n",
       "      <td>1101.400024</td>\n",
       "      <td>21.460953</td>\n",
       "      <td>18.9630</td>\n",
       "      <td>2.18</td>\n",
       "      <td>0</td>\n",
       "    </tr>\n",
       "    <tr>\n",
       "      <th>3</th>\n",
       "      <td>9039.466</td>\n",
       "      <td>76.77265</td>\n",
       "      <td>125994</td>\n",
       "      <td>5.6</td>\n",
       "      <td>119158.0</td>\n",
       "      <td>23316</td>\n",
       "      <td>24043</td>\n",
       "      <td>1516</td>\n",
       "      <td>1463</td>\n",
       "      <td>64.729</td>\n",
       "      <td>...</td>\n",
       "      <td>1.5160</td>\n",
       "      <td>130.9</td>\n",
       "      <td>125.7</td>\n",
       "      <td>156.1</td>\n",
       "      <td>654.169983</td>\n",
       "      <td>1190.520020</td>\n",
       "      <td>21.637589</td>\n",
       "      <td>18.7388</td>\n",
       "      <td>2.19</td>\n",
       "      <td>0</td>\n",
       "    </tr>\n",
       "    <tr>\n",
       "      <th>4</th>\n",
       "      <td>9078.928</td>\n",
       "      <td>77.01610</td>\n",
       "      <td>126244</td>\n",
       "      <td>5.6</td>\n",
       "      <td>119486.0</td>\n",
       "      <td>23358</td>\n",
       "      <td>24137</td>\n",
       "      <td>1504</td>\n",
       "      <td>1457</td>\n",
       "      <td>64.813</td>\n",
       "      <td>...</td>\n",
       "      <td>1.5152</td>\n",
       "      <td>130.9</td>\n",
       "      <td>126.2</td>\n",
       "      <td>156.4</td>\n",
       "      <td>669.119995</td>\n",
       "      <td>1243.430054</td>\n",
       "      <td>22.255806</td>\n",
       "      <td>19.1670</td>\n",
       "      <td>2.15</td>\n",
       "      <td>0</td>\n",
       "    </tr>\n",
       "  </tbody>\n",
       "</table>\n",
       "<p>5 rows × 44 columns</p>\n",
       "</div>"
      ],
      "text/plain": [
       "        RPI    INDPRO  CE16OV  UNRATE    PAYEMS  USGOOD  USTPU  HOUST  PERMIT  \\\n",
       "0  8909.327  76.77265  125125     5.6  118964.0   23196  23947   1467    1387   \n",
       "1  8983.863  76.77265  125639     5.5  118964.0   23280  23988   1491    1420   \n",
       "2  9015.588  76.77265  125862     5.5  118993.0   23276  24030   1424    1437   \n",
       "3  9039.466  76.77265  125994     5.6  119158.0   23316  24043   1516    1463   \n",
       "4  9078.928  77.01610  126244     5.6  119486.0   23358  24137   1504    1457   \n",
       "\n",
       "   DPCERA3M086SBEA  ...  EXUSUK  WPSFD49207  WPSID61  CPIAUCSL       SP500  \\\n",
       "0           63.691  ...  1.5288       129.7    125.5     154.7  636.020020   \n",
       "1           64.180  ...  1.5360       129.7    125.0     155.0  640.429993   \n",
       "2           64.491  ...  1.5271       130.5    125.3     155.5  645.500000   \n",
       "3           64.729  ...  1.5160       130.9    125.7     156.1  654.169983   \n",
       "4           64.813  ...  1.5152       130.9    126.2     156.4  669.119995   \n",
       "\n",
       "        NASDAQ    GOLDBAR      P/E  Dividend Yield  Regime  \n",
       "0  1059.790039  20.754421  18.6845            2.26       0  \n",
       "1  1100.050049  21.372637  18.8140            2.16       0  \n",
       "2  1101.400024  21.460953  18.9630            2.18       0  \n",
       "3  1190.520020  21.637589  18.7388            2.19       0  \n",
       "4  1243.430054  22.255806  19.1670            2.15       0  \n",
       "\n",
       "[5 rows x 44 columns]"
      ]
     },
     "execution_count": 30,
     "metadata": {},
     "output_type": "execute_result"
    }
   ],
   "source": [
    "new_combined = pd.concat([new_num, new_dummies],axis=1)\n",
    "new_combined.head()"
   ]
  },
  {
   "cell_type": "markdown",
   "id": "71545cb9",
   "metadata": {},
   "source": [
    "# Data Partition-1"
   ]
  },
  {
   "cell_type": "code",
   "execution_count": 31,
   "id": "6a55bda7",
   "metadata": {},
   "outputs": [],
   "source": [
    "#Dividing data into train and test dataset\n",
    "from sklearn.model_selection import train_test_split\n",
    "#from random import seed\n",
    "\n",
    "#seed(20)\n",
    "X = new_combined.drop('Regime',axis=1)\n",
    "y = new_combined[[\"Regime\"]]\n",
    "\n",
    "x_train, x_test, y_train, y_test = train_test_split(X, y, test_size=0.2,random_state =1)"
   ]
  },
  {
   "cell_type": "code",
   "execution_count": 32,
   "id": "3edf884a",
   "metadata": {},
   "outputs": [
    {
     "name": "stdout",
     "output_type": "stream",
     "text": [
      "The number of samples into the Train data is 234.\n",
      "The number of samples into the Test data is 59.\n"
     ]
    }
   ],
   "source": [
    "print('The number of samples into the Train data is {}.'.format(x_train.shape[0]))\n",
    "print('The number of samples into the Test data is {}.'.format(x_test.shape[0]))"
   ]
  },
  {
   "cell_type": "markdown",
   "id": "26547b5c",
   "metadata": {},
   "source": [
    "# Model -- Xg Boosting"
   ]
  },
  {
   "cell_type": "code",
   "execution_count": 33,
   "id": "c2f683a5",
   "metadata": {},
   "outputs": [],
   "source": [
    "# Define Model parameters to tune\n",
    "# n_estimators=The number of boosting stages to perform.\n",
    "model_parameters = {'n_estimators': [10, 50], # number of tress\n",
    "                    'max_depth':    [3, 5],      # maximum branches in tree\n",
    "                    'learning_rate':[0.8, 0.6],\n",
    "                    'reg_lambda':[0,1]} #parent "
   ]
  },
  {
   "cell_type": "code",
   "execution_count": 38,
   "id": "1e63a7bb",
   "metadata": {},
   "outputs": [
    {
     "name": "stdout",
     "output_type": "stream",
     "text": [
      "Fitting 5 folds for each of 16 candidates, totalling 80 fits\n"
     ]
    },
    {
     "data": {
      "text/plain": [
       "GridSearchCV(cv=5,\n",
       "             estimator=XGBClassifier(base_score=None, booster=None,\n",
       "                                     callbacks=None, colsample_bylevel=None,\n",
       "                                     colsample_bynode=None,\n",
       "                                     colsample_bytree=None,\n",
       "                                     early_stopping_rounds=None,\n",
       "                                     enable_categorical=False, eval_metric=None,\n",
       "                                     feature_types=None, gamma=None,\n",
       "                                     gpu_id=None, grow_policy=None,\n",
       "                                     importance_type=None,\n",
       "                                     interaction_constraints=None,\n",
       "                                     learning_rate=None,...\n",
       "                                     max_cat_to_onehot=None,\n",
       "                                     max_delta_step=None, max_depth=None,\n",
       "                                     max_leaves=None, min_child_weight=None,\n",
       "                                     missing=nan, monotone_constraints=None,\n",
       "                                     n_estimators=100, n_jobs=None,\n",
       "                                     num_parallel_tree=None, predictor=None,\n",
       "                                     random_state=None, ...),\n",
       "             n_jobs=-1,\n",
       "             param_grid={'learning_rate': [0.8, 0.6], 'max_depth': [3, 5],\n",
       "                         'n_estimators': [10, 50], 'reg_lambda': [0, 1]},\n",
       "             scoring='accuracy', verbose=1)"
      ]
     },
     "execution_count": 38,
     "metadata": {},
     "output_type": "execute_result"
    }
   ],
   "source": [
    "# Gridsearch the parameters to find the best parameters. Using L2 penalty\n",
    "model = XGBClassifier()   # Lamda = 0 \n",
    "gscv = GridSearchCV(estimator=model, \n",
    "                    param_grid=model_parameters, \n",
    "                    cv=5, \n",
    "                    verbose=1, \n",
    "                    n_jobs=-1,\n",
    "                    scoring='accuracy')\n",
    "\n",
    "gscv.fit(x_train, y_train)  ## Model building"
   ]
  },
  {
   "cell_type": "code",
   "execution_count": 39,
   "id": "5ff6e054",
   "metadata": {},
   "outputs": [
    {
     "name": "stdout",
     "output_type": "stream",
     "text": [
      "The best parameter are - {'learning_rate': 0.8, 'max_depth': 3, 'n_estimators': 10, 'reg_lambda': 0}\n"
     ]
    }
   ],
   "source": [
    "print('The best parameter are -', gscv.best_params_)"
   ]
  },
  {
   "cell_type": "code",
   "execution_count": 40,
   "id": "2743244b",
   "metadata": {},
   "outputs": [
    {
     "data": {
      "text/plain": [
       "XGBClassifier(base_score=0.5, booster='gbtree', callbacks=None,\n",
       "              colsample_bylevel=1, colsample_bynode=1, colsample_bytree=1,\n",
       "              early_stopping_rounds=None, enable_categorical=False,\n",
       "              eval_metric=None, feature_types=None, gamma=0, gpu_id=-1,\n",
       "              grow_policy='depthwise', importance_type=None,\n",
       "              interaction_constraints='', learning_rate=0.8, max_bin=256,\n",
       "              max_cat_threshold=64, max_cat_to_onehot=4, max_delta_step=0,\n",
       "              max_depth=3, max_leaves=0, min_child_weight=1, missing=nan,\n",
       "              monotone_constraints='()', n_estimators=10, n_jobs=0,\n",
       "              num_parallel_tree=1, predictor='auto', random_state=0, ...)"
      ]
     },
     "execution_count": 40,
     "metadata": {},
     "output_type": "execute_result"
    }
   ],
   "source": [
    "# Re-fit the model with the best parameters\n",
    "final_mod = XGBClassifier(**gscv.best_params_)\n",
    "final_mod.fit(x_train, y_train)"
   ]
  },
  {
   "cell_type": "code",
   "execution_count": 41,
   "id": "e6d0e016",
   "metadata": {},
   "outputs": [],
   "source": [
    "parent_node = {'shape':'box',\n",
    "               'style':'filled,rounded',\n",
    "                'fillcolor' :'#78cbec'}\n",
    "child_node = {'shape':'box',\n",
    "               'style':'filled',\n",
    "                'fillcolor' :'#e48038'}"
   ]
  },
  {
   "cell_type": "code",
   "execution_count": 42,
   "id": "f88661d4",
   "metadata": {},
   "outputs": [
    {
     "data": {
      "image/svg+xml": [
       "<?xml version=\"1.0\" encoding=\"UTF-8\" standalone=\"no\"?>\n",
       "<!DOCTYPE svg PUBLIC \"-//W3C//DTD SVG 1.1//EN\"\n",
       " \"http://www.w3.org/Graphics/SVG/1.1/DTD/svg11.dtd\">\n",
       "<!-- Generated by graphviz version 7.0.3 (20221126.0506)\n",
       " -->\n",
       "<!-- Pages: 1 -->\n",
       "<svg width=\"262pt\" height=\"131pt\"\n",
       " viewBox=\"0.00 0.00 262.00 131.00\" xmlns=\"http://www.w3.org/2000/svg\" xmlns:xlink=\"http://www.w3.org/1999/xlink\">\n",
       "<g id=\"graph0\" class=\"graph\" transform=\"scale(1 1) rotate(0) translate(4 127)\">\n",
       "<polygon fill=\"white\" stroke=\"none\" points=\"-4,4 -4,-127 258,-127 258,4 -4,4\"/>\n",
       "<!-- 0 -->\n",
       "<g id=\"node1\" class=\"node\">\n",
       "<title>0</title>\n",
       "<path fill=\"#78cbec\" stroke=\"black\" d=\"M191.5,-123C191.5,-123 60.5,-123 60.5,-123 54.5,-123 48.5,-117 48.5,-111 48.5,-111 48.5,-99 48.5,-99 48.5,-93 54.5,-87 60.5,-87 60.5,-87 191.5,-87 191.5,-87 197.5,-87 203.5,-93 203.5,-99 203.5,-99 203.5,-111 203.5,-111 203.5,-117 197.5,-123 191.5,-123\"/>\n",
       "<text text-anchor=\"middle\" x=\"126\" y=\"-101.3\" font-family=\"Times New Roman,serif\" font-size=\"14.00\">T1YFFM&lt;&#45;0.135000005</text>\n",
       "</g>\n",
       "<!-- 1 -->\n",
       "<g id=\"node2\" class=\"node\">\n",
       "<title>1</title>\n",
       "<polygon fill=\"#e48038\" stroke=\"black\" points=\"116,-36 0,-36 0,0 116,0 116,-36\"/>\n",
       "<text text-anchor=\"middle\" x=\"58\" y=\"-14.3\" font-family=\"Times New Roman,serif\" font-size=\"14.00\">leaf=0.314630568</text>\n",
       "</g>\n",
       "<!-- 0&#45;&gt;1 -->\n",
       "<g id=\"edge1\" class=\"edge\">\n",
       "<title>0&#45;&gt;1</title>\n",
       "<path fill=\"none\" stroke=\"#0000ff\" d=\"M112.24,-86.8C102.72,-74.9 89.86,-58.83 79.06,-45.32\"/>\n",
       "<polygon fill=\"#0000ff\" stroke=\"#0000ff\" points=\"81.9,-43.27 72.92,-37.65 76.43,-47.64 81.9,-43.27\"/>\n",
       "<text text-anchor=\"middle\" x=\"131.5\" y=\"-57.8\" font-family=\"Times New Roman,serif\" font-size=\"14.00\">yes, missing</text>\n",
       "</g>\n",
       "<!-- 2 -->\n",
       "<g id=\"node3\" class=\"node\">\n",
       "<title>2</title>\n",
       "<polygon fill=\"#e48038\" stroke=\"black\" points=\"254,-36 134,-36 134,0 254,0 254,-36\"/>\n",
       "<text text-anchor=\"middle\" x=\"194\" y=\"-14.3\" font-family=\"Times New Roman,serif\" font-size=\"14.00\">leaf=&#45;0.358710259</text>\n",
       "</g>\n",
       "<!-- 0&#45;&gt;2 -->\n",
       "<g id=\"edge2\" class=\"edge\">\n",
       "<title>0&#45;&gt;2</title>\n",
       "<path fill=\"none\" stroke=\"#ff0000\" d=\"M151.97,-86.51C158.39,-81.38 164.89,-75.41 170,-69 175.3,-62.35 179.81,-54.33 183.43,-46.68\"/>\n",
       "<polygon fill=\"#ff0000\" stroke=\"#ff0000\" points=\"186.56,-48.25 187.35,-37.69 180.14,-45.46 186.56,-48.25\"/>\n",
       "<text text-anchor=\"middle\" x=\"186.5\" y=\"-57.8\" font-family=\"Times New Roman,serif\" font-size=\"14.00\">no</text>\n",
       "</g>\n",
       "</g>\n",
       "</svg>\n"
      ],
      "text/plain": [
       "<graphviz.sources.Source at 0x2ac2e590700>"
      ]
     },
     "execution_count": 42,
     "metadata": {},
     "output_type": "execute_result"
    }
   ],
   "source": [
    "xgb.to_graphviz(final_mod,num_trees=9,size=\"5,5\",   # Tree = 10 \n",
    "               condition_node_params=parent_node,\n",
    "               leaf_node_params=child_node)"
   ]
  },
  {
   "cell_type": "markdown",
   "id": "b224d6ab",
   "metadata": {},
   "source": [
    "# Accuracy of Train"
   ]
  },
  {
   "cell_type": "code",
   "execution_count": 43,
   "id": "920ae19c",
   "metadata": {},
   "outputs": [
    {
     "data": {
      "text/html": [
       "<div>\n",
       "<style scoped>\n",
       "    .dataframe tbody tr th:only-of-type {\n",
       "        vertical-align: middle;\n",
       "    }\n",
       "\n",
       "    .dataframe tbody tr th {\n",
       "        vertical-align: top;\n",
       "    }\n",
       "\n",
       "    .dataframe thead th {\n",
       "        text-align: right;\n",
       "    }\n",
       "</style>\n",
       "<table border=\"1\" class=\"dataframe\">\n",
       "  <thead>\n",
       "    <tr style=\"text-align: right;\">\n",
       "      <th></th>\n",
       "      <th>RPI</th>\n",
       "      <th>INDPRO</th>\n",
       "      <th>CE16OV</th>\n",
       "      <th>UNRATE</th>\n",
       "      <th>PAYEMS</th>\n",
       "      <th>USGOOD</th>\n",
       "      <th>USTPU</th>\n",
       "      <th>HOUST</th>\n",
       "      <th>PERMIT</th>\n",
       "      <th>DPCERA3M086SBEA</th>\n",
       "      <th>...</th>\n",
       "      <th>WPSFD49207</th>\n",
       "      <th>WPSID61</th>\n",
       "      <th>CPIAUCSL</th>\n",
       "      <th>SP500</th>\n",
       "      <th>NASDAQ</th>\n",
       "      <th>GOLDBAR</th>\n",
       "      <th>P/E</th>\n",
       "      <th>Dividend Yield</th>\n",
       "      <th>Regime</th>\n",
       "      <th>Predicted</th>\n",
       "    </tr>\n",
       "  </thead>\n",
       "  <tbody>\n",
       "    <tr>\n",
       "      <th>139</th>\n",
       "      <td>13165.169</td>\n",
       "      <td>105.1611</td>\n",
       "      <td>146244</td>\n",
       "      <td>4.7</td>\n",
       "      <td>138095.0</td>\n",
       "      <td>22093</td>\n",
       "      <td>26587</td>\n",
       "      <td>1183</td>\n",
       "      <td>1261</td>\n",
       "      <td>96.865</td>\n",
       "      <td>...</td>\n",
       "      <td>167.6</td>\n",
       "      <td>171.4</td>\n",
       "      <td>208.547</td>\n",
       "      <td>1526.750000</td>\n",
       "      <td>2701.500000</td>\n",
       "      <td>33.197205</td>\n",
       "      <td>19.4243</td>\n",
       "      <td>1.80</td>\n",
       "      <td>0</td>\n",
       "      <td>0</td>\n",
       "    </tr>\n",
       "    <tr>\n",
       "      <th>249</th>\n",
       "      <td>15633.110</td>\n",
       "      <td>102.0507</td>\n",
       "      <td>152063</td>\n",
       "      <td>4.7</td>\n",
       "      <td>145212.0</td>\n",
       "      <td>19808</td>\n",
       "      <td>27284</td>\n",
       "      <td>1150</td>\n",
       "      <td>1236</td>\n",
       "      <td>112.347</td>\n",
       "      <td>...</td>\n",
       "      <td>193.2</td>\n",
       "      <td>184.5</td>\n",
       "      <td>241.993</td>\n",
       "      <td>2198.810059</td>\n",
       "      <td>5323.680176</td>\n",
       "      <td>14.347548</td>\n",
       "      <td>23.2555</td>\n",
       "      <td>2.10</td>\n",
       "      <td>0</td>\n",
       "      <td>0</td>\n",
       "    </tr>\n",
       "    <tr>\n",
       "      <th>70</th>\n",
       "      <td>11293.592</td>\n",
       "      <td>90.4860</td>\n",
       "      <td>136238</td>\n",
       "      <td>5.5</td>\n",
       "      <td>131142.0</td>\n",
       "      <td>23209</td>\n",
       "      <td>25655</td>\n",
       "      <td>1602</td>\n",
       "      <td>1651</td>\n",
       "      <td>81.503</td>\n",
       "      <td>...</td>\n",
       "      <td>138.5</td>\n",
       "      <td>127.0</td>\n",
       "      <td>177.500</td>\n",
       "      <td>1139.449951</td>\n",
       "      <td>1930.579956</td>\n",
       "      <td>11.501532</td>\n",
       "      <td>39.4725</td>\n",
       "      <td>1.39</td>\n",
       "      <td>0</td>\n",
       "      <td>0</td>\n",
       "    </tr>\n",
       "    <tr>\n",
       "      <th>278</th>\n",
       "      <td>16840.839</td>\n",
       "      <td>108.9888</td>\n",
       "      <td>156696</td>\n",
       "      <td>3.6</td>\n",
       "      <td>149940.0</td>\n",
       "      <td>21039</td>\n",
       "      <td>27671</td>\n",
       "      <td>1267</td>\n",
       "      <td>1330</td>\n",
       "      <td>119.721</td>\n",
       "      <td>...</td>\n",
       "      <td>206.7</td>\n",
       "      <td>200.5</td>\n",
       "      <td>254.943</td>\n",
       "      <td>2945.830078</td>\n",
       "      <td>8095.390137</td>\n",
       "      <td>12.462582</td>\n",
       "      <td>21.7774</td>\n",
       "      <td>1.90</td>\n",
       "      <td>0</td>\n",
       "      <td>0</td>\n",
       "    </tr>\n",
       "    <tr>\n",
       "      <th>201</th>\n",
       "      <td>14249.192</td>\n",
       "      <td>100.5991</td>\n",
       "      <td>143333</td>\n",
       "      <td>7.7</td>\n",
       "      <td>134833.0</td>\n",
       "      <td>18477</td>\n",
       "      <td>25545</td>\n",
       "      <td>833</td>\n",
       "      <td>917</td>\n",
       "      <td>100.574</td>\n",
       "      <td>...</td>\n",
       "      <td>195.7</td>\n",
       "      <td>200.6</td>\n",
       "      <td>231.249</td>\n",
       "      <td>1416.180054</td>\n",
       "      <td>3010.239990</td>\n",
       "      <td>30.777353</td>\n",
       "      <td>16.3701</td>\n",
       "      <td>2.20</td>\n",
       "      <td>0</td>\n",
       "      <td>0</td>\n",
       "    </tr>\n",
       "  </tbody>\n",
       "</table>\n",
       "<p>5 rows × 45 columns</p>\n",
       "</div>"
      ],
      "text/plain": [
       "           RPI    INDPRO  CE16OV  UNRATE    PAYEMS  USGOOD  USTPU  HOUST  \\\n",
       "139  13165.169  105.1611  146244     4.7  138095.0   22093  26587   1183   \n",
       "249  15633.110  102.0507  152063     4.7  145212.0   19808  27284   1150   \n",
       "70   11293.592   90.4860  136238     5.5  131142.0   23209  25655   1602   \n",
       "278  16840.839  108.9888  156696     3.6  149940.0   21039  27671   1267   \n",
       "201  14249.192  100.5991  143333     7.7  134833.0   18477  25545    833   \n",
       "\n",
       "     PERMIT  DPCERA3M086SBEA  ...  WPSFD49207  WPSID61  CPIAUCSL        SP500  \\\n",
       "139    1261           96.865  ...       167.6    171.4   208.547  1526.750000   \n",
       "249    1236          112.347  ...       193.2    184.5   241.993  2198.810059   \n",
       "70     1651           81.503  ...       138.5    127.0   177.500  1139.449951   \n",
       "278    1330          119.721  ...       206.7    200.5   254.943  2945.830078   \n",
       "201     917          100.574  ...       195.7    200.6   231.249  1416.180054   \n",
       "\n",
       "          NASDAQ    GOLDBAR      P/E  Dividend Yield  Regime  Predicted  \n",
       "139  2701.500000  33.197205  19.4243            1.80       0          0  \n",
       "249  5323.680176  14.347548  23.2555            2.10       0          0  \n",
       "70   1930.579956  11.501532  39.4725            1.39       0          0  \n",
       "278  8095.390137  12.462582  21.7774            1.90       0          0  \n",
       "201  3010.239990  30.777353  16.3701            2.20       0          0  \n",
       "\n",
       "[5 rows x 45 columns]"
      ]
     },
     "execution_count": 43,
     "metadata": {},
     "output_type": "execute_result"
    }
   ],
   "source": [
    "train=pd.concat([x_train,y_train],axis=1)\n",
    "train['Predicted']=final_mod.predict(x_train)  # MODEL = Final_mod\n",
    "train.head()"
   ]
  },
  {
   "cell_type": "code",
   "execution_count": 44,
   "id": "8a5d18db",
   "metadata": {},
   "outputs": [
    {
     "name": "stdout",
     "output_type": "stream",
     "text": [
      "Classification report for train data is : \n",
      "               precision    recall  f1-score   support\n",
      "\n",
      "           0       1.00      1.00      1.00       211\n",
      "           1       1.00      1.00      1.00        23\n",
      "\n",
      "    accuracy                           1.00       234\n",
      "   macro avg       1.00      1.00      1.00       234\n",
      "weighted avg       1.00      1.00      1.00       234\n",
      "\n"
     ]
    }
   ],
   "source": [
    "print('Classification report for train data is : \\n',\n",
    "      classification_report(y_train, train['Predicted']))"
   ]
  },
  {
   "cell_type": "markdown",
   "id": "af3aa172",
   "metadata": {},
   "source": [
    "# Accuracy of Test"
   ]
  },
  {
   "cell_type": "code",
   "execution_count": 45,
   "id": "7274ce4d",
   "metadata": {},
   "outputs": [
    {
     "data": {
      "text/html": [
       "<div>\n",
       "<style scoped>\n",
       "    .dataframe tbody tr th:only-of-type {\n",
       "        vertical-align: middle;\n",
       "    }\n",
       "\n",
       "    .dataframe tbody tr th {\n",
       "        vertical-align: top;\n",
       "    }\n",
       "\n",
       "    .dataframe thead th {\n",
       "        text-align: right;\n",
       "    }\n",
       "</style>\n",
       "<table border=\"1\" class=\"dataframe\">\n",
       "  <thead>\n",
       "    <tr style=\"text-align: right;\">\n",
       "      <th></th>\n",
       "      <th>RPI</th>\n",
       "      <th>INDPRO</th>\n",
       "      <th>CE16OV</th>\n",
       "      <th>UNRATE</th>\n",
       "      <th>PAYEMS</th>\n",
       "      <th>USGOOD</th>\n",
       "      <th>USTPU</th>\n",
       "      <th>HOUST</th>\n",
       "      <th>PERMIT</th>\n",
       "      <th>DPCERA3M086SBEA</th>\n",
       "      <th>...</th>\n",
       "      <th>WPSFD49207</th>\n",
       "      <th>WPSID61</th>\n",
       "      <th>CPIAUCSL</th>\n",
       "      <th>SP500</th>\n",
       "      <th>NASDAQ</th>\n",
       "      <th>GOLDBAR</th>\n",
       "      <th>P/E</th>\n",
       "      <th>Dividend Yield</th>\n",
       "      <th>Regime</th>\n",
       "      <th>Predicted</th>\n",
       "    </tr>\n",
       "  </thead>\n",
       "  <tbody>\n",
       "    <tr>\n",
       "      <th>132</th>\n",
       "      <td>13096.338</td>\n",
       "      <td>103.5264</td>\n",
       "      <td>146057</td>\n",
       "      <td>4.5</td>\n",
       "      <td>137558.0</td>\n",
       "      <td>22334</td>\n",
       "      <td>26466</td>\n",
       "      <td>1480</td>\n",
       "      <td>1598</td>\n",
       "      <td>95.957</td>\n",
       "      <td>...</td>\n",
       "      <td>162.7</td>\n",
       "      <td>165.3</td>\n",
       "      <td>204.226</td>\n",
       "      <td>1406.819946</td>\n",
       "      <td>2416.149902</td>\n",
       "      <td>24.489918</td>\n",
       "      <td>16.9191</td>\n",
       "      <td>1.75</td>\n",
       "      <td>0</td>\n",
       "      <td>0</td>\n",
       "    </tr>\n",
       "    <tr>\n",
       "      <th>268</th>\n",
       "      <td>16468.096</td>\n",
       "      <td>108.1707</td>\n",
       "      <td>155750</td>\n",
       "      <td>4.0</td>\n",
       "      <td>148888.0</td>\n",
       "      <td>20698</td>\n",
       "      <td>27589</td>\n",
       "      <td>1190</td>\n",
       "      <td>1317</td>\n",
       "      <td>117.397</td>\n",
       "      <td>...</td>\n",
       "      <td>204.3</td>\n",
       "      <td>202.0</td>\n",
       "      <td>251.176</td>\n",
       "      <td>2718.370117</td>\n",
       "      <td>7510.299805</td>\n",
       "      <td>12.732822</td>\n",
       "      <td>22.1944</td>\n",
       "      <td>1.85</td>\n",
       "      <td>0</td>\n",
       "      <td>0</td>\n",
       "    </tr>\n",
       "    <tr>\n",
       "      <th>171</th>\n",
       "      <td>13107.196</td>\n",
       "      <td>94.2997</td>\n",
       "      <td>139241</td>\n",
       "      <td>8.9</td>\n",
       "      <td>130650.0</td>\n",
       "      <td>17742</td>\n",
       "      <td>24526</td>\n",
       "      <td>583</td>\n",
       "      <td>575</td>\n",
       "      <td>96.355</td>\n",
       "      <td>...</td>\n",
       "      <td>178.9</td>\n",
       "      <td>183.4</td>\n",
       "      <td>217.290</td>\n",
       "      <td>1089.410034</td>\n",
       "      <td>2257.040039</td>\n",
       "      <td>36.007793</td>\n",
       "      <td>16.2356</td>\n",
       "      <td>1.95</td>\n",
       "      <td>0</td>\n",
       "      <td>0</td>\n",
       "    </tr>\n",
       "    <tr>\n",
       "      <th>62</th>\n",
       "      <td>11349.539</td>\n",
       "      <td>93.7201</td>\n",
       "      <td>137783</td>\n",
       "      <td>4.3</td>\n",
       "      <td>132747.0</td>\n",
       "      <td>24409</td>\n",
       "      <td>26158</td>\n",
       "      <td>1590</td>\n",
       "      <td>1659</td>\n",
       "      <td>79.897</td>\n",
       "      <td>...</td>\n",
       "      <td>141.2</td>\n",
       "      <td>131.0</td>\n",
       "      <td>176.100</td>\n",
       "      <td>1160.329956</td>\n",
       "      <td>1840.260010</td>\n",
       "      <td>10.794967</td>\n",
       "      <td>25.5354</td>\n",
       "      <td>1.35</td>\n",
       "      <td>1</td>\n",
       "      <td>1</td>\n",
       "    </tr>\n",
       "    <tr>\n",
       "      <th>110</th>\n",
       "      <td>12122.341</td>\n",
       "      <td>99.4734</td>\n",
       "      <td>141254</td>\n",
       "      <td>5.2</td>\n",
       "      <td>133518.0</td>\n",
       "      <td>22136</td>\n",
       "      <td>25818</td>\n",
       "      <td>2061</td>\n",
       "      <td>2150</td>\n",
       "      <td>91.062</td>\n",
       "      <td>...</td>\n",
       "      <td>154.2</td>\n",
       "      <td>151.3</td>\n",
       "      <td>193.700</td>\n",
       "      <td>1156.849976</td>\n",
       "      <td>1921.650024</td>\n",
       "      <td>17.853090</td>\n",
       "      <td>18.2584</td>\n",
       "      <td>1.76</td>\n",
       "      <td>0</td>\n",
       "      <td>0</td>\n",
       "    </tr>\n",
       "  </tbody>\n",
       "</table>\n",
       "<p>5 rows × 45 columns</p>\n",
       "</div>"
      ],
      "text/plain": [
       "           RPI    INDPRO  CE16OV  UNRATE    PAYEMS  USGOOD  USTPU  HOUST  \\\n",
       "132  13096.338  103.5264  146057     4.5  137558.0   22334  26466   1480   \n",
       "268  16468.096  108.1707  155750     4.0  148888.0   20698  27589   1190   \n",
       "171  13107.196   94.2997  139241     8.9  130650.0   17742  24526    583   \n",
       "62   11349.539   93.7201  137783     4.3  132747.0   24409  26158   1590   \n",
       "110  12122.341   99.4734  141254     5.2  133518.0   22136  25818   2061   \n",
       "\n",
       "     PERMIT  DPCERA3M086SBEA  ...  WPSFD49207  WPSID61  CPIAUCSL        SP500  \\\n",
       "132    1598           95.957  ...       162.7    165.3   204.226  1406.819946   \n",
       "268    1317          117.397  ...       204.3    202.0   251.176  2718.370117   \n",
       "171     575           96.355  ...       178.9    183.4   217.290  1089.410034   \n",
       "62     1659           79.897  ...       141.2    131.0   176.100  1160.329956   \n",
       "110    2150           91.062  ...       154.2    151.3   193.700  1156.849976   \n",
       "\n",
       "          NASDAQ    GOLDBAR      P/E  Dividend Yield  Regime  Predicted  \n",
       "132  2416.149902  24.489918  16.9191            1.75       0          0  \n",
       "268  7510.299805  12.732822  22.1944            1.85       0          0  \n",
       "171  2257.040039  36.007793  16.2356            1.95       0          0  \n",
       "62   1840.260010  10.794967  25.5354            1.35       1          1  \n",
       "110  1921.650024  17.853090  18.2584            1.76       0          0  \n",
       "\n",
       "[5 rows x 45 columns]"
      ]
     },
     "execution_count": 45,
     "metadata": {},
     "output_type": "execute_result"
    }
   ],
   "source": [
    "test=pd.concat([x_test,y_test],axis=1)\n",
    "test['Predicted']=final_mod.predict(x_test)  # MODEL = Final_mod\n",
    "test.head()"
   ]
  },
  {
   "cell_type": "code",
   "execution_count": 46,
   "id": "b4eda037",
   "metadata": {},
   "outputs": [
    {
     "name": "stdout",
     "output_type": "stream",
     "text": [
      "Classification report for test data is : \n",
      "               precision    recall  f1-score   support\n",
      "\n",
      "           0       0.98      1.00      0.99        52\n",
      "           1       1.00      0.86      0.92         7\n",
      "\n",
      "    accuracy                           0.98        59\n",
      "   macro avg       0.99      0.93      0.96        59\n",
      "weighted avg       0.98      0.98      0.98        59\n",
      "\n"
     ]
    }
   ],
   "source": [
    "print('Classification report for test data is : \\n',\n",
    "      classification_report(y_test, test['Predicted']))"
   ]
  },
  {
   "cell_type": "markdown",
   "id": "81d12e2c",
   "metadata": {},
   "source": [
    "# Finished"
   ]
  },
  {
   "cell_type": "markdown",
   "id": "19952fcf",
   "metadata": {},
   "source": [
    "# Importance Feature"
   ]
  },
  {
   "cell_type": "code",
   "execution_count": 47,
   "id": "749528a1",
   "metadata": {},
   "outputs": [
    {
     "data": {
      "image/png": "[encoded data removed]",
      "text/plain": [
       "<Figure size 1000x1200 with 1 Axes>"
      ]
     },
     "metadata": {},
     "output_type": "display_data"
    }
   ],
   "source": [
    "# Plot features importances\n",
    "imp = pd.Series(data=final_mod.feature_importances_, index=X.columns).sort_values(ascending=False)\n",
    "plt.figure(figsize=(10,12))\n",
    "plt.title(\"Feature importance\")\n",
    "ax = sns.barplot(y=imp.head().index, x=imp.head().values, palette=\"Blues_r\", orient='h')"
   ]
  },
  {
   "cell_type": "code",
   "execution_count": null,
   "id": "fba96c98",
   "metadata": {},
   "outputs": [],
   "source": []
  }
 ],
 "metadata": {
  "kernelspec": {
   "display_name": "Python 3 (ipykernel)",
   "language": "python",
   "name": "python3"
  },
  "language_info": {
   "codemirror_mode": {
    "name": "ipython",
    "version": 3
   },
   "file_extension": ".py",
   "mimetype": "text/x-python",
   "name": "python",
   "nbconvert_exporter": "python",
   "pygments_lexer": "ipython3",
   "version": "3.9.13"
  }
 },
 "nbformat": 4,
 "nbformat_minor": 5
}
